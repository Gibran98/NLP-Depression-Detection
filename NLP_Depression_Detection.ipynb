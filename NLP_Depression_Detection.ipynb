{
  "nbformat": 4,
  "nbformat_minor": 0,
  "metadata": {
    "colab": {
      "name": "NLP Depression Detection.ipynb",
      "provenance": [],
      "collapsed_sections": [],
      "toc_visible": true
    },
    "kernelspec": {
      "display_name": "Python 3",
      "name": "python3"
    },
    "language_info": {
      "name": "python"
    },
    "widgets": {
      "application/vnd.jupyter.widget-state+json": {
        "c7d9ca6470d046a0a0441802ac803e59": {
          "model_module": "@jupyter-widgets/controls",
          "model_name": "HBoxModel",
          "state": {
            "_view_name": "HBoxView",
            "_dom_classes": [],
            "_model_name": "HBoxModel",
            "_view_module": "@jupyter-widgets/controls",
            "_model_module_version": "1.5.0",
            "_view_count": null,
            "_view_module_version": "1.5.0",
            "box_style": "",
            "layout": "IPY_MODEL_6bc8eb6030cd423083e80f0fdf794d0a",
            "_model_module": "@jupyter-widgets/controls",
            "children": [
              "IPY_MODEL_0fff724385ed483282d6d4a6c6cb32f4",
              "IPY_MODEL_aae754b3f40c46f080bc151153bb68fc"
            ]
          }
        },
        "6bc8eb6030cd423083e80f0fdf794d0a": {
          "model_module": "@jupyter-widgets/base",
          "model_name": "LayoutModel",
          "state": {
            "_view_name": "LayoutView",
            "grid_template_rows": null,
            "right": null,
            "justify_content": null,
            "_view_module": "@jupyter-widgets/base",
            "overflow": null,
            "_model_module_version": "1.2.0",
            "_view_count": null,
            "flex_flow": null,
            "width": null,
            "min_width": null,
            "border": null,
            "align_items": null,
            "bottom": null,
            "_model_module": "@jupyter-widgets/base",
            "top": null,
            "grid_column": null,
            "overflow_y": null,
            "overflow_x": null,
            "grid_auto_flow": null,
            "grid_area": null,
            "grid_template_columns": null,
            "flex": null,
            "_model_name": "LayoutModel",
            "justify_items": null,
            "grid_row": null,
            "max_height": null,
            "align_content": null,
            "visibility": null,
            "align_self": null,
            "height": null,
            "min_height": null,
            "padding": null,
            "grid_auto_rows": null,
            "grid_gap": null,
            "max_width": null,
            "order": null,
            "_view_module_version": "1.2.0",
            "grid_template_areas": null,
            "object_position": null,
            "object_fit": null,
            "grid_auto_columns": null,
            "margin": null,
            "display": null,
            "left": null
          }
        },
        "0fff724385ed483282d6d4a6c6cb32f4": {
          "model_module": "@jupyter-widgets/controls",
          "model_name": "FloatProgressModel",
          "state": {
            "_view_name": "ProgressView",
            "style": "IPY_MODEL_c8eca639d41b440892823ee1675e292d",
            "_dom_classes": [],
            "description": "Downloading: 100%",
            "_model_name": "FloatProgressModel",
            "bar_style": "success",
            "max": 570,
            "_view_module": "@jupyter-widgets/controls",
            "_model_module_version": "1.5.0",
            "value": 570,
            "_view_count": null,
            "_view_module_version": "1.5.0",
            "orientation": "horizontal",
            "min": 0,
            "description_tooltip": null,
            "_model_module": "@jupyter-widgets/controls",
            "layout": "IPY_MODEL_de4a581ac7504ababe672b5c83f6d2d2"
          }
        },
        "aae754b3f40c46f080bc151153bb68fc": {
          "model_module": "@jupyter-widgets/controls",
          "model_name": "HTMLModel",
          "state": {
            "_view_name": "HTMLView",
            "style": "IPY_MODEL_c2a39241807a4987b709e1a75e317c83",
            "_dom_classes": [],
            "description": "",
            "_model_name": "HTMLModel",
            "placeholder": "​",
            "_view_module": "@jupyter-widgets/controls",
            "_model_module_version": "1.5.0",
            "value": " 570/570 [00:00&lt;00:00, 7.97kB/s]",
            "_view_count": null,
            "_view_module_version": "1.5.0",
            "description_tooltip": null,
            "_model_module": "@jupyter-widgets/controls",
            "layout": "IPY_MODEL_11d8ab2cc0a0443eb0950f10932bf367"
          }
        },
        "c8eca639d41b440892823ee1675e292d": {
          "model_module": "@jupyter-widgets/controls",
          "model_name": "ProgressStyleModel",
          "state": {
            "_view_name": "StyleView",
            "_model_name": "ProgressStyleModel",
            "description_width": "initial",
            "_view_module": "@jupyter-widgets/base",
            "_model_module_version": "1.5.0",
            "_view_count": null,
            "_view_module_version": "1.2.0",
            "bar_color": null,
            "_model_module": "@jupyter-widgets/controls"
          }
        },
        "de4a581ac7504ababe672b5c83f6d2d2": {
          "model_module": "@jupyter-widgets/base",
          "model_name": "LayoutModel",
          "state": {
            "_view_name": "LayoutView",
            "grid_template_rows": null,
            "right": null,
            "justify_content": null,
            "_view_module": "@jupyter-widgets/base",
            "overflow": null,
            "_model_module_version": "1.2.0",
            "_view_count": null,
            "flex_flow": null,
            "width": null,
            "min_width": null,
            "border": null,
            "align_items": null,
            "bottom": null,
            "_model_module": "@jupyter-widgets/base",
            "top": null,
            "grid_column": null,
            "overflow_y": null,
            "overflow_x": null,
            "grid_auto_flow": null,
            "grid_area": null,
            "grid_template_columns": null,
            "flex": null,
            "_model_name": "LayoutModel",
            "justify_items": null,
            "grid_row": null,
            "max_height": null,
            "align_content": null,
            "visibility": null,
            "align_self": null,
            "height": null,
            "min_height": null,
            "padding": null,
            "grid_auto_rows": null,
            "grid_gap": null,
            "max_width": null,
            "order": null,
            "_view_module_version": "1.2.0",
            "grid_template_areas": null,
            "object_position": null,
            "object_fit": null,
            "grid_auto_columns": null,
            "margin": null,
            "display": null,
            "left": null
          }
        },
        "c2a39241807a4987b709e1a75e317c83": {
          "model_module": "@jupyter-widgets/controls",
          "model_name": "DescriptionStyleModel",
          "state": {
            "_view_name": "StyleView",
            "_model_name": "DescriptionStyleModel",
            "description_width": "",
            "_view_module": "@jupyter-widgets/base",
            "_model_module_version": "1.5.0",
            "_view_count": null,
            "_view_module_version": "1.2.0",
            "_model_module": "@jupyter-widgets/controls"
          }
        },
        "11d8ab2cc0a0443eb0950f10932bf367": {
          "model_module": "@jupyter-widgets/base",
          "model_name": "LayoutModel",
          "state": {
            "_view_name": "LayoutView",
            "grid_template_rows": null,
            "right": null,
            "justify_content": null,
            "_view_module": "@jupyter-widgets/base",
            "overflow": null,
            "_model_module_version": "1.2.0",
            "_view_count": null,
            "flex_flow": null,
            "width": null,
            "min_width": null,
            "border": null,
            "align_items": null,
            "bottom": null,
            "_model_module": "@jupyter-widgets/base",
            "top": null,
            "grid_column": null,
            "overflow_y": null,
            "overflow_x": null,
            "grid_auto_flow": null,
            "grid_area": null,
            "grid_template_columns": null,
            "flex": null,
            "_model_name": "LayoutModel",
            "justify_items": null,
            "grid_row": null,
            "max_height": null,
            "align_content": null,
            "visibility": null,
            "align_self": null,
            "height": null,
            "min_height": null,
            "padding": null,
            "grid_auto_rows": null,
            "grid_gap": null,
            "max_width": null,
            "order": null,
            "_view_module_version": "1.2.0",
            "grid_template_areas": null,
            "object_position": null,
            "object_fit": null,
            "grid_auto_columns": null,
            "margin": null,
            "display": null,
            "left": null
          }
        },
        "64bfe00f5a5647a5b47da938fd07af39": {
          "model_module": "@jupyter-widgets/controls",
          "model_name": "HBoxModel",
          "state": {
            "_view_name": "HBoxView",
            "_dom_classes": [],
            "_model_name": "HBoxModel",
            "_view_module": "@jupyter-widgets/controls",
            "_model_module_version": "1.5.0",
            "_view_count": null,
            "_view_module_version": "1.5.0",
            "box_style": "",
            "layout": "IPY_MODEL_bb86c8032826490dbb5f79b284be5d6c",
            "_model_module": "@jupyter-widgets/controls",
            "children": [
              "IPY_MODEL_cf6e063480b641c7bab92df940df462d",
              "IPY_MODEL_9a8a4c1995a044439710bb1e5dec8cfc"
            ]
          }
        },
        "bb86c8032826490dbb5f79b284be5d6c": {
          "model_module": "@jupyter-widgets/base",
          "model_name": "LayoutModel",
          "state": {
            "_view_name": "LayoutView",
            "grid_template_rows": null,
            "right": null,
            "justify_content": null,
            "_view_module": "@jupyter-widgets/base",
            "overflow": null,
            "_model_module_version": "1.2.0",
            "_view_count": null,
            "flex_flow": null,
            "width": null,
            "min_width": null,
            "border": null,
            "align_items": null,
            "bottom": null,
            "_model_module": "@jupyter-widgets/base",
            "top": null,
            "grid_column": null,
            "overflow_y": null,
            "overflow_x": null,
            "grid_auto_flow": null,
            "grid_area": null,
            "grid_template_columns": null,
            "flex": null,
            "_model_name": "LayoutModel",
            "justify_items": null,
            "grid_row": null,
            "max_height": null,
            "align_content": null,
            "visibility": null,
            "align_self": null,
            "height": null,
            "min_height": null,
            "padding": null,
            "grid_auto_rows": null,
            "grid_gap": null,
            "max_width": null,
            "order": null,
            "_view_module_version": "1.2.0",
            "grid_template_areas": null,
            "object_position": null,
            "object_fit": null,
            "grid_auto_columns": null,
            "margin": null,
            "display": null,
            "left": null
          }
        },
        "cf6e063480b641c7bab92df940df462d": {
          "model_module": "@jupyter-widgets/controls",
          "model_name": "FloatProgressModel",
          "state": {
            "_view_name": "ProgressView",
            "style": "IPY_MODEL_dee0a5890f4c4fce8e861be4d3bdc0b3",
            "_dom_classes": [],
            "description": "Downloading: 100%",
            "_model_name": "FloatProgressModel",
            "bar_style": "success",
            "max": 526681800,
            "_view_module": "@jupyter-widgets/controls",
            "_model_module_version": "1.5.0",
            "value": 526681800,
            "_view_count": null,
            "_view_module_version": "1.5.0",
            "orientation": "horizontal",
            "min": 0,
            "description_tooltip": null,
            "_model_module": "@jupyter-widgets/controls",
            "layout": "IPY_MODEL_13d200e69f0d4b47bdfe0308b0a7e124"
          }
        },
        "9a8a4c1995a044439710bb1e5dec8cfc": {
          "model_module": "@jupyter-widgets/controls",
          "model_name": "HTMLModel",
          "state": {
            "_view_name": "HTMLView",
            "style": "IPY_MODEL_05a66849d8b142519025d334fc42e006",
            "_dom_classes": [],
            "description": "",
            "_model_name": "HTMLModel",
            "placeholder": "​",
            "_view_module": "@jupyter-widgets/controls",
            "_model_module_version": "1.5.0",
            "value": " 527M/527M [00:20&lt;00:00, 25.2MB/s]",
            "_view_count": null,
            "_view_module_version": "1.5.0",
            "description_tooltip": null,
            "_model_module": "@jupyter-widgets/controls",
            "layout": "IPY_MODEL_6d8383b9d4ad4b2bb6307b6e1b1dea00"
          }
        },
        "dee0a5890f4c4fce8e861be4d3bdc0b3": {
          "model_module": "@jupyter-widgets/controls",
          "model_name": "ProgressStyleModel",
          "state": {
            "_view_name": "StyleView",
            "_model_name": "ProgressStyleModel",
            "description_width": "initial",
            "_view_module": "@jupyter-widgets/base",
            "_model_module_version": "1.5.0",
            "_view_count": null,
            "_view_module_version": "1.2.0",
            "bar_color": null,
            "_model_module": "@jupyter-widgets/controls"
          }
        },
        "13d200e69f0d4b47bdfe0308b0a7e124": {
          "model_module": "@jupyter-widgets/base",
          "model_name": "LayoutModel",
          "state": {
            "_view_name": "LayoutView",
            "grid_template_rows": null,
            "right": null,
            "justify_content": null,
            "_view_module": "@jupyter-widgets/base",
            "overflow": null,
            "_model_module_version": "1.2.0",
            "_view_count": null,
            "flex_flow": null,
            "width": null,
            "min_width": null,
            "border": null,
            "align_items": null,
            "bottom": null,
            "_model_module": "@jupyter-widgets/base",
            "top": null,
            "grid_column": null,
            "overflow_y": null,
            "overflow_x": null,
            "grid_auto_flow": null,
            "grid_area": null,
            "grid_template_columns": null,
            "flex": null,
            "_model_name": "LayoutModel",
            "justify_items": null,
            "grid_row": null,
            "max_height": null,
            "align_content": null,
            "visibility": null,
            "align_self": null,
            "height": null,
            "min_height": null,
            "padding": null,
            "grid_auto_rows": null,
            "grid_gap": null,
            "max_width": null,
            "order": null,
            "_view_module_version": "1.2.0",
            "grid_template_areas": null,
            "object_position": null,
            "object_fit": null,
            "grid_auto_columns": null,
            "margin": null,
            "display": null,
            "left": null
          }
        },
        "05a66849d8b142519025d334fc42e006": {
          "model_module": "@jupyter-widgets/controls",
          "model_name": "DescriptionStyleModel",
          "state": {
            "_view_name": "StyleView",
            "_model_name": "DescriptionStyleModel",
            "description_width": "",
            "_view_module": "@jupyter-widgets/base",
            "_model_module_version": "1.5.0",
            "_view_count": null,
            "_view_module_version": "1.2.0",
            "_model_module": "@jupyter-widgets/controls"
          }
        },
        "6d8383b9d4ad4b2bb6307b6e1b1dea00": {
          "model_module": "@jupyter-widgets/base",
          "model_name": "LayoutModel",
          "state": {
            "_view_name": "LayoutView",
            "grid_template_rows": null,
            "right": null,
            "justify_content": null,
            "_view_module": "@jupyter-widgets/base",
            "overflow": null,
            "_model_module_version": "1.2.0",
            "_view_count": null,
            "flex_flow": null,
            "width": null,
            "min_width": null,
            "border": null,
            "align_items": null,
            "bottom": null,
            "_model_module": "@jupyter-widgets/base",
            "top": null,
            "grid_column": null,
            "overflow_y": null,
            "overflow_x": null,
            "grid_auto_flow": null,
            "grid_area": null,
            "grid_template_columns": null,
            "flex": null,
            "_model_name": "LayoutModel",
            "justify_items": null,
            "grid_row": null,
            "max_height": null,
            "align_content": null,
            "visibility": null,
            "align_self": null,
            "height": null,
            "min_height": null,
            "padding": null,
            "grid_auto_rows": null,
            "grid_gap": null,
            "max_width": null,
            "order": null,
            "_view_module_version": "1.2.0",
            "grid_template_areas": null,
            "object_position": null,
            "object_fit": null,
            "grid_auto_columns": null,
            "margin": null,
            "display": null,
            "left": null
          }
        },
        "a7818ec7fcd94e5c93e9ae6c4dd26f79": {
          "model_module": "@jupyter-widgets/controls",
          "model_name": "HBoxModel",
          "state": {
            "_view_name": "HBoxView",
            "_dom_classes": [],
            "_model_name": "HBoxModel",
            "_view_module": "@jupyter-widgets/controls",
            "_model_module_version": "1.5.0",
            "_view_count": null,
            "_view_module_version": "1.5.0",
            "box_style": "",
            "layout": "IPY_MODEL_8f21b7ff51084841b259b83ca396a10a",
            "_model_module": "@jupyter-widgets/controls",
            "children": [
              "IPY_MODEL_246743892c2144469462e9406e58e877",
              "IPY_MODEL_e78a060ba935451598490453e44ae840"
            ]
          }
        },
        "8f21b7ff51084841b259b83ca396a10a": {
          "model_module": "@jupyter-widgets/base",
          "model_name": "LayoutModel",
          "state": {
            "_view_name": "LayoutView",
            "grid_template_rows": null,
            "right": null,
            "justify_content": null,
            "_view_module": "@jupyter-widgets/base",
            "overflow": null,
            "_model_module_version": "1.2.0",
            "_view_count": null,
            "flex_flow": null,
            "width": null,
            "min_width": null,
            "border": null,
            "align_items": null,
            "bottom": null,
            "_model_module": "@jupyter-widgets/base",
            "top": null,
            "grid_column": null,
            "overflow_y": null,
            "overflow_x": null,
            "grid_auto_flow": null,
            "grid_area": null,
            "grid_template_columns": null,
            "flex": null,
            "_model_name": "LayoutModel",
            "justify_items": null,
            "grid_row": null,
            "max_height": null,
            "align_content": null,
            "visibility": null,
            "align_self": null,
            "height": null,
            "min_height": null,
            "padding": null,
            "grid_auto_rows": null,
            "grid_gap": null,
            "max_width": null,
            "order": null,
            "_view_module_version": "1.2.0",
            "grid_template_areas": null,
            "object_position": null,
            "object_fit": null,
            "grid_auto_columns": null,
            "margin": null,
            "display": null,
            "left": null
          }
        },
        "246743892c2144469462e9406e58e877": {
          "model_module": "@jupyter-widgets/controls",
          "model_name": "FloatProgressModel",
          "state": {
            "_view_name": "ProgressView",
            "style": "IPY_MODEL_10996fe074fd4be6b69357bee2d3aee1",
            "_dom_classes": [],
            "description": "Downloading: 100%",
            "_model_name": "FloatProgressModel",
            "bar_style": "success",
            "max": 213450,
            "_view_module": "@jupyter-widgets/controls",
            "_model_module_version": "1.5.0",
            "value": 213450,
            "_view_count": null,
            "_view_module_version": "1.5.0",
            "orientation": "horizontal",
            "min": 0,
            "description_tooltip": null,
            "_model_module": "@jupyter-widgets/controls",
            "layout": "IPY_MODEL_41656a8e258b4015bf4c93c7d74e7f0f"
          }
        },
        "e78a060ba935451598490453e44ae840": {
          "model_module": "@jupyter-widgets/controls",
          "model_name": "HTMLModel",
          "state": {
            "_view_name": "HTMLView",
            "style": "IPY_MODEL_93a98f068376427ab0be71bdc75041e2",
            "_dom_classes": [],
            "description": "",
            "_model_name": "HTMLModel",
            "placeholder": "​",
            "_view_module": "@jupyter-widgets/controls",
            "_model_module_version": "1.5.0",
            "value": " 213k/213k [00:05&lt;00:00, 42.6kB/s]",
            "_view_count": null,
            "_view_module_version": "1.5.0",
            "description_tooltip": null,
            "_model_module": "@jupyter-widgets/controls",
            "layout": "IPY_MODEL_d455c1dbe87e4596a12ac5102dcc8c52"
          }
        },
        "10996fe074fd4be6b69357bee2d3aee1": {
          "model_module": "@jupyter-widgets/controls",
          "model_name": "ProgressStyleModel",
          "state": {
            "_view_name": "StyleView",
            "_model_name": "ProgressStyleModel",
            "description_width": "initial",
            "_view_module": "@jupyter-widgets/base",
            "_model_module_version": "1.5.0",
            "_view_count": null,
            "_view_module_version": "1.2.0",
            "bar_color": null,
            "_model_module": "@jupyter-widgets/controls"
          }
        },
        "41656a8e258b4015bf4c93c7d74e7f0f": {
          "model_module": "@jupyter-widgets/base",
          "model_name": "LayoutModel",
          "state": {
            "_view_name": "LayoutView",
            "grid_template_rows": null,
            "right": null,
            "justify_content": null,
            "_view_module": "@jupyter-widgets/base",
            "overflow": null,
            "_model_module_version": "1.2.0",
            "_view_count": null,
            "flex_flow": null,
            "width": null,
            "min_width": null,
            "border": null,
            "align_items": null,
            "bottom": null,
            "_model_module": "@jupyter-widgets/base",
            "top": null,
            "grid_column": null,
            "overflow_y": null,
            "overflow_x": null,
            "grid_auto_flow": null,
            "grid_area": null,
            "grid_template_columns": null,
            "flex": null,
            "_model_name": "LayoutModel",
            "justify_items": null,
            "grid_row": null,
            "max_height": null,
            "align_content": null,
            "visibility": null,
            "align_self": null,
            "height": null,
            "min_height": null,
            "padding": null,
            "grid_auto_rows": null,
            "grid_gap": null,
            "max_width": null,
            "order": null,
            "_view_module_version": "1.2.0",
            "grid_template_areas": null,
            "object_position": null,
            "object_fit": null,
            "grid_auto_columns": null,
            "margin": null,
            "display": null,
            "left": null
          }
        },
        "93a98f068376427ab0be71bdc75041e2": {
          "model_module": "@jupyter-widgets/controls",
          "model_name": "DescriptionStyleModel",
          "state": {
            "_view_name": "StyleView",
            "_model_name": "DescriptionStyleModel",
            "description_width": "",
            "_view_module": "@jupyter-widgets/base",
            "_model_module_version": "1.5.0",
            "_view_count": null,
            "_view_module_version": "1.2.0",
            "_model_module": "@jupyter-widgets/controls"
          }
        },
        "d455c1dbe87e4596a12ac5102dcc8c52": {
          "model_module": "@jupyter-widgets/base",
          "model_name": "LayoutModel",
          "state": {
            "_view_name": "LayoutView",
            "grid_template_rows": null,
            "right": null,
            "justify_content": null,
            "_view_module": "@jupyter-widgets/base",
            "overflow": null,
            "_model_module_version": "1.2.0",
            "_view_count": null,
            "flex_flow": null,
            "width": null,
            "min_width": null,
            "border": null,
            "align_items": null,
            "bottom": null,
            "_model_module": "@jupyter-widgets/base",
            "top": null,
            "grid_column": null,
            "overflow_y": null,
            "overflow_x": null,
            "grid_auto_flow": null,
            "grid_area": null,
            "grid_template_columns": null,
            "flex": null,
            "_model_name": "LayoutModel",
            "justify_items": null,
            "grid_row": null,
            "max_height": null,
            "align_content": null,
            "visibility": null,
            "align_self": null,
            "height": null,
            "min_height": null,
            "padding": null,
            "grid_auto_rows": null,
            "grid_gap": null,
            "max_width": null,
            "order": null,
            "_view_module_version": "1.2.0",
            "grid_template_areas": null,
            "object_position": null,
            "object_fit": null,
            "grid_auto_columns": null,
            "margin": null,
            "display": null,
            "left": null
          }
        },
        "b0e06e9015a445fc9b73350009d9b5e9": {
          "model_module": "@jupyter-widgets/controls",
          "model_name": "HBoxModel",
          "state": {
            "_view_name": "HBoxView",
            "_dom_classes": [],
            "_model_name": "HBoxModel",
            "_view_module": "@jupyter-widgets/controls",
            "_model_module_version": "1.5.0",
            "_view_count": null,
            "_view_module_version": "1.5.0",
            "box_style": "",
            "layout": "IPY_MODEL_c1c24e89e0f54ff7b829dcee5a6fd216",
            "_model_module": "@jupyter-widgets/controls",
            "children": [
              "IPY_MODEL_54f85826df3443fd969e1ae1eaf881a0",
              "IPY_MODEL_219aaa6e631c4a13b277ae86d86fb73f"
            ]
          }
        },
        "c1c24e89e0f54ff7b829dcee5a6fd216": {
          "model_module": "@jupyter-widgets/base",
          "model_name": "LayoutModel",
          "state": {
            "_view_name": "LayoutView",
            "grid_template_rows": null,
            "right": null,
            "justify_content": null,
            "_view_module": "@jupyter-widgets/base",
            "overflow": null,
            "_model_module_version": "1.2.0",
            "_view_count": null,
            "flex_flow": null,
            "width": null,
            "min_width": null,
            "border": null,
            "align_items": null,
            "bottom": null,
            "_model_module": "@jupyter-widgets/base",
            "top": null,
            "grid_column": null,
            "overflow_y": null,
            "overflow_x": null,
            "grid_auto_flow": null,
            "grid_area": null,
            "grid_template_columns": null,
            "flex": null,
            "_model_name": "LayoutModel",
            "justify_items": null,
            "grid_row": null,
            "max_height": null,
            "align_content": null,
            "visibility": null,
            "align_self": null,
            "height": null,
            "min_height": null,
            "padding": null,
            "grid_auto_rows": null,
            "grid_gap": null,
            "max_width": null,
            "order": null,
            "_view_module_version": "1.2.0",
            "grid_template_areas": null,
            "object_position": null,
            "object_fit": null,
            "grid_auto_columns": null,
            "margin": null,
            "display": null,
            "left": null
          }
        },
        "54f85826df3443fd969e1ae1eaf881a0": {
          "model_module": "@jupyter-widgets/controls",
          "model_name": "FloatProgressModel",
          "state": {
            "_view_name": "ProgressView",
            "style": "IPY_MODEL_fba0f9761f6b45e8a9af85aa8c1f9a98",
            "_dom_classes": [],
            "description": "Downloading: 100%",
            "_model_name": "FloatProgressModel",
            "bar_style": "success",
            "max": 435797,
            "_view_module": "@jupyter-widgets/controls",
            "_model_module_version": "1.5.0",
            "value": 435797,
            "_view_count": null,
            "_view_module_version": "1.5.0",
            "orientation": "horizontal",
            "min": 0,
            "description_tooltip": null,
            "_model_module": "@jupyter-widgets/controls",
            "layout": "IPY_MODEL_84ac7e5b81554f23b6bb522f26281a23"
          }
        },
        "219aaa6e631c4a13b277ae86d86fb73f": {
          "model_module": "@jupyter-widgets/controls",
          "model_name": "HTMLModel",
          "state": {
            "_view_name": "HTMLView",
            "style": "IPY_MODEL_21276ee8e6b94f4bb2c34a223b92d63b",
            "_dom_classes": [],
            "description": "",
            "_model_name": "HTMLModel",
            "placeholder": "​",
            "_view_module": "@jupyter-widgets/controls",
            "_model_module_version": "1.5.0",
            "value": " 436k/436k [00:03&lt;00:00, 135kB/s]",
            "_view_count": null,
            "_view_module_version": "1.5.0",
            "description_tooltip": null,
            "_model_module": "@jupyter-widgets/controls",
            "layout": "IPY_MODEL_76f632f874f54e949bc91e1d188a204a"
          }
        },
        "fba0f9761f6b45e8a9af85aa8c1f9a98": {
          "model_module": "@jupyter-widgets/controls",
          "model_name": "ProgressStyleModel",
          "state": {
            "_view_name": "StyleView",
            "_model_name": "ProgressStyleModel",
            "description_width": "initial",
            "_view_module": "@jupyter-widgets/base",
            "_model_module_version": "1.5.0",
            "_view_count": null,
            "_view_module_version": "1.2.0",
            "bar_color": null,
            "_model_module": "@jupyter-widgets/controls"
          }
        },
        "84ac7e5b81554f23b6bb522f26281a23": {
          "model_module": "@jupyter-widgets/base",
          "model_name": "LayoutModel",
          "state": {
            "_view_name": "LayoutView",
            "grid_template_rows": null,
            "right": null,
            "justify_content": null,
            "_view_module": "@jupyter-widgets/base",
            "overflow": null,
            "_model_module_version": "1.2.0",
            "_view_count": null,
            "flex_flow": null,
            "width": null,
            "min_width": null,
            "border": null,
            "align_items": null,
            "bottom": null,
            "_model_module": "@jupyter-widgets/base",
            "top": null,
            "grid_column": null,
            "overflow_y": null,
            "overflow_x": null,
            "grid_auto_flow": null,
            "grid_area": null,
            "grid_template_columns": null,
            "flex": null,
            "_model_name": "LayoutModel",
            "justify_items": null,
            "grid_row": null,
            "max_height": null,
            "align_content": null,
            "visibility": null,
            "align_self": null,
            "height": null,
            "min_height": null,
            "padding": null,
            "grid_auto_rows": null,
            "grid_gap": null,
            "max_width": null,
            "order": null,
            "_view_module_version": "1.2.0",
            "grid_template_areas": null,
            "object_position": null,
            "object_fit": null,
            "grid_auto_columns": null,
            "margin": null,
            "display": null,
            "left": null
          }
        },
        "21276ee8e6b94f4bb2c34a223b92d63b": {
          "model_module": "@jupyter-widgets/controls",
          "model_name": "DescriptionStyleModel",
          "state": {
            "_view_name": "StyleView",
            "_model_name": "DescriptionStyleModel",
            "description_width": "",
            "_view_module": "@jupyter-widgets/base",
            "_model_module_version": "1.5.0",
            "_view_count": null,
            "_view_module_version": "1.2.0",
            "_model_module": "@jupyter-widgets/controls"
          }
        },
        "76f632f874f54e949bc91e1d188a204a": {
          "model_module": "@jupyter-widgets/base",
          "model_name": "LayoutModel",
          "state": {
            "_view_name": "LayoutView",
            "grid_template_rows": null,
            "right": null,
            "justify_content": null,
            "_view_module": "@jupyter-widgets/base",
            "overflow": null,
            "_model_module_version": "1.2.0",
            "_view_count": null,
            "flex_flow": null,
            "width": null,
            "min_width": null,
            "border": null,
            "align_items": null,
            "bottom": null,
            "_model_module": "@jupyter-widgets/base",
            "top": null,
            "grid_column": null,
            "overflow_y": null,
            "overflow_x": null,
            "grid_auto_flow": null,
            "grid_area": null,
            "grid_template_columns": null,
            "flex": null,
            "_model_name": "LayoutModel",
            "justify_items": null,
            "grid_row": null,
            "max_height": null,
            "align_content": null,
            "visibility": null,
            "align_self": null,
            "height": null,
            "min_height": null,
            "padding": null,
            "grid_auto_rows": null,
            "grid_gap": null,
            "max_width": null,
            "order": null,
            "_view_module_version": "1.2.0",
            "grid_template_areas": null,
            "object_position": null,
            "object_fit": null,
            "grid_auto_columns": null,
            "margin": null,
            "display": null,
            "left": null
          }
        },
        "51e9f46ee00d4d88a9b5efea42d96400": {
          "model_module": "@jupyter-widgets/controls",
          "model_name": "HBoxModel",
          "state": {
            "_view_name": "HBoxView",
            "_dom_classes": [],
            "_model_name": "HBoxModel",
            "_view_module": "@jupyter-widgets/controls",
            "_model_module_version": "1.5.0",
            "_view_count": null,
            "_view_module_version": "1.5.0",
            "box_style": "",
            "layout": "IPY_MODEL_f6f30fb70bb947e09bf766b6b81ba91f",
            "_model_module": "@jupyter-widgets/controls",
            "children": [
              "IPY_MODEL_7e55815d4974433584d2c6294264710d",
              "IPY_MODEL_28ae7f1169214769998481c2c5d9d549"
            ]
          }
        },
        "f6f30fb70bb947e09bf766b6b81ba91f": {
          "model_module": "@jupyter-widgets/base",
          "model_name": "LayoutModel",
          "state": {
            "_view_name": "LayoutView",
            "grid_template_rows": null,
            "right": null,
            "justify_content": null,
            "_view_module": "@jupyter-widgets/base",
            "overflow": null,
            "_model_module_version": "1.2.0",
            "_view_count": null,
            "flex_flow": null,
            "width": null,
            "min_width": null,
            "border": null,
            "align_items": null,
            "bottom": null,
            "_model_module": "@jupyter-widgets/base",
            "top": null,
            "grid_column": null,
            "overflow_y": null,
            "overflow_x": null,
            "grid_auto_flow": null,
            "grid_area": null,
            "grid_template_columns": null,
            "flex": null,
            "_model_name": "LayoutModel",
            "justify_items": null,
            "grid_row": null,
            "max_height": null,
            "align_content": null,
            "visibility": null,
            "align_self": null,
            "height": null,
            "min_height": null,
            "padding": null,
            "grid_auto_rows": null,
            "grid_gap": null,
            "max_width": null,
            "order": null,
            "_view_module_version": "1.2.0",
            "grid_template_areas": null,
            "object_position": null,
            "object_fit": null,
            "grid_auto_columns": null,
            "margin": null,
            "display": null,
            "left": null
          }
        },
        "7e55815d4974433584d2c6294264710d": {
          "model_module": "@jupyter-widgets/controls",
          "model_name": "FloatProgressModel",
          "state": {
            "_view_name": "ProgressView",
            "style": "IPY_MODEL_e0c5c372aa7e4b7781041d9b9d9dd9cc",
            "_dom_classes": [],
            "description": "Downloading: 100%",
            "_model_name": "FloatProgressModel",
            "bar_style": "success",
            "max": 29,
            "_view_module": "@jupyter-widgets/controls",
            "_model_module_version": "1.5.0",
            "value": 29,
            "_view_count": null,
            "_view_module_version": "1.5.0",
            "orientation": "horizontal",
            "min": 0,
            "description_tooltip": null,
            "_model_module": "@jupyter-widgets/controls",
            "layout": "IPY_MODEL_5283f9fd10f14c0dab6190b738cc3ae3"
          }
        },
        "28ae7f1169214769998481c2c5d9d549": {
          "model_module": "@jupyter-widgets/controls",
          "model_name": "HTMLModel",
          "state": {
            "_view_name": "HTMLView",
            "style": "IPY_MODEL_022adeafe940456d9fcda7f5cb12ad4c",
            "_dom_classes": [],
            "description": "",
            "_model_name": "HTMLModel",
            "placeholder": "​",
            "_view_module": "@jupyter-widgets/controls",
            "_model_module_version": "1.5.0",
            "value": " 29.0/29.0 [00:02&lt;00:00, 10.1B/s]",
            "_view_count": null,
            "_view_module_version": "1.5.0",
            "description_tooltip": null,
            "_model_module": "@jupyter-widgets/controls",
            "layout": "IPY_MODEL_2f21e4611d034bc3a643f7b7c607954e"
          }
        },
        "e0c5c372aa7e4b7781041d9b9d9dd9cc": {
          "model_module": "@jupyter-widgets/controls",
          "model_name": "ProgressStyleModel",
          "state": {
            "_view_name": "StyleView",
            "_model_name": "ProgressStyleModel",
            "description_width": "initial",
            "_view_module": "@jupyter-widgets/base",
            "_model_module_version": "1.5.0",
            "_view_count": null,
            "_view_module_version": "1.2.0",
            "bar_color": null,
            "_model_module": "@jupyter-widgets/controls"
          }
        },
        "5283f9fd10f14c0dab6190b738cc3ae3": {
          "model_module": "@jupyter-widgets/base",
          "model_name": "LayoutModel",
          "state": {
            "_view_name": "LayoutView",
            "grid_template_rows": null,
            "right": null,
            "justify_content": null,
            "_view_module": "@jupyter-widgets/base",
            "overflow": null,
            "_model_module_version": "1.2.0",
            "_view_count": null,
            "flex_flow": null,
            "width": null,
            "min_width": null,
            "border": null,
            "align_items": null,
            "bottom": null,
            "_model_module": "@jupyter-widgets/base",
            "top": null,
            "grid_column": null,
            "overflow_y": null,
            "overflow_x": null,
            "grid_auto_flow": null,
            "grid_area": null,
            "grid_template_columns": null,
            "flex": null,
            "_model_name": "LayoutModel",
            "justify_items": null,
            "grid_row": null,
            "max_height": null,
            "align_content": null,
            "visibility": null,
            "align_self": null,
            "height": null,
            "min_height": null,
            "padding": null,
            "grid_auto_rows": null,
            "grid_gap": null,
            "max_width": null,
            "order": null,
            "_view_module_version": "1.2.0",
            "grid_template_areas": null,
            "object_position": null,
            "object_fit": null,
            "grid_auto_columns": null,
            "margin": null,
            "display": null,
            "left": null
          }
        },
        "022adeafe940456d9fcda7f5cb12ad4c": {
          "model_module": "@jupyter-widgets/controls",
          "model_name": "DescriptionStyleModel",
          "state": {
            "_view_name": "StyleView",
            "_model_name": "DescriptionStyleModel",
            "description_width": "",
            "_view_module": "@jupyter-widgets/base",
            "_model_module_version": "1.5.0",
            "_view_count": null,
            "_view_module_version": "1.2.0",
            "_model_module": "@jupyter-widgets/controls"
          }
        },
        "2f21e4611d034bc3a643f7b7c607954e": {
          "model_module": "@jupyter-widgets/base",
          "model_name": "LayoutModel",
          "state": {
            "_view_name": "LayoutView",
            "grid_template_rows": null,
            "right": null,
            "justify_content": null,
            "_view_module": "@jupyter-widgets/base",
            "overflow": null,
            "_model_module_version": "1.2.0",
            "_view_count": null,
            "flex_flow": null,
            "width": null,
            "min_width": null,
            "border": null,
            "align_items": null,
            "bottom": null,
            "_model_module": "@jupyter-widgets/base",
            "top": null,
            "grid_column": null,
            "overflow_y": null,
            "overflow_x": null,
            "grid_auto_flow": null,
            "grid_area": null,
            "grid_template_columns": null,
            "flex": null,
            "_model_name": "LayoutModel",
            "justify_items": null,
            "grid_row": null,
            "max_height": null,
            "align_content": null,
            "visibility": null,
            "align_self": null,
            "height": null,
            "min_height": null,
            "padding": null,
            "grid_auto_rows": null,
            "grid_gap": null,
            "max_width": null,
            "order": null,
            "_view_module_version": "1.2.0",
            "grid_template_areas": null,
            "object_position": null,
            "object_fit": null,
            "grid_auto_columns": null,
            "margin": null,
            "display": null,
            "left": null
          }
        },
        "8392b5d372dd4a90995e92b50a70b724": {
          "model_module": "@jupyter-widgets/controls",
          "model_name": "HBoxModel",
          "state": {
            "_view_name": "HBoxView",
            "_dom_classes": [],
            "_model_name": "HBoxModel",
            "_view_module": "@jupyter-widgets/controls",
            "_model_module_version": "1.5.0",
            "_view_count": null,
            "_view_module_version": "1.5.0",
            "box_style": "",
            "layout": "IPY_MODEL_13c80fccc773419e883fee9f9820b763",
            "_model_module": "@jupyter-widgets/controls",
            "children": [
              "IPY_MODEL_ba088d942bc243e79a090cec54cb409d",
              "IPY_MODEL_d01e26e025fe4267ac8524ab7d2dc8ce"
            ]
          }
        },
        "13c80fccc773419e883fee9f9820b763": {
          "model_module": "@jupyter-widgets/base",
          "model_name": "LayoutModel",
          "state": {
            "_view_name": "LayoutView",
            "grid_template_rows": null,
            "right": null,
            "justify_content": null,
            "_view_module": "@jupyter-widgets/base",
            "overflow": null,
            "_model_module_version": "1.2.0",
            "_view_count": null,
            "flex_flow": null,
            "width": null,
            "min_width": null,
            "border": null,
            "align_items": null,
            "bottom": null,
            "_model_module": "@jupyter-widgets/base",
            "top": null,
            "grid_column": null,
            "overflow_y": null,
            "overflow_x": null,
            "grid_auto_flow": null,
            "grid_area": null,
            "grid_template_columns": null,
            "flex": null,
            "_model_name": "LayoutModel",
            "justify_items": null,
            "grid_row": null,
            "max_height": null,
            "align_content": null,
            "visibility": null,
            "align_self": null,
            "height": null,
            "min_height": null,
            "padding": null,
            "grid_auto_rows": null,
            "grid_gap": null,
            "max_width": null,
            "order": null,
            "_view_module_version": "1.2.0",
            "grid_template_areas": null,
            "object_position": null,
            "object_fit": null,
            "grid_auto_columns": null,
            "margin": null,
            "display": null,
            "left": null
          }
        },
        "ba088d942bc243e79a090cec54cb409d": {
          "model_module": "@jupyter-widgets/controls",
          "model_name": "FloatProgressModel",
          "state": {
            "_view_name": "ProgressView",
            "style": "IPY_MODEL_e9c0e04cbd244d64bbccbfe5eb746f5b",
            "_dom_classes": [],
            "description": "Downloading: 100%",
            "_model_name": "FloatProgressModel",
            "bar_style": "success",
            "max": 481,
            "_view_module": "@jupyter-widgets/controls",
            "_model_module_version": "1.5.0",
            "value": 481,
            "_view_count": null,
            "_view_module_version": "1.5.0",
            "orientation": "horizontal",
            "min": 0,
            "description_tooltip": null,
            "_model_module": "@jupyter-widgets/controls",
            "layout": "IPY_MODEL_7351661187a84704a99c042d7b0cb631"
          }
        },
        "d01e26e025fe4267ac8524ab7d2dc8ce": {
          "model_module": "@jupyter-widgets/controls",
          "model_name": "HTMLModel",
          "state": {
            "_view_name": "HTMLView",
            "style": "IPY_MODEL_c35032760f494973b0c4af23f35824b3",
            "_dom_classes": [],
            "description": "",
            "_model_name": "HTMLModel",
            "placeholder": "​",
            "_view_module": "@jupyter-widgets/controls",
            "_model_module_version": "1.5.0",
            "value": " 481/481 [00:01&lt;00:00, 361B/s]",
            "_view_count": null,
            "_view_module_version": "1.5.0",
            "description_tooltip": null,
            "_model_module": "@jupyter-widgets/controls",
            "layout": "IPY_MODEL_0fb359a2d79b4a7481ff74ae5d89b7f5"
          }
        },
        "e9c0e04cbd244d64bbccbfe5eb746f5b": {
          "model_module": "@jupyter-widgets/controls",
          "model_name": "ProgressStyleModel",
          "state": {
            "_view_name": "StyleView",
            "_model_name": "ProgressStyleModel",
            "description_width": "initial",
            "_view_module": "@jupyter-widgets/base",
            "_model_module_version": "1.5.0",
            "_view_count": null,
            "_view_module_version": "1.2.0",
            "bar_color": null,
            "_model_module": "@jupyter-widgets/controls"
          }
        },
        "7351661187a84704a99c042d7b0cb631": {
          "model_module": "@jupyter-widgets/base",
          "model_name": "LayoutModel",
          "state": {
            "_view_name": "LayoutView",
            "grid_template_rows": null,
            "right": null,
            "justify_content": null,
            "_view_module": "@jupyter-widgets/base",
            "overflow": null,
            "_model_module_version": "1.2.0",
            "_view_count": null,
            "flex_flow": null,
            "width": null,
            "min_width": null,
            "border": null,
            "align_items": null,
            "bottom": null,
            "_model_module": "@jupyter-widgets/base",
            "top": null,
            "grid_column": null,
            "overflow_y": null,
            "overflow_x": null,
            "grid_auto_flow": null,
            "grid_area": null,
            "grid_template_columns": null,
            "flex": null,
            "_model_name": "LayoutModel",
            "justify_items": null,
            "grid_row": null,
            "max_height": null,
            "align_content": null,
            "visibility": null,
            "align_self": null,
            "height": null,
            "min_height": null,
            "padding": null,
            "grid_auto_rows": null,
            "grid_gap": null,
            "max_width": null,
            "order": null,
            "_view_module_version": "1.2.0",
            "grid_template_areas": null,
            "object_position": null,
            "object_fit": null,
            "grid_auto_columns": null,
            "margin": null,
            "display": null,
            "left": null
          }
        },
        "c35032760f494973b0c4af23f35824b3": {
          "model_module": "@jupyter-widgets/controls",
          "model_name": "DescriptionStyleModel",
          "state": {
            "_view_name": "StyleView",
            "_model_name": "DescriptionStyleModel",
            "description_width": "",
            "_view_module": "@jupyter-widgets/base",
            "_model_module_version": "1.5.0",
            "_view_count": null,
            "_view_module_version": "1.2.0",
            "_model_module": "@jupyter-widgets/controls"
          }
        },
        "0fb359a2d79b4a7481ff74ae5d89b7f5": {
          "model_module": "@jupyter-widgets/base",
          "model_name": "LayoutModel",
          "state": {
            "_view_name": "LayoutView",
            "grid_template_rows": null,
            "right": null,
            "justify_content": null,
            "_view_module": "@jupyter-widgets/base",
            "overflow": null,
            "_model_module_version": "1.2.0",
            "_view_count": null,
            "flex_flow": null,
            "width": null,
            "min_width": null,
            "border": null,
            "align_items": null,
            "bottom": null,
            "_model_module": "@jupyter-widgets/base",
            "top": null,
            "grid_column": null,
            "overflow_y": null,
            "overflow_x": null,
            "grid_auto_flow": null,
            "grid_area": null,
            "grid_template_columns": null,
            "flex": null,
            "_model_name": "LayoutModel",
            "justify_items": null,
            "grid_row": null,
            "max_height": null,
            "align_content": null,
            "visibility": null,
            "align_self": null,
            "height": null,
            "min_height": null,
            "padding": null,
            "grid_auto_rows": null,
            "grid_gap": null,
            "max_width": null,
            "order": null,
            "_view_module_version": "1.2.0",
            "grid_template_areas": null,
            "object_position": null,
            "object_fit": null,
            "grid_auto_columns": null,
            "margin": null,
            "display": null,
            "left": null
          }
        },
        "9802ec016c4d406b866e5ec8af7db3cd": {
          "model_module": "@jupyter-widgets/controls",
          "model_name": "HBoxModel",
          "state": {
            "_view_name": "HBoxView",
            "_dom_classes": [],
            "_model_name": "HBoxModel",
            "_view_module": "@jupyter-widgets/controls",
            "_model_module_version": "1.5.0",
            "_view_count": null,
            "_view_module_version": "1.5.0",
            "box_style": "",
            "layout": "IPY_MODEL_901326f7c9e34ed79dc14f1bf01bbbf1",
            "_model_module": "@jupyter-widgets/controls",
            "children": [
              "IPY_MODEL_18ece25a783e471b91043be27a3c75e0",
              "IPY_MODEL_87e431c61dc1494dbb9426dec079e656"
            ]
          }
        },
        "901326f7c9e34ed79dc14f1bf01bbbf1": {
          "model_module": "@jupyter-widgets/base",
          "model_name": "LayoutModel",
          "state": {
            "_view_name": "LayoutView",
            "grid_template_rows": null,
            "right": null,
            "justify_content": null,
            "_view_module": "@jupyter-widgets/base",
            "overflow": null,
            "_model_module_version": "1.2.0",
            "_view_count": null,
            "flex_flow": null,
            "width": null,
            "min_width": null,
            "border": null,
            "align_items": null,
            "bottom": null,
            "_model_module": "@jupyter-widgets/base",
            "top": null,
            "grid_column": null,
            "overflow_y": null,
            "overflow_x": null,
            "grid_auto_flow": null,
            "grid_area": null,
            "grid_template_columns": null,
            "flex": null,
            "_model_name": "LayoutModel",
            "justify_items": null,
            "grid_row": null,
            "max_height": null,
            "align_content": null,
            "visibility": null,
            "align_self": null,
            "height": null,
            "min_height": null,
            "padding": null,
            "grid_auto_rows": null,
            "grid_gap": null,
            "max_width": null,
            "order": null,
            "_view_module_version": "1.2.0",
            "grid_template_areas": null,
            "object_position": null,
            "object_fit": null,
            "grid_auto_columns": null,
            "margin": null,
            "display": null,
            "left": null
          }
        },
        "18ece25a783e471b91043be27a3c75e0": {
          "model_module": "@jupyter-widgets/controls",
          "model_name": "FloatProgressModel",
          "state": {
            "_view_name": "ProgressView",
            "style": "IPY_MODEL_6d3c147ad6f741e296c20f3866f5b824",
            "_dom_classes": [],
            "description": "Downloading: 100%",
            "_model_name": "FloatProgressModel",
            "bar_style": "success",
            "max": 657434796,
            "_view_module": "@jupyter-widgets/controls",
            "_model_module_version": "1.5.0",
            "value": 657434796,
            "_view_count": null,
            "_view_module_version": "1.5.0",
            "orientation": "horizontal",
            "min": 0,
            "description_tooltip": null,
            "_model_module": "@jupyter-widgets/controls",
            "layout": "IPY_MODEL_f630b569699643459eb95247993b796a"
          }
        },
        "87e431c61dc1494dbb9426dec079e656": {
          "model_module": "@jupyter-widgets/controls",
          "model_name": "HTMLModel",
          "state": {
            "_view_name": "HTMLView",
            "style": "IPY_MODEL_83eaa12e60594684a572224ab04a8e7d",
            "_dom_classes": [],
            "description": "",
            "_model_name": "HTMLModel",
            "placeholder": "​",
            "_view_module": "@jupyter-widgets/controls",
            "_model_module_version": "1.5.0",
            "value": " 657M/657M [00:20&lt;00:00, 32.1MB/s]",
            "_view_count": null,
            "_view_module_version": "1.5.0",
            "description_tooltip": null,
            "_model_module": "@jupyter-widgets/controls",
            "layout": "IPY_MODEL_462ff5c2352c4f7798c91a7c66efb195"
          }
        },
        "6d3c147ad6f741e296c20f3866f5b824": {
          "model_module": "@jupyter-widgets/controls",
          "model_name": "ProgressStyleModel",
          "state": {
            "_view_name": "StyleView",
            "_model_name": "ProgressStyleModel",
            "description_width": "initial",
            "_view_module": "@jupyter-widgets/base",
            "_model_module_version": "1.5.0",
            "_view_count": null,
            "_view_module_version": "1.2.0",
            "bar_color": null,
            "_model_module": "@jupyter-widgets/controls"
          }
        },
        "f630b569699643459eb95247993b796a": {
          "model_module": "@jupyter-widgets/base",
          "model_name": "LayoutModel",
          "state": {
            "_view_name": "LayoutView",
            "grid_template_rows": null,
            "right": null,
            "justify_content": null,
            "_view_module": "@jupyter-widgets/base",
            "overflow": null,
            "_model_module_version": "1.2.0",
            "_view_count": null,
            "flex_flow": null,
            "width": null,
            "min_width": null,
            "border": null,
            "align_items": null,
            "bottom": null,
            "_model_module": "@jupyter-widgets/base",
            "top": null,
            "grid_column": null,
            "overflow_y": null,
            "overflow_x": null,
            "grid_auto_flow": null,
            "grid_area": null,
            "grid_template_columns": null,
            "flex": null,
            "_model_name": "LayoutModel",
            "justify_items": null,
            "grid_row": null,
            "max_height": null,
            "align_content": null,
            "visibility": null,
            "align_self": null,
            "height": null,
            "min_height": null,
            "padding": null,
            "grid_auto_rows": null,
            "grid_gap": null,
            "max_width": null,
            "order": null,
            "_view_module_version": "1.2.0",
            "grid_template_areas": null,
            "object_position": null,
            "object_fit": null,
            "grid_auto_columns": null,
            "margin": null,
            "display": null,
            "left": null
          }
        },
        "83eaa12e60594684a572224ab04a8e7d": {
          "model_module": "@jupyter-widgets/controls",
          "model_name": "DescriptionStyleModel",
          "state": {
            "_view_name": "StyleView",
            "_model_name": "DescriptionStyleModel",
            "description_width": "",
            "_view_module": "@jupyter-widgets/base",
            "_model_module_version": "1.5.0",
            "_view_count": null,
            "_view_module_version": "1.2.0",
            "_model_module": "@jupyter-widgets/controls"
          }
        },
        "462ff5c2352c4f7798c91a7c66efb195": {
          "model_module": "@jupyter-widgets/base",
          "model_name": "LayoutModel",
          "state": {
            "_view_name": "LayoutView",
            "grid_template_rows": null,
            "right": null,
            "justify_content": null,
            "_view_module": "@jupyter-widgets/base",
            "overflow": null,
            "_model_module_version": "1.2.0",
            "_view_count": null,
            "flex_flow": null,
            "width": null,
            "min_width": null,
            "border": null,
            "align_items": null,
            "bottom": null,
            "_model_module": "@jupyter-widgets/base",
            "top": null,
            "grid_column": null,
            "overflow_y": null,
            "overflow_x": null,
            "grid_auto_flow": null,
            "grid_area": null,
            "grid_template_columns": null,
            "flex": null,
            "_model_name": "LayoutModel",
            "justify_items": null,
            "grid_row": null,
            "max_height": null,
            "align_content": null,
            "visibility": null,
            "align_self": null,
            "height": null,
            "min_height": null,
            "padding": null,
            "grid_auto_rows": null,
            "grid_gap": null,
            "max_width": null,
            "order": null,
            "_view_module_version": "1.2.0",
            "grid_template_areas": null,
            "object_position": null,
            "object_fit": null,
            "grid_auto_columns": null,
            "margin": null,
            "display": null,
            "left": null
          }
        },
        "d64d1220ff9c4ee8bb4a1abb91f7f837": {
          "model_module": "@jupyter-widgets/controls",
          "model_name": "HBoxModel",
          "state": {
            "_view_name": "HBoxView",
            "_dom_classes": [],
            "_model_name": "HBoxModel",
            "_view_module": "@jupyter-widgets/controls",
            "_model_module_version": "1.5.0",
            "_view_count": null,
            "_view_module_version": "1.5.0",
            "box_style": "",
            "layout": "IPY_MODEL_56cceca4aea04338a42084f4e88f9fd6",
            "_model_module": "@jupyter-widgets/controls",
            "children": [
              "IPY_MODEL_25043b3b6a2f4ac29891a768d7258330",
              "IPY_MODEL_ff3e1938aa33410caf1e8a02eba8e852"
            ]
          }
        },
        "56cceca4aea04338a42084f4e88f9fd6": {
          "model_module": "@jupyter-widgets/base",
          "model_name": "LayoutModel",
          "state": {
            "_view_name": "LayoutView",
            "grid_template_rows": null,
            "right": null,
            "justify_content": null,
            "_view_module": "@jupyter-widgets/base",
            "overflow": null,
            "_model_module_version": "1.2.0",
            "_view_count": null,
            "flex_flow": null,
            "width": null,
            "min_width": null,
            "border": null,
            "align_items": null,
            "bottom": null,
            "_model_module": "@jupyter-widgets/base",
            "top": null,
            "grid_column": null,
            "overflow_y": null,
            "overflow_x": null,
            "grid_auto_flow": null,
            "grid_area": null,
            "grid_template_columns": null,
            "flex": null,
            "_model_name": "LayoutModel",
            "justify_items": null,
            "grid_row": null,
            "max_height": null,
            "align_content": null,
            "visibility": null,
            "align_self": null,
            "height": null,
            "min_height": null,
            "padding": null,
            "grid_auto_rows": null,
            "grid_gap": null,
            "max_width": null,
            "order": null,
            "_view_module_version": "1.2.0",
            "grid_template_areas": null,
            "object_position": null,
            "object_fit": null,
            "grid_auto_columns": null,
            "margin": null,
            "display": null,
            "left": null
          }
        },
        "25043b3b6a2f4ac29891a768d7258330": {
          "model_module": "@jupyter-widgets/controls",
          "model_name": "FloatProgressModel",
          "state": {
            "_view_name": "ProgressView",
            "style": "IPY_MODEL_605ce065e9af4176a5f8aac93a22dbe8",
            "_dom_classes": [],
            "description": "Downloading: 100%",
            "_model_name": "FloatProgressModel",
            "bar_style": "success",
            "max": 898823,
            "_view_module": "@jupyter-widgets/controls",
            "_model_module_version": "1.5.0",
            "value": 898823,
            "_view_count": null,
            "_view_module_version": "1.5.0",
            "orientation": "horizontal",
            "min": 0,
            "description_tooltip": null,
            "_model_module": "@jupyter-widgets/controls",
            "layout": "IPY_MODEL_81112a696b024561a9a4060871763bfb"
          }
        },
        "ff3e1938aa33410caf1e8a02eba8e852": {
          "model_module": "@jupyter-widgets/controls",
          "model_name": "HTMLModel",
          "state": {
            "_view_name": "HTMLView",
            "style": "IPY_MODEL_b6d4764eec3740c9a3048ab4b13fdb32",
            "_dom_classes": [],
            "description": "",
            "_model_name": "HTMLModel",
            "placeholder": "​",
            "_view_module": "@jupyter-widgets/controls",
            "_model_module_version": "1.5.0",
            "value": " 899k/899k [00:02&lt;00:00, 444kB/s]",
            "_view_count": null,
            "_view_module_version": "1.5.0",
            "description_tooltip": null,
            "_model_module": "@jupyter-widgets/controls",
            "layout": "IPY_MODEL_b6e05a8131ae4479b4217aaa80f4c709"
          }
        },
        "605ce065e9af4176a5f8aac93a22dbe8": {
          "model_module": "@jupyter-widgets/controls",
          "model_name": "ProgressStyleModel",
          "state": {
            "_view_name": "StyleView",
            "_model_name": "ProgressStyleModel",
            "description_width": "initial",
            "_view_module": "@jupyter-widgets/base",
            "_model_module_version": "1.5.0",
            "_view_count": null,
            "_view_module_version": "1.2.0",
            "bar_color": null,
            "_model_module": "@jupyter-widgets/controls"
          }
        },
        "81112a696b024561a9a4060871763bfb": {
          "model_module": "@jupyter-widgets/base",
          "model_name": "LayoutModel",
          "state": {
            "_view_name": "LayoutView",
            "grid_template_rows": null,
            "right": null,
            "justify_content": null,
            "_view_module": "@jupyter-widgets/base",
            "overflow": null,
            "_model_module_version": "1.2.0",
            "_view_count": null,
            "flex_flow": null,
            "width": null,
            "min_width": null,
            "border": null,
            "align_items": null,
            "bottom": null,
            "_model_module": "@jupyter-widgets/base",
            "top": null,
            "grid_column": null,
            "overflow_y": null,
            "overflow_x": null,
            "grid_auto_flow": null,
            "grid_area": null,
            "grid_template_columns": null,
            "flex": null,
            "_model_name": "LayoutModel",
            "justify_items": null,
            "grid_row": null,
            "max_height": null,
            "align_content": null,
            "visibility": null,
            "align_self": null,
            "height": null,
            "min_height": null,
            "padding": null,
            "grid_auto_rows": null,
            "grid_gap": null,
            "max_width": null,
            "order": null,
            "_view_module_version": "1.2.0",
            "grid_template_areas": null,
            "object_position": null,
            "object_fit": null,
            "grid_auto_columns": null,
            "margin": null,
            "display": null,
            "left": null
          }
        },
        "b6d4764eec3740c9a3048ab4b13fdb32": {
          "model_module": "@jupyter-widgets/controls",
          "model_name": "DescriptionStyleModel",
          "state": {
            "_view_name": "StyleView",
            "_model_name": "DescriptionStyleModel",
            "description_width": "",
            "_view_module": "@jupyter-widgets/base",
            "_model_module_version": "1.5.0",
            "_view_count": null,
            "_view_module_version": "1.2.0",
            "_model_module": "@jupyter-widgets/controls"
          }
        },
        "b6e05a8131ae4479b4217aaa80f4c709": {
          "model_module": "@jupyter-widgets/base",
          "model_name": "LayoutModel",
          "state": {
            "_view_name": "LayoutView",
            "grid_template_rows": null,
            "right": null,
            "justify_content": null,
            "_view_module": "@jupyter-widgets/base",
            "overflow": null,
            "_model_module_version": "1.2.0",
            "_view_count": null,
            "flex_flow": null,
            "width": null,
            "min_width": null,
            "border": null,
            "align_items": null,
            "bottom": null,
            "_model_module": "@jupyter-widgets/base",
            "top": null,
            "grid_column": null,
            "overflow_y": null,
            "overflow_x": null,
            "grid_auto_flow": null,
            "grid_area": null,
            "grid_template_columns": null,
            "flex": null,
            "_model_name": "LayoutModel",
            "justify_items": null,
            "grid_row": null,
            "max_height": null,
            "align_content": null,
            "visibility": null,
            "align_self": null,
            "height": null,
            "min_height": null,
            "padding": null,
            "grid_auto_rows": null,
            "grid_gap": null,
            "max_width": null,
            "order": null,
            "_view_module_version": "1.2.0",
            "grid_template_areas": null,
            "object_position": null,
            "object_fit": null,
            "grid_auto_columns": null,
            "margin": null,
            "display": null,
            "left": null
          }
        },
        "bcffd54797754792a466ba416b509100": {
          "model_module": "@jupyter-widgets/controls",
          "model_name": "HBoxModel",
          "state": {
            "_view_name": "HBoxView",
            "_dom_classes": [],
            "_model_name": "HBoxModel",
            "_view_module": "@jupyter-widgets/controls",
            "_model_module_version": "1.5.0",
            "_view_count": null,
            "_view_module_version": "1.5.0",
            "box_style": "",
            "layout": "IPY_MODEL_71382054dd5243769d34e0325fc18fa4",
            "_model_module": "@jupyter-widgets/controls",
            "children": [
              "IPY_MODEL_c39ff78b2fa94a58ac80196dcf959faa",
              "IPY_MODEL_325cdc117bc24deb9806ff4562bcfeb2"
            ]
          }
        },
        "71382054dd5243769d34e0325fc18fa4": {
          "model_module": "@jupyter-widgets/base",
          "model_name": "LayoutModel",
          "state": {
            "_view_name": "LayoutView",
            "grid_template_rows": null,
            "right": null,
            "justify_content": null,
            "_view_module": "@jupyter-widgets/base",
            "overflow": null,
            "_model_module_version": "1.2.0",
            "_view_count": null,
            "flex_flow": null,
            "width": null,
            "min_width": null,
            "border": null,
            "align_items": null,
            "bottom": null,
            "_model_module": "@jupyter-widgets/base",
            "top": null,
            "grid_column": null,
            "overflow_y": null,
            "overflow_x": null,
            "grid_auto_flow": null,
            "grid_area": null,
            "grid_template_columns": null,
            "flex": null,
            "_model_name": "LayoutModel",
            "justify_items": null,
            "grid_row": null,
            "max_height": null,
            "align_content": null,
            "visibility": null,
            "align_self": null,
            "height": null,
            "min_height": null,
            "padding": null,
            "grid_auto_rows": null,
            "grid_gap": null,
            "max_width": null,
            "order": null,
            "_view_module_version": "1.2.0",
            "grid_template_areas": null,
            "object_position": null,
            "object_fit": null,
            "grid_auto_columns": null,
            "margin": null,
            "display": null,
            "left": null
          }
        },
        "c39ff78b2fa94a58ac80196dcf959faa": {
          "model_module": "@jupyter-widgets/controls",
          "model_name": "FloatProgressModel",
          "state": {
            "_view_name": "ProgressView",
            "style": "IPY_MODEL_9856c46f340940aa9beb47755acff74e",
            "_dom_classes": [],
            "description": "Downloading: 100%",
            "_model_name": "FloatProgressModel",
            "bar_style": "success",
            "max": 456318,
            "_view_module": "@jupyter-widgets/controls",
            "_model_module_version": "1.5.0",
            "value": 456318,
            "_view_count": null,
            "_view_module_version": "1.5.0",
            "orientation": "horizontal",
            "min": 0,
            "description_tooltip": null,
            "_model_module": "@jupyter-widgets/controls",
            "layout": "IPY_MODEL_2a45df42551647c2b67575b8b8f2ffea"
          }
        },
        "325cdc117bc24deb9806ff4562bcfeb2": {
          "model_module": "@jupyter-widgets/controls",
          "model_name": "HTMLModel",
          "state": {
            "_view_name": "HTMLView",
            "style": "IPY_MODEL_46904b2a2de347d8bf79789f4947dbd4",
            "_dom_classes": [],
            "description": "",
            "_model_name": "HTMLModel",
            "placeholder": "​",
            "_view_module": "@jupyter-widgets/controls",
            "_model_module_version": "1.5.0",
            "value": " 456k/456k [00:24&lt;00:00, 18.5kB/s]",
            "_view_count": null,
            "_view_module_version": "1.5.0",
            "description_tooltip": null,
            "_model_module": "@jupyter-widgets/controls",
            "layout": "IPY_MODEL_aeafb99138e842cdbf9d66b3e1287b66"
          }
        },
        "9856c46f340940aa9beb47755acff74e": {
          "model_module": "@jupyter-widgets/controls",
          "model_name": "ProgressStyleModel",
          "state": {
            "_view_name": "StyleView",
            "_model_name": "ProgressStyleModel",
            "description_width": "initial",
            "_view_module": "@jupyter-widgets/base",
            "_model_module_version": "1.5.0",
            "_view_count": null,
            "_view_module_version": "1.2.0",
            "bar_color": null,
            "_model_module": "@jupyter-widgets/controls"
          }
        },
        "2a45df42551647c2b67575b8b8f2ffea": {
          "model_module": "@jupyter-widgets/base",
          "model_name": "LayoutModel",
          "state": {
            "_view_name": "LayoutView",
            "grid_template_rows": null,
            "right": null,
            "justify_content": null,
            "_view_module": "@jupyter-widgets/base",
            "overflow": null,
            "_model_module_version": "1.2.0",
            "_view_count": null,
            "flex_flow": null,
            "width": null,
            "min_width": null,
            "border": null,
            "align_items": null,
            "bottom": null,
            "_model_module": "@jupyter-widgets/base",
            "top": null,
            "grid_column": null,
            "overflow_y": null,
            "overflow_x": null,
            "grid_auto_flow": null,
            "grid_area": null,
            "grid_template_columns": null,
            "flex": null,
            "_model_name": "LayoutModel",
            "justify_items": null,
            "grid_row": null,
            "max_height": null,
            "align_content": null,
            "visibility": null,
            "align_self": null,
            "height": null,
            "min_height": null,
            "padding": null,
            "grid_auto_rows": null,
            "grid_gap": null,
            "max_width": null,
            "order": null,
            "_view_module_version": "1.2.0",
            "grid_template_areas": null,
            "object_position": null,
            "object_fit": null,
            "grid_auto_columns": null,
            "margin": null,
            "display": null,
            "left": null
          }
        },
        "46904b2a2de347d8bf79789f4947dbd4": {
          "model_module": "@jupyter-widgets/controls",
          "model_name": "DescriptionStyleModel",
          "state": {
            "_view_name": "StyleView",
            "_model_name": "DescriptionStyleModel",
            "description_width": "",
            "_view_module": "@jupyter-widgets/base",
            "_model_module_version": "1.5.0",
            "_view_count": null,
            "_view_module_version": "1.2.0",
            "_model_module": "@jupyter-widgets/controls"
          }
        },
        "aeafb99138e842cdbf9d66b3e1287b66": {
          "model_module": "@jupyter-widgets/base",
          "model_name": "LayoutModel",
          "state": {
            "_view_name": "LayoutView",
            "grid_template_rows": null,
            "right": null,
            "justify_content": null,
            "_view_module": "@jupyter-widgets/base",
            "overflow": null,
            "_model_module_version": "1.2.0",
            "_view_count": null,
            "flex_flow": null,
            "width": null,
            "min_width": null,
            "border": null,
            "align_items": null,
            "bottom": null,
            "_model_module": "@jupyter-widgets/base",
            "top": null,
            "grid_column": null,
            "overflow_y": null,
            "overflow_x": null,
            "grid_auto_flow": null,
            "grid_area": null,
            "grid_template_columns": null,
            "flex": null,
            "_model_name": "LayoutModel",
            "justify_items": null,
            "grid_row": null,
            "max_height": null,
            "align_content": null,
            "visibility": null,
            "align_self": null,
            "height": null,
            "min_height": null,
            "padding": null,
            "grid_auto_rows": null,
            "grid_gap": null,
            "max_width": null,
            "order": null,
            "_view_module_version": "1.2.0",
            "grid_template_areas": null,
            "object_position": null,
            "object_fit": null,
            "grid_auto_columns": null,
            "margin": null,
            "display": null,
            "left": null
          }
        },
        "af37570583bf47b7ba9e82cd2952f6f7": {
          "model_module": "@jupyter-widgets/controls",
          "model_name": "HBoxModel",
          "state": {
            "_view_name": "HBoxView",
            "_dom_classes": [],
            "_model_name": "HBoxModel",
            "_view_module": "@jupyter-widgets/controls",
            "_model_module_version": "1.5.0",
            "_view_count": null,
            "_view_module_version": "1.5.0",
            "box_style": "",
            "layout": "IPY_MODEL_1f182525686a420b812e09438f94b6c9",
            "_model_module": "@jupyter-widgets/controls",
            "children": [
              "IPY_MODEL_12a1b6267e32456caba8b352fc532c15",
              "IPY_MODEL_eac680cbcbf3440693a50a5ccfd363b1"
            ]
          }
        },
        "1f182525686a420b812e09438f94b6c9": {
          "model_module": "@jupyter-widgets/base",
          "model_name": "LayoutModel",
          "state": {
            "_view_name": "LayoutView",
            "grid_template_rows": null,
            "right": null,
            "justify_content": null,
            "_view_module": "@jupyter-widgets/base",
            "overflow": null,
            "_model_module_version": "1.2.0",
            "_view_count": null,
            "flex_flow": null,
            "width": null,
            "min_width": null,
            "border": null,
            "align_items": null,
            "bottom": null,
            "_model_module": "@jupyter-widgets/base",
            "top": null,
            "grid_column": null,
            "overflow_y": null,
            "overflow_x": null,
            "grid_auto_flow": null,
            "grid_area": null,
            "grid_template_columns": null,
            "flex": null,
            "_model_name": "LayoutModel",
            "justify_items": null,
            "grid_row": null,
            "max_height": null,
            "align_content": null,
            "visibility": null,
            "align_self": null,
            "height": null,
            "min_height": null,
            "padding": null,
            "grid_auto_rows": null,
            "grid_gap": null,
            "max_width": null,
            "order": null,
            "_view_module_version": "1.2.0",
            "grid_template_areas": null,
            "object_position": null,
            "object_fit": null,
            "grid_auto_columns": null,
            "margin": null,
            "display": null,
            "left": null
          }
        },
        "12a1b6267e32456caba8b352fc532c15": {
          "model_module": "@jupyter-widgets/controls",
          "model_name": "FloatProgressModel",
          "state": {
            "_view_name": "ProgressView",
            "style": "IPY_MODEL_77aa62833a8f435b8d0b14fc6876491f",
            "_dom_classes": [],
            "description": "Downloading: 100%",
            "_model_name": "FloatProgressModel",
            "bar_style": "success",
            "max": 1355863,
            "_view_module": "@jupyter-widgets/controls",
            "_model_module_version": "1.5.0",
            "value": 1355863,
            "_view_count": null,
            "_view_module_version": "1.5.0",
            "orientation": "horizontal",
            "min": 0,
            "description_tooltip": null,
            "_model_module": "@jupyter-widgets/controls",
            "layout": "IPY_MODEL_c9d8db40797647fd9a0e2f86141dfa9f"
          }
        },
        "eac680cbcbf3440693a50a5ccfd363b1": {
          "model_module": "@jupyter-widgets/controls",
          "model_name": "HTMLModel",
          "state": {
            "_view_name": "HTMLView",
            "style": "IPY_MODEL_a91730aa985441cfbba937375abf7122",
            "_dom_classes": [],
            "description": "",
            "_model_name": "HTMLModel",
            "placeholder": "​",
            "_view_module": "@jupyter-widgets/controls",
            "_model_module_version": "1.5.0",
            "value": " 1.36M/1.36M [00:05&lt;00:00, 261kB/s]",
            "_view_count": null,
            "_view_module_version": "1.5.0",
            "description_tooltip": null,
            "_model_module": "@jupyter-widgets/controls",
            "layout": "IPY_MODEL_7090c37bbcc44751886b4baf16b7a2ea"
          }
        },
        "77aa62833a8f435b8d0b14fc6876491f": {
          "model_module": "@jupyter-widgets/controls",
          "model_name": "ProgressStyleModel",
          "state": {
            "_view_name": "StyleView",
            "_model_name": "ProgressStyleModel",
            "description_width": "initial",
            "_view_module": "@jupyter-widgets/base",
            "_model_module_version": "1.5.0",
            "_view_count": null,
            "_view_module_version": "1.2.0",
            "bar_color": null,
            "_model_module": "@jupyter-widgets/controls"
          }
        },
        "c9d8db40797647fd9a0e2f86141dfa9f": {
          "model_module": "@jupyter-widgets/base",
          "model_name": "LayoutModel",
          "state": {
            "_view_name": "LayoutView",
            "grid_template_rows": null,
            "right": null,
            "justify_content": null,
            "_view_module": "@jupyter-widgets/base",
            "overflow": null,
            "_model_module_version": "1.2.0",
            "_view_count": null,
            "flex_flow": null,
            "width": null,
            "min_width": null,
            "border": null,
            "align_items": null,
            "bottom": null,
            "_model_module": "@jupyter-widgets/base",
            "top": null,
            "grid_column": null,
            "overflow_y": null,
            "overflow_x": null,
            "grid_auto_flow": null,
            "grid_area": null,
            "grid_template_columns": null,
            "flex": null,
            "_model_name": "LayoutModel",
            "justify_items": null,
            "grid_row": null,
            "max_height": null,
            "align_content": null,
            "visibility": null,
            "align_self": null,
            "height": null,
            "min_height": null,
            "padding": null,
            "grid_auto_rows": null,
            "grid_gap": null,
            "max_width": null,
            "order": null,
            "_view_module_version": "1.2.0",
            "grid_template_areas": null,
            "object_position": null,
            "object_fit": null,
            "grid_auto_columns": null,
            "margin": null,
            "display": null,
            "left": null
          }
        },
        "a91730aa985441cfbba937375abf7122": {
          "model_module": "@jupyter-widgets/controls",
          "model_name": "DescriptionStyleModel",
          "state": {
            "_view_name": "StyleView",
            "_model_name": "DescriptionStyleModel",
            "description_width": "",
            "_view_module": "@jupyter-widgets/base",
            "_model_module_version": "1.5.0",
            "_view_count": null,
            "_view_module_version": "1.2.0",
            "_model_module": "@jupyter-widgets/controls"
          }
        },
        "7090c37bbcc44751886b4baf16b7a2ea": {
          "model_module": "@jupyter-widgets/base",
          "model_name": "LayoutModel",
          "state": {
            "_view_name": "LayoutView",
            "grid_template_rows": null,
            "right": null,
            "justify_content": null,
            "_view_module": "@jupyter-widgets/base",
            "overflow": null,
            "_model_module_version": "1.2.0",
            "_view_count": null,
            "flex_flow": null,
            "width": null,
            "min_width": null,
            "border": null,
            "align_items": null,
            "bottom": null,
            "_model_module": "@jupyter-widgets/base",
            "top": null,
            "grid_column": null,
            "overflow_y": null,
            "overflow_x": null,
            "grid_auto_flow": null,
            "grid_area": null,
            "grid_template_columns": null,
            "flex": null,
            "_model_name": "LayoutModel",
            "justify_items": null,
            "grid_row": null,
            "max_height": null,
            "align_content": null,
            "visibility": null,
            "align_self": null,
            "height": null,
            "min_height": null,
            "padding": null,
            "grid_auto_rows": null,
            "grid_gap": null,
            "max_width": null,
            "order": null,
            "_view_module_version": "1.2.0",
            "grid_template_areas": null,
            "object_position": null,
            "object_fit": null,
            "grid_auto_columns": null,
            "margin": null,
            "display": null,
            "left": null
          }
        },
        "d56b61cc01c545dfbc260c94c91cbd4e": {
          "model_module": "@jupyter-widgets/controls",
          "model_name": "HBoxModel",
          "state": {
            "_view_name": "HBoxView",
            "_dom_classes": [],
            "_model_name": "HBoxModel",
            "_view_module": "@jupyter-widgets/controls",
            "_model_module_version": "1.5.0",
            "_view_count": null,
            "_view_module_version": "1.5.0",
            "box_style": "",
            "layout": "IPY_MODEL_1a65a731813442eb848b9ca20934cbe3",
            "_model_module": "@jupyter-widgets/controls",
            "children": [
              "IPY_MODEL_a558e53c37fa4dbdaa281d82cb22f119",
              "IPY_MODEL_08b86656532143cab3049531f3530d87"
            ]
          }
        },
        "1a65a731813442eb848b9ca20934cbe3": {
          "model_module": "@jupyter-widgets/base",
          "model_name": "LayoutModel",
          "state": {
            "_view_name": "LayoutView",
            "grid_template_rows": null,
            "right": null,
            "justify_content": null,
            "_view_module": "@jupyter-widgets/base",
            "overflow": null,
            "_model_module_version": "1.2.0",
            "_view_count": null,
            "flex_flow": null,
            "width": null,
            "min_width": null,
            "border": null,
            "align_items": null,
            "bottom": null,
            "_model_module": "@jupyter-widgets/base",
            "top": null,
            "grid_column": null,
            "overflow_y": null,
            "overflow_x": null,
            "grid_auto_flow": null,
            "grid_area": null,
            "grid_template_columns": null,
            "flex": null,
            "_model_name": "LayoutModel",
            "justify_items": null,
            "grid_row": null,
            "max_height": null,
            "align_content": null,
            "visibility": null,
            "align_self": null,
            "height": null,
            "min_height": null,
            "padding": null,
            "grid_auto_rows": null,
            "grid_gap": null,
            "max_width": null,
            "order": null,
            "_view_module_version": "1.2.0",
            "grid_template_areas": null,
            "object_position": null,
            "object_fit": null,
            "grid_auto_columns": null,
            "margin": null,
            "display": null,
            "left": null
          }
        },
        "a558e53c37fa4dbdaa281d82cb22f119": {
          "model_module": "@jupyter-widgets/controls",
          "model_name": "FloatProgressModel",
          "state": {
            "_view_name": "ProgressView",
            "style": "IPY_MODEL_a1005e752db047dfa95a1f236d862123",
            "_dom_classes": [],
            "description": "Downloading: 100%",
            "_model_name": "FloatProgressModel",
            "bar_style": "success",
            "max": 760,
            "_view_module": "@jupyter-widgets/controls",
            "_model_module_version": "1.5.0",
            "value": 760,
            "_view_count": null,
            "_view_module_version": "1.5.0",
            "orientation": "horizontal",
            "min": 0,
            "description_tooltip": null,
            "_model_module": "@jupyter-widgets/controls",
            "layout": "IPY_MODEL_67bd774a92644224970e196630a7c466"
          }
        },
        "08b86656532143cab3049531f3530d87": {
          "model_module": "@jupyter-widgets/controls",
          "model_name": "HTMLModel",
          "state": {
            "_view_name": "HTMLView",
            "style": "IPY_MODEL_7478d3d83c454214842c5241bca5ce05",
            "_dom_classes": [],
            "description": "",
            "_model_name": "HTMLModel",
            "placeholder": "​",
            "_view_module": "@jupyter-widgets/controls",
            "_model_module_version": "1.5.0",
            "value": " 760/760 [00:00&lt;00:00, 924B/s]",
            "_view_count": null,
            "_view_module_version": "1.5.0",
            "description_tooltip": null,
            "_model_module": "@jupyter-widgets/controls",
            "layout": "IPY_MODEL_15f47c24c9b84d829bf52e38ebdf6500"
          }
        },
        "a1005e752db047dfa95a1f236d862123": {
          "model_module": "@jupyter-widgets/controls",
          "model_name": "ProgressStyleModel",
          "state": {
            "_view_name": "StyleView",
            "_model_name": "ProgressStyleModel",
            "description_width": "initial",
            "_view_module": "@jupyter-widgets/base",
            "_model_module_version": "1.5.0",
            "_view_count": null,
            "_view_module_version": "1.2.0",
            "bar_color": null,
            "_model_module": "@jupyter-widgets/controls"
          }
        },
        "67bd774a92644224970e196630a7c466": {
          "model_module": "@jupyter-widgets/base",
          "model_name": "LayoutModel",
          "state": {
            "_view_name": "LayoutView",
            "grid_template_rows": null,
            "right": null,
            "justify_content": null,
            "_view_module": "@jupyter-widgets/base",
            "overflow": null,
            "_model_module_version": "1.2.0",
            "_view_count": null,
            "flex_flow": null,
            "width": null,
            "min_width": null,
            "border": null,
            "align_items": null,
            "bottom": null,
            "_model_module": "@jupyter-widgets/base",
            "top": null,
            "grid_column": null,
            "overflow_y": null,
            "overflow_x": null,
            "grid_auto_flow": null,
            "grid_area": null,
            "grid_template_columns": null,
            "flex": null,
            "_model_name": "LayoutModel",
            "justify_items": null,
            "grid_row": null,
            "max_height": null,
            "align_content": null,
            "visibility": null,
            "align_self": null,
            "height": null,
            "min_height": null,
            "padding": null,
            "grid_auto_rows": null,
            "grid_gap": null,
            "max_width": null,
            "order": null,
            "_view_module_version": "1.2.0",
            "grid_template_areas": null,
            "object_position": null,
            "object_fit": null,
            "grid_auto_columns": null,
            "margin": null,
            "display": null,
            "left": null
          }
        },
        "7478d3d83c454214842c5241bca5ce05": {
          "model_module": "@jupyter-widgets/controls",
          "model_name": "DescriptionStyleModel",
          "state": {
            "_view_name": "StyleView",
            "_model_name": "DescriptionStyleModel",
            "description_width": "",
            "_view_module": "@jupyter-widgets/base",
            "_model_module_version": "1.5.0",
            "_view_count": null,
            "_view_module_version": "1.2.0",
            "_model_module": "@jupyter-widgets/controls"
          }
        },
        "15f47c24c9b84d829bf52e38ebdf6500": {
          "model_module": "@jupyter-widgets/base",
          "model_name": "LayoutModel",
          "state": {
            "_view_name": "LayoutView",
            "grid_template_rows": null,
            "right": null,
            "justify_content": null,
            "_view_module": "@jupyter-widgets/base",
            "overflow": null,
            "_model_module_version": "1.2.0",
            "_view_count": null,
            "flex_flow": null,
            "width": null,
            "min_width": null,
            "border": null,
            "align_items": null,
            "bottom": null,
            "_model_module": "@jupyter-widgets/base",
            "top": null,
            "grid_column": null,
            "overflow_y": null,
            "overflow_x": null,
            "grid_auto_flow": null,
            "grid_area": null,
            "grid_template_columns": null,
            "flex": null,
            "_model_name": "LayoutModel",
            "justify_items": null,
            "grid_row": null,
            "max_height": null,
            "align_content": null,
            "visibility": null,
            "align_self": null,
            "height": null,
            "min_height": null,
            "padding": null,
            "grid_auto_rows": null,
            "grid_gap": null,
            "max_width": null,
            "order": null,
            "_view_module_version": "1.2.0",
            "grid_template_areas": null,
            "object_position": null,
            "object_fit": null,
            "grid_auto_columns": null,
            "margin": null,
            "display": null,
            "left": null
          }
        },
        "58bc3d734c0f431b8291beae7091cceb": {
          "model_module": "@jupyter-widgets/controls",
          "model_name": "HBoxModel",
          "state": {
            "_view_name": "HBoxView",
            "_dom_classes": [],
            "_model_name": "HBoxModel",
            "_view_module": "@jupyter-widgets/controls",
            "_model_module_version": "1.5.0",
            "_view_count": null,
            "_view_module_version": "1.5.0",
            "box_style": "",
            "layout": "IPY_MODEL_1f3b2cf0eb214ba893d0e360e8f0caf0",
            "_model_module": "@jupyter-widgets/controls",
            "children": [
              "IPY_MODEL_e94e8545d8f2440fb600e11d94e9d542",
              "IPY_MODEL_31d3e83cfa9e465ea77b6828f30918db"
            ]
          }
        },
        "1f3b2cf0eb214ba893d0e360e8f0caf0": {
          "model_module": "@jupyter-widgets/base",
          "model_name": "LayoutModel",
          "state": {
            "_view_name": "LayoutView",
            "grid_template_rows": null,
            "right": null,
            "justify_content": null,
            "_view_module": "@jupyter-widgets/base",
            "overflow": null,
            "_model_module_version": "1.2.0",
            "_view_count": null,
            "flex_flow": null,
            "width": null,
            "min_width": null,
            "border": null,
            "align_items": null,
            "bottom": null,
            "_model_module": "@jupyter-widgets/base",
            "top": null,
            "grid_column": null,
            "overflow_y": null,
            "overflow_x": null,
            "grid_auto_flow": null,
            "grid_area": null,
            "grid_template_columns": null,
            "flex": null,
            "_model_name": "LayoutModel",
            "justify_items": null,
            "grid_row": null,
            "max_height": null,
            "align_content": null,
            "visibility": null,
            "align_self": null,
            "height": null,
            "min_height": null,
            "padding": null,
            "grid_auto_rows": null,
            "grid_gap": null,
            "max_width": null,
            "order": null,
            "_view_module_version": "1.2.0",
            "grid_template_areas": null,
            "object_position": null,
            "object_fit": null,
            "grid_auto_columns": null,
            "margin": null,
            "display": null,
            "left": null
          }
        },
        "e94e8545d8f2440fb600e11d94e9d542": {
          "model_module": "@jupyter-widgets/controls",
          "model_name": "FloatProgressModel",
          "state": {
            "_view_name": "ProgressView",
            "style": "IPY_MODEL_f0fc18ea8bf647fab12629ed537805ae",
            "_dom_classes": [],
            "description": "Downloading: 100%",
            "_model_name": "FloatProgressModel",
            "bar_style": "success",
            "max": 565485600,
            "_view_module": "@jupyter-widgets/controls",
            "_model_module_version": "1.5.0",
            "value": 565485600,
            "_view_count": null,
            "_view_module_version": "1.5.0",
            "orientation": "horizontal",
            "min": 0,
            "description_tooltip": null,
            "_model_module": "@jupyter-widgets/controls",
            "layout": "IPY_MODEL_443f4adbda224346ae076821b7b1b948"
          }
        },
        "31d3e83cfa9e465ea77b6828f30918db": {
          "model_module": "@jupyter-widgets/controls",
          "model_name": "HTMLModel",
          "state": {
            "_view_name": "HTMLView",
            "style": "IPY_MODEL_aad00bafd9d64cea9ce0ad0bbd3e3cf0",
            "_dom_classes": [],
            "description": "",
            "_model_name": "HTMLModel",
            "placeholder": "​",
            "_view_module": "@jupyter-widgets/controls",
            "_model_module_version": "1.5.0",
            "value": " 565M/565M [00:17&lt;00:00, 32.1MB/s]",
            "_view_count": null,
            "_view_module_version": "1.5.0",
            "description_tooltip": null,
            "_model_module": "@jupyter-widgets/controls",
            "layout": "IPY_MODEL_fa3b3d2880a94a468d584a0d81dbd9b8"
          }
        },
        "f0fc18ea8bf647fab12629ed537805ae": {
          "model_module": "@jupyter-widgets/controls",
          "model_name": "ProgressStyleModel",
          "state": {
            "_view_name": "StyleView",
            "_model_name": "ProgressStyleModel",
            "description_width": "initial",
            "_view_module": "@jupyter-widgets/base",
            "_model_module_version": "1.5.0",
            "_view_count": null,
            "_view_module_version": "1.2.0",
            "bar_color": null,
            "_model_module": "@jupyter-widgets/controls"
          }
        },
        "443f4adbda224346ae076821b7b1b948": {
          "model_module": "@jupyter-widgets/base",
          "model_name": "LayoutModel",
          "state": {
            "_view_name": "LayoutView",
            "grid_template_rows": null,
            "right": null,
            "justify_content": null,
            "_view_module": "@jupyter-widgets/base",
            "overflow": null,
            "_model_module_version": "1.2.0",
            "_view_count": null,
            "flex_flow": null,
            "width": null,
            "min_width": null,
            "border": null,
            "align_items": null,
            "bottom": null,
            "_model_module": "@jupyter-widgets/base",
            "top": null,
            "grid_column": null,
            "overflow_y": null,
            "overflow_x": null,
            "grid_auto_flow": null,
            "grid_area": null,
            "grid_template_columns": null,
            "flex": null,
            "_model_name": "LayoutModel",
            "justify_items": null,
            "grid_row": null,
            "max_height": null,
            "align_content": null,
            "visibility": null,
            "align_self": null,
            "height": null,
            "min_height": null,
            "padding": null,
            "grid_auto_rows": null,
            "grid_gap": null,
            "max_width": null,
            "order": null,
            "_view_module_version": "1.2.0",
            "grid_template_areas": null,
            "object_position": null,
            "object_fit": null,
            "grid_auto_columns": null,
            "margin": null,
            "display": null,
            "left": null
          }
        },
        "aad00bafd9d64cea9ce0ad0bbd3e3cf0": {
          "model_module": "@jupyter-widgets/controls",
          "model_name": "DescriptionStyleModel",
          "state": {
            "_view_name": "StyleView",
            "_model_name": "DescriptionStyleModel",
            "description_width": "",
            "_view_module": "@jupyter-widgets/base",
            "_model_module_version": "1.5.0",
            "_view_count": null,
            "_view_module_version": "1.2.0",
            "_model_module": "@jupyter-widgets/controls"
          }
        },
        "fa3b3d2880a94a468d584a0d81dbd9b8": {
          "model_module": "@jupyter-widgets/base",
          "model_name": "LayoutModel",
          "state": {
            "_view_name": "LayoutView",
            "grid_template_rows": null,
            "right": null,
            "justify_content": null,
            "_view_module": "@jupyter-widgets/base",
            "overflow": null,
            "_model_module_version": "1.2.0",
            "_view_count": null,
            "flex_flow": null,
            "width": null,
            "min_width": null,
            "border": null,
            "align_items": null,
            "bottom": null,
            "_model_module": "@jupyter-widgets/base",
            "top": null,
            "grid_column": null,
            "overflow_y": null,
            "overflow_x": null,
            "grid_auto_flow": null,
            "grid_area": null,
            "grid_template_columns": null,
            "flex": null,
            "_model_name": "LayoutModel",
            "justify_items": null,
            "grid_row": null,
            "max_height": null,
            "align_content": null,
            "visibility": null,
            "align_self": null,
            "height": null,
            "min_height": null,
            "padding": null,
            "grid_auto_rows": null,
            "grid_gap": null,
            "max_width": null,
            "order": null,
            "_view_module_version": "1.2.0",
            "grid_template_areas": null,
            "object_position": null,
            "object_fit": null,
            "grid_auto_columns": null,
            "margin": null,
            "display": null,
            "left": null
          }
        },
        "ee5932514e6e4008b7da03501b525e4a": {
          "model_module": "@jupyter-widgets/controls",
          "model_name": "HBoxModel",
          "state": {
            "_view_name": "HBoxView",
            "_dom_classes": [],
            "_model_name": "HBoxModel",
            "_view_module": "@jupyter-widgets/controls",
            "_model_module_version": "1.5.0",
            "_view_count": null,
            "_view_module_version": "1.5.0",
            "box_style": "",
            "layout": "IPY_MODEL_171c0d1becba4e538ded8110faaf4b2d",
            "_model_module": "@jupyter-widgets/controls",
            "children": [
              "IPY_MODEL_65183404117a459d936b2ffb6386b7f3",
              "IPY_MODEL_a5cc5e9b15c44c439f6003b9b9c41e82"
            ]
          }
        },
        "171c0d1becba4e538ded8110faaf4b2d": {
          "model_module": "@jupyter-widgets/base",
          "model_name": "LayoutModel",
          "state": {
            "_view_name": "LayoutView",
            "grid_template_rows": null,
            "right": null,
            "justify_content": null,
            "_view_module": "@jupyter-widgets/base",
            "overflow": null,
            "_model_module_version": "1.2.0",
            "_view_count": null,
            "flex_flow": null,
            "width": null,
            "min_width": null,
            "border": null,
            "align_items": null,
            "bottom": null,
            "_model_module": "@jupyter-widgets/base",
            "top": null,
            "grid_column": null,
            "overflow_y": null,
            "overflow_x": null,
            "grid_auto_flow": null,
            "grid_area": null,
            "grid_template_columns": null,
            "flex": null,
            "_model_name": "LayoutModel",
            "justify_items": null,
            "grid_row": null,
            "max_height": null,
            "align_content": null,
            "visibility": null,
            "align_self": null,
            "height": null,
            "min_height": null,
            "padding": null,
            "grid_auto_rows": null,
            "grid_gap": null,
            "max_width": null,
            "order": null,
            "_view_module_version": "1.2.0",
            "grid_template_areas": null,
            "object_position": null,
            "object_fit": null,
            "grid_auto_columns": null,
            "margin": null,
            "display": null,
            "left": null
          }
        },
        "65183404117a459d936b2ffb6386b7f3": {
          "model_module": "@jupyter-widgets/controls",
          "model_name": "FloatProgressModel",
          "state": {
            "_view_name": "ProgressView",
            "style": "IPY_MODEL_fef6b34bd5084ab7aa20bdc7139f3df5",
            "_dom_classes": [],
            "description": "Downloading: 100%",
            "_model_name": "FloatProgressModel",
            "bar_style": "success",
            "max": 798011,
            "_view_module": "@jupyter-widgets/controls",
            "_model_module_version": "1.5.0",
            "value": 798011,
            "_view_count": null,
            "_view_module_version": "1.5.0",
            "orientation": "horizontal",
            "min": 0,
            "description_tooltip": null,
            "_model_module": "@jupyter-widgets/controls",
            "layout": "IPY_MODEL_d961569104704c49b1a3accd71a09c4b"
          }
        },
        "a5cc5e9b15c44c439f6003b9b9c41e82": {
          "model_module": "@jupyter-widgets/controls",
          "model_name": "HTMLModel",
          "state": {
            "_view_name": "HTMLView",
            "style": "IPY_MODEL_7b32ea3d76714dd3bedf6453fd4959b8",
            "_dom_classes": [],
            "description": "",
            "_model_name": "HTMLModel",
            "placeholder": "​",
            "_view_module": "@jupyter-widgets/controls",
            "_model_module_version": "1.5.0",
            "value": " 798k/798k [00:05&lt;00:00, 154kB/s]",
            "_view_count": null,
            "_view_module_version": "1.5.0",
            "description_tooltip": null,
            "_model_module": "@jupyter-widgets/controls",
            "layout": "IPY_MODEL_46a1b981306741a29d2400119ce09596"
          }
        },
        "fef6b34bd5084ab7aa20bdc7139f3df5": {
          "model_module": "@jupyter-widgets/controls",
          "model_name": "ProgressStyleModel",
          "state": {
            "_view_name": "StyleView",
            "_model_name": "ProgressStyleModel",
            "description_width": "initial",
            "_view_module": "@jupyter-widgets/base",
            "_model_module_version": "1.5.0",
            "_view_count": null,
            "_view_module_version": "1.2.0",
            "bar_color": null,
            "_model_module": "@jupyter-widgets/controls"
          }
        },
        "d961569104704c49b1a3accd71a09c4b": {
          "model_module": "@jupyter-widgets/base",
          "model_name": "LayoutModel",
          "state": {
            "_view_name": "LayoutView",
            "grid_template_rows": null,
            "right": null,
            "justify_content": null,
            "_view_module": "@jupyter-widgets/base",
            "overflow": null,
            "_model_module_version": "1.2.0",
            "_view_count": null,
            "flex_flow": null,
            "width": null,
            "min_width": null,
            "border": null,
            "align_items": null,
            "bottom": null,
            "_model_module": "@jupyter-widgets/base",
            "top": null,
            "grid_column": null,
            "overflow_y": null,
            "overflow_x": null,
            "grid_auto_flow": null,
            "grid_area": null,
            "grid_template_columns": null,
            "flex": null,
            "_model_name": "LayoutModel",
            "justify_items": null,
            "grid_row": null,
            "max_height": null,
            "align_content": null,
            "visibility": null,
            "align_self": null,
            "height": null,
            "min_height": null,
            "padding": null,
            "grid_auto_rows": null,
            "grid_gap": null,
            "max_width": null,
            "order": null,
            "_view_module_version": "1.2.0",
            "grid_template_areas": null,
            "object_position": null,
            "object_fit": null,
            "grid_auto_columns": null,
            "margin": null,
            "display": null,
            "left": null
          }
        },
        "7b32ea3d76714dd3bedf6453fd4959b8": {
          "model_module": "@jupyter-widgets/controls",
          "model_name": "DescriptionStyleModel",
          "state": {
            "_view_name": "StyleView",
            "_model_name": "DescriptionStyleModel",
            "description_width": "",
            "_view_module": "@jupyter-widgets/base",
            "_model_module_version": "1.5.0",
            "_view_count": null,
            "_view_module_version": "1.2.0",
            "_model_module": "@jupyter-widgets/controls"
          }
        },
        "46a1b981306741a29d2400119ce09596": {
          "model_module": "@jupyter-widgets/base",
          "model_name": "LayoutModel",
          "state": {
            "_view_name": "LayoutView",
            "grid_template_rows": null,
            "right": null,
            "justify_content": null,
            "_view_module": "@jupyter-widgets/base",
            "overflow": null,
            "_model_module_version": "1.2.0",
            "_view_count": null,
            "flex_flow": null,
            "width": null,
            "min_width": null,
            "border": null,
            "align_items": null,
            "bottom": null,
            "_model_module": "@jupyter-widgets/base",
            "top": null,
            "grid_column": null,
            "overflow_y": null,
            "overflow_x": null,
            "grid_auto_flow": null,
            "grid_area": null,
            "grid_template_columns": null,
            "flex": null,
            "_model_name": "LayoutModel",
            "justify_items": null,
            "grid_row": null,
            "max_height": null,
            "align_content": null,
            "visibility": null,
            "align_self": null,
            "height": null,
            "min_height": null,
            "padding": null,
            "grid_auto_rows": null,
            "grid_gap": null,
            "max_width": null,
            "order": null,
            "_view_module_version": "1.2.0",
            "grid_template_areas": null,
            "object_position": null,
            "object_fit": null,
            "grid_auto_columns": null,
            "margin": null,
            "display": null,
            "left": null
          }
        },
        "b784892d026b4814b198ce80986cf24e": {
          "model_module": "@jupyter-widgets/controls",
          "model_name": "HBoxModel",
          "state": {
            "_view_name": "HBoxView",
            "_dom_classes": [],
            "_model_name": "HBoxModel",
            "_view_module": "@jupyter-widgets/controls",
            "_model_module_version": "1.5.0",
            "_view_count": null,
            "_view_module_version": "1.5.0",
            "box_style": "",
            "layout": "IPY_MODEL_7d8e7789d18247c88d296a3dfc1c0694",
            "_model_module": "@jupyter-widgets/controls",
            "children": [
              "IPY_MODEL_c959ecd09c804fcdb8dbf6af09f7b372",
              "IPY_MODEL_ca9ebb41f5584052aedb27b08e4689a7"
            ]
          }
        },
        "7d8e7789d18247c88d296a3dfc1c0694": {
          "model_module": "@jupyter-widgets/base",
          "model_name": "LayoutModel",
          "state": {
            "_view_name": "LayoutView",
            "grid_template_rows": null,
            "right": null,
            "justify_content": null,
            "_view_module": "@jupyter-widgets/base",
            "overflow": null,
            "_model_module_version": "1.2.0",
            "_view_count": null,
            "flex_flow": null,
            "width": null,
            "min_width": null,
            "border": null,
            "align_items": null,
            "bottom": null,
            "_model_module": "@jupyter-widgets/base",
            "top": null,
            "grid_column": null,
            "overflow_y": null,
            "overflow_x": null,
            "grid_auto_flow": null,
            "grid_area": null,
            "grid_template_columns": null,
            "flex": null,
            "_model_name": "LayoutModel",
            "justify_items": null,
            "grid_row": null,
            "max_height": null,
            "align_content": null,
            "visibility": null,
            "align_self": null,
            "height": null,
            "min_height": null,
            "padding": null,
            "grid_auto_rows": null,
            "grid_gap": null,
            "max_width": null,
            "order": null,
            "_view_module_version": "1.2.0",
            "grid_template_areas": null,
            "object_position": null,
            "object_fit": null,
            "grid_auto_columns": null,
            "margin": null,
            "display": null,
            "left": null
          }
        },
        "c959ecd09c804fcdb8dbf6af09f7b372": {
          "model_module": "@jupyter-widgets/controls",
          "model_name": "FloatProgressModel",
          "state": {
            "_view_name": "ProgressView",
            "style": "IPY_MODEL_14787901391744f5a3156b8f761db744",
            "_dom_classes": [],
            "description": "Downloading: 100%",
            "_model_name": "FloatProgressModel",
            "bar_style": "success",
            "max": 1382015,
            "_view_module": "@jupyter-widgets/controls",
            "_model_module_version": "1.5.0",
            "value": 1382015,
            "_view_count": null,
            "_view_module_version": "1.5.0",
            "orientation": "horizontal",
            "min": 0,
            "description_tooltip": null,
            "_model_module": "@jupyter-widgets/controls",
            "layout": "IPY_MODEL_a9a1f7c7f8314cdab5925ad11f7790f5"
          }
        },
        "ca9ebb41f5584052aedb27b08e4689a7": {
          "model_module": "@jupyter-widgets/controls",
          "model_name": "HTMLModel",
          "state": {
            "_view_name": "HTMLView",
            "style": "IPY_MODEL_8d65bc011337437e96d54dc5ada7c315",
            "_dom_classes": [],
            "description": "",
            "_model_name": "HTMLModel",
            "placeholder": "​",
            "_view_module": "@jupyter-widgets/controls",
            "_model_module_version": "1.5.0",
            "value": " 1.38M/1.38M [00:03&lt;00:00, 458kB/s]",
            "_view_count": null,
            "_view_module_version": "1.5.0",
            "description_tooltip": null,
            "_model_module": "@jupyter-widgets/controls",
            "layout": "IPY_MODEL_ac867ab636914a1686844da521e5ac93"
          }
        },
        "14787901391744f5a3156b8f761db744": {
          "model_module": "@jupyter-widgets/controls",
          "model_name": "ProgressStyleModel",
          "state": {
            "_view_name": "StyleView",
            "_model_name": "ProgressStyleModel",
            "description_width": "initial",
            "_view_module": "@jupyter-widgets/base",
            "_model_module_version": "1.5.0",
            "_view_count": null,
            "_view_module_version": "1.2.0",
            "bar_color": null,
            "_model_module": "@jupyter-widgets/controls"
          }
        },
        "a9a1f7c7f8314cdab5925ad11f7790f5": {
          "model_module": "@jupyter-widgets/base",
          "model_name": "LayoutModel",
          "state": {
            "_view_name": "LayoutView",
            "grid_template_rows": null,
            "right": null,
            "justify_content": null,
            "_view_module": "@jupyter-widgets/base",
            "overflow": null,
            "_model_module_version": "1.2.0",
            "_view_count": null,
            "flex_flow": null,
            "width": null,
            "min_width": null,
            "border": null,
            "align_items": null,
            "bottom": null,
            "_model_module": "@jupyter-widgets/base",
            "top": null,
            "grid_column": null,
            "overflow_y": null,
            "overflow_x": null,
            "grid_auto_flow": null,
            "grid_area": null,
            "grid_template_columns": null,
            "flex": null,
            "_model_name": "LayoutModel",
            "justify_items": null,
            "grid_row": null,
            "max_height": null,
            "align_content": null,
            "visibility": null,
            "align_self": null,
            "height": null,
            "min_height": null,
            "padding": null,
            "grid_auto_rows": null,
            "grid_gap": null,
            "max_width": null,
            "order": null,
            "_view_module_version": "1.2.0",
            "grid_template_areas": null,
            "object_position": null,
            "object_fit": null,
            "grid_auto_columns": null,
            "margin": null,
            "display": null,
            "left": null
          }
        },
        "8d65bc011337437e96d54dc5ada7c315": {
          "model_module": "@jupyter-widgets/controls",
          "model_name": "DescriptionStyleModel",
          "state": {
            "_view_name": "StyleView",
            "_model_name": "DescriptionStyleModel",
            "description_width": "",
            "_view_module": "@jupyter-widgets/base",
            "_model_module_version": "1.5.0",
            "_view_count": null,
            "_view_module_version": "1.2.0",
            "_model_module": "@jupyter-widgets/controls"
          }
        },
        "ac867ab636914a1686844da521e5ac93": {
          "model_module": "@jupyter-widgets/base",
          "model_name": "LayoutModel",
          "state": {
            "_view_name": "LayoutView",
            "grid_template_rows": null,
            "right": null,
            "justify_content": null,
            "_view_module": "@jupyter-widgets/base",
            "overflow": null,
            "_model_module_version": "1.2.0",
            "_view_count": null,
            "flex_flow": null,
            "width": null,
            "min_width": null,
            "border": null,
            "align_items": null,
            "bottom": null,
            "_model_module": "@jupyter-widgets/base",
            "top": null,
            "grid_column": null,
            "overflow_y": null,
            "overflow_x": null,
            "grid_auto_flow": null,
            "grid_area": null,
            "grid_template_columns": null,
            "flex": null,
            "_model_name": "LayoutModel",
            "justify_items": null,
            "grid_row": null,
            "max_height": null,
            "align_content": null,
            "visibility": null,
            "align_self": null,
            "height": null,
            "min_height": null,
            "padding": null,
            "grid_auto_rows": null,
            "grid_gap": null,
            "max_width": null,
            "order": null,
            "_view_module_version": "1.2.0",
            "grid_template_areas": null,
            "object_position": null,
            "object_fit": null,
            "grid_auto_columns": null,
            "margin": null,
            "display": null,
            "left": null
          }
        }
      }
    },
    "accelerator": "GPU"
  },
  "cells": [
    {
      "cell_type": "markdown",
      "metadata": {
        "id": "aFHHrJ9UIMfP"
      },
      "source": [
        "# Proyecto Final: Modelo para la Detección de Depresión\n",
        "### Héctor Gibrán González Leal\n",
        "### A01282778\n"
      ]
    },
    {
      "cell_type": "markdown",
      "metadata": {
        "id": "CzTb5_G4IdyF"
      },
      "source": [
        "La depresión es un trastorno mental, afectando a alrededor de 300 millones de personas. Es un problema extremadamente serio, que puede incluso llevar a una persona al suicidio (WHO, 2020). A lo largo de los años, muchas áreas de la ciencia han estudiado a la depresión para entender de mejor manera sus síntomas, comportamientos provocados y curas. Una de estas es la Inteligencia Artificial, donde la subárea de Procesamiento de Lenguaje Natural (NLP) busca desarrollar modelos que puedan detectar patrones de depresión en textos y audios. \n",
        "\n",
        "Este notebook contiene la implementación de un modelo de procesamiento de lenguaje natural para la detección de depresión en base a texto. Como se verá más adelante, se aplicó transfer-learning a 3 modelos distintos que incorporan transformadores para hacer la detección. Cabe mencionar que este trabajo fue inspirado por el siguiente paper: https://arxiv.org/abs/1804.07000.\n",
        "\n",
        "<hr>\n",
        "\n",
        "## Nota importante\n",
        "Para que el Notebook pueda trabajar con los archivos que se suben a Colab, como los CSVs que se proporcionan, estos deben estar en el **directorio raíz**. En el repositorio de Github se encuentran dentro de un folder por organización, pero aquí se deben manejar en el directorio raíz, fuera de cualquier folder.\n",
        "\n",
        "<hr>"
      ]
    },
    {
      "cell_type": "markdown",
      "metadata": {
        "id": "hA4cF5YAJPBn"
      },
      "source": [
        "Antes que nada, se instalan los módulos necesarios para poder correr el programa."
      ]
    },
    {
      "cell_type": "code",
      "metadata": {
        "colab": {
          "base_uri": "https://localhost:8080/"
        },
        "id": "i4w1gTB9aGDh",
        "outputId": "0c106010-8c20-4b1f-e0c4-d3a05e625580"
      },
      "source": [
        "pip install -r requirements.txt"
      ],
      "execution_count": null,
      "outputs": [
        {
          "output_type": "stream",
          "text": [
            "Requirement already satisfied: absl-py==0.12.0 in /usr/local/lib/python3.7/dist-packages (from -r requirements.txt (line 1)) (0.12.0)\n",
            "Requirement already satisfied: alabaster==0.7.12 in /usr/local/lib/python3.7/dist-packages (from -r requirements.txt (line 2)) (0.7.12)\n",
            "Requirement already satisfied: albumentations==0.1.12 in /usr/local/lib/python3.7/dist-packages (from -r requirements.txt (line 3)) (0.1.12)\n",
            "Requirement already satisfied: altair==4.1.0 in /usr/local/lib/python3.7/dist-packages (from -r requirements.txt (line 4)) (4.1.0)\n",
            "Requirement already satisfied: appdirs==1.4.4 in /usr/local/lib/python3.7/dist-packages (from -r requirements.txt (line 5)) (1.4.4)\n",
            "Requirement already satisfied: argon2-cffi==20.1.0 in /usr/local/lib/python3.7/dist-packages (from -r requirements.txt (line 6)) (20.1.0)\n",
            "Requirement already satisfied: arviz==0.11.2 in /usr/local/lib/python3.7/dist-packages (from -r requirements.txt (line 7)) (0.11.2)\n",
            "Requirement already satisfied: astor==0.8.1 in /usr/local/lib/python3.7/dist-packages (from -r requirements.txt (line 8)) (0.8.1)\n",
            "Requirement already satisfied: astropy==4.2.1 in /usr/local/lib/python3.7/dist-packages (from -r requirements.txt (line 9)) (4.2.1)\n",
            "Requirement already satisfied: astunparse==1.6.3 in /usr/local/lib/python3.7/dist-packages (from -r requirements.txt (line 10)) (1.6.3)\n",
            "Requirement already satisfied: async-generator==1.10 in /usr/local/lib/python3.7/dist-packages (from -r requirements.txt (line 11)) (1.10)\n",
            "Requirement already satisfied: atari-py==0.2.9 in /usr/local/lib/python3.7/dist-packages (from -r requirements.txt (line 12)) (0.2.9)\n",
            "Requirement already satisfied: atomicwrites==1.4.0 in /usr/local/lib/python3.7/dist-packages (from -r requirements.txt (line 13)) (1.4.0)\n",
            "Requirement already satisfied: attrs==21.2.0 in /usr/local/lib/python3.7/dist-packages (from -r requirements.txt (line 14)) (21.2.0)\n",
            "Requirement already satisfied: audioread==2.1.9 in /usr/local/lib/python3.7/dist-packages (from -r requirements.txt (line 15)) (2.1.9)\n",
            "Requirement already satisfied: autograd==1.3 in /usr/local/lib/python3.7/dist-packages (from -r requirements.txt (line 16)) (1.3)\n",
            "Requirement already satisfied: Babel==2.9.1 in /usr/local/lib/python3.7/dist-packages (from -r requirements.txt (line 17)) (2.9.1)\n",
            "Requirement already satisfied: backcall==0.2.0 in /usr/local/lib/python3.7/dist-packages (from -r requirements.txt (line 18)) (0.2.0)\n",
            "Requirement already satisfied: beautifulsoup4==4.6.3 in /usr/local/lib/python3.7/dist-packages (from -r requirements.txt (line 19)) (4.6.3)\n",
            "Requirement already satisfied: bleach==3.3.0 in /usr/local/lib/python3.7/dist-packages (from -r requirements.txt (line 20)) (3.3.0)\n",
            "Requirement already satisfied: blis==0.4.1 in /usr/local/lib/python3.7/dist-packages (from -r requirements.txt (line 21)) (0.4.1)\n",
            "Requirement already satisfied: bokeh==2.3.2 in /usr/local/lib/python3.7/dist-packages (from -r requirements.txt (line 22)) (2.3.2)\n",
            "Requirement already satisfied: Bottleneck==1.3.2 in /usr/local/lib/python3.7/dist-packages (from -r requirements.txt (line 23)) (1.3.2)\n",
            "Requirement already satisfied: branca==0.4.2 in /usr/local/lib/python3.7/dist-packages (from -r requirements.txt (line 24)) (0.4.2)\n",
            "Requirement already satisfied: bs4==0.0.1 in /usr/local/lib/python3.7/dist-packages (from -r requirements.txt (line 25)) (0.0.1)\n",
            "Requirement already satisfied: CacheControl==0.12.6 in /usr/local/lib/python3.7/dist-packages (from -r requirements.txt (line 26)) (0.12.6)\n",
            "Requirement already satisfied: cached-property==1.5.2 in /usr/local/lib/python3.7/dist-packages (from -r requirements.txt (line 27)) (1.5.2)\n",
            "Requirement already satisfied: cachetools==4.2.2 in /usr/local/lib/python3.7/dist-packages (from -r requirements.txt (line 28)) (4.2.2)\n",
            "Requirement already satisfied: catalogue==1.0.0 in /usr/local/lib/python3.7/dist-packages (from -r requirements.txt (line 29)) (1.0.0)\n",
            "Requirement already satisfied: certifi==2020.12.5 in /usr/local/lib/python3.7/dist-packages (from -r requirements.txt (line 30)) (2020.12.5)\n",
            "Requirement already satisfied: cffi==1.14.5 in /usr/local/lib/python3.7/dist-packages (from -r requirements.txt (line 31)) (1.14.5)\n",
            "Requirement already satisfied: cftime==1.5.0 in /usr/local/lib/python3.7/dist-packages (from -r requirements.txt (line 32)) (1.5.0)\n",
            "Requirement already satisfied: chainer==7.4.0 in /usr/local/lib/python3.7/dist-packages (from -r requirements.txt (line 33)) (7.4.0)\n",
            "Requirement already satisfied: chardet==3.0.4 in /usr/local/lib/python3.7/dist-packages (from -r requirements.txt (line 34)) (3.0.4)\n",
            "Requirement already satisfied: click==7.1.2 in /usr/local/lib/python3.7/dist-packages (from -r requirements.txt (line 35)) (7.1.2)\n",
            "Requirement already satisfied: cloudpickle==1.3.0 in /usr/local/lib/python3.7/dist-packages (from -r requirements.txt (line 36)) (1.3.0)\n",
            "Requirement already satisfied: cmake==3.12.0 in /usr/local/lib/python3.7/dist-packages (from -r requirements.txt (line 37)) (3.12.0)\n",
            "Requirement already satisfied: cmdstanpy==0.9.5 in /usr/local/lib/python3.7/dist-packages (from -r requirements.txt (line 38)) (0.9.5)\n",
            "Requirement already satisfied: colorcet==2.0.6 in /usr/local/lib/python3.7/dist-packages (from -r requirements.txt (line 39)) (2.0.6)\n",
            "Requirement already satisfied: colorlover==0.3.0 in /usr/local/lib/python3.7/dist-packages (from -r requirements.txt (line 40)) (0.3.0)\n",
            "Requirement already satisfied: community==1.0.0b1 in /usr/local/lib/python3.7/dist-packages (from -r requirements.txt (line 41)) (1.0.0b1)\n",
            "Requirement already satisfied: contextlib2==0.5.5 in /usr/local/lib/python3.7/dist-packages (from -r requirements.txt (line 42)) (0.5.5)\n",
            "Requirement already satisfied: convertdate==2.3.2 in /usr/local/lib/python3.7/dist-packages (from -r requirements.txt (line 43)) (2.3.2)\n",
            "Requirement already satisfied: coverage==3.7.1 in /usr/local/lib/python3.7/dist-packages (from -r requirements.txt (line 44)) (3.7.1)\n",
            "Requirement already satisfied: coveralls==0.5 in /usr/local/lib/python3.7/dist-packages (from -r requirements.txt (line 45)) (0.5)\n",
            "Requirement already satisfied: crcmod==1.7 in /usr/local/lib/python3.7/dist-packages (from -r requirements.txt (line 46)) (1.7)\n",
            "Requirement already satisfied: cufflinks==0.17.3 in /usr/local/lib/python3.7/dist-packages (from -r requirements.txt (line 47)) (0.17.3)\n",
            "Requirement already satisfied: cvxopt==1.2.6 in /usr/local/lib/python3.7/dist-packages (from -r requirements.txt (line 48)) (1.2.6)\n",
            "Requirement already satisfied: cvxpy==1.0.31 in /usr/local/lib/python3.7/dist-packages (from -r requirements.txt (line 49)) (1.0.31)\n",
            "Requirement already satisfied: cycler==0.10.0 in /usr/local/lib/python3.7/dist-packages (from -r requirements.txt (line 50)) (0.10.0)\n",
            "Requirement already satisfied: cymem==2.0.5 in /usr/local/lib/python3.7/dist-packages (from -r requirements.txt (line 51)) (2.0.5)\n",
            "Requirement already satisfied: Cython==0.29.23 in /usr/local/lib/python3.7/dist-packages (from -r requirements.txt (line 52)) (0.29.23)\n",
            "Requirement already satisfied: daft==0.0.4 in /usr/local/lib/python3.7/dist-packages (from -r requirements.txt (line 53)) (0.0.4)\n",
            "Requirement already satisfied: dask==2.12.0 in /usr/local/lib/python3.7/dist-packages (from -r requirements.txt (line 54)) (2.12.0)\n",
            "Requirement already satisfied: datascience==0.10.6 in /usr/local/lib/python3.7/dist-packages (from -r requirements.txt (line 55)) (0.10.6)\n",
            "Requirement already satisfied: debugpy==1.0.0 in /usr/local/lib/python3.7/dist-packages (from -r requirements.txt (line 56)) (1.0.0)\n",
            "Requirement already satisfied: decorator==4.4.2 in /usr/local/lib/python3.7/dist-packages (from -r requirements.txt (line 57)) (4.4.2)\n",
            "Requirement already satisfied: defusedxml==0.7.1 in /usr/local/lib/python3.7/dist-packages (from -r requirements.txt (line 58)) (0.7.1)\n",
            "Requirement already satisfied: descartes==1.1.0 in /usr/local/lib/python3.7/dist-packages (from -r requirements.txt (line 59)) (1.1.0)\n",
            "Requirement already satisfied: dill==0.3.3 in /usr/local/lib/python3.7/dist-packages (from -r requirements.txt (line 60)) (0.3.3)\n",
            "Requirement already satisfied: distributed==1.25.3 in /usr/local/lib/python3.7/dist-packages (from -r requirements.txt (line 61)) (1.25.3)\n",
            "Requirement already satisfied: dlib==19.18.0 in /usr/local/lib/python3.7/dist-packages (from -r requirements.txt (line 62)) (19.18.0)\n",
            "Requirement already satisfied: dm-tree==0.1.6 in /usr/local/lib/python3.7/dist-packages (from -r requirements.txt (line 63)) (0.1.6)\n",
            "Requirement already satisfied: docopt==0.6.2 in /usr/local/lib/python3.7/dist-packages (from -r requirements.txt (line 64)) (0.6.2)\n",
            "Requirement already satisfied: docutils==0.17.1 in /usr/local/lib/python3.7/dist-packages (from -r requirements.txt (line 65)) (0.17.1)\n",
            "Requirement already satisfied: dopamine-rl==1.0.5 in /usr/local/lib/python3.7/dist-packages (from -r requirements.txt (line 66)) (1.0.5)\n",
            "Requirement already satisfied: earthengine-api==0.1.266 in /usr/local/lib/python3.7/dist-packages (from -r requirements.txt (line 67)) (0.1.266)\n",
            "Requirement already satisfied: easydict==1.9 in /usr/local/lib/python3.7/dist-packages (from -r requirements.txt (line 68)) (1.9)\n",
            "Requirement already satisfied: ecos==2.0.7.post1 in /usr/local/lib/python3.7/dist-packages (from -r requirements.txt (line 69)) (2.0.7.post1)\n",
            "Requirement already satisfied: editdistance==0.5.3 in /usr/local/lib/python3.7/dist-packages (from -r requirements.txt (line 70)) (0.5.3)\n",
            "Requirement already satisfied: en-core-web-sm==2.2.5 in /usr/local/lib/python3.7/dist-packages (from -r requirements.txt (line 71)) (2.2.5)\n",
            "Requirement already satisfied: entrypoints==0.3 in /usr/local/lib/python3.7/dist-packages (from -r requirements.txt (line 72)) (0.3)\n",
            "Requirement already satisfied: ephem==3.7.7.1 in /usr/local/lib/python3.7/dist-packages (from -r requirements.txt (line 73)) (3.7.7.1)\n",
            "Requirement already satisfied: et-xmlfile==1.1.0 in /usr/local/lib/python3.7/dist-packages (from -r requirements.txt (line 74)) (1.1.0)\n",
            "Requirement already satisfied: fa2==0.3.5 in /usr/local/lib/python3.7/dist-packages (from -r requirements.txt (line 75)) (0.3.5)\n",
            "Requirement already satisfied: fastai==1.0.61 in /usr/local/lib/python3.7/dist-packages (from -r requirements.txt (line 76)) (1.0.61)\n",
            "Requirement already satisfied: fastdtw==0.3.4 in /usr/local/lib/python3.7/dist-packages (from -r requirements.txt (line 77)) (0.3.4)\n",
            "Requirement already satisfied: fastprogress==1.0.0 in /usr/local/lib/python3.7/dist-packages (from -r requirements.txt (line 78)) (1.0.0)\n",
            "Requirement already satisfied: fastrlock==0.6 in /usr/local/lib/python3.7/dist-packages (from -r requirements.txt (line 79)) (0.6)\n",
            "Requirement already satisfied: fbprophet==0.7.1 in /usr/local/lib/python3.7/dist-packages (from -r requirements.txt (line 80)) (0.7.1)\n",
            "Requirement already satisfied: feather-format==0.4.1 in /usr/local/lib/python3.7/dist-packages (from -r requirements.txt (line 81)) (0.4.1)\n",
            "Requirement already satisfied: filelock==3.0.12 in /usr/local/lib/python3.7/dist-packages (from -r requirements.txt (line 82)) (3.0.12)\n",
            "Requirement already satisfied: firebase-admin==4.4.0 in /usr/local/lib/python3.7/dist-packages (from -r requirements.txt (line 83)) (4.4.0)\n",
            "Requirement already satisfied: fix-yahoo-finance==0.0.22 in /usr/local/lib/python3.7/dist-packages (from -r requirements.txt (line 84)) (0.0.22)\n",
            "Requirement already satisfied: Flask==1.1.4 in /usr/local/lib/python3.7/dist-packages (from -r requirements.txt (line 85)) (1.1.4)\n",
            "Requirement already satisfied: flatbuffers==1.12 in /usr/local/lib/python3.7/dist-packages (from -r requirements.txt (line 86)) (1.12)\n",
            "Requirement already satisfied: folium==0.8.3 in /usr/local/lib/python3.7/dist-packages (from -r requirements.txt (line 87)) (0.8.3)\n",
            "Requirement already satisfied: future==0.16.0 in /usr/local/lib/python3.7/dist-packages (from -r requirements.txt (line 88)) (0.16.0)\n",
            "Requirement already satisfied: gast==0.4.0 in /usr/local/lib/python3.7/dist-packages (from -r requirements.txt (line 89)) (0.4.0)\n",
            "Requirement already satisfied: GDAL==2.2.2 in /usr/local/lib/python3.7/dist-packages (from -r requirements.txt (line 90)) (2.2.2)\n",
            "Requirement already satisfied: gdown==3.6.4 in /usr/local/lib/python3.7/dist-packages (from -r requirements.txt (line 91)) (3.6.4)\n",
            "Requirement already satisfied: gensim==3.6.0 in /usr/local/lib/python3.7/dist-packages (from -r requirements.txt (line 92)) (3.6.0)\n",
            "Requirement already satisfied: geographiclib==1.50 in /usr/local/lib/python3.7/dist-packages (from -r requirements.txt (line 93)) (1.50)\n",
            "Requirement already satisfied: geopy==1.17.0 in /usr/local/lib/python3.7/dist-packages (from -r requirements.txt (line 94)) (1.17.0)\n",
            "Requirement already satisfied: gin-config==0.4.0 in /usr/local/lib/python3.7/dist-packages (from -r requirements.txt (line 95)) (0.4.0)\n",
            "Requirement already satisfied: glob2==0.7 in /usr/local/lib/python3.7/dist-packages (from -r requirements.txt (line 96)) (0.7)\n",
            "Requirement already satisfied: google==2.0.3 in /usr/local/lib/python3.7/dist-packages (from -r requirements.txt (line 97)) (2.0.3)\n",
            "Requirement already satisfied: google-api-core==1.26.3 in /usr/local/lib/python3.7/dist-packages (from -r requirements.txt (line 98)) (1.26.3)\n",
            "Requirement already satisfied: google-api-python-client==1.12.8 in /usr/local/lib/python3.7/dist-packages (from -r requirements.txt (line 99)) (1.12.8)\n",
            "Requirement already satisfied: google-auth==1.30.0 in /usr/local/lib/python3.7/dist-packages (from -r requirements.txt (line 100)) (1.30.0)\n",
            "Requirement already satisfied: google-auth-httplib2==0.0.4 in /usr/local/lib/python3.7/dist-packages (from -r requirements.txt (line 101)) (0.0.4)\n",
            "Requirement already satisfied: google-auth-oauthlib==0.4.4 in /usr/local/lib/python3.7/dist-packages (from -r requirements.txt (line 102)) (0.4.4)\n",
            "Requirement already satisfied: google-cloud-bigquery==1.21.0 in /usr/local/lib/python3.7/dist-packages (from -r requirements.txt (line 103)) (1.21.0)\n",
            "Requirement already satisfied: google-cloud-bigquery-storage==1.1.0 in /usr/local/lib/python3.7/dist-packages (from -r requirements.txt (line 104)) (1.1.0)\n",
            "Requirement already satisfied: google-cloud-core==1.0.3 in /usr/local/lib/python3.7/dist-packages (from -r requirements.txt (line 105)) (1.0.3)\n",
            "Requirement already satisfied: google-cloud-datastore==1.8.0 in /usr/local/lib/python3.7/dist-packages (from -r requirements.txt (line 106)) (1.8.0)\n",
            "Requirement already satisfied: google-cloud-firestore==1.7.0 in /usr/local/lib/python3.7/dist-packages (from -r requirements.txt (line 107)) (1.7.0)\n",
            "Requirement already satisfied: google-cloud-language==1.2.0 in /usr/local/lib/python3.7/dist-packages (from -r requirements.txt (line 108)) (1.2.0)\n",
            "Requirement already satisfied: google-cloud-storage==1.18.1 in /usr/local/lib/python3.7/dist-packages (from -r requirements.txt (line 109)) (1.18.1)\n",
            "Requirement already satisfied: google-cloud-translate==1.5.0 in /usr/local/lib/python3.7/dist-packages (from -r requirements.txt (line 110)) (1.5.0)\n",
            "Requirement already satisfied: google-colab==1.0.0 in /usr/local/lib/python3.7/dist-packages (from -r requirements.txt (line 111)) (1.0.0)\n",
            "Requirement already satisfied: google-pasta==0.2.0 in /usr/local/lib/python3.7/dist-packages (from -r requirements.txt (line 112)) (0.2.0)\n",
            "Requirement already satisfied: google-resumable-media==0.4.1 in /usr/local/lib/python3.7/dist-packages (from -r requirements.txt (line 113)) (0.4.1)\n",
            "Requirement already satisfied: googleapis-common-protos==1.53.0 in /usr/local/lib/python3.7/dist-packages (from -r requirements.txt (line 114)) (1.53.0)\n",
            "Requirement already satisfied: googledrivedownloader==0.4 in /usr/local/lib/python3.7/dist-packages (from -r requirements.txt (line 115)) (0.4)\n",
            "Requirement already satisfied: graphviz==0.10.1 in /usr/local/lib/python3.7/dist-packages (from -r requirements.txt (line 116)) (0.10.1)\n",
            "Requirement already satisfied: greenlet==1.1.0 in /usr/local/lib/python3.7/dist-packages (from -r requirements.txt (line 117)) (1.1.0)\n",
            "Requirement already satisfied: grpcio==1.34.1 in /usr/local/lib/python3.7/dist-packages (from -r requirements.txt (line 118)) (1.34.1)\n",
            "Requirement already satisfied: gspread==3.0.1 in /usr/local/lib/python3.7/dist-packages (from -r requirements.txt (line 119)) (3.0.1)\n",
            "Requirement already satisfied: gspread-dataframe==3.0.8 in /usr/local/lib/python3.7/dist-packages (from -r requirements.txt (line 120)) (3.0.8)\n",
            "Requirement already satisfied: gym==0.17.3 in /usr/local/lib/python3.7/dist-packages (from -r requirements.txt (line 121)) (0.17.3)\n",
            "Requirement already satisfied: h5py==3.1.0 in /usr/local/lib/python3.7/dist-packages (from -r requirements.txt (line 122)) (3.1.0)\n",
            "Requirement already satisfied: HeapDict==1.0.1 in /usr/local/lib/python3.7/dist-packages (from -r requirements.txt (line 123)) (1.0.1)\n",
            "Requirement already satisfied: hijri-converter==2.1.1 in /usr/local/lib/python3.7/dist-packages (from -r requirements.txt (line 124)) (2.1.1)\n",
            "Requirement already satisfied: holidays==0.10.5.2 in /usr/local/lib/python3.7/dist-packages (from -r requirements.txt (line 125)) (0.10.5.2)\n",
            "Requirement already satisfied: holoviews==1.14.3 in /usr/local/lib/python3.7/dist-packages (from -r requirements.txt (line 126)) (1.14.3)\n",
            "Requirement already satisfied: html5lib==1.0.1 in /usr/local/lib/python3.7/dist-packages (from -r requirements.txt (line 127)) (1.0.1)\n",
            "Requirement already satisfied: httpimport==0.5.18 in /usr/local/lib/python3.7/dist-packages (from -r requirements.txt (line 128)) (0.5.18)\n",
            "Requirement already satisfied: httplib2==0.17.4 in /usr/local/lib/python3.7/dist-packages (from -r requirements.txt (line 129)) (0.17.4)\n",
            "Requirement already satisfied: httplib2shim==0.0.3 in /usr/local/lib/python3.7/dist-packages (from -r requirements.txt (line 130)) (0.0.3)\n",
            "Collecting huggingface-hub==0.0.8\n",
            "  Downloading https://files.pythonhosted.org/packages/a1/88/7b1e45720ecf59c6c6737ff332f41c955963090a18e72acbcbeac6b25e86/huggingface_hub-0.0.8-py3-none-any.whl\n",
            "Requirement already satisfied: humanize==0.5.1 in /usr/local/lib/python3.7/dist-packages (from -r requirements.txt (line 132)) (0.5.1)\n",
            "Requirement already satisfied: hyperopt==0.1.2 in /usr/local/lib/python3.7/dist-packages (from -r requirements.txt (line 133)) (0.1.2)\n",
            "Requirement already satisfied: ideep4py==2.0.0.post3 in /usr/local/lib/python3.7/dist-packages (from -r requirements.txt (line 134)) (2.0.0.post3)\n",
            "Requirement already satisfied: idna==2.10 in /usr/local/lib/python3.7/dist-packages (from -r requirements.txt (line 135)) (2.10)\n",
            "Requirement already satisfied: imageio==2.4.1 in /usr/local/lib/python3.7/dist-packages (from -r requirements.txt (line 136)) (2.4.1)\n",
            "Requirement already satisfied: imagesize==1.2.0 in /usr/local/lib/python3.7/dist-packages (from -r requirements.txt (line 137)) (1.2.0)\n",
            "Requirement already satisfied: imbalanced-learn==0.4.3 in /usr/local/lib/python3.7/dist-packages (from -r requirements.txt (line 138)) (0.4.3)\n",
            "Requirement already satisfied: imblearn==0.0 in /usr/local/lib/python3.7/dist-packages (from -r requirements.txt (line 139)) (0.0)\n",
            "Requirement already satisfied: imgaug==0.2.9 in /usr/local/lib/python3.7/dist-packages (from -r requirements.txt (line 140)) (0.2.9)\n",
            "Requirement already satisfied: importlib-metadata==4.0.1 in /usr/local/lib/python3.7/dist-packages (from -r requirements.txt (line 141)) (4.0.1)\n",
            "Requirement already satisfied: importlib-resources==5.1.3 in /usr/local/lib/python3.7/dist-packages (from -r requirements.txt (line 142)) (5.1.3)\n",
            "Requirement already satisfied: imutils==0.5.4 in /usr/local/lib/python3.7/dist-packages (from -r requirements.txt (line 143)) (0.5.4)\n",
            "Requirement already satisfied: inflect==2.1.0 in /usr/local/lib/python3.7/dist-packages (from -r requirements.txt (line 144)) (2.1.0)\n",
            "Requirement already satisfied: iniconfig==1.1.1 in /usr/local/lib/python3.7/dist-packages (from -r requirements.txt (line 145)) (1.1.1)\n",
            "Requirement already satisfied: install==1.3.4 in /usr/local/lib/python3.7/dist-packages (from -r requirements.txt (line 146)) (1.3.4)\n",
            "Requirement already satisfied: intel-openmp==2021.2.0 in /usr/local/lib/python3.7/dist-packages (from -r requirements.txt (line 147)) (2021.2.0)\n",
            "Requirement already satisfied: intervaltree==2.1.0 in /usr/local/lib/python3.7/dist-packages (from -r requirements.txt (line 148)) (2.1.0)\n",
            "Requirement already satisfied: ipykernel==4.10.1 in /usr/local/lib/python3.7/dist-packages (from -r requirements.txt (line 149)) (4.10.1)\n",
            "Requirement already satisfied: ipython==5.5.0 in /usr/local/lib/python3.7/dist-packages (from -r requirements.txt (line 150)) (5.5.0)\n",
            "Requirement already satisfied: ipython-genutils==0.2.0 in /usr/local/lib/python3.7/dist-packages (from -r requirements.txt (line 151)) (0.2.0)\n",
            "Requirement already satisfied: ipython-sql==0.3.9 in /usr/local/lib/python3.7/dist-packages (from -r requirements.txt (line 152)) (0.3.9)\n",
            "Requirement already satisfied: ipywidgets==7.6.3 in /usr/local/lib/python3.7/dist-packages (from -r requirements.txt (line 153)) (7.6.3)\n",
            "Requirement already satisfied: itsdangerous==1.1.0 in /usr/local/lib/python3.7/dist-packages (from -r requirements.txt (line 154)) (1.1.0)\n",
            "Requirement already satisfied: jax==0.2.13 in /usr/local/lib/python3.7/dist-packages (from -r requirements.txt (line 155)) (0.2.13)\n",
            "Requirement already satisfied: jaxlib==0.1.66+cuda110 in /usr/local/lib/python3.7/dist-packages (from -r requirements.txt (line 156)) (0.1.66+cuda110)\n",
            "Requirement already satisfied: jdcal==1.4.1 in /usr/local/lib/python3.7/dist-packages (from -r requirements.txt (line 157)) (1.4.1)\n",
            "Requirement already satisfied: jedi==0.18.0 in /usr/local/lib/python3.7/dist-packages (from -r requirements.txt (line 158)) (0.18.0)\n",
            "Requirement already satisfied: jieba==0.42.1 in /usr/local/lib/python3.7/dist-packages (from -r requirements.txt (line 159)) (0.42.1)\n",
            "Requirement already satisfied: Jinja2==2.11.3 in /usr/local/lib/python3.7/dist-packages (from -r requirements.txt (line 160)) (2.11.3)\n",
            "Requirement already satisfied: joblib==1.0.1 in /usr/local/lib/python3.7/dist-packages (from -r requirements.txt (line 161)) (1.0.1)\n",
            "Requirement already satisfied: jpeg4py==0.1.4 in /usr/local/lib/python3.7/dist-packages (from -r requirements.txt (line 162)) (0.1.4)\n",
            "Requirement already satisfied: jsonschema==2.6.0 in /usr/local/lib/python3.7/dist-packages (from -r requirements.txt (line 163)) (2.6.0)\n",
            "Requirement already satisfied: jupyter==1.0.0 in /usr/local/lib/python3.7/dist-packages (from -r requirements.txt (line 164)) (1.0.0)\n",
            "Requirement already satisfied: jupyter-client==5.3.5 in /usr/local/lib/python3.7/dist-packages (from -r requirements.txt (line 165)) (5.3.5)\n",
            "Requirement already satisfied: jupyter-console==5.2.0 in /usr/local/lib/python3.7/dist-packages (from -r requirements.txt (line 166)) (5.2.0)\n",
            "Requirement already satisfied: jupyter-core==4.7.1 in /usr/local/lib/python3.7/dist-packages (from -r requirements.txt (line 167)) (4.7.1)\n",
            "Requirement already satisfied: jupyterlab-pygments==0.1.2 in /usr/local/lib/python3.7/dist-packages (from -r requirements.txt (line 168)) (0.1.2)\n",
            "Requirement already satisfied: jupyterlab-widgets==1.0.0 in /usr/local/lib/python3.7/dist-packages (from -r requirements.txt (line 169)) (1.0.0)\n",
            "Requirement already satisfied: kaggle==1.5.12 in /usr/local/lib/python3.7/dist-packages (from -r requirements.txt (line 170)) (1.5.12)\n",
            "Requirement already satisfied: kapre==0.3.5 in /usr/local/lib/python3.7/dist-packages (from -r requirements.txt (line 171)) (0.3.5)\n",
            "Requirement already satisfied: Keras==2.4.3 in /usr/local/lib/python3.7/dist-packages (from -r requirements.txt (line 172)) (2.4.3)\n",
            "Requirement already satisfied: keras-nightly==2.5.0.dev2021032900 in /usr/local/lib/python3.7/dist-packages (from -r requirements.txt (line 173)) (2.5.0.dev2021032900)\n",
            "Requirement already satisfied: Keras-Preprocessing==1.1.2 in /usr/local/lib/python3.7/dist-packages (from -r requirements.txt (line 174)) (1.1.2)\n",
            "Requirement already satisfied: keras-vis==0.4.1 in /usr/local/lib/python3.7/dist-packages (from -r requirements.txt (line 175)) (0.4.1)\n",
            "Requirement already satisfied: kiwisolver==1.3.1 in /usr/local/lib/python3.7/dist-packages (from -r requirements.txt (line 176)) (1.3.1)\n",
            "Requirement already satisfied: korean-lunar-calendar==0.2.1 in /usr/local/lib/python3.7/dist-packages (from -r requirements.txt (line 177)) (0.2.1)\n",
            "Requirement already satisfied: librosa==0.8.0 in /usr/local/lib/python3.7/dist-packages (from -r requirements.txt (line 178)) (0.8.0)\n",
            "Requirement already satisfied: lightgbm==2.2.3 in /usr/local/lib/python3.7/dist-packages (from -r requirements.txt (line 179)) (2.2.3)\n",
            "Requirement already satisfied: llvmlite==0.34.0 in /usr/local/lib/python3.7/dist-packages (from -r requirements.txt (line 180)) (0.34.0)\n",
            "Requirement already satisfied: lmdb==0.99 in /usr/local/lib/python3.7/dist-packages (from -r requirements.txt (line 181)) (0.99)\n",
            "Requirement already satisfied: LunarCalendar==0.0.9 in /usr/local/lib/python3.7/dist-packages (from -r requirements.txt (line 182)) (0.0.9)\n",
            "Requirement already satisfied: lxml==4.2.6 in /usr/local/lib/python3.7/dist-packages (from -r requirements.txt (line 183)) (4.2.6)\n",
            "Requirement already satisfied: Markdown==3.3.4 in /usr/local/lib/python3.7/dist-packages (from -r requirements.txt (line 184)) (3.3.4)\n",
            "Requirement already satisfied: MarkupSafe==2.0.1 in /usr/local/lib/python3.7/dist-packages (from -r requirements.txt (line 185)) (2.0.1)\n",
            "Requirement already satisfied: matplotlib==3.2.2 in /usr/local/lib/python3.7/dist-packages (from -r requirements.txt (line 186)) (3.2.2)\n",
            "Requirement already satisfied: matplotlib-inline==0.1.2 in /usr/local/lib/python3.7/dist-packages (from -r requirements.txt (line 187)) (0.1.2)\n",
            "Requirement already satisfied: matplotlib-venn==0.11.6 in /usr/local/lib/python3.7/dist-packages (from -r requirements.txt (line 188)) (0.11.6)\n",
            "Requirement already satisfied: missingno==0.4.2 in /usr/local/lib/python3.7/dist-packages (from -r requirements.txt (line 189)) (0.4.2)\n",
            "Requirement already satisfied: mistune==0.8.4 in /usr/local/lib/python3.7/dist-packages (from -r requirements.txt (line 190)) (0.8.4)\n",
            "Requirement already satisfied: mizani==0.6.0 in /usr/local/lib/python3.7/dist-packages (from -r requirements.txt (line 191)) (0.6.0)\n",
            "Requirement already satisfied: mkl==2019.0 in /usr/local/lib/python3.7/dist-packages (from -r requirements.txt (line 192)) (2019.0)\n",
            "Requirement already satisfied: mlxtend==0.14.0 in /usr/local/lib/python3.7/dist-packages (from -r requirements.txt (line 193)) (0.14.0)\n",
            "Requirement already satisfied: more-itertools==8.7.0 in /usr/local/lib/python3.7/dist-packages (from -r requirements.txt (line 194)) (8.7.0)\n",
            "Requirement already satisfied: moviepy==0.2.3.5 in /usr/local/lib/python3.7/dist-packages (from -r requirements.txt (line 195)) (0.2.3.5)\n",
            "Requirement already satisfied: mpmath==1.2.1 in /usr/local/lib/python3.7/dist-packages (from -r requirements.txt (line 196)) (1.2.1)\n",
            "Requirement already satisfied: msgpack==1.0.2 in /usr/local/lib/python3.7/dist-packages (from -r requirements.txt (line 197)) (1.0.2)\n",
            "Requirement already satisfied: multiprocess==0.70.11.1 in /usr/local/lib/python3.7/dist-packages (from -r requirements.txt (line 198)) (0.70.11.1)\n",
            "Requirement already satisfied: multitasking==0.0.9 in /usr/local/lib/python3.7/dist-packages (from -r requirements.txt (line 199)) (0.0.9)\n",
            "Requirement already satisfied: murmurhash==1.0.5 in /usr/local/lib/python3.7/dist-packages (from -r requirements.txt (line 200)) (1.0.5)\n",
            "Requirement already satisfied: music21==5.5.0 in /usr/local/lib/python3.7/dist-packages (from -r requirements.txt (line 201)) (5.5.0)\n",
            "Requirement already satisfied: natsort==5.5.0 in /usr/local/lib/python3.7/dist-packages (from -r requirements.txt (line 202)) (5.5.0)\n",
            "Requirement already satisfied: nbclient==0.5.3 in /usr/local/lib/python3.7/dist-packages (from -r requirements.txt (line 203)) (0.5.3)\n",
            "Requirement already satisfied: nbconvert==5.6.1 in /usr/local/lib/python3.7/dist-packages (from -r requirements.txt (line 204)) (5.6.1)\n",
            "Requirement already satisfied: nbformat==5.1.3 in /usr/local/lib/python3.7/dist-packages (from -r requirements.txt (line 205)) (5.1.3)\n",
            "Requirement already satisfied: nest-asyncio==1.5.1 in /usr/local/lib/python3.7/dist-packages (from -r requirements.txt (line 206)) (1.5.1)\n",
            "Requirement already satisfied: netCDF4==1.5.6 in /usr/local/lib/python3.7/dist-packages (from -r requirements.txt (line 207)) (1.5.6)\n",
            "Requirement already satisfied: networkx==2.5.1 in /usr/local/lib/python3.7/dist-packages (from -r requirements.txt (line 208)) (2.5.1)\n",
            "Requirement already satisfied: nibabel==3.0.2 in /usr/local/lib/python3.7/dist-packages (from -r requirements.txt (line 209)) (3.0.2)\n",
            "Requirement already satisfied: nltk==3.2.5 in /usr/local/lib/python3.7/dist-packages (from -r requirements.txt (line 210)) (3.2.5)\n",
            "Requirement already satisfied: notebook==5.3.1 in /usr/local/lib/python3.7/dist-packages (from -r requirements.txt (line 211)) (5.3.1)\n",
            "Requirement already satisfied: numba==0.51.2 in /usr/local/lib/python3.7/dist-packages (from -r requirements.txt (line 212)) (0.51.2)\n",
            "Requirement already satisfied: numexpr==2.7.3 in /usr/local/lib/python3.7/dist-packages (from -r requirements.txt (line 213)) (2.7.3)\n",
            "Requirement already satisfied: numpy==1.19.5 in /usr/local/lib/python3.7/dist-packages (from -r requirements.txt (line 214)) (1.19.5)\n",
            "Requirement already satisfied: nvidia-ml-py3==7.352.0 in /usr/local/lib/python3.7/dist-packages (from -r requirements.txt (line 215)) (7.352.0)\n",
            "Requirement already satisfied: oauth2client==4.1.3 in /usr/local/lib/python3.7/dist-packages (from -r requirements.txt (line 216)) (4.1.3)\n",
            "Requirement already satisfied: oauthlib==3.1.0 in /usr/local/lib/python3.7/dist-packages (from -r requirements.txt (line 217)) (3.1.0)\n",
            "Requirement already satisfied: okgrade==0.4.3 in /usr/local/lib/python3.7/dist-packages (from -r requirements.txt (line 218)) (0.4.3)\n",
            "Requirement already satisfied: opencv-contrib-python==4.1.2.30 in /usr/local/lib/python3.7/dist-packages (from -r requirements.txt (line 219)) (4.1.2.30)\n",
            "Requirement already satisfied: opencv-python==4.1.2.30 in /usr/local/lib/python3.7/dist-packages (from -r requirements.txt (line 220)) (4.1.2.30)\n",
            "Requirement already satisfied: openpyxl==2.5.9 in /usr/local/lib/python3.7/dist-packages (from -r requirements.txt (line 221)) (2.5.9)\n",
            "Requirement already satisfied: opt-einsum==3.3.0 in /usr/local/lib/python3.7/dist-packages (from -r requirements.txt (line 222)) (3.3.0)\n",
            "Requirement already satisfied: osqp==0.6.2.post0 in /usr/local/lib/python3.7/dist-packages (from -r requirements.txt (line 223)) (0.6.2.post0)\n",
            "Requirement already satisfied: packaging==20.9 in /usr/local/lib/python3.7/dist-packages (from -r requirements.txt (line 224)) (20.9)\n",
            "Requirement already satisfied: palettable==3.3.0 in /usr/local/lib/python3.7/dist-packages (from -r requirements.txt (line 225)) (3.3.0)\n",
            "Requirement already satisfied: pandas==1.1.5 in /usr/local/lib/python3.7/dist-packages (from -r requirements.txt (line 226)) (1.1.5)\n",
            "Requirement already satisfied: pandas-datareader==0.9.0 in /usr/local/lib/python3.7/dist-packages (from -r requirements.txt (line 227)) (0.9.0)\n",
            "Requirement already satisfied: pandas-gbq==0.13.3 in /usr/local/lib/python3.7/dist-packages (from -r requirements.txt (line 228)) (0.13.3)\n",
            "Requirement already satisfied: pandas-profiling==1.4.1 in /usr/local/lib/python3.7/dist-packages (from -r requirements.txt (line 229)) (1.4.1)\n",
            "Requirement already satisfied: pandocfilters==1.4.3 in /usr/local/lib/python3.7/dist-packages (from -r requirements.txt (line 230)) (1.4.3)\n",
            "Requirement already satisfied: panel==0.11.3 in /usr/local/lib/python3.7/dist-packages (from -r requirements.txt (line 231)) (0.11.3)\n",
            "Requirement already satisfied: param==1.10.1 in /usr/local/lib/python3.7/dist-packages (from -r requirements.txt (line 232)) (1.10.1)\n",
            "Requirement already satisfied: parso==0.8.2 in /usr/local/lib/python3.7/dist-packages (from -r requirements.txt (line 233)) (0.8.2)\n",
            "Requirement already satisfied: pathlib==1.0.1 in /usr/local/lib/python3.7/dist-packages (from -r requirements.txt (line 234)) (1.0.1)\n",
            "Requirement already satisfied: patsy==0.5.1 in /usr/local/lib/python3.7/dist-packages (from -r requirements.txt (line 235)) (0.5.1)\n",
            "Requirement already satisfied: pexpect==4.8.0 in /usr/local/lib/python3.7/dist-packages (from -r requirements.txt (line 236)) (4.8.0)\n",
            "Requirement already satisfied: pickleshare==0.7.5 in /usr/local/lib/python3.7/dist-packages (from -r requirements.txt (line 237)) (0.7.5)\n",
            "Requirement already satisfied: Pillow==7.1.2 in /usr/local/lib/python3.7/dist-packages (from -r requirements.txt (line 238)) (7.1.2)\n",
            "Requirement already satisfied: pip-tools==4.5.1 in /usr/local/lib/python3.7/dist-packages (from -r requirements.txt (line 239)) (4.5.1)\n",
            "Requirement already satisfied: plac==1.1.3 in /usr/local/lib/python3.7/dist-packages (from -r requirements.txt (line 240)) (1.1.3)\n",
            "Requirement already satisfied: plotly==4.4.1 in /usr/local/lib/python3.7/dist-packages (from -r requirements.txt (line 241)) (4.4.1)\n",
            "Requirement already satisfied: plotnine==0.6.0 in /usr/local/lib/python3.7/dist-packages (from -r requirements.txt (line 242)) (0.6.0)\n",
            "Requirement already satisfied: pluggy==0.7.1 in /usr/local/lib/python3.7/dist-packages (from -r requirements.txt (line 243)) (0.7.1)\n",
            "Requirement already satisfied: pooch==1.3.0 in /usr/local/lib/python3.7/dist-packages (from -r requirements.txt (line 244)) (1.3.0)\n",
            "Requirement already satisfied: portpicker==1.3.9 in /usr/local/lib/python3.7/dist-packages (from -r requirements.txt (line 245)) (1.3.9)\n",
            "Collecting praw==7.2.0\n",
            "\u001b[?25l  Downloading https://files.pythonhosted.org/packages/48/a8/a2e2d0750ee17c7e3d81e4695a0338ad0b3f231853b8c3fa339ff2d25c7c/praw-7.2.0-py3-none-any.whl (159kB)\n",
            "\u001b[K     |████████████████████████████████| 163kB 3.3MB/s \n",
            "\u001b[?25hCollecting prawcore==2.0.0\n",
            "  Downloading https://files.pythonhosted.org/packages/7d/df/4a9106bea0d26689c4b309da20c926a01440ddaf60c09a5ae22684ebd35f/prawcore-2.0.0-py3-none-any.whl\n",
            "Requirement already satisfied: prefetch-generator==1.0.1 in /usr/local/lib/python3.7/dist-packages (from -r requirements.txt (line 248)) (1.0.1)\n",
            "Requirement already satisfied: preshed==3.0.5 in /usr/local/lib/python3.7/dist-packages (from -r requirements.txt (line 249)) (3.0.5)\n",
            "Requirement already satisfied: prettytable==2.1.0 in /usr/local/lib/python3.7/dist-packages (from -r requirements.txt (line 250)) (2.1.0)\n",
            "Requirement already satisfied: progressbar2==3.38.0 in /usr/local/lib/python3.7/dist-packages (from -r requirements.txt (line 251)) (3.38.0)\n",
            "Requirement already satisfied: prometheus-client==0.10.1 in /usr/local/lib/python3.7/dist-packages (from -r requirements.txt (line 252)) (0.10.1)\n",
            "Requirement already satisfied: promise==2.3 in /usr/local/lib/python3.7/dist-packages (from -r requirements.txt (line 253)) (2.3)\n",
            "Requirement already satisfied: prompt-toolkit==1.0.18 in /usr/local/lib/python3.7/dist-packages (from -r requirements.txt (line 254)) (1.0.18)\n",
            "Requirement already satisfied: protobuf==3.12.4 in /usr/local/lib/python3.7/dist-packages (from -r requirements.txt (line 255)) (3.12.4)\n",
            "Requirement already satisfied: psutil==5.4.8 in /usr/local/lib/python3.7/dist-packages (from -r requirements.txt (line 256)) (5.4.8)\n",
            "Requirement already satisfied: psycopg2==2.7.6.1 in /usr/local/lib/python3.7/dist-packages (from -r requirements.txt (line 257)) (2.7.6.1)\n",
            "Requirement already satisfied: ptyprocess==0.7.0 in /usr/local/lib/python3.7/dist-packages (from -r requirements.txt (line 258)) (0.7.0)\n",
            "Requirement already satisfied: py==1.10.0 in /usr/local/lib/python3.7/dist-packages (from -r requirements.txt (line 259)) (1.10.0)\n",
            "Requirement already satisfied: pyarrow==3.0.0 in /usr/local/lib/python3.7/dist-packages (from -r requirements.txt (line 260)) (3.0.0)\n",
            "Requirement already satisfied: pyasn1==0.4.8 in /usr/local/lib/python3.7/dist-packages (from -r requirements.txt (line 261)) (0.4.8)\n",
            "Requirement already satisfied: pyasn1-modules==0.2.8 in /usr/local/lib/python3.7/dist-packages (from -r requirements.txt (line 262)) (0.2.8)\n",
            "Requirement already satisfied: pycocotools==2.0.2 in /usr/local/lib/python3.7/dist-packages (from -r requirements.txt (line 263)) (2.0.2)\n",
            "Requirement already satisfied: pycparser==2.20 in /usr/local/lib/python3.7/dist-packages (from -r requirements.txt (line 264)) (2.20)\n",
            "Requirement already satisfied: pyct==0.4.8 in /usr/local/lib/python3.7/dist-packages (from -r requirements.txt (line 265)) (0.4.8)\n",
            "Requirement already satisfied: pydata-google-auth==1.2.0 in /usr/local/lib/python3.7/dist-packages (from -r requirements.txt (line 266)) (1.2.0)\n",
            "Requirement already satisfied: pydot==1.3.0 in /usr/local/lib/python3.7/dist-packages (from -r requirements.txt (line 267)) (1.3.0)\n",
            "Requirement already satisfied: pydot-ng==2.0.0 in /usr/local/lib/python3.7/dist-packages (from -r requirements.txt (line 268)) (2.0.0)\n",
            "Requirement already satisfied: pydotplus==2.0.2 in /usr/local/lib/python3.7/dist-packages (from -r requirements.txt (line 269)) (2.0.2)\n",
            "Requirement already satisfied: PyDrive==1.3.1 in /usr/local/lib/python3.7/dist-packages (from -r requirements.txt (line 270)) (1.3.1)\n",
            "Requirement already satisfied: pyemd==0.5.1 in /usr/local/lib/python3.7/dist-packages (from -r requirements.txt (line 271)) (0.5.1)\n",
            "Requirement already satisfied: pyerfa==2.0.0 in /usr/local/lib/python3.7/dist-packages (from -r requirements.txt (line 272)) (2.0.0)\n",
            "Requirement already satisfied: pyglet==1.5.0 in /usr/local/lib/python3.7/dist-packages (from -r requirements.txt (line 273)) (1.5.0)\n",
            "Requirement already satisfied: Pygments==2.6.1 in /usr/local/lib/python3.7/dist-packages (from -r requirements.txt (line 274)) (2.6.1)\n",
            "Requirement already satisfied: pygobject==3.26.1 in /usr/lib/python3/dist-packages (from -r requirements.txt (line 275)) (3.26.1)\n",
            "Requirement already satisfied: pymc3==3.11.2 in /usr/local/lib/python3.7/dist-packages (from -r requirements.txt (line 276)) (3.11.2)\n",
            "Requirement already satisfied: PyMeeus==0.5.11 in /usr/local/lib/python3.7/dist-packages (from -r requirements.txt (line 277)) (0.5.11)\n",
            "Requirement already satisfied: pymongo==3.11.4 in /usr/local/lib/python3.7/dist-packages (from -r requirements.txt (line 278)) (3.11.4)\n",
            "Requirement already satisfied: pymystem3==0.2.0 in /usr/local/lib/python3.7/dist-packages (from -r requirements.txt (line 279)) (0.2.0)\n",
            "Requirement already satisfied: PyOpenGL==3.1.5 in /usr/local/lib/python3.7/dist-packages (from -r requirements.txt (line 280)) (3.1.5)\n",
            "Requirement already satisfied: pyparsing==2.4.7 in /usr/local/lib/python3.7/dist-packages (from -r requirements.txt (line 281)) (2.4.7)\n",
            "Requirement already satisfied: pyrsistent==0.17.3 in /usr/local/lib/python3.7/dist-packages (from -r requirements.txt (line 282)) (0.17.3)\n",
            "Requirement already satisfied: pysndfile==1.3.8 in /usr/local/lib/python3.7/dist-packages (from -r requirements.txt (line 283)) (1.3.8)\n",
            "Requirement already satisfied: PySocks==1.7.1 in /usr/local/lib/python3.7/dist-packages (from -r requirements.txt (line 284)) (1.7.1)\n",
            "Requirement already satisfied: pystan==2.19.1.1 in /usr/local/lib/python3.7/dist-packages (from -r requirements.txt (line 285)) (2.19.1.1)\n",
            "Requirement already satisfied: pytest==3.6.4 in /usr/local/lib/python3.7/dist-packages (from -r requirements.txt (line 286)) (3.6.4)\n",
            "Requirement already satisfied: python-apt==0.0.0 in /usr/local/lib/python3.7/dist-packages (from -r requirements.txt (line 287)) (0.0.0)\n",
            "Requirement already satisfied: python-chess==0.23.11 in /usr/local/lib/python3.7/dist-packages (from -r requirements.txt (line 288)) (0.23.11)\n",
            "Requirement already satisfied: python-dateutil==2.8.1 in /usr/local/lib/python3.7/dist-packages (from -r requirements.txt (line 289)) (2.8.1)\n",
            "Requirement already satisfied: python-louvain==0.15 in /usr/local/lib/python3.7/dist-packages (from -r requirements.txt (line 290)) (0.15)\n",
            "Requirement already satisfied: python-slugify==5.0.2 in /usr/local/lib/python3.7/dist-packages (from -r requirements.txt (line 291)) (5.0.2)\n",
            "Requirement already satisfied: python-utils==2.5.6 in /usr/local/lib/python3.7/dist-packages (from -r requirements.txt (line 292)) (2.5.6)\n",
            "Requirement already satisfied: pytz==2018.9 in /usr/local/lib/python3.7/dist-packages (from -r requirements.txt (line 293)) (2018.9)\n",
            "Requirement already satisfied: pyviz-comms==2.0.1 in /usr/local/lib/python3.7/dist-packages (from -r requirements.txt (line 294)) (2.0.1)\n",
            "Requirement already satisfied: PyWavelets==1.1.1 in /usr/local/lib/python3.7/dist-packages (from -r requirements.txt (line 295)) (1.1.1)\n",
            "Requirement already satisfied: PyYAML==3.13 in /usr/local/lib/python3.7/dist-packages (from -r requirements.txt (line 296)) (3.13)\n",
            "Requirement already satisfied: pyzmq==22.0.3 in /usr/local/lib/python3.7/dist-packages (from -r requirements.txt (line 297)) (22.0.3)\n",
            "Requirement already satisfied: qdldl==0.1.5.post0 in /usr/local/lib/python3.7/dist-packages (from -r requirements.txt (line 298)) (0.1.5.post0)\n",
            "Requirement already satisfied: qtconsole==5.1.0 in /usr/local/lib/python3.7/dist-packages (from -r requirements.txt (line 299)) (5.1.0)\n",
            "Requirement already satisfied: QtPy==1.9.0 in /usr/local/lib/python3.7/dist-packages (from -r requirements.txt (line 300)) (1.9.0)\n",
            "Requirement already satisfied: regex==2019.12.20 in /usr/local/lib/python3.7/dist-packages (from -r requirements.txt (line 301)) (2019.12.20)\n",
            "Requirement already satisfied: requests==2.23.0 in /usr/local/lib/python3.7/dist-packages (from -r requirements.txt (line 302)) (2.23.0)\n",
            "Requirement already satisfied: requests-oauthlib==1.3.0 in /usr/local/lib/python3.7/dist-packages (from -r requirements.txt (line 303)) (1.3.0)\n",
            "Requirement already satisfied: resampy==0.2.2 in /usr/local/lib/python3.7/dist-packages (from -r requirements.txt (line 304)) (0.2.2)\n",
            "Requirement already satisfied: retrying==1.3.3 in /usr/local/lib/python3.7/dist-packages (from -r requirements.txt (line 305)) (1.3.3)\n",
            "Requirement already satisfied: rpy2==3.4.4 in /usr/local/lib/python3.7/dist-packages (from -r requirements.txt (line 306)) (3.4.4)\n",
            "Requirement already satisfied: rsa==4.7.2 in /usr/local/lib/python3.7/dist-packages (from -r requirements.txt (line 307)) (4.7.2)\n",
            "Collecting sacremoses==0.0.45\n",
            "\u001b[?25l  Downloading https://files.pythonhosted.org/packages/75/ee/67241dc87f266093c533a2d4d3d69438e57d7a90abb216fa076e7d475d4a/sacremoses-0.0.45-py3-none-any.whl (895kB)\n",
            "\u001b[K     |████████████████████████████████| 901kB 17.8MB/s \n",
            "\u001b[?25hRequirement already satisfied: scikit-image==0.16.2 in /usr/local/lib/python3.7/dist-packages (from -r requirements.txt (line 309)) (0.16.2)\n",
            "Requirement already satisfied: scikit-learn==0.22.2.post1 in /usr/local/lib/python3.7/dist-packages (from -r requirements.txt (line 310)) (0.22.2.post1)\n",
            "Requirement already satisfied: scipy==1.4.1 in /usr/local/lib/python3.7/dist-packages (from -r requirements.txt (line 311)) (1.4.1)\n",
            "Requirement already satisfied: screen-resolution-extra==0.0.0 in /usr/lib/python3/dist-packages (from -r requirements.txt (line 312)) (0.0.0)\n",
            "Requirement already satisfied: scs==2.1.3 in /usr/local/lib/python3.7/dist-packages (from -r requirements.txt (line 313)) (2.1.3)\n",
            "Requirement already satisfied: seaborn==0.11.1 in /usr/local/lib/python3.7/dist-packages (from -r requirements.txt (line 314)) (0.11.1)\n",
            "Requirement already satisfied: semver==2.13.0 in /usr/local/lib/python3.7/dist-packages (from -r requirements.txt (line 315)) (2.13.0)\n",
            "Requirement already satisfied: Send2Trash==1.5.0 in /usr/local/lib/python3.7/dist-packages (from -r requirements.txt (line 316)) (1.5.0)\n",
            "Requirement already satisfied: setuptools-git==1.2 in /usr/local/lib/python3.7/dist-packages (from -r requirements.txt (line 317)) (1.2)\n",
            "Requirement already satisfied: Shapely==1.7.1 in /usr/local/lib/python3.7/dist-packages (from -r requirements.txt (line 318)) (1.7.1)\n",
            "Requirement already satisfied: simplegeneric==0.8.1 in /usr/local/lib/python3.7/dist-packages (from -r requirements.txt (line 319)) (0.8.1)\n",
            "Requirement already satisfied: six==1.15.0 in /usr/local/lib/python3.7/dist-packages (from -r requirements.txt (line 320)) (1.15.0)\n",
            "Requirement already satisfied: sklearn==0.0 in /usr/local/lib/python3.7/dist-packages (from -r requirements.txt (line 321)) (0.0)\n",
            "Requirement already satisfied: sklearn-pandas==1.8.0 in /usr/local/lib/python3.7/dist-packages (from -r requirements.txt (line 322)) (1.8.0)\n",
            "Requirement already satisfied: smart-open==5.0.0 in /usr/local/lib/python3.7/dist-packages (from -r requirements.txt (line 323)) (5.0.0)\n",
            "Requirement already satisfied: snowballstemmer==2.1.0 in /usr/local/lib/python3.7/dist-packages (from -r requirements.txt (line 324)) (2.1.0)\n",
            "Requirement already satisfied: sortedcontainers==2.4.0 in /usr/local/lib/python3.7/dist-packages (from -r requirements.txt (line 325)) (2.4.0)\n",
            "Requirement already satisfied: SoundFile==0.10.3.post1 in /usr/local/lib/python3.7/dist-packages (from -r requirements.txt (line 326)) (0.10.3.post1)\n",
            "Requirement already satisfied: spacy==2.2.4 in /usr/local/lib/python3.7/dist-packages (from -r requirements.txt (line 327)) (2.2.4)\n",
            "Requirement already satisfied: Sphinx==1.8.5 in /usr/local/lib/python3.7/dist-packages (from -r requirements.txt (line 328)) (1.8.5)\n",
            "Requirement already satisfied: sphinxcontrib-serializinghtml==1.1.4 in /usr/local/lib/python3.7/dist-packages (from -r requirements.txt (line 329)) (1.1.4)\n",
            "Requirement already satisfied: sphinxcontrib-websupport==1.2.4 in /usr/local/lib/python3.7/dist-packages (from -r requirements.txt (line 330)) (1.2.4)\n",
            "Requirement already satisfied: SQLAlchemy==1.4.15 in /usr/local/lib/python3.7/dist-packages (from -r requirements.txt (line 331)) (1.4.15)\n",
            "Requirement already satisfied: sqlparse==0.4.1 in /usr/local/lib/python3.7/dist-packages (from -r requirements.txt (line 332)) (0.4.1)\n",
            "Requirement already satisfied: srsly==1.0.5 in /usr/local/lib/python3.7/dist-packages (from -r requirements.txt (line 333)) (1.0.5)\n",
            "Requirement already satisfied: statsmodels==0.10.2 in /usr/local/lib/python3.7/dist-packages (from -r requirements.txt (line 334)) (0.10.2)\n",
            "Requirement already satisfied: sympy==1.7.1 in /usr/local/lib/python3.7/dist-packages (from -r requirements.txt (line 335)) (1.7.1)\n",
            "Requirement already satisfied: tables==3.4.4 in /usr/local/lib/python3.7/dist-packages (from -r requirements.txt (line 336)) (3.4.4)\n",
            "Requirement already satisfied: tabulate==0.8.9 in /usr/local/lib/python3.7/dist-packages (from -r requirements.txt (line 337)) (0.8.9)\n",
            "Requirement already satisfied: tblib==1.7.0 in /usr/local/lib/python3.7/dist-packages (from -r requirements.txt (line 338)) (1.7.0)\n",
            "Requirement already satisfied: tensorboard==2.5.0 in /usr/local/lib/python3.7/dist-packages (from -r requirements.txt (line 339)) (2.5.0)\n",
            "Requirement already satisfied: tensorboard-data-server==0.6.1 in /usr/local/lib/python3.7/dist-packages (from -r requirements.txt (line 340)) (0.6.1)\n",
            "Requirement already satisfied: tensorboard-plugin-wit==1.8.0 in /usr/local/lib/python3.7/dist-packages (from -r requirements.txt (line 341)) (1.8.0)\n",
            "Requirement already satisfied: tensorflow==2.5.0 in /usr/local/lib/python3.7/dist-packages (from -r requirements.txt (line 342)) (2.5.0)\n",
            "Requirement already satisfied: tensorflow-datasets==4.0.1 in /usr/local/lib/python3.7/dist-packages (from -r requirements.txt (line 343)) (4.0.1)\n",
            "Requirement already satisfied: tensorflow-estimator==2.5.0 in /usr/local/lib/python3.7/dist-packages (from -r requirements.txt (line 344)) (2.5.0)\n",
            "Requirement already satisfied: tensorflow-gcs-config==2.5.0 in /usr/local/lib/python3.7/dist-packages (from -r requirements.txt (line 345)) (2.5.0)\n",
            "Requirement already satisfied: tensorflow-hub==0.12.0 in /usr/local/lib/python3.7/dist-packages (from -r requirements.txt (line 346)) (0.12.0)\n",
            "Requirement already satisfied: tensorflow-metadata==1.0.0 in /usr/local/lib/python3.7/dist-packages (from -r requirements.txt (line 347)) (1.0.0)\n",
            "Requirement already satisfied: tensorflow-probability==0.12.1 in /usr/local/lib/python3.7/dist-packages (from -r requirements.txt (line 348)) (0.12.1)\n",
            "Requirement already satisfied: termcolor==1.1.0 in /usr/local/lib/python3.7/dist-packages (from -r requirements.txt (line 349)) (1.1.0)\n",
            "Requirement already satisfied: terminado==0.10.0 in /usr/local/lib/python3.7/dist-packages (from -r requirements.txt (line 350)) (0.10.0)\n",
            "Requirement already satisfied: testpath==0.5.0 in /usr/local/lib/python3.7/dist-packages (from -r requirements.txt (line 351)) (0.5.0)\n",
            "Requirement already satisfied: text-unidecode==1.3 in /usr/local/lib/python3.7/dist-packages (from -r requirements.txt (line 352)) (1.3)\n",
            "Requirement already satisfied: textblob==0.15.3 in /usr/local/lib/python3.7/dist-packages (from -r requirements.txt (line 353)) (0.15.3)\n",
            "Requirement already satisfied: Theano-PyMC==1.1.2 in /usr/local/lib/python3.7/dist-packages (from -r requirements.txt (line 354)) (1.1.2)\n",
            "Requirement already satisfied: thinc==7.4.0 in /usr/local/lib/python3.7/dist-packages (from -r requirements.txt (line 355)) (7.4.0)\n",
            "Requirement already satisfied: tifffile==2021.4.8 in /usr/local/lib/python3.7/dist-packages (from -r requirements.txt (line 356)) (2021.4.8)\n",
            "Collecting tokenizers==0.10.3\n",
            "\u001b[?25l  Downloading https://files.pythonhosted.org/packages/d4/e2/df3543e8ffdab68f5acc73f613de9c2b155ac47f162e725dcac87c521c11/tokenizers-0.10.3-cp37-cp37m-manylinux_2_5_x86_64.manylinux1_x86_64.manylinux_2_12_x86_64.manylinux2010_x86_64.whl (3.3MB)\n",
            "\u001b[K     |████████████████████████████████| 3.3MB 37.1MB/s \n",
            "\u001b[?25hRequirement already satisfied: toml==0.10.2 in /usr/local/lib/python3.7/dist-packages (from -r requirements.txt (line 358)) (0.10.2)\n",
            "Requirement already satisfied: toolz==0.11.1 in /usr/local/lib/python3.7/dist-packages (from -r requirements.txt (line 359)) (0.11.1)\n",
            "Requirement already satisfied: torch==1.8.1+cu101 in /usr/local/lib/python3.7/dist-packages (from -r requirements.txt (line 360)) (1.8.1+cu101)\n",
            "Requirement already satisfied: torchsummary==1.5.1 in /usr/local/lib/python3.7/dist-packages (from -r requirements.txt (line 361)) (1.5.1)\n",
            "Requirement already satisfied: torchtext==0.9.1 in /usr/local/lib/python3.7/dist-packages (from -r requirements.txt (line 362)) (0.9.1)\n",
            "Requirement already satisfied: torchvision==0.9.1+cu101 in /usr/local/lib/python3.7/dist-packages (from -r requirements.txt (line 363)) (0.9.1+cu101)\n",
            "Requirement already satisfied: tornado==5.1.1 in /usr/local/lib/python3.7/dist-packages (from -r requirements.txt (line 364)) (5.1.1)\n",
            "Requirement already satisfied: tqdm==4.41.1 in /usr/local/lib/python3.7/dist-packages (from -r requirements.txt (line 365)) (4.41.1)\n",
            "Requirement already satisfied: traitlets==5.0.5 in /usr/local/lib/python3.7/dist-packages (from -r requirements.txt (line 366)) (5.0.5)\n",
            "Collecting transformers==4.6.1\n",
            "\u001b[?25l  Downloading https://files.pythonhosted.org/packages/d5/43/cfe4ee779bbd6a678ac6a97c5a5cdeb03c35f9eaebbb9720b036680f9a2d/transformers-4.6.1-py3-none-any.whl (2.2MB)\n",
            "\u001b[K     |████████████████████████████████| 2.3MB 34.7MB/s \n",
            "\u001b[?25hRequirement already satisfied: tweepy==3.10.0 in /usr/local/lib/python3.7/dist-packages (from -r requirements.txt (line 368)) (3.10.0)\n",
            "Requirement already satisfied: typeguard==2.7.1 in /usr/local/lib/python3.7/dist-packages (from -r requirements.txt (line 369)) (2.7.1)\n",
            "Requirement already satisfied: typing-extensions==3.7.4.3 in /usr/local/lib/python3.7/dist-packages (from -r requirements.txt (line 370)) (3.7.4.3)\n",
            "Requirement already satisfied: tzlocal==1.5.1 in /usr/local/lib/python3.7/dist-packages (from -r requirements.txt (line 371)) (1.5.1)\n",
            "Collecting update-checker==0.18.0\n",
            "  Downloading https://files.pythonhosted.org/packages/0c/ba/8dd7fa5f0b1c6a8ac62f8f57f7e794160c1f86f31c6d0fb00f582372a3e4/update_checker-0.18.0-py3-none-any.whl\n",
            "Requirement already satisfied: uritemplate==3.0.1 in /usr/local/lib/python3.7/dist-packages (from -r requirements.txt (line 373)) (3.0.1)\n",
            "Requirement already satisfied: urllib3==1.24.3 in /usr/local/lib/python3.7/dist-packages (from -r requirements.txt (line 374)) (1.24.3)\n",
            "Requirement already satisfied: vega-datasets==0.9.0 in /usr/local/lib/python3.7/dist-packages (from -r requirements.txt (line 375)) (0.9.0)\n",
            "Requirement already satisfied: wasabi==0.8.2 in /usr/local/lib/python3.7/dist-packages (from -r requirements.txt (line 376)) (0.8.2)\n",
            "Requirement already satisfied: wcwidth==0.2.5 in /usr/local/lib/python3.7/dist-packages (from -r requirements.txt (line 377)) (0.2.5)\n",
            "Requirement already satisfied: webencodings==0.5.1 in /usr/local/lib/python3.7/dist-packages (from -r requirements.txt (line 378)) (0.5.1)\n",
            "Collecting websocket-client==1.0.1\n",
            "\u001b[?25l  Downloading https://files.pythonhosted.org/packages/85/ee/7aa724dc2dbed9b028f463eada5482770c13b7381a0c79457d12b3b62de2/websocket_client-1.0.1-py2.py3-none-any.whl (68kB)\n",
            "\u001b[K     |████████████████████████████████| 71kB 8.6MB/s \n",
            "\u001b[?25hRequirement already satisfied: Werkzeug==1.0.1 in /usr/local/lib/python3.7/dist-packages (from -r requirements.txt (line 380)) (1.0.1)\n",
            "Requirement already satisfied: widgetsnbextension==3.5.1 in /usr/local/lib/python3.7/dist-packages (from -r requirements.txt (line 381)) (3.5.1)\n",
            "Requirement already satisfied: wordcloud==1.5.0 in /usr/local/lib/python3.7/dist-packages (from -r requirements.txt (line 382)) (1.5.0)\n",
            "Requirement already satisfied: wrapt==1.12.1 in /usr/local/lib/python3.7/dist-packages (from -r requirements.txt (line 383)) (1.12.1)\n",
            "Requirement already satisfied: xarray==0.18.2 in /usr/local/lib/python3.7/dist-packages (from -r requirements.txt (line 384)) (0.18.2)\n",
            "Requirement already satisfied: xgboost==0.90 in /usr/local/lib/python3.7/dist-packages (from -r requirements.txt (line 385)) (0.90)\n",
            "Requirement already satisfied: xkit==0.0.0 in /usr/lib/python3/dist-packages (from -r requirements.txt (line 386)) (0.0.0)\n",
            "Requirement already satisfied: xlrd==1.1.0 in /usr/local/lib/python3.7/dist-packages (from -r requirements.txt (line 387)) (1.1.0)\n",
            "Requirement already satisfied: xlwt==1.3.0 in /usr/local/lib/python3.7/dist-packages (from -r requirements.txt (line 388)) (1.3.0)\n",
            "Requirement already satisfied: yellowbrick==0.9.1 in /usr/local/lib/python3.7/dist-packages (from -r requirements.txt (line 389)) (0.9.1)\n",
            "Requirement already satisfied: zict==2.0.0 in /usr/local/lib/python3.7/dist-packages (from -r requirements.txt (line 390)) (2.0.0)\n",
            "Requirement already satisfied: zipp==3.4.1 in /usr/local/lib/python3.7/dist-packages (from -r requirements.txt (line 391)) (3.4.1)\n",
            "Requirement already satisfied: setuptools>=38.4 in /usr/local/lib/python3.7/dist-packages (from arviz==0.11.2->-r requirements.txt (line 7)) (57.0.0)\n",
            "Requirement already satisfied: wheel<1.0,>=0.23.0 in /usr/local/lib/python3.7/dist-packages (from astunparse==1.6.3->-r requirements.txt (line 10)) (0.36.2)\n",
            "Installing collected packages: huggingface-hub, prawcore, update-checker, websocket-client, praw, sacremoses, tokenizers, transformers\n",
            "Successfully installed huggingface-hub-0.0.8 praw-7.2.0 prawcore-2.0.0 sacremoses-0.0.45 tokenizers-0.10.3 transformers-4.6.1 update-checker-0.18.0 websocket-client-1.0.1\n"
          ],
          "name": "stdout"
        }
      ]
    },
    {
      "cell_type": "markdown",
      "metadata": {
        "id": "SpnHgutIJZTU"
      },
      "source": [
        "Se importan los módulos que se estarán usando:"
      ]
    },
    {
      "cell_type": "code",
      "metadata": {
        "colab": {
          "base_uri": "https://localhost:8080/"
        },
        "id": "9_Bkf3bUVMlr",
        "outputId": "82840614-c74c-494d-f3d6-c73b48b4a1e4"
      },
      "source": [
        "import pandas as pd\n",
        "import numpy as np\n",
        "import random\n",
        "import chardet\n",
        "import re\n",
        "%matplotlib inline\n",
        "import matplotlib.pyplot as plt\n",
        "import seaborn as sn\n",
        "\n",
        "# Modulo de SkLearn para hacer shuffling\n",
        "from sklearn.utils import shuffle\n",
        "from sklearn.metrics import confusion_matrix\n",
        "\n",
        "# Módulo para API de Reddit\n",
        "import praw\n",
        "from praw.models import MoreComments\n",
        "\n",
        "# Módulos de Tensorflow\n",
        "import tensorflow as tf\n",
        "import tensorflow_hub as hub\n",
        "\n",
        "# Módulos de HuggingFace Transformers\n",
        "from transformers import TFAutoModel, AutoTokenizer\n",
        "\n",
        "# Módulos de NLTK\n",
        "import nltk\n",
        "from nltk.corpus import words, stopwords\n",
        "from nltk.tokenize import word_tokenize\n",
        "from nltk.stem import WordNetLemmatizer\n",
        "\n",
        "# Descargar paquetes necesarios por si acaso\n",
        "nltk.download('words')\n",
        "nltk.download('stopwords')\n",
        "nltk.download('punkt')\n",
        "nltk.download('wordnet')\n",
        "nltk.download('averaged_perceptron_tagger')"
      ],
      "execution_count": null,
      "outputs": [
        {
          "output_type": "stream",
          "text": [
            "[nltk_data] Downloading package words to /root/nltk_data...\n",
            "[nltk_data]   Unzipping corpora/words.zip.\n",
            "[nltk_data] Downloading package stopwords to /root/nltk_data...\n",
            "[nltk_data]   Unzipping corpora/stopwords.zip.\n",
            "[nltk_data] Downloading package punkt to /root/nltk_data...\n",
            "[nltk_data]   Unzipping tokenizers/punkt.zip.\n",
            "[nltk_data] Downloading package wordnet to /root/nltk_data...\n",
            "[nltk_data]   Unzipping corpora/wordnet.zip.\n",
            "[nltk_data] Downloading package averaged_perceptron_tagger to\n",
            "[nltk_data]     /root/nltk_data...\n",
            "[nltk_data]   Unzipping taggers/averaged_perceptron_tagger.zip.\n"
          ],
          "name": "stdout"
        },
        {
          "output_type": "execute_result",
          "data": {
            "text/plain": [
              "True"
            ]
          },
          "metadata": {
            "tags": []
          },
          "execution_count": 2
        }
      ]
    },
    {
      "cell_type": "markdown",
      "metadata": {
        "id": "k9fDeinEF7fu"
      },
      "source": [
        "# 1. Creacion del Dataset\n",
        "Algo a lo que se le dio mucha importancia a lo largo de este proyecto fue el set de datos que se estaría alimentando a los modelos, incluso se piensa que un modelo es tan bueno como el set de datos con el que se entrena y evalúa.\n",
        "\n",
        "Para este proyecto, el set de datos se contruyó a partir de dos pasos: primero tomar datos a partir de una base de datos ya establecida; segundo, complementar esa base de datos con textos recolectados de manera propia. A continuación se explica con mayor detalle lo que se hizo en cada uno de estos pasos. Posteriormente, se explicarán algunas limitaciones y áreas de oportunidad que se encontraron en el set de entrenamiento."
      ]
    },
    {
      "cell_type": "markdown",
      "metadata": {
        "id": "2-DHeBOULWKm"
      },
      "source": [
        "## 1.1 Textos de una base de datos\n",
        "La base de datos que se utilizó se encuentra en: https://www.kaggle.com/nikhileswarkomati/suicide-watch/version/13. Consiste de textos provenientes de Reddit, particularmente de 3 subreddits en específico: r/depression, r/SuicideWatch y r/Teenagers.\n",
        "\n",
        "El autor de la base de datos aclara que los textos que recolectó van desde alrededor de enero 2009 (muy cerca de la fecha de creación de estos subreddits) hasta enero 2021. Se piensa que el rango de fechas es bastante amplio, por lo que una ventaja que tiene esta base de datos es que contiene textos y opiniones de usuarios provenientes de años relativamente diferentes, por lo que permite dar una perspectiva muy grande de los posts que hacían los usuarios a través de muchos años diferentes. Esa fue la principal razón por la que se escogió incorporar esta base de datos en el proyecto.\n",
        "\n",
        "<hr>\n",
        "\n",
        "## Nota importante\n",
        "El CSV de esta base de datos no se incluye en el repositorio de este proyecto, debido a que ya está disponible para su descarga directa en la liga que se proporciona.\n",
        "\n",
        "<hr>\n"
      ]
    },
    {
      "cell_type": "markdown",
      "metadata": {
        "id": "aDAUsqEjNW7P"
      },
      "source": [
        "Para traer los textos, primero se leen del CSV que proporciona el autor de la base de datos."
      ]
    },
    {
      "cell_type": "code",
      "metadata": {
        "id": "x6fRGpcfNb1v"
      },
      "source": [
        "pd.options.display.max_colwidth = 250"
      ],
      "execution_count": null,
      "outputs": []
    },
    {
      "cell_type": "code",
      "metadata": {
        "id": "KnqLX1DnaAiu"
      },
      "source": [
        "data = pd.read_csv('SuicideAndDepression_Detection.csv', encoding='ISO-8859-1')"
      ],
      "execution_count": null,
      "outputs": []
    },
    {
      "cell_type": "markdown",
      "metadata": {
        "id": "V-AxUTAWNpet"
      },
      "source": [
        "Como se mencionó antes, los textos provienen de 3 subreddits distintos, sin embargo, aquí se enfocó en textos de dos lugares en particular: **depression** y **SuicideWatch**. La razón por la que no se incluyeron los textos de Teenagers es que son textos mucho más volátiles en cuanto a su tono e intención. Así como puede haber publicaciones de usuarios con depresión, puede haber muchas otras publicaciones donde el usuario quiera expresar algo más."
      ]
    },
    {
      "cell_type": "markdown",
      "metadata": {
        "id": "Ng4wbCWjPNjf"
      },
      "source": [
        "Como se puede ver en la siguiente celda, se tomaron 30,000 textos de r/depression y 20,000 textos de r/SuicideWatch. A todos estos textos se les está asignando una label de **1**, es decir, que todos estos textos se están catalogando como que provienen de usuarios con depresión. La razón principal de esto es que se estuvieron monitoreando publicaciones en estos dos subreddits y se llegó a la conclusión de que **la mayoría de estos textos sí corresponden a un tono depresivo**, que al final del día es lo que se necesita que el modelo pueda detectar. Estos 50,000 textos corresponden a la parte catalogada como **depresiva** del set de datos."
      ]
    },
    {
      "cell_type": "code",
      "metadata": {
        "colab": {
          "base_uri": "https://localhost:8080/"
        },
        "id": "jD1gVwi3c206",
        "outputId": "a09ff5e4-ef02-4257-e3bc-73043de51ef1"
      },
      "source": [
        "d = data[data[\"class\"] == \"depression\"][\"text\"].sample(30000)\n",
        "s = data[data[\"class\"] == \"SuicideWatch\"][\"text\"].sample(20000)\n",
        "\n",
        "labels_d = [1 for x in range(len(d))]\n",
        "labels_s = [1 for x in range(len(s))]\n",
        "\n",
        "depr = pd.DataFrame(zip(d, labels_d), columns=[\"Text\", \"Label\"])\n",
        "suic = pd.DataFrame(zip(s, labels_s), columns=[\"Text\", \"Label\"])\n",
        "\n",
        "depression = pd.concat([depr, suic], ignore_index=True)\n",
        "\n",
        "print(depression.shape)"
      ],
      "execution_count": null,
      "outputs": [
        {
          "output_type": "stream",
          "text": [
            "(50000, 2)\n"
          ],
          "name": "stdout"
        }
      ]
    },
    {
      "cell_type": "markdown",
      "metadata": {
        "id": "6sGg-KLmQP5r"
      },
      "source": [
        "A continuación se muestran algunos de los textos seleccionados, donde de hecho se nota que la mayoría de estos sí tienen un tono depresivo."
      ]
    },
    {
      "cell_type": "code",
      "metadata": {
        "colab": {
          "base_uri": "https://localhost:8080/",
          "height": 891
        },
        "id": "irT0zuHVdLqM",
        "outputId": "168d7843-a627-4ecb-94f7-9fe89e39e785"
      },
      "source": [
        "random.seed(12345)\n",
        "indexes = np.random.randint(1, len(depression), 20).tolist()\n",
        "depression.iloc[indexes]"
      ],
      "execution_count": null,
      "outputs": [
        {
          "output_type": "execute_result",
          "data": {
            "text/html": [
              "<div>\n",
              "<style scoped>\n",
              "    .dataframe tbody tr th:only-of-type {\n",
              "        vertical-align: middle;\n",
              "    }\n",
              "\n",
              "    .dataframe tbody tr th {\n",
              "        vertical-align: top;\n",
              "    }\n",
              "\n",
              "    .dataframe thead th {\n",
              "        text-align: right;\n",
              "    }\n",
              "</style>\n",
              "<table border=\"1\" class=\"dataframe\">\n",
              "  <thead>\n",
              "    <tr style=\"text-align: right;\">\n",
              "      <th></th>\n",
              "      <th>Text</th>\n",
              "      <th>Label</th>\n",
              "    </tr>\n",
              "  </thead>\n",
              "  <tbody>\n",
              "    <tr>\n",
              "      <th>31568</th>\n",
              "      <td>My son's girlfriend committed suicide, and now his no longer himself.A bit about my son- Before he starting dating his now deceased girlfriend, he was extremely depressed. He broke up with his girlfriend who was his best friend before. That absol...</td>\n",
              "      <td>1</td>\n",
              "    </tr>\n",
              "    <tr>\n",
              "      <th>37306</th>\n",
              "      <td>I tried writing a poem...Void\\n\\nI feel emptiness inside me\\n\\nSuffering endlessly\\n\\nSomeone, anyone,\\n\\nCan you save me?\\n\\nWhy am I cast among the filth?\\n\\nThe degenerates, the maggots?\\n\\nI am better than they\\n\\nMade of sterner stuff (or so...</td>\n",
              "      <td>1</td>\n",
              "    </tr>\n",
              "    <tr>\n",
              "      <th>2376</th>\n",
              "      <td>Why is drinking the only thing that helps ?I'm not even 20 and most days wanna get pissed at about midday. What's wrong with me ?</td>\n",
              "      <td>1</td>\n",
              "    </tr>\n",
              "    <tr>\n",
              "      <th>8410</th>\n",
              "      <td>I hate everything about myself.I've been morbidly depressed for about five or six years now, and it seems to get worse with each passing year. When it started out, I'd just feel kinda shitty and I wouldn't talk to my friends that much. Now I've f...</td>\n",
              "      <td>1</td>\n",
              "    </tr>\n",
              "    <tr>\n",
              "      <th>40039</th>\n",
              "      <td>Well here it is.As you're reading this I'm most likely dead. Tonight I've decided to end it because I just can't anymore. 15 years of pure torture from day 1. Can't wait to meet the afterlife because it's such a freedom. I hope everyone reading t...</td>\n",
              "      <td>1</td>\n",
              "    </tr>\n",
              "    <tr>\n",
              "      <th>40396</th>\n",
              "      <td>Things donât seem to get betterIdk what my life is gonna be in my future. Things only seem to get worse over time :/ . My problems arenât normal people problems. I just feel alone</td>\n",
              "      <td>1</td>\n",
              "    </tr>\n",
              "    <tr>\n",
              "      <th>25789</th>\n",
              "      <td>I am relapsing. :(I sought help back in June. And I had people talk to me. I met my counselor yesterday and actually she is an \"addictions counselor\" and originally my main counselor suggested her to me so I can stop smoking, \\n\\nI was so happy t...</td>\n",
              "      <td>1</td>\n",
              "    </tr>\n",
              "    <tr>\n",
              "      <th>35908</th>\n",
              "      <td>i have enough hydroxyzine tablets to kill myselfand i am really tired</td>\n",
              "      <td>1</td>\n",
              "    </tr>\n",
              "    <tr>\n",
              "      <th>17525</th>\n",
              "      <td>Images of Killing MyselfSince proabably about junior high (I'm now 21 years old), I've been having random images come into my head of me killing myself. It'll be multiple times per day, if not almost hourly. For a few seconds I just get images of...</td>\n",
              "      <td>1</td>\n",
              "    </tr>\n",
              "    <tr>\n",
              "      <th>28473</th>\n",
              "      <td>AloneI guess now that I have accepted that I'm going to die alone, never feel someone's love, I hope things will get easier</td>\n",
              "      <td>1</td>\n",
              "    </tr>\n",
              "    <tr>\n",
              "      <th>30402</th>\n",
              "      <td>I wish my shitty life ends tonight.I don't want to wake up tomorrow. I am doing something for that now. Wish me luck.</td>\n",
              "      <td>1</td>\n",
              "    </tr>\n",
              "    <tr>\n",
              "      <th>23592</th>\n",
              "      <td>Dad died ðanonymous - You really know what I be feeling I been feeling like this I'm trapped in a 10 foot hole that I can't get out of how many times I try to get out off it's so hard I failed high school twice I have no friends because my soc...</td>\n",
              "      <td>1</td>\n",
              "    </tr>\n",
              "    <tr>\n",
              "      <th>15885</th>\n",
              "      <td>Season 2 of Stranger Things, hitting a little too close to home.Will's POV throughout this season has been playing as a perfect analogy for my depressive state. I suffer with these bouts of \"lowness\" a couple times a month. Today I feel extra ter...</td>\n",
              "      <td>1</td>\n",
              "    </tr>\n",
              "    <tr>\n",
              "      <th>22403</th>\n",
              "      <td>parents dont believe in depressionIm just posting here out of frustration since Im not even sure if this counts or not as narcissism from my parents, but Ive been really depressed and suicidal, and there was ONE adult in my life who kept pleading...</td>\n",
              "      <td>1</td>\n",
              "    </tr>\n",
              "    <tr>\n",
              "      <th>46010</th>\n",
              "      <td>I wish I could tell them everything.I promise, there's nothing you could have done. I'm so sorry for what I'm about to put you through. Even when people say they want me to stay I just can't feel it anymore. No matter how desperately I want to fe...</td>\n",
              "      <td>1</td>\n",
              "    </tr>\n",
              "    <tr>\n",
              "      <th>3585</th>\n",
              "      <td>Please man....Hello,man where to start... Im a 19 year old guy that is about to start his 3rd semester of basics at a community college. Ever since ive beem feeling extremely depressed, anxious, and worthless. You see, college made me realise tha...</td>\n",
              "      <td>1</td>\n",
              "    </tr>\n",
              "    <tr>\n",
              "      <th>7108</th>\n",
              "      <td>I'm so aloneI feel like I'm not even present in the world anymore. Everyone I try to open up to about my depression gets scared of me and stops talking to me. What the hell is wrong with me!? With my anxiety, it takes so much effort just to talk ...</td>\n",
              "      <td>1</td>\n",
              "    </tr>\n",
              "    <tr>\n",
              "      <th>7589</th>\n",
              "      <td>i tried slitting my wrists last nightbut i guess im too much of a fuckup to even do that right cause i could only do my left arm and i coulnt even cut the arteries. i only bled maybe 1 or 2 oz and i just sat around listening to simon and garfunke...</td>\n",
              "      <td>1</td>\n",
              "    </tr>\n",
              "    <tr>\n",
              "      <th>2939</th>\n",
              "      <td>Dying is the only answer.Im tired of fighting.\\n</td>\n",
              "      <td>1</td>\n",
              "    </tr>\n",
              "    <tr>\n",
              "      <th>3131</th>\n",
              "      <td>Suicide or Settle For Less?I want to change the world. I want to leave some sort of positive lasting mark on this planet to at least prove that I was here for a while. However, I am not a skilled person, not intelligent or dedicated enough to mak...</td>\n",
              "      <td>1</td>\n",
              "    </tr>\n",
              "  </tbody>\n",
              "</table>\n",
              "</div>"
            ],
            "text/plain": [
              "                                                                                                                                                                                                                                                            Text  Label\n",
              "31568  My son's girlfriend committed suicide, and now his no longer himself.A bit about my son- Before he starting dating his now deceased girlfriend, he was extremely depressed. He broke up with his girlfriend who was his best friend before. That absol...      1\n",
              "37306  I tried writing a poem...Void\\n\\nI feel emptiness inside me\\n\\nSuffering endlessly\\n\\nSomeone, anyone,\\n\\nCan you save me?\\n\\nWhy am I cast among the filth?\\n\\nThe degenerates, the maggots?\\n\\nI am better than they\\n\\nMade of sterner stuff (or so...      1\n",
              "2376                                                                                                                           Why is drinking the only thing that helps ?I'm not even 20 and most days wanna get pissed at about midday. What's wrong with me ?      1\n",
              "8410   I hate everything about myself.I've been morbidly depressed for about five or six years now, and it seems to get worse with each passing year. When it started out, I'd just feel kinda shitty and I wouldn't talk to my friends that much. Now I've f...      1\n",
              "40039  Well here it is.As you're reading this I'm most likely dead. Tonight I've decided to end it because I just can't anymore. 15 years of pure torture from day 1. Can't wait to meet the afterlife because it's such a freedom. I hope everyone reading t...      1\n",
              "40396                                                                    Things donât seem to get betterIdk what my life is gonna be in my future. Things only seem to get worse over time :/ . My problems arenât normal people problems. I just feel alone      1\n",
              "25789  I am relapsing. :(I sought help back in June. And I had people talk to me. I met my counselor yesterday and actually she is an \"addictions counselor\" and originally my main counselor suggested her to me so I can stop smoking, \\n\\nI was so happy t...      1\n",
              "35908                                                                                                                                                                                     i have enough hydroxyzine tablets to kill myselfand i am really tired       1\n",
              "17525  Images of Killing MyselfSince proabably about junior high (I'm now 21 years old), I've been having random images come into my head of me killing myself. It'll be multiple times per day, if not almost hourly. For a few seconds I just get images of...      1\n",
              "28473                                                                                                                               AloneI guess now that I have accepted that I'm going to die alone, never feel someone's love, I hope things will get easier       1\n",
              "30402                                                                                                                                      I wish my shitty life ends tonight.I don't want to wake up tomorrow. I am doing something for that now. Wish me luck.      1\n",
              "23592  Dad died ðanonymous - You really know what I be feeling I been feeling like this I'm trapped in a 10 foot hole that I can't get out of how many times I try to get out off it's so hard I failed high school twice I have no friends because my soc...      1\n",
              "15885  Season 2 of Stranger Things, hitting a little too close to home.Will's POV throughout this season has been playing as a perfect analogy for my depressive state. I suffer with these bouts of \"lowness\" a couple times a month. Today I feel extra ter...      1\n",
              "22403  parents dont believe in depressionIm just posting here out of frustration since Im not even sure if this counts or not as narcissism from my parents, but Ive been really depressed and suicidal, and there was ONE adult in my life who kept pleading...      1\n",
              "46010  I wish I could tell them everything.I promise, there's nothing you could have done. I'm so sorry for what I'm about to put you through. Even when people say they want me to stay I just can't feel it anymore. No matter how desperately I want to fe...      1\n",
              "3585   Please man....Hello,man where to start... Im a 19 year old guy that is about to start his 3rd semester of basics at a community college. Ever since ive beem feeling extremely depressed, anxious, and worthless. You see, college made me realise tha...      1\n",
              "7108   I'm so aloneI feel like I'm not even present in the world anymore. Everyone I try to open up to about my depression gets scared of me and stops talking to me. What the hell is wrong with me!? With my anxiety, it takes so much effort just to talk ...      1\n",
              "7589   i tried slitting my wrists last nightbut i guess im too much of a fuckup to even do that right cause i could only do my left arm and i coulnt even cut the arteries. i only bled maybe 1 or 2 oz and i just sat around listening to simon and garfunke...      1\n",
              "2939                                                                                                                                                                                                            Dying is the only answer.Im tired of fighting.\\n      1\n",
              "3131   Suicide or Settle For Less?I want to change the world. I want to leave some sort of positive lasting mark on this planet to at least prove that I was here for a while. However, I am not a skilled person, not intelligent or dedicated enough to mak...      1"
            ]
          },
          "metadata": {
            "tags": []
          },
          "execution_count": 100
        }
      ]
    },
    {
      "cell_type": "markdown",
      "metadata": {
        "id": "3XMEljHPQ2wo"
      },
      "source": [
        "## 1.2 Recolección propia de textos\n",
        "Dado que ya se tiene la parte de depresión del set de datos, lo siguiente es crear la parte no-depresiva de este, pues el modelo necesita saber diferenciar entre textos de ambas clases. Dado que la base de datos que se usó extrajo sus datos de Reddit, se decidió hacer lo mismo para los textos con tonos no-depresivos.\n",
        "\n",
        "Como se mencionaba, se utilizó el módulo de PRAW con la API de Reddit para hacer la recolección propia de datos. Es importante mencionar que la finalidad de esta recolección es extraer textos de Reddit que no tengan un tono depresivo. Reddit es una red social muy grande, y afortunadamente tiene espacios para todo tipo de discusiones y todo tipo de personas, por lo que se piensa que es un buen lugar para extraer los textos que se necesitan. Al mismo tiempo, se quería también que los textos fueran variados, que no todos tuvieran el mismo tono (aunque no sea depresivo) dado que tener más variedad en el rango de textos que se incluyen será mejor para el modelo, ya que estará expuesto a textos con diferentes ideas y estructuras."
      ]
    },
    {
      "cell_type": "markdown",
      "metadata": {
        "id": "Se0XyT64RYfR"
      },
      "source": [
        "<hr>\n",
        "\n",
        "## Nota importante\n",
        "Para replicar los resultados que se muestran en las secciones posteriores, se debe continuar en la **sección 2.3**, donde ya se incorpora el set de datos finalizado que se guardó. Las siguientes celdas crean streams de datos de Reddit, por lo que si se usan para crear nuevos sets de datos es posible que los resultados no sean similares.\n",
        "\n",
        "Adicionalmente, se necesita proveer el **client_id** y el **client_secret** de una App del API de Reddit para poder hacer la recolección de datos.\n",
        "\n",
        "\n",
        "<hr>"
      ]
    },
    {
      "cell_type": "markdown",
      "metadata": {
        "id": "nG3bs8y-Tkq2"
      },
      "source": [
        "Antes que nada, se define el objeto de PRAW con las credenciales de Reddit, para poder traer los textos."
      ]
    },
    {
      "cell_type": "code",
      "metadata": {
        "id": "YmAPCPkOj_j0"
      },
      "source": [
        "reddit = praw.Reddit(client_id = '',\n",
        "                     client_secret = '',\n",
        "                     user_agent='praw tutorialv1')"
      ],
      "execution_count": null,
      "outputs": []
    },
    {
      "cell_type": "markdown",
      "metadata": {
        "id": "kj7sXZH_UVx7"
      },
      "source": [
        "Después se define la siguiente función, que recibe como parámetro el nombre de un subreddit, así como un límite. Lo que se hace es que se prende un stream de datos obtenidos del subreddit proporcionado, y cuando llegue al límite se corta el stream. Finalmente se regresan los textos que se guardaron. \n",
        "\n",
        "Cabe mencionar que para cada publicación que se recibe del API, se guarda su título y se guardan sus primeros 500 comentarios de primer nivel. Si se tienen menos comentarios se corta antes y se pasa a la siguiente publicación."
      ]
    },
    {
      "cell_type": "code",
      "metadata": {
        "id": "E1bd4mTmj_rr"
      },
      "source": [
        "def get_reddit_texts(subreddit, limitPubs, limitTexts, limitComms):\n",
        "    top_posts = reddit.subreddit(subreddit).top('year', limit=limitPubs)\n",
        "    texts = []\n",
        "\n",
        "    for submission in top_posts:\n",
        "        texts.append(submission.title)\n",
        "        submission_comm = reddit.submission(id=submission.id)\n",
        "\n",
        "        for count, top_level_comment in enumerate(submission_comm.comments):\n",
        "                count_comm = 0\n",
        "                try :\n",
        "                    texts.append(top_level_comment.body)\n",
        "\n",
        "                    if len(texts) >= limitTexts or count_comm >= limitComms:\n",
        "                        break\n",
        "                except:\n",
        "                    continue\n",
        "        \n",
        "        print(len(texts))\n",
        "\n",
        "        if len(texts) >= limitTexts:\n",
        "            break\n",
        "\n",
        "    return texts"
      ],
      "execution_count": null,
      "outputs": []
    },
    {
      "cell_type": "markdown",
      "metadata": {
        "id": "KvpgWP5PVJn_"
      },
      "source": [
        "La siguiente función llama a la anterior para obtener los textos, después, dado que estos textos son **no-depresivos**, se les asigna una label de **0**. Posteriormente ambas cosas se guardan en un CSV para poder utilizarlas después."
      ]
    },
    {
      "cell_type": "code",
      "metadata": {
        "id": "69GypRJXj_yv"
      },
      "source": [
        "def create_csv(subreddit, filename, limitPubs, limitTexts, limitComms):\n",
        "    texts = get_reddit_texts(subreddit, limitPubs, limitTexts, limitComms)\n",
        "    labels = [0 for x in range(len(texts))]\n",
        "    df = pd.DataFrame(zip(texts, labels), columns=[\"Text\", \"Label\"])\n",
        "    df.to_csv(filename, index=False)\n",
        "    df.head()"
      ],
      "execution_count": null,
      "outputs": []
    },
    {
      "cell_type": "markdown",
      "metadata": {
        "id": "KhuytMqvV4Va"
      },
      "source": [
        "Las siguientes celdas obtienen los textos y guardan los CSVs de diferentes subreddits. Se consideraron los siguientes 5 subreddits para sacar datos:\n",
        "- **ShowerThoughts**\n",
        "- **MadeMeSmile**\n",
        "- **Wholesome**\n",
        "- **HumansBeingBros**\n",
        "- **UpliftingNews**\n",
        "\n",
        "Como se puede notar, los 5 subreddits son considerados relativamente felices o agradables, por lo que se cree que forman un buen contraste a las publicaciones que se hacen en Depression y SuicideWatch. También, es importante mencionar que de cada subreddit se quisieron juntar 50,000 datos, aunque en para uno que otro subreddit se juntaron menos (en especial para **r/wholesome**. La idea de esto era complementar los 200 mil datos que contiene la base de datos de Kaggle. No obstante, estos se tuvieron que recortar más adelante para disminuir el tamaño del dataset completo, como se verá más adelante."
      ]
    },
    {
      "cell_type": "code",
      "metadata": {
        "id": "DzJPkN1arTrm"
      },
      "source": [
        "create_csv('showerthoughts', 'ShowerThoughts.csv', limitPubs = 10000, limitTexts = 50000, limitComms = 500)"
      ],
      "execution_count": null,
      "outputs": []
    },
    {
      "cell_type": "code",
      "metadata": {
        "id": "SA1bx1HV8Bcy"
      },
      "source": [
        "create_csv('MadeMeSmile', 'MadeMeSmile.csv', limitPubs = 10000, limitTexts = 50000, limitComms = 500)"
      ],
      "execution_count": null,
      "outputs": []
    },
    {
      "cell_type": "code",
      "metadata": {
        "id": "VXWQKP2m8Bil"
      },
      "source": [
        "create_csv('wholesome', 'Wholesome.csv', limitPubs = 10000, limitTexts = 50000, limitComms = 500)"
      ],
      "execution_count": null,
      "outputs": []
    },
    {
      "cell_type": "code",
      "metadata": {
        "id": "JsEiyrzP_a_i"
      },
      "source": [
        "create_csv('HumansBeingBros', 'HumansBeingBros.csv', limitPubs = 10000, limitTexts = 50000, limitComms = 500)"
      ],
      "execution_count": null,
      "outputs": []
    },
    {
      "cell_type": "code",
      "metadata": {
        "id": "H8QwtS_D_5dK"
      },
      "source": [
        "create_csv('UpliftingNews', 'UpliftingNews.csv', limitPubs = 10000, limitTexts = 50000, limitComms = 500)"
      ],
      "execution_count": null,
      "outputs": []
    },
    {
      "cell_type": "markdown",
      "metadata": {
        "id": "5Lwja9sMW87L"
      },
      "source": [
        "La siguiente celda es para poder utilizar los CSVs que se guardaron, con el objetivo de que los textos sean consistentes y no se construyan nuevos sets de datos cada que se abre el proyecto."
      ]
    },
    {
      "cell_type": "code",
      "metadata": {
        "id": "55z9LNHZJr58"
      },
      "source": [
        "shower_thoughts = pd.read_csv('ShowerThoughts.csv', encoding='ISO-8859-1')\n",
        "made_me_smile = pd.read_csv('MadeMeSmile.csv', encoding='ISO-8859-1')\n",
        "uplifting_news = pd.read_csv('UpliftingNews.csv', encoding='ISO-8859-1')\n",
        "wholesome = pd.read_csv('Wholesome.csv', encoding='ISO-8859-1')\n",
        "humansBeingBros = pd.read_csv('HumansBeingBros.csv', encoding='ISO-8859-1')"
      ],
      "execution_count": null,
      "outputs": []
    },
    {
      "cell_type": "markdown",
      "metadata": {
        "id": "-EiaCWh7LRKB"
      },
      "source": [
        "Finalmente, el conjunto de datos de los 5 subreddits distintos se combina en un solo DataFrame para crear uno solo que contenga todos los textos catalogados como no-depresivos. Las siguientes dos celdas guardan un CSV con el nuevo DataFrame creado y también leen el archivo del CSV, tal y como se hizo anteriormente."
      ]
    },
    {
      "cell_type": "code",
      "metadata": {
        "id": "IHXq8xYFJr9J"
      },
      "source": [
        "non_depression = pd.concat([shower_thoughts, made_me_smile, uplifting_news, wholesome, humansBeingBros], ignore_index=True)"
      ],
      "execution_count": null,
      "outputs": []
    },
    {
      "cell_type": "code",
      "metadata": {
        "id": "0RSmrv66JsAi"
      },
      "source": [
        "non_depression.to_csv(\"NonDepression.csv\", index=False)"
      ],
      "execution_count": null,
      "outputs": []
    },
    {
      "cell_type": "code",
      "metadata": {
        "id": "AZwhsxaHOfU4"
      },
      "source": [
        "non_depression = pd.read_csv('NonDepression.csv', encoding='ISO-8859-1')"
      ],
      "execution_count": null,
      "outputs": []
    },
    {
      "cell_type": "markdown",
      "metadata": {
        "id": "5i6FrHE5MMKS"
      },
      "source": [
        "## 1.3 Limitaciones del set de datos\n",
        "Ahora ya se tienen las dos partes principales del set de datos, a partir del cual se obendrán los sets de entrenamiento, validación y testing. Sin embargo, es importante mencionar que este set de datos no es perfecto, presenta unas limitaciones y sesgos bastante claros y que naturalmente afectan el rendimiento de los modelos, pero más importante que eso afectan la interpretación que se necesita hacer de los resultados, dado que lo que sale no necesariamente refleja la completa realidad.\n",
        "\n",
        "A continuación se explican las principales limitaciones y sesgos que se encontraron:\n",
        "\n",
        "\n",
        "1. **Catalogar todos los textos de un subreddit de la misma forma**. Se cree que esta es la más grande limitación que presenta el set de datos. Como se mencionó antes, Reddit es un lugar sumamente grande donde gente de todas partes comparte sus ideas y se presentan discusiones sobre las mismas. Y aunque estas ideas sí se dividen por tema con los diferentes subreddits, dentro de un mismo subreddit sigue habiendo una variedad impresionante de publicaciones. Debido a esto, decir que todos los textos dentro de r/depression son depresivos, puede que sea una generalización muy grande. No obstante, sí se estudiaron algunos textos que se reclectaron, y la gran mayoría sí tenían tono depresivo, en el caso de r/depression, por lo que esta decisión se tolerará para el proyecto.\n",
        "\n",
        "\n",
        "2. **La cantidad de los datos que se terminó usando**. Sí se mira en detalle la base de datos de Kaggle que se trajo para el proyecto, se puede ver que esta contiene poco más de 300 mil textos, alrededor de 200 mil contando solo los de depression y SuicideWatch, pero para el set de datos final se terminaron tomando solamente 50 mil de estos. Igulamente para los que se recolectaron, se terminaron juntando 10 mil de cada subreddit para completar los 100 mil. Esto claramente es poco considerando la cantidad de datos que se pudo haber usado, sin embargo, esto se dejó así por dos razones: primero por el tiempo que le tomaría a los modelos procesar tantos textos; segundo, como se verá más adelante se usaron modelos ya pre-entrenados, por lo que 100 mil textos se consideró suficiente para hacer el transfer learning.\n",
        "\n",
        "\n",
        "3. **La calidad general de los textos**. Esta limitación es algo que está completamente fuera de control, pero aún así vale la pena mencionarla. Cualquier persona puede escribir una publicación o comentario en Reddit, por lo que muchas veces la calidad de los textos no es la deseada, hay errores de ortografía, puede haber palabras ofensivas, entre muchas otras cosas. Sin embargo, el otro lado de la moneda es que estos textos de verdad reflejan lo que las personas están pensando, aunque su uso del lenguaje no sea siempre el más adecuado, por lo que termina quedando muy bien para un modelo como este, que quiere detectar un sentimiento específico en las personas.\n",
        "\n",
        "\n",
        "4. **Varianza en la longitud de los textos**. Esta es quizás la limitación menos importante, debido a que los modelos están preparados para manejar textos de diferentes longitudes. El problema es que, dentro del dataset es muy posible que haya una varianza muy grande en las longitudes. Por ejemplo, puede que haya comentarios como 'Well done!', con sólo dos palabras; y por el otro lado, puede que haya textos de 200 o 300 palabras argumentando su punto de vista en una discusión. Nuevamente, esto no es un problema grande, pero sí es uno que se identificó y por eso se incluye aquí.\n",
        "\n",
        "En general, aún con estas limitaciones se está contento con el set de datos que se pudo construir, y se piensa que a partir de él se pueden obtener resultados muy buenos. A continuación, se explican los pasos de preprocesamiento que se hicieron sobre los textos antes de alimentarlos a los modelos. También, se mostrarán algunas visualizaciones de los datos para más claridad.\n",
        "\n"
      ]
    },
    {
      "cell_type": "markdown",
      "metadata": {
        "id": "0zW1K1T2F_vw"
      },
      "source": [
        "# 2. Preprocesamiento\n",
        "Tras estudiar algunos de los textos que vienen en el dataset, es claro que se necesita realizar un preprocesamiento de la información, con el objetivo de minimizar el ruido de los datos y los errores presentes, así como preparar los textos para que los modelos los puedan consumir de mejor forma. Este fue el proceso que se siguió para llevar a cabo este preprocesamiento:\n",
        "\n",
        "1. **Eliminar los valores nulos/inservibles:** al modelo no se pueden alimentar valores nulos, por lo que hay que quitarlos del dataset. Pero además de eso, hay algunas entradas que sólo contienen la palabra \"[deleted]\" o \"[removed]\", que significa que la publicación o comentario fue eliminado en Reddit, pero el API aún así la trajo. Estas hay que eliminarlas también, pues no sirven.\n",
        "\n",
        "2. **Juntar la parte de depresión con la de no-depresión y hacer shuffle:** hasta ahora se habían mantenido separadas las dos partes del set de datos, por lo que se necesitan juntar en un solo dataset. Dado que se van a juntar una tras la otra, se necesita hacer un shuffle posteriormente para que el training, validation, y testing set reciban textos de ambas categorías.\n",
        "\n",
        "3. **Correr los datos por una función de preprocesamiento:** ya que se tenga un solo dataset con toda la informacion, todos los textos se van a pasar por una función que se diseñó para procesarlos. Más adelante se explica en profundo detalle en qué consiste esta función.\n",
        "\n",
        "4. **Eliminar los valores que hayan resultado nulos o vacíos tras procesarlos:** Tras hacer algunas pruebas, se notó que algunos textos resultan nulos tras el procesamiento, por lo que se volverá a revisar y a eliminar aquellos que hayan quedado como nulos o vaciós."
      ]
    },
    {
      "cell_type": "markdown",
      "metadata": {
        "id": "TlUDNg63bQZl"
      },
      "source": [
        "## 2.1 Eliminar los valores nulos/inservibles\n",
        "Primero se muestran algunos ejemplos donde los textos aparecen como \"[deleted]\" o \"[removed]\""
      ]
    },
    {
      "cell_type": "code",
      "metadata": {
        "colab": {
          "base_uri": "https://localhost:8080/",
          "height": 402
        },
        "id": "0E32OtNXPkyi",
        "outputId": "3d3b0023-d571-4885-9ece-12de43f2460e"
      },
      "source": [
        "non_depression[non_depression[\"Text\"] == \"[deleted]\"]\n",
        "non_depression[non_depression[\"Text\"] == \"[removed]\"]"
      ],
      "execution_count": null,
      "outputs": [
        {
          "output_type": "execute_result",
          "data": {
            "text/html": [
              "<div>\n",
              "<style scoped>\n",
              "    .dataframe tbody tr th:only-of-type {\n",
              "        vertical-align: middle;\n",
              "    }\n",
              "\n",
              "    .dataframe tbody tr th {\n",
              "        vertical-align: top;\n",
              "    }\n",
              "\n",
              "    .dataframe thead th {\n",
              "        text-align: right;\n",
              "    }\n",
              "</style>\n",
              "<table border=\"1\" class=\"dataframe\">\n",
              "  <thead>\n",
              "    <tr style=\"text-align: right;\">\n",
              "      <th></th>\n",
              "      <th>Text</th>\n",
              "      <th>Label</th>\n",
              "    </tr>\n",
              "  </thead>\n",
              "  <tbody>\n",
              "    <tr>\n",
              "      <th>406</th>\n",
              "      <td>[removed]</td>\n",
              "      <td>0</td>\n",
              "    </tr>\n",
              "    <tr>\n",
              "      <th>646</th>\n",
              "      <td>[removed]</td>\n",
              "      <td>0</td>\n",
              "    </tr>\n",
              "    <tr>\n",
              "      <th>805</th>\n",
              "      <td>[removed]</td>\n",
              "      <td>0</td>\n",
              "    </tr>\n",
              "    <tr>\n",
              "      <th>2520</th>\n",
              "      <td>[removed]</td>\n",
              "      <td>0</td>\n",
              "    </tr>\n",
              "    <tr>\n",
              "      <th>2893</th>\n",
              "      <td>[removed]</td>\n",
              "      <td>0</td>\n",
              "    </tr>\n",
              "    <tr>\n",
              "      <th>...</th>\n",
              "      <td>...</td>\n",
              "      <td>...</td>\n",
              "    </tr>\n",
              "    <tr>\n",
              "      <th>209687</th>\n",
              "      <td>[removed]</td>\n",
              "      <td>0</td>\n",
              "    </tr>\n",
              "    <tr>\n",
              "      <th>209693</th>\n",
              "      <td>[removed]</td>\n",
              "      <td>0</td>\n",
              "    </tr>\n",
              "    <tr>\n",
              "      <th>209703</th>\n",
              "      <td>[removed]</td>\n",
              "      <td>0</td>\n",
              "    </tr>\n",
              "    <tr>\n",
              "      <th>209829</th>\n",
              "      <td>[removed]</td>\n",
              "      <td>0</td>\n",
              "    </tr>\n",
              "    <tr>\n",
              "      <th>209950</th>\n",
              "      <td>[removed]</td>\n",
              "      <td>0</td>\n",
              "    </tr>\n",
              "  </tbody>\n",
              "</table>\n",
              "<p>1378 rows × 2 columns</p>\n",
              "</div>"
            ],
            "text/plain": [
              "             Text  Label\n",
              "406     [removed]      0\n",
              "646     [removed]      0\n",
              "805     [removed]      0\n",
              "2520    [removed]      0\n",
              "2893    [removed]      0\n",
              "...           ...    ...\n",
              "209687  [removed]      0\n",
              "209693  [removed]      0\n",
              "209703  [removed]      0\n",
              "209829  [removed]      0\n",
              "209950  [removed]      0\n",
              "\n",
              "[1378 rows x 2 columns]"
            ]
          },
          "metadata": {
            "tags": []
          },
          "execution_count": 103
        }
      ]
    },
    {
      "cell_type": "markdown",
      "metadata": {
        "id": "dNfYoYxmbcdh"
      },
      "source": [
        "Utilizando numpy, se obtienen los índices donde se presentan estas dos palabras, y se borran del DataFrame con *drop*. "
      ]
    },
    {
      "cell_type": "code",
      "metadata": {
        "id": "vXDG9UHEPk1S"
      },
      "source": [
        "removed_rows = np.where(non_depression[\"Text\"] == \"[removed]\")[0]\n",
        "non_depression.drop(removed_rows, axis=0, inplace=True)\n",
        "non_depression.reset_index(drop=True, inplace=True)"
      ],
      "execution_count": null,
      "outputs": []
    },
    {
      "cell_type": "code",
      "metadata": {
        "id": "saPW1YjtTpcd"
      },
      "source": [
        "deleted_rows = np.where(non_depression[\"Text\"] == \"[deleted]\")[0]\n",
        "non_depression.drop(deleted_rows, axis=0, inplace=True)\n",
        "non_depression.reset_index(drop=True, inplace=True)"
      ],
      "execution_count": null,
      "outputs": []
    },
    {
      "cell_type": "markdown",
      "metadata": {
        "id": "7A6uq8f7b0nF"
      },
      "source": [
        "Del resultado se toma un sample aleatorio de 50 mil textos. Como se mencionó antes, este CSV contenía alrededor de 200 mil textos. Sin embargo, aquí se recorta a 50 mil para complementar la parte de los textos depresivos y que el dataset resultante tenga 100 mil textos."
      ]
    },
    {
      "cell_type": "code",
      "metadata": {
        "colab": {
          "base_uri": "https://localhost:8080/"
        },
        "id": "0wyc6Yg-Pk7J",
        "outputId": "b08fbc23-8020-443a-9aeb-b74005b7b37e"
      },
      "source": [
        "non_depression = non_depression.sample(50000)\n",
        "non_depression.shape"
      ],
      "execution_count": null,
      "outputs": [
        {
          "output_type": "execute_result",
          "data": {
            "text/plain": [
              "(50000, 2)"
            ]
          },
          "metadata": {
            "tags": []
          },
          "execution_count": 107
        }
      ]
    },
    {
      "cell_type": "markdown",
      "metadata": {
        "id": "W0Hszr5lcWqE"
      },
      "source": [
        "## 2.2 Juntar la parte de depresión con la de no-depresión y hacer shuffle\n",
        "Ahora sí, se construye el dataset completo concatenando la parte de depresión con la parte de no-depresión."
      ]
    },
    {
      "cell_type": "code",
      "metadata": {
        "id": "sze6klFAPk-m"
      },
      "source": [
        "dataset = pd.concat([depression, non_depression], ignore_index=True)"
      ],
      "execution_count": null,
      "outputs": []
    },
    {
      "cell_type": "markdown",
      "metadata": {
        "id": "IOdu4ZFLcp3j"
      },
      "source": [
        "Por si acaso, se vuelve a revisar que no haya nulos en el dataset ya completo."
      ]
    },
    {
      "cell_type": "code",
      "metadata": {
        "colab": {
          "base_uri": "https://localhost:8080/"
        },
        "id": "qI9u5YjxkeK6",
        "outputId": "f814023c-6851-44a4-8880-9d8424f4763c"
      },
      "source": [
        "np.where(pd.isnull(dataset))[0]"
      ],
      "execution_count": null,
      "outputs": [
        {
          "output_type": "execute_result",
          "data": {
            "text/plain": [
              "array([70245])"
            ]
          },
          "metadata": {
            "tags": []
          },
          "execution_count": 122
        }
      ]
    },
    {
      "cell_type": "markdown",
      "metadata": {
        "id": "Dbx6UHg5cwVp"
      },
      "source": [
        "Como resultó que sí hubo un valor nulo, se obtiene su índice y se droppea del DataFrame. Posteriormente se muestra la información del DataFrame resultante."
      ]
    },
    {
      "cell_type": "code",
      "metadata": {
        "id": "9A1yFL-SVZaj",
        "colab": {
          "base_uri": "https://localhost:8080/"
        },
        "outputId": "0a25839f-279f-41bf-e0cb-e5d0b9acf17b"
      },
      "source": [
        "null_rows = np.where(pd.isnull(dataset))[0]\n",
        "dataset.drop(null_rows, axis=0, inplace=True)\n",
        "dataset.reset_index(drop=True, inplace=True)\n",
        "dataset.info()"
      ],
      "execution_count": null,
      "outputs": [
        {
          "output_type": "stream",
          "text": [
            "<class 'pandas.core.frame.DataFrame'>\n",
            "RangeIndex: 99999 entries, 0 to 99998\n",
            "Data columns (total 2 columns):\n",
            " #   Column  Non-Null Count  Dtype \n",
            "---  ------  --------------  ----- \n",
            " 0   Text    99999 non-null  object\n",
            " 1   Label   99999 non-null  int64 \n",
            "dtypes: int64(1), object(1)\n",
            "memory usage: 1.5+ MB\n"
          ],
          "name": "stdout"
        }
      ]
    },
    {
      "cell_type": "markdown",
      "metadata": {
        "id": "LLv2wiQ3c_Lt"
      },
      "source": [
        "Ahora sí, ya que se sabe que no hay nulos, se le hace un shuffle al dataset utilizando la función que proporciona SciKitLearn. Posteriormente se muestran algunos textos para tener una visualización de lo que está pasando. "
      ]
    },
    {
      "cell_type": "code",
      "metadata": {
        "colab": {
          "base_uri": "https://localhost:8080/",
          "height": 616
        },
        "id": "fOiLYijJOXLg",
        "outputId": "5ef4ef1a-7f08-4285-ab15-dc4da75e1ba3"
      },
      "source": [
        "dataset = shuffle(dataset)\n",
        "dataset.head(15)"
      ],
      "execution_count": null,
      "outputs": [
        {
          "output_type": "execute_result",
          "data": {
            "text/html": [
              "<div>\n",
              "<style scoped>\n",
              "    .dataframe tbody tr th:only-of-type {\n",
              "        vertical-align: middle;\n",
              "    }\n",
              "\n",
              "    .dataframe tbody tr th {\n",
              "        vertical-align: top;\n",
              "    }\n",
              "\n",
              "    .dataframe thead th {\n",
              "        text-align: right;\n",
              "    }\n",
              "</style>\n",
              "<table border=\"1\" class=\"dataframe\">\n",
              "  <thead>\n",
              "    <tr style=\"text-align: right;\">\n",
              "      <th></th>\n",
              "      <th>Text</th>\n",
              "      <th>Label</th>\n",
              "    </tr>\n",
              "  </thead>\n",
              "  <tbody>\n",
              "    <tr>\n",
              "      <th>22629</th>\n",
              "      <td>Mark Zuckerberg??</td>\n",
              "      <td>0</td>\n",
              "    </tr>\n",
              "    <tr>\n",
              "      <th>81144</th>\n",
              "      <td>Dunno, there's no hiding it.</td>\n",
              "      <td>0</td>\n",
              "    </tr>\n",
              "    <tr>\n",
              "      <th>35881</th>\n",
              "      <td>He looks like a baby Chewbacca, so damn cute Ã¢ÂÂºÃ¯Â¸Â</td>\n",
              "      <td>0</td>\n",
              "    </tr>\n",
              "    <tr>\n",
              "      <th>85709</th>\n",
              "      <td>I wish I never made it this farI honestly which I killed myself by now, I hate life, I hate being alone, I hate everything and person toxic in my life, I hate being around... I was exposed to Covid19 start of Dec and I survived that which I reall...</td>\n",
              "      <td>1</td>\n",
              "    </tr>\n",
              "    <tr>\n",
              "      <th>17929</th>\n",
              "      <td>Some problems can't be talked out of.I reached the end a few years ago. I've been hanging out and waiting for the courage to kill myself but I've never been able to even in the most intense periods of pain. I wish I was stronger. There have been ...</td>\n",
              "      <td>1</td>\n",
              "    </tr>\n",
              "    <tr>\n",
              "      <th>19793</th>\n",
              "      <td>overdosing tonight. sorry guys.i think i might overdose tonight. its fucking hopeless its literally fucking hopeless im a lose cause. my mom is abusive and i was finishign up an art commission downstairs and i asked when my next psychiatrist meet...</td>\n",
              "      <td>1</td>\n",
              "    </tr>\n",
              "    <tr>\n",
              "      <th>78151</th>\n",
              "      <td>I've had depression for over ten years... here's my story. It really does get better!I refuse to post this to a throwaway account, and I'm always encouraging people to share with me and I'd be a complete hypocrite if I wasn't my total honest, tru...</td>\n",
              "      <td>1</td>\n",
              "    </tr>\n",
              "    <tr>\n",
              "      <th>75156</th>\n",
              "      <td>Karma farming</td>\n",
              "      <td>0</td>\n",
              "    </tr>\n",
              "    <tr>\n",
              "      <th>55927</th>\n",
              "      <td>Im about to show how big of a failure I amI have my physics final tomorrow, and i've been trying to study for it. I dont understand half the content i have to study from. I flunked two tests so far, and am borderline failing this class that my pa...</td>\n",
              "      <td>1</td>\n",
              "    </tr>\n",
              "    <tr>\n",
              "      <th>71633</th>\n",
              "      <td>First the Titanfall series and now this?\\n\\nMy favorite game company so far</td>\n",
              "      <td>0</td>\n",
              "    </tr>\n",
              "    <tr>\n",
              "      <th>62442</th>\n",
              "      <td>i loved when people from the other side of the road would come over to give a high five</td>\n",
              "      <td>0</td>\n",
              "    </tr>\n",
              "    <tr>\n",
              "      <th>21485</th>\n",
              "      <td>Heroin addiction is temporary, Wu-tang is forever.</td>\n",
              "      <td>0</td>\n",
              "    </tr>\n",
              "    <tr>\n",
              "      <th>4137</th>\n",
              "      <td>Probably didnÃ¢ÂÂt careÃ¢ÂÂ.</td>\n",
              "      <td>0</td>\n",
              "    </tr>\n",
              "    <tr>\n",
              "      <th>7505</th>\n",
              "      <td>Deepest sympathies, OP. Your son was beautiful and I hope you know that one more stranger on the internet is thinking of him and his mom, today. Peace be with you.</td>\n",
              "      <td>0</td>\n",
              "    </tr>\n",
              "    <tr>\n",
              "      <th>88499</th>\n",
              "      <td>I can't take keep battling these constant suicidal thoughts, at verge of going through with it.From the moment I wake up, I feel anxious, depressed, suicidal and have a horrible feeling that goes through the pit of my stomach. \\n\\nI'm 30 years ol...</td>\n",
              "      <td>1</td>\n",
              "    </tr>\n",
              "  </tbody>\n",
              "</table>\n",
              "</div>"
            ],
            "text/plain": [
              "                                                                                                                                                                                                                                                            Text  Label\n",
              "22629                                                                                                                                                                                                                                          Mark Zuckerberg??      0\n",
              "81144                                                                                                                                                                                                                               Dunno, there's no hiding it.      0\n",
              "35881                                                                                                                                                                                                  He looks like a baby Chewbacca, so damn cute Ã¢ÂÂºÃ¯Â¸Â      0\n",
              "85709  I wish I never made it this farI honestly which I killed myself by now, I hate life, I hate being alone, I hate everything and person toxic in my life, I hate being around... I was exposed to Covid19 start of Dec and I survived that which I reall...      1\n",
              "17929  Some problems can't be talked out of.I reached the end a few years ago. I've been hanging out and waiting for the courage to kill myself but I've never been able to even in the most intense periods of pain. I wish I was stronger. There have been ...      1\n",
              "19793  overdosing tonight. sorry guys.i think i might overdose tonight. its fucking hopeless its literally fucking hopeless im a lose cause. my mom is abusive and i was finishign up an art commission downstairs and i asked when my next psychiatrist meet...      1\n",
              "78151  I've had depression for over ten years... here's my story. It really does get better!I refuse to post this to a throwaway account, and I'm always encouraging people to share with me and I'd be a complete hypocrite if I wasn't my total honest, tru...      1\n",
              "75156                                                                                                                                                                                                                                              Karma farming      0\n",
              "55927  Im about to show how big of a failure I amI have my physics final tomorrow, and i've been trying to study for it. I dont understand half the content i have to study from. I flunked two tests so far, and am borderline failing this class that my pa...      1\n",
              "71633                                                                                                                                                                                First the Titanfall series and now this?\\n\\nMy favorite game company so far      0\n",
              "62442                                                                                                                                                                    i loved when people from the other side of the road would come over to give a high five      0\n",
              "21485                                                                                                                                                                                                         Heroin addiction is temporary, Wu-tang is forever.      0\n",
              "4137                                                                                                                                                                                                                            Probably didnÃ¢ÂÂt careÃ¢ÂÂ.      0\n",
              "7505                                                                                         Deepest sympathies, OP. Your son was beautiful and I hope you know that one more stranger on the internet is thinking of him and his mom, today. Peace be with you.      0\n",
              "88499  I can't take keep battling these constant suicidal thoughts, at verge of going through with it.From the moment I wake up, I feel anxious, depressed, suicidal and have a horrible feeling that goes through the pit of my stomach. \\n\\nI'm 30 years ol...      1"
            ]
          },
          "metadata": {
            "tags": []
          },
          "execution_count": 127
        }
      ]
    },
    {
      "cell_type": "markdown",
      "metadata": {
        "id": "FWaOV9gcdSCF"
      },
      "source": [
        "Como se puede ver, hay algunos caracteres que pareciera que no se procesaron correctamente, quizás hubo algún error con el encoding de los textos. Para tener mejor certeza, se verifica cuál es el encoding de los textos uilizando *chardet*."
      ]
    },
    {
      "cell_type": "code",
      "metadata": {
        "colab": {
          "base_uri": "https://localhost:8080/"
        },
        "id": "sgzM7m8Kdn5-",
        "outputId": "116523e9-a45c-4292-c06b-4d7031346d7f"
      },
      "source": [
        "with open(\"Dataset.csv\", 'rb') as rawdata:\n",
        "    result = chardet.detect(rawdata.read(10000))\n",
        "\n",
        "print(result)"
      ],
      "execution_count": null,
      "outputs": [
        {
          "output_type": "stream",
          "text": [
            "{'encoding': 'utf-8', 'confidence': 0.99, 'language': ''}\n"
          ],
          "name": "stdout"
        }
      ]
    },
    {
      "cell_type": "markdown",
      "metadata": {
        "id": "37RLGd2fdpF5"
      },
      "source": [
        "Dado que el resultado fue utf-8, se piensa que quizás hubo un error con el encoding de los textos de 'no-depression', que como se vio para esos se utilizó 'ISO-8859-1'. Como parece que solamente el caracter del apostrofe resultó con error, se hace el reemplazo manual de los caracteres raros que se muestran por el caracter del apostrofe."
      ]
    },
    {
      "cell_type": "code",
      "metadata": {
        "colab": {
          "base_uri": "https://localhost:8080/"
        },
        "id": "oRNTThc2cV-u",
        "outputId": "91eb8888-f40e-4831-f0b0-25d46f8aab5c"
      },
      "source": [
        "t = dataset.iloc[0][\"Text\"]\n",
        "print(t.replace('â\\x80\\x99', \"'\"))\n",
        "\n",
        "dataset[\"Text\"] = dataset[\"Text\"].apply(lambda x: str(x).replace('â\\x80\\x99', \"'\"))"
      ],
      "execution_count": null,
      "outputs": [
        {
          "output_type": "stream",
          "text": [
            "Mark Zuckerberg??\n"
          ],
          "name": "stdout"
        }
      ]
    },
    {
      "cell_type": "markdown",
      "metadata": {
        "id": "IHlsOPPHeOam"
      },
      "source": [
        "Una vez que se hace la sustitución, el dataset completo se guarda en un CSV para su uso más adelante.\n",
        "\n",
        "**Nota importante**: este dataset es el que se usa para crear los sets de training, validation y testing."
      ]
    },
    {
      "cell_type": "code",
      "metadata": {
        "id": "04TIReOKOXQA"
      },
      "source": [
        "dataset.to_csv(\"Dataset.csv\", index=False)"
      ],
      "execution_count": null,
      "outputs": []
    },
    {
      "cell_type": "markdown",
      "metadata": {
        "id": "_XrpfQ_EetVD"
      },
      "source": [
        "## 2.3 Correr los datos por una función de preprocesamiento\n",
        "Lo primero que se hace es leer el CSV del dataset"
      ]
    },
    {
      "cell_type": "code",
      "metadata": {
        "id": "oAYtgZHYOXTs"
      },
      "source": [
        "dataset = pd.read_csv('Dataset.csv', encoding='utf-8')"
      ],
      "execution_count": null,
      "outputs": []
    },
    {
      "cell_type": "markdown",
      "metadata": {
        "id": "MQT72PWJ-yHX"
      },
      "source": [
        "Ya con el archivo del dataset armado y leído, se puede pasar al procesamiento de los textos en sí. Primero, utilizando NLTK se define un set de **stopwords** que se estarán removiendo de los textos. Nótese que primero se define una lista de palabras con connatación negativa, estas es importante quitarlas del set de stopwords dado que sí pueden alterar el significado o intención del texto, a diferencia de palabras como 'the' que no terminan siendo muy importantes pero sí están muy presentes en los textos."
      ]
    },
    {
      "cell_type": "code",
      "metadata": {
        "id": "NaJOyyMGSQBE"
      },
      "source": [
        "negatives = ['no', 'not', 'none', 'hasn', \"shan't\", 'wouldn', \"won't\", \"weren't\", \"didn't\", 'isn', \"couldn't\", 'weren', \"wouldn't\", \"don't\", \"doesn't\", 'mustn', \"hadn't\", 'needn', \"haven't\", \"aren't\", \"wasn't\", \"isn't\", \"mustn't\", \"ain't\", \"needn't\"]\n",
        "stop_words = set(stopwords.words(\"english\") + [',', '...', '.', '..', \"'\", '’', 'rt', ':']) - set(negatives)"
      ],
      "execution_count": null,
      "outputs": []
    },
    {
      "cell_type": "markdown",
      "metadata": {
        "id": "-bJivRYLkVzy"
      },
      "source": [
        "Se definieron dos funciones para realizar el procesamiento de los textos. A continuación se describe la funcionalidad de cada una.\n",
        "\n",
        "La primera función cumple dos propósitos: **lemmatizar** y **tokenizar** los texto que recibe. Con la primera, se quiere regresar las palabras a su raíz, con el objetivo de que palabras como 'running' y 'ran' se tomen como la misma. Y la segunda, va a dividir el texto del tweet en palabras, y estas se regresarán en una lista. Además de esto, es importante mencionar que sólo se incluyen palabras que **no sean stopwords**, por la razón que estas no terminan aportando al sentimiento del tweet, tal y como se mencionó arriba."
      ]
    },
    {
      "cell_type": "code",
      "metadata": {
        "id": "gYiHta3bSQ0S"
      },
      "source": [
        "def lemmatize_tokenize(text):\n",
        "    lemmatizer = WordNetLemmatizer()\n",
        "    return ' '.join([lemmatizer.lemmatize(token.lower()) for token in word_tokenize(text) if token not in stop_words])"
      ],
      "execution_count": null,
      "outputs": []
    },
    {
      "cell_type": "markdown",
      "metadata": {
        "id": "eQ73FW3OlGgm"
      },
      "source": [
        "La segunda función va a quitar o arreglar ciertas cosas que se notaron en los textos y que se cree que no aportan mucho para determinar su clasificación. Más específicamente, se hace lo siguiente:\n",
        "\n",
        "*   **Remover menciones a otros subreddits**, dado que no se cree que estos afecten el significado del texto.\n",
        "*   **Remover menciones a usuarios de Reddit**, dado que se considera importante que los textos permanezcan lo más anónimo que sea posible, tal como lo hicieron los autores del paper sobre el cuál está basado este proyecto.\n",
        "*   **Sustituir los emojis**, al igual que los hashtags, se piensa que sería mucho más útil agrupar todos los emojis positivos y separarlos de los negativos.\n",
        "*   **Remover los URLs**, en el sentido de que se removerán los caracteres especiales y sólo se dejarán las palabras importantes de este.\n",
        "*   **Remover caracteres repetidos**, para agrupar palabras como 'heelloooo' en una sola\n",
        "*   **Remover caracteres de control de strings**, se notó que muchos de los textos contienen caracteres como '\\n' y '\\t', se decidió quitarlos para que no hagan ruido en los textos.\n",
        "\n",
        "Finalmente, esta función regresa el texto procesado por la función anterior para así guardarlo."
      ]
    },
    {
      "cell_type": "code",
      "metadata": {
        "id": "KNqyZNWedWp-"
      },
      "source": [
        "def process_text(text):\n",
        "    # Remover menciones a subreddits\n",
        "    text = re.sub(r\"\\/r\\/([^\\s/]+)\", r\"\", text) # regex tomada de https://stackoverflow.com/questions/21109968/python-regex-to-match-subreddit-names\n",
        "\n",
        "    # Remover menciones a otros usuarios de Reddit\n",
        "    text = re.sub(r\"\\/u\\/([^\\s/]+)\", r\"\", text) # regex tomada de https://stackoverflow.com/questions/46104630/regex-to-identify-reddit-usernames\n",
        "\n",
        "    # Reemplazar los emojis\n",
        "    HAPPY_EMO = r\"([xX;:]-?[dD\\)]|:-?[\\\\\\)]|[;:][pP])\" # tomada de https://stackoverflow.com/questions/28077049/regex-matching-emoticons\n",
        "    SAD_EMO = SAD_EMO = r\"(:'?[/|\\(])\" # tomada de https://stackoverflow.com/questions/28077049/regex-matching-emoticons\n",
        "\n",
        "    text = re.sub(HAPPY_EMO, \" happyemoticon \", text)\n",
        "    text = re.sub(SAD_EMO, \" sademoticon \", text)\n",
        "\n",
        "    # Remover los URLs\n",
        "    text = re.sub(r\"htpps?://\\S+|www\\.\\S+\", \"\", text)\n",
        "\n",
        "    # Remover caracteres repetidos\n",
        "    text = re.sub(r\"(.)\\1+\", r\"\\1\\1\", text)\n",
        "\n",
        "    # Remover caracteres de control de strings\n",
        "    text = re.sub(r\"[\\n\\r\\t]\", r\" \", text)\n",
        "\n",
        "    return text"
      ],
      "execution_count": null,
      "outputs": []
    },
    {
      "cell_type": "markdown",
      "metadata": {
        "id": "n8X2KLowopIA"
      },
      "source": [
        "Ya con las funciones definidas, se toman los textos del dataset y se pasan por ambas funciones para obtener la lista de los textos procesados. También se arma una lista con las labels del dataset. Ambas cosas se estarán usando para generar los sets de training, validation y testing. "
      ]
    },
    {
      "cell_type": "code",
      "metadata": {
        "id": "7QxI_67dC9qx"
      },
      "source": [
        "processed_ds = dataset.Text.map(lambda text: lemmatize_tokenize(process_text(text)))"
      ],
      "execution_count": null,
      "outputs": []
    },
    {
      "cell_type": "code",
      "metadata": {
        "id": "kpK_P0dtUAoN"
      },
      "source": [
        "labels = dataset.Label"
      ],
      "execution_count": null,
      "outputs": []
    },
    {
      "cell_type": "markdown",
      "metadata": {
        "id": "EOmg50OUpmUG"
      },
      "source": [
        "## 2.4 Eliminar los valores que hayan resultado nulos o vacíos tras procesarlos\n",
        "Como se mencionó, tras hacer algunas pruebas hubo casos en los que salían errores debido a valores vacíos o nulos en la lista de textos ya procesados. Debido a eso, se volvió a buscar los índices donde esto ocurra y se eliminaron de ambas listas, tanto de los textos como de los labels. Es importante remover las mismas entradas de ambas listas, dado que si no se crearía un desfase y los modelos aprenderían sobre los datos erróneos."
      ]
    },
    {
      "cell_type": "code",
      "metadata": {
        "id": "mvBlPwPAmmEV"
      },
      "source": [
        "null_rows = np.where(processed_ds == \"\")[0]"
      ],
      "execution_count": null,
      "outputs": []
    },
    {
      "cell_type": "code",
      "metadata": {
        "id": "46Lyn2v6vayX"
      },
      "source": [
        "processed_ds.drop(null_rows, axis=0, inplace=True)\n",
        "processed_ds.reset_index(drop=True, inplace=True)\n",
        "\n",
        "labels.drop(null_rows, axis=0, inplace=True)\n",
        "labels.reset_index(drop=True, inplace=True)"
      ],
      "execution_count": null,
      "outputs": []
    },
    {
      "cell_type": "markdown",
      "metadata": {
        "id": "sFcPcYWFL5i4"
      },
      "source": [
        "## 2.5 Visualización de los datos"
      ]
    },
    {
      "cell_type": "markdown",
      "metadata": {
        "id": "q8mgf7tk5j2B"
      },
      "source": [
        "Es importante tener una buena visualización de los datos que se van a estar usando con los modelos. En este caso, primero se decidió construir una gráfica que compare la cantidad de textos etiquetados como depresivos con aquellos etiquetados como no-depresivos. \n",
        "\n",
        "La siguiente celda calcula la cantidad de textos con cada una de las etiquetas."
      ]
    },
    {
      "cell_type": "code",
      "metadata": {
        "id": "u-j5TxhV3c0z"
      },
      "source": [
        "zeros_count = len(np.where(labels == 0)[0])\n",
        "ones_count = len(np.where(labels == 1)[0])"
      ],
      "execution_count": null,
      "outputs": []
    },
    {
      "cell_type": "markdown",
      "metadata": {
        "id": "iqcR9LcD56GE"
      },
      "source": [
        "De ahí, se utiliza esta información para construir una gráfica de barras, algo sencilla, pero importante porque nos muestra que la cantidad de textos sí quedó prácticamente balanceada aún después de todo el preprocesamiento y de haber quitado varios reglones que no servían."
      ]
    },
    {
      "cell_type": "code",
      "metadata": {
        "colab": {
          "base_uri": "https://localhost:8080/",
          "height": 346
        },
        "id": "CGhE7QMg4oHK",
        "outputId": "92ab3628-998d-4b21-d905-7b703ccb5bc8"
      },
      "source": [
        "fig = plt.figure()\n",
        "ax = fig.add_axes([0,0,1,1])\n",
        "langs = ['Non-depression', 'Depression']\n",
        "students = [zeros_count, ones_count]\n",
        "ax.bar(langs,students)\n",
        "ax.set_ylabel('Examples')\n",
        "plt.show()"
      ],
      "execution_count": 46,
      "outputs": [
        {
          "output_type": "display_data",
          "data": {
            "image/png": "[encoded data removed]",
            "text/plain": [
              "<Figure size 432x288 with 1 Axes>"
            ]
          },
          "metadata": {
            "tags": []
          }
        }
      ]
    },
    {
      "cell_type": "markdown",
      "metadata": {
        "id": "0RMDTJ8I6Ixw"
      },
      "source": [
        "Lo segundo que se hizo fue obtener el promedio y la mediana de la logitud de los textos. Esto ayudará más adelante en definir el tamaño de los embeddings que se estarán alimentando a los modelos. La idea con este tamaño es que no sea muy grande, para que no alente mucho a los modelos, pero tampoco puede ser muy chico, si fuera así se terminarían truncando muchos de los textos."
      ]
    },
    {
      "cell_type": "code",
      "metadata": {
        "colab": {
          "base_uri": "https://localhost:8080/"
        },
        "id": "BDFQxu4X47ir",
        "outputId": "21a94105-ffbb-41e8-f752-b48f2a35bff0"
      },
      "source": [
        "text_lengths = [len(text) for text in processed_ds]\n",
        "print(f\"The mean of the text lengths is {np.mean(text_lengths)}\")\n",
        "print(f\"The median of the text lengths is {np.median(text_lengths)}\")"
      ],
      "execution_count": null,
      "outputs": [
        {
          "output_type": "stream",
          "text": [
            "The mean of the text lengths is 436.2258823058527\n",
            "The median of the text lengths is 144.0\n"
          ],
          "name": "stdout"
        }
      ]
    },
    {
      "cell_type": "markdown",
      "metadata": {
        "id": "Iu81rYA06XLc"
      },
      "source": [
        "Como se puede ver, el promedio de longitudes está por encima de 400 palabras. Esto significa que hay textos muy largos, pro encima de 500 palabras, pero también hay muchos muy cortos. Incluso es posible que haya textos extremadamente grandes, 1000+ palabras, que terminan afectando el promedio. Por eso, la longitud de secuencia que se usará será algo más cercano a la mediana, que resultó en 144. Se piensa que **200** es un buen tamaño, ya que, al estar después de la mediana significa que no se estarán truncando muchos de los textos, pero también es importante considerar que 200 no es un tamaño muy grande, por ejemplo si se compara con el máximo tamaño que puede aceptar BERT de 512 palabras."
      ]
    },
    {
      "cell_type": "markdown",
      "metadata": {
        "id": "uYro2Z0KGa_x"
      },
      "source": [
        "# 3. Selección y entrenamiento de modelos\n",
        "Ahora sí, ya que se tiene el dataset construido y comprendido, la siguiente etapa consiste en la construcción, entrenamiento y evaluación de los modelos. Primero se va a explicar la selección de los modelos junto con el razonamiento que se tuvo para cada uno. Después, se va a mostrar el proceso para construir los training, validation y testing sets apropiados para cada modelo. Una vez que se tengan, se procede a definir los hiperparámetros, así como las funciones de costo y optimización que se estarán usando.\n",
        "\n",
        "Finalmente, se mostrará el entrenamiento de los modelos, junto con sus métricas de evaluación resultantes. Cabe mencionar que para cada uno, justo después de su evaluación, se harán observaciones sobre los resultados y se mencionarán algunas limitaciones que tiene el modelo."
      ]
    },
    {
      "cell_type": "markdown",
      "metadata": {
        "id": "a6hV-7wPOJ6J"
      },
      "source": [
        "## 3.1 Modelos Seleccionados\n",
        "A continuación se describen los 3 modelos que se implementaron:\n",
        "\n",
        "### BERT\n",
        "BERT fue introducido en el siguiente paper: https://arxiv.org/pdf/1810.04805.pdf. Las características principales que definen a este modelo es que aplica una técnica bidireccional de entrenamiento al transformador para el modelamiento del lenguaje. Esto lo ayuda a que tenga un mejor sentido del contexto y flujo del texto que está procesando. Los autores hicieron esto usando una técnica que llamarom **Masked Language Modeling (MLM)**, en la cual 15% de las palabras en cada secuencia son reemplazadas por un token [MASK]. Después tratan que el modelo prediga los valores originales, basado en el contexto por las palabras no enmascaradas.\n",
        "\n",
        "La otra técnica de entrenamiento que usaron los autores es llamada **Next Sentence Prediction**, donde el modelo recibe pares de oraciones como entrada y aprende a predecir si la segunda oración es subsecuente a la primera en el documento original. 50% de las entradas sí lo son, mientras que el resto no lo son. \n",
        "\n",
        "Se está entrando en mucho detalle en BERT, debido a que los siguintes modelos tomaron inspiración, sino es que están basados en BERT.\n",
        "\n",
        "Las **limitaciones principales** que tiene BERT son:\n",
        "- Solamente puede manejar secuencias de hasta 512 tokens\n",
        "- Corrompe las entradas al modificarlas para usar los tokens de [MASK]\n",
        "- No toma en cuenta la dependencia entre tokens enmascarados\n",
        "\n",
        "### RoBERTa\n",
        "Fue introducido por Facebook, y la idea era presentar un acercamiento robustamente optimizado a lo que se presentó con BERT. Este es el paper original: https://arxiv.org/abs/1907.11692. Los autores decidieron enfocar este modelo en el objetivo de MLM de BERT, desechando por completo el objetivo de NSP. Esto les permitió modificar hiperparámetros clave de BERT para enfocarse en ese objetivo y alcanzar el estado-del-arte en varias tareas distinas.\n",
        "\n",
        "Las **limitaciones principales** que tiene RoBERTa son:\n",
        "- Se podría decir que este modelo pueda compartir las limitaciones que BERT tiene, dado que, como mencionan los autores del paper, \"BERT no estaba lo suficientemente entrenado, por lo que pusimos unas mejoras para eso.\"\n",
        "\n",
        "### XLNet\n",
        "El tercer y último modelo que se implementó fue llamado XLNet. De igual manera, también toma algunas de sus ideas de BERT, sin embargo, hace un cambio clave al objetivo de entrenamiento. XLNet lo que busca es aprender las distribuciones condicionales para todas las permutaciones de los tokens en una secuencia, llamado **Permutation Language Modeling**. Es un acercamiento diferente pero que también puede capturar el contexto bidireccional utilizando información contextual. El paper original es: https://arxiv.org/abs/1906.08237.\n",
        "\n",
        "**Limitaciones**:\n",
        "\n",
        "Para XLNet no se pudieron encontrar limitaciones específicas, lo cual tiene sentido dado que es de lo más nuevo que ha salido. Sin embargo, es claro que cuando se tenga más tiempo de analizar el modelo se irán mostrando sus desventajas. Personalmente, para este proyecto una limitación fue que XLNet fue el modelo que más tiempo tomó para entrenar, y cmo se verá más adelante, fue el que obtuvo peores resultados, quizás porque no se hizo transfer learning por el tiempo apropiado.\n",
        "\n",
        "\n",
        "\n"
      ]
    },
    {
      "cell_type": "markdown",
      "metadata": {
        "id": "WF2QL6ECWa2a"
      },
      "source": [
        "Estos modelos claramente son el estado-del-arte actual en cuanto a procesamiento de lenguaje natural. Esa es la razón principal por la que se querían incluir en el proyecto, ya que sería una muy buena experiencia de aprendizaje poder trabajar con dichos modelos. En cuanto a la implementación en sí, se está utilizando el módulo de **Transformadores** construido por **HuggingFace** para importar los modelos ya pre-entrenados. Se pueden encontrar en: https://huggingface.co/models. Una vez que se importan, se aplica transfer learning para que los modelos aprendan del dataset que se construyó aquí y puedan sacar resultados específicos para eso."
      ]
    },
    {
      "cell_type": "markdown",
      "metadata": {
        "id": "3AnuQjaaepHR"
      },
      "source": [
        "## 3.2 Plan de entrenamiento\n",
        "### Hiperparámetros\n",
        "Los hiperparámetros se manejaron de dos formas, primero para la construcción de los sets de datos y los embeddings de las entradas; y segundo, para el entrenamiento de los modelos.\n",
        "\n",
        "Para el primer punto se utilizó:\n",
        "- Training set size de 70% de los datos\n",
        "- Validation set size de 15% de los datos\n",
        "- Testing set size de 15% de los datos\n",
        "- Embedding sequence length de 200 tokens máximo, si la secuencia es menor se agrega padding, si es mayor se trunca.\n",
        "\n",
        "Para el segundo punto se utilizó:\n",
        "- Batch size de 128\n",
        "- Learning rate de 0.01\n",
        "- Epochs de 2\n",
        "\n",
        "### Función de costo y optimización\n",
        "- La función de costo usada fue Binary Crossentropy, la función que provee Keras\n",
        "- Para el optimizador se utilizó Adam tradicional, igualmente la función que provee Keras\n",
        "\n",
        "### Técnicas para evitar under- y overfitting\n",
        "- En cuanto a underfitting, dado que los modelos ya están pre-entrenados y sólo se quiere hace transfer learning, se piensa que es muy difícil que el modelo haga underfitting, por lo que no se utilizó una técnica en específico.\n",
        "-En cuanto a overfitting, se introdujo una capa de Dropout a la arquitectura de los modelos, junto con algunas otras capas, como GlobalAveragePooling y Dense, para conformar la aqruitectura completa del modelo.\n",
        "- Se puede decir que inclusive el recorte de datos en el dataset de 400 mil a 100 mil también ayudó a que el modelo no cayera en overfitting.\n",
        "\n"
      ]
    },
    {
      "cell_type": "markdown",
      "metadata": {
        "id": "qHbzq8kYlQ4P"
      },
      "source": [
        "## 3.3. Métricas de desempeño\n",
        "Las métricas de evaluación se utilizaron son:\n",
        "- Binary Accuracy\n",
        "- Precision\n",
        "- Recall\n",
        "- Confusion matrix que provee ScikitLearn\n",
        "\n",
        "Desde que se dedujeron las limitaciones del set de datos, que se trataron en la sección 1.3, se supo que quizás la **accuracy** no sería la métrica de evaluación más apropiada para evaluar los modelos. Aún así se calculó, dado que se piensa que todavía tiene algo de valor. Como se había mencionado antes, se hicieron generalizaciones grandes al hacer el etiquetado, por lo que puede que haya falsos positivos y negativos en el dataset, sobre todo los primeros. Por esta razón, se piensa que **precision** es la métrica más apropiada, ya que al sólo fijarse en los positivos, tanto verdaderos como falsos, da una muy buena idea de la calidad del modelo.\n",
        "\n",
        "**Recall** se piensa que también fue una buena métrica, más que todo porque ayuda a rectificar aún más que los modelos sí tuvieron buenos resultados, complementando la precisión.\n",
        "\n",
        "La parte más importante de la evaluación fue sin duda construir la matriz de confusión, ya que se piensa que aquí es donde mejor se puede visualizar cómo está trabajando el modelo. Inclusive, se implementó una función para saacar una gráfica más visual de la matriz utilizando el módulo de *Seaborn*.\n",
        "\n",
        "En general, se piensa que estas 3 métricas principales se complementan entre las 3 para dar una muy buena evaluación, o tener una perspectiva muy completa de lo que está haciendo el modelo. Más adelante, para cada modelo se muestran sus respectivas métricas junto con su gráfica de la función de costo, así como la gráfica de la matriz de confusión.\n",
        "\n",
        "Habiendo dicho esto, a continuación se explica la implementación específica para los modelos."
      ]
    },
    {
      "cell_type": "markdown",
      "metadata": {
        "id": "19FSzWxa-pVw"
      },
      "source": [
        "La siguiente celda descarga los 3 modelos de HuggingFace, junto con su respectivo tokenizer. Como se puede notar, se guardan los 3 modelos aparte, y lo mismo se hace con sus tokenizers. Los modelos que se están descargando son los que se mencionaron previamente."
      ]
    },
    {
      "cell_type": "code",
      "metadata": {
        "id": "7IzUeOvB7EoC",
        "colab": {
          "base_uri": "https://localhost:8080/",
          "height": 978,
          "referenced_widgets": [
            "c7d9ca6470d046a0a0441802ac803e59",
            "6bc8eb6030cd423083e80f0fdf794d0a",
            "0fff724385ed483282d6d4a6c6cb32f4",
            "aae754b3f40c46f080bc151153bb68fc",
            "c8eca639d41b440892823ee1675e292d",
            "de4a581ac7504ababe672b5c83f6d2d2",
            "c2a39241807a4987b709e1a75e317c83",
            "11d8ab2cc0a0443eb0950f10932bf367",
            "64bfe00f5a5647a5b47da938fd07af39",
            "bb86c8032826490dbb5f79b284be5d6c",
            "cf6e063480b641c7bab92df940df462d",
            "9a8a4c1995a044439710bb1e5dec8cfc",
            "dee0a5890f4c4fce8e861be4d3bdc0b3",
            "13d200e69f0d4b47bdfe0308b0a7e124",
            "05a66849d8b142519025d334fc42e006",
            "6d8383b9d4ad4b2bb6307b6e1b1dea00",
            "a7818ec7fcd94e5c93e9ae6c4dd26f79",
            "8f21b7ff51084841b259b83ca396a10a",
            "246743892c2144469462e9406e58e877",
            "e78a060ba935451598490453e44ae840",
            "10996fe074fd4be6b69357bee2d3aee1",
            "41656a8e258b4015bf4c93c7d74e7f0f",
            "93a98f068376427ab0be71bdc75041e2",
            "d455c1dbe87e4596a12ac5102dcc8c52",
            "b0e06e9015a445fc9b73350009d9b5e9",
            "c1c24e89e0f54ff7b829dcee5a6fd216",
            "54f85826df3443fd969e1ae1eaf881a0",
            "219aaa6e631c4a13b277ae86d86fb73f",
            "fba0f9761f6b45e8a9af85aa8c1f9a98",
            "84ac7e5b81554f23b6bb522f26281a23",
            "21276ee8e6b94f4bb2c34a223b92d63b",
            "76f632f874f54e949bc91e1d188a204a",
            "51e9f46ee00d4d88a9b5efea42d96400",
            "f6f30fb70bb947e09bf766b6b81ba91f",
            "7e55815d4974433584d2c6294264710d",
            "28ae7f1169214769998481c2c5d9d549",
            "e0c5c372aa7e4b7781041d9b9d9dd9cc",
            "5283f9fd10f14c0dab6190b738cc3ae3",
            "022adeafe940456d9fcda7f5cb12ad4c",
            "2f21e4611d034bc3a643f7b7c607954e",
            "8392b5d372dd4a90995e92b50a70b724",
            "13c80fccc773419e883fee9f9820b763",
            "ba088d942bc243e79a090cec54cb409d",
            "d01e26e025fe4267ac8524ab7d2dc8ce",
            "e9c0e04cbd244d64bbccbfe5eb746f5b",
            "7351661187a84704a99c042d7b0cb631",
            "c35032760f494973b0c4af23f35824b3",
            "0fb359a2d79b4a7481ff74ae5d89b7f5",
            "9802ec016c4d406b866e5ec8af7db3cd",
            "901326f7c9e34ed79dc14f1bf01bbbf1",
            "18ece25a783e471b91043be27a3c75e0",
            "87e431c61dc1494dbb9426dec079e656",
            "6d3c147ad6f741e296c20f3866f5b824",
            "f630b569699643459eb95247993b796a",
            "83eaa12e60594684a572224ab04a8e7d",
            "462ff5c2352c4f7798c91a7c66efb195",
            "d64d1220ff9c4ee8bb4a1abb91f7f837",
            "56cceca4aea04338a42084f4e88f9fd6",
            "25043b3b6a2f4ac29891a768d7258330",
            "ff3e1938aa33410caf1e8a02eba8e852",
            "605ce065e9af4176a5f8aac93a22dbe8",
            "81112a696b024561a9a4060871763bfb",
            "b6d4764eec3740c9a3048ab4b13fdb32",
            "b6e05a8131ae4479b4217aaa80f4c709",
            "bcffd54797754792a466ba416b509100",
            "71382054dd5243769d34e0325fc18fa4",
            "c39ff78b2fa94a58ac80196dcf959faa",
            "325cdc117bc24deb9806ff4562bcfeb2",
            "9856c46f340940aa9beb47755acff74e",
            "2a45df42551647c2b67575b8b8f2ffea",
            "46904b2a2de347d8bf79789f4947dbd4",
            "aeafb99138e842cdbf9d66b3e1287b66",
            "af37570583bf47b7ba9e82cd2952f6f7",
            "1f182525686a420b812e09438f94b6c9",
            "12a1b6267e32456caba8b352fc532c15",
            "eac680cbcbf3440693a50a5ccfd363b1",
            "77aa62833a8f435b8d0b14fc6876491f",
            "c9d8db40797647fd9a0e2f86141dfa9f",
            "a91730aa985441cfbba937375abf7122",
            "7090c37bbcc44751886b4baf16b7a2ea",
            "d56b61cc01c545dfbc260c94c91cbd4e",
            "1a65a731813442eb848b9ca20934cbe3",
            "a558e53c37fa4dbdaa281d82cb22f119",
            "08b86656532143cab3049531f3530d87",
            "a1005e752db047dfa95a1f236d862123",
            "67bd774a92644224970e196630a7c466",
            "7478d3d83c454214842c5241bca5ce05",
            "15f47c24c9b84d829bf52e38ebdf6500",
            "58bc3d734c0f431b8291beae7091cceb",
            "1f3b2cf0eb214ba893d0e360e8f0caf0",
            "e94e8545d8f2440fb600e11d94e9d542",
            "31d3e83cfa9e465ea77b6828f30918db",
            "f0fc18ea8bf647fab12629ed537805ae",
            "443f4adbda224346ae076821b7b1b948",
            "aad00bafd9d64cea9ce0ad0bbd3e3cf0",
            "fa3b3d2880a94a468d584a0d81dbd9b8",
            "ee5932514e6e4008b7da03501b525e4a",
            "171c0d1becba4e538ded8110faaf4b2d",
            "65183404117a459d936b2ffb6386b7f3",
            "a5cc5e9b15c44c439f6003b9b9c41e82",
            "fef6b34bd5084ab7aa20bdc7139f3df5",
            "d961569104704c49b1a3accd71a09c4b",
            "7b32ea3d76714dd3bedf6453fd4959b8",
            "46a1b981306741a29d2400119ce09596",
            "b784892d026b4814b198ce80986cf24e",
            "7d8e7789d18247c88d296a3dfc1c0694",
            "c959ecd09c804fcdb8dbf6af09f7b372",
            "ca9ebb41f5584052aedb27b08e4689a7",
            "14787901391744f5a3156b8f761db744",
            "a9a1f7c7f8314cdab5925ad11f7790f5",
            "8d65bc011337437e96d54dc5ada7c315",
            "ac867ab636914a1686844da521e5ac93"
          ]
        },
        "outputId": "c9591d05-31c5-4105-d28f-5a4570a5bb77"
      },
      "source": [
        "bert = TFAutoModel.from_pretrained('bert-base-cased')\n",
        "tokenizerBert = AutoTokenizer.from_pretrained('bert-base-cased')\n",
        "\n",
        "roberta = TFAutoModel.from_pretrained('roberta-base')\n",
        "tokenizerRoberta = AutoTokenizer.from_pretrained('roberta-base')\n",
        "\n",
        "xlnet = TFAutoModel.from_pretrained('xlnet-base-cased')\n",
        "tokenizerXlnet = AutoTokenizer.from_pretrained('xlnet-base-cased')"
      ],
      "execution_count": null,
      "outputs": [
        {
          "output_type": "display_data",
          "data": {
            "application/vnd.jupyter.widget-view+json": {
              "model_id": "c7d9ca6470d046a0a0441802ac803e59",
              "version_minor": 0,
              "version_major": 2
            },
            "text/plain": [
              "HBox(children=(FloatProgress(value=0.0, description='Downloading', max=570.0, style=ProgressStyle(description_…"
            ]
          },
          "metadata": {
            "tags": []
          }
        },
        {
          "output_type": "stream",
          "text": [
            "\n"
          ],
          "name": "stdout"
        },
        {
          "output_type": "display_data",
          "data": {
            "application/vnd.jupyter.widget-view+json": {
              "model_id": "64bfe00f5a5647a5b47da938fd07af39",
              "version_minor": 0,
              "version_major": 2
            },
            "text/plain": [
              "HBox(children=(FloatProgress(value=0.0, description='Downloading', max=526681800.0, style=ProgressStyle(descri…"
            ]
          },
          "metadata": {
            "tags": []
          }
        },
        {
          "output_type": "stream",
          "text": [
            "\n"
          ],
          "name": "stdout"
        },
        {
          "output_type": "stream",
          "text": [
            "Some layers from the model checkpoint at bert-base-cased were not used when initializing TFBertModel: ['nsp___cls', 'mlm___cls']\n",
            "- This IS expected if you are initializing TFBertModel from the checkpoint of a model trained on another task or with another architecture (e.g. initializing a BertForSequenceClassification model from a BertForPreTraining model).\n",
            "- This IS NOT expected if you are initializing TFBertModel from the checkpoint of a model that you expect to be exactly identical (initializing a BertForSequenceClassification model from a BertForSequenceClassification model).\n",
            "All the layers of TFBertModel were initialized from the model checkpoint at bert-base-cased.\n",
            "If your task is similar to the task the model of the checkpoint was trained on, you can already use TFBertModel for predictions without further training.\n"
          ],
          "name": "stderr"
        },
        {
          "output_type": "display_data",
          "data": {
            "application/vnd.jupyter.widget-view+json": {
              "model_id": "a7818ec7fcd94e5c93e9ae6c4dd26f79",
              "version_minor": 0,
              "version_major": 2
            },
            "text/plain": [
              "HBox(children=(FloatProgress(value=0.0, description='Downloading', max=213450.0, style=ProgressStyle(descripti…"
            ]
          },
          "metadata": {
            "tags": []
          }
        },
        {
          "output_type": "stream",
          "text": [
            "\n"
          ],
          "name": "stdout"
        },
        {
          "output_type": "display_data",
          "data": {
            "application/vnd.jupyter.widget-view+json": {
              "model_id": "b0e06e9015a445fc9b73350009d9b5e9",
              "version_minor": 0,
              "version_major": 2
            },
            "text/plain": [
              "HBox(children=(FloatProgress(value=0.0, description='Downloading', max=435797.0, style=ProgressStyle(descripti…"
            ]
          },
          "metadata": {
            "tags": []
          }
        },
        {
          "output_type": "stream",
          "text": [
            "\n"
          ],
          "name": "stdout"
        },
        {
          "output_type": "display_data",
          "data": {
            "application/vnd.jupyter.widget-view+json": {
              "model_id": "51e9f46ee00d4d88a9b5efea42d96400",
              "version_minor": 0,
              "version_major": 2
            },
            "text/plain": [
              "HBox(children=(FloatProgress(value=0.0, description='Downloading', max=29.0, style=ProgressStyle(description_w…"
            ]
          },
          "metadata": {
            "tags": []
          }
        },
        {
          "output_type": "stream",
          "text": [
            "\n"
          ],
          "name": "stdout"
        },
        {
          "output_type": "display_data",
          "data": {
            "application/vnd.jupyter.widget-view+json": {
              "model_id": "8392b5d372dd4a90995e92b50a70b724",
              "version_minor": 0,
              "version_major": 2
            },
            "text/plain": [
              "HBox(children=(FloatProgress(value=0.0, description='Downloading', max=481.0, style=ProgressStyle(description_…"
            ]
          },
          "metadata": {
            "tags": []
          }
        },
        {
          "output_type": "stream",
          "text": [
            "\n"
          ],
          "name": "stdout"
        },
        {
          "output_type": "display_data",
          "data": {
            "application/vnd.jupyter.widget-view+json": {
              "model_id": "9802ec016c4d406b866e5ec8af7db3cd",
              "version_minor": 0,
              "version_major": 2
            },
            "text/plain": [
              "HBox(children=(FloatProgress(value=0.0, description='Downloading', max=657434796.0, style=ProgressStyle(descri…"
            ]
          },
          "metadata": {
            "tags": []
          }
        },
        {
          "output_type": "stream",
          "text": [
            "\n"
          ],
          "name": "stdout"
        },
        {
          "output_type": "stream",
          "text": [
            "Some layers from the model checkpoint at roberta-base were not used when initializing TFRobertaModel: ['lm_head']\n",
            "- This IS expected if you are initializing TFRobertaModel from the checkpoint of a model trained on another task or with another architecture (e.g. initializing a BertForSequenceClassification model from a BertForPreTraining model).\n",
            "- This IS NOT expected if you are initializing TFRobertaModel from the checkpoint of a model that you expect to be exactly identical (initializing a BertForSequenceClassification model from a BertForSequenceClassification model).\n",
            "All the layers of TFRobertaModel were initialized from the model checkpoint at roberta-base.\n",
            "If your task is similar to the task the model of the checkpoint was trained on, you can already use TFRobertaModel for predictions without further training.\n"
          ],
          "name": "stderr"
        },
        {
          "output_type": "display_data",
          "data": {
            "application/vnd.jupyter.widget-view+json": {
              "model_id": "d64d1220ff9c4ee8bb4a1abb91f7f837",
              "version_minor": 0,
              "version_major": 2
            },
            "text/plain": [
              "HBox(children=(FloatProgress(value=0.0, description='Downloading', max=898823.0, style=ProgressStyle(descripti…"
            ]
          },
          "metadata": {
            "tags": []
          }
        },
        {
          "output_type": "stream",
          "text": [
            "\n"
          ],
          "name": "stdout"
        },
        {
          "output_type": "display_data",
          "data": {
            "application/vnd.jupyter.widget-view+json": {
              "model_id": "bcffd54797754792a466ba416b509100",
              "version_minor": 0,
              "version_major": 2
            },
            "text/plain": [
              "HBox(children=(FloatProgress(value=0.0, description='Downloading', max=456318.0, style=ProgressStyle(descripti…"
            ]
          },
          "metadata": {
            "tags": []
          }
        },
        {
          "output_type": "stream",
          "text": [
            "\n"
          ],
          "name": "stdout"
        },
        {
          "output_type": "display_data",
          "data": {
            "application/vnd.jupyter.widget-view+json": {
              "model_id": "af37570583bf47b7ba9e82cd2952f6f7",
              "version_minor": 0,
              "version_major": 2
            },
            "text/plain": [
              "HBox(children=(FloatProgress(value=0.0, description='Downloading', max=1355863.0, style=ProgressStyle(descript…"
            ]
          },
          "metadata": {
            "tags": []
          }
        },
        {
          "output_type": "stream",
          "text": [
            "\n"
          ],
          "name": "stdout"
        },
        {
          "output_type": "display_data",
          "data": {
            "application/vnd.jupyter.widget-view+json": {
              "model_id": "d56b61cc01c545dfbc260c94c91cbd4e",
              "version_minor": 0,
              "version_major": 2
            },
            "text/plain": [
              "HBox(children=(FloatProgress(value=0.0, description='Downloading', max=760.0, style=ProgressStyle(description_…"
            ]
          },
          "metadata": {
            "tags": []
          }
        },
        {
          "output_type": "stream",
          "text": [
            "\n"
          ],
          "name": "stdout"
        },
        {
          "output_type": "display_data",
          "data": {
            "application/vnd.jupyter.widget-view+json": {
              "model_id": "58bc3d734c0f431b8291beae7091cceb",
              "version_minor": 0,
              "version_major": 2
            },
            "text/plain": [
              "HBox(children=(FloatProgress(value=0.0, description='Downloading', max=565485600.0, style=ProgressStyle(descri…"
            ]
          },
          "metadata": {
            "tags": []
          }
        },
        {
          "output_type": "stream",
          "text": [
            "\n"
          ],
          "name": "stdout"
        },
        {
          "output_type": "stream",
          "text": [
            "Some layers from the model checkpoint at xlnet-base-cased were not used when initializing TFXLNetModel: ['lm_loss']\n",
            "- This IS expected if you are initializing TFXLNetModel from the checkpoint of a model trained on another task or with another architecture (e.g. initializing a BertForSequenceClassification model from a BertForPreTraining model).\n",
            "- This IS NOT expected if you are initializing TFXLNetModel from the checkpoint of a model that you expect to be exactly identical (initializing a BertForSequenceClassification model from a BertForSequenceClassification model).\n",
            "All the layers of TFXLNetModel were initialized from the model checkpoint at xlnet-base-cased.\n",
            "If your task is similar to the task the model of the checkpoint was trained on, you can already use TFXLNetModel for predictions without further training.\n"
          ],
          "name": "stderr"
        },
        {
          "output_type": "display_data",
          "data": {
            "application/vnd.jupyter.widget-view+json": {
              "model_id": "ee5932514e6e4008b7da03501b525e4a",
              "version_minor": 0,
              "version_major": 2
            },
            "text/plain": [
              "HBox(children=(FloatProgress(value=0.0, description='Downloading', max=798011.0, style=ProgressStyle(descripti…"
            ]
          },
          "metadata": {
            "tags": []
          }
        },
        {
          "output_type": "stream",
          "text": [
            "\n"
          ],
          "name": "stdout"
        },
        {
          "output_type": "display_data",
          "data": {
            "application/vnd.jupyter.widget-view+json": {
              "model_id": "b784892d026b4814b198ce80986cf24e",
              "version_minor": 0,
              "version_major": 2
            },
            "text/plain": [
              "HBox(children=(FloatProgress(value=0.0, description='Downloading', max=1382015.0, style=ProgressStyle(descript…"
            ]
          },
          "metadata": {
            "tags": []
          }
        },
        {
          "output_type": "stream",
          "text": [
            "\n"
          ],
          "name": "stdout"
        }
      ]
    },
    {
      "cell_type": "markdown",
      "metadata": {
        "id": "BIYmbukzrVOe"
      },
      "source": [
        "Aquí se definen algunos de los hiperparámetros básicos que se mencionaron."
      ]
    },
    {
      "cell_type": "code",
      "metadata": {
        "id": "2OY-DKpBBhQQ"
      },
      "source": [
        "SEQ_LEN = 200\n",
        "BATCH_SIZE = 128\n",
        "LEARNING_RATE = 0.01\n",
        "EPOCHS = 2\n",
        "DS_LEN = len(processed_ds)\n",
        "\n",
        "train_size = int(0.7 * DS_LEN)\n",
        "val_size = int(0.15 * DS_LEN)\n",
        "test_size = int(0.15 * DS_LEN)"
      ],
      "execution_count": null,
      "outputs": []
    },
    {
      "cell_type": "markdown",
      "metadata": {
        "id": "JCM8ehbnrqeA"
      },
      "source": [
        "## 3.4 Creación de training, validation y testing sets\n",
        "A continuación se implementan 3 funciones necesarias para crear los 3 sets de datos necesarios. Cabe mencionar que estos ya no tendrán los textos como tal, sino que contendrán los embeddings generados por el tokenizer de cada modelo.\n",
        "\n",
        "La primera función genera el embedding de un texto. Nótese que recibe el objeto del tokenizer como argumento, debido a que se le estará mandando un tokenizer diferente dependiendo de para cual modelo se estén generando los embeddings. Regresa los inputs IDs, así como la attention mask generada."
      ]
    },
    {
      "cell_type": "code",
      "metadata": {
        "id": "HQ8_eDnBEqup"
      },
      "source": [
        "def tokenize(sentence, tokenizer):\n",
        "    tokens = tokenizer.encode_plus(sentence, max_length=SEQ_LEN,\n",
        "                                   truncation=True, padding='max_length',\n",
        "                                   add_special_tokens=True, return_attention_mask=True,\n",
        "                                   return_token_type_ids=False, return_tensors='tf')\n",
        "    return tokens['input_ids'], tokens['attention_mask']"
      ],
      "execution_count": null,
      "outputs": []
    },
    {
      "cell_type": "markdown",
      "metadata": {
        "id": "s9IsMOyms-xh"
      },
      "source": [
        "La segunda función sirve simplemente para genera un diccionario que contenga los input IDs y la attention mask. Regresa el diccionario generado junto con las labels que recibe."
      ]
    },
    {
      "cell_type": "code",
      "metadata": {
        "id": "al8vh7NMEu6_"
      },
      "source": [
        "def map_func(input_ids, masks, labels):\n",
        "    return {'input_ids': input_ids, 'attention_mask': masks}, labels"
      ],
      "execution_count": null,
      "outputs": []
    },
    {
      "cell_type": "markdown",
      "metadata": {
        "id": "lEXyiiXQtTRq"
      },
      "source": [
        "La terera función es la más importante. Utiliza las dos anteriores para generar el dataset tokenizado. A partir de los input IDs y attention mask de todas las secuencias, crea un Tensorflow Dataset, que será el que se va a estar alimentando a los modelos."
      ]
    },
    {
      "cell_type": "code",
      "metadata": {
        "id": "CQM1pQ7RLR9S"
      },
      "source": [
        "def create_tokenized_ds(ds, labels, tokenizer):\n",
        "    text_ids = np.zeros((len(ds), SEQ_LEN))\n",
        "    text_mask = np.zeros((len(ds), SEQ_LEN))\n",
        "\n",
        "    for i, sentence in enumerate(ds):\n",
        "        text_ids[i, :], text_mask[i, :] = tokenize(sentence, tokenizer)\n",
        "\n",
        "    new_ds = tf.data.Dataset.from_tensor_slices((text_ids, text_mask, labels))\n",
        "    new_ds = new_ds.map(map_func)\n",
        "    new_ds = new_ds.batch(BATCH_SIZE)\n",
        "\n",
        "    return new_ds"
      ],
      "execution_count": null,
      "outputs": []
    },
    {
      "cell_type": "markdown",
      "metadata": {
        "id": "HKSmkFZ4tm9b"
      },
      "source": [
        "Aquí se crean los 3 sets de datos para cada uno de los modelos. A decir verdad, no se probó si el mismo set de datos funcionaría para los 3 modelos, pero se piensa que es mejor sacrificar el espacio extra de tener los 9 sets, debido a que muy probablemente cada tokenizer genera los embeddings optimizados para su propio modelo, y se quiere aprovechar ese punto."
      ]
    },
    {
      "cell_type": "code",
      "metadata": {
        "id": "m4U1yODtMVCA"
      },
      "source": [
        "train_ds_bert = create_tokenized_ds(processed_ds[:train_size], labels[:train_size], tokenizerBert)\n",
        "val_ds_bert = create_tokenized_ds(processed_ds[train_size : (train_size+val_size)], labels[train_size : (train_size+val_size)], tokenizerBert)\n",
        "test_ds_bert = create_tokenized_ds(processed_ds[(train_size+val_size):], labels[(train_size+val_size):], tokenizerBert)\n",
        "\n",
        "train_ds_roberta = create_tokenized_ds(processed_ds[:train_size], labels[:train_size], tokenizerRoberta)\n",
        "val_ds_roberta = create_tokenized_ds(processed_ds[train_size : (train_size+val_size)], labels[train_size : (train_size+val_size)], tokenizerRoberta)\n",
        "test_ds_roberta = create_tokenized_ds(processed_ds[(train_size+val_size):], labels[(train_size+val_size):], tokenizerRoberta)\n",
        "\n",
        "train_ds_xlnet = create_tokenized_ds(processed_ds[:train_size], labels[:train_size], tokenizerXlnet)\n",
        "val_ds_xlnet = create_tokenized_ds(processed_ds[train_size : (train_size+val_size)], labels[train_size : (train_size+val_size)], tokenizerXlnet)\n",
        "test_ds_xlnet = create_tokenized_ds(processed_ds[(train_size+val_size):], labels[(train_size+val_size):], tokenizerXlnet)"
      ],
      "execution_count": null,
      "outputs": []
    },
    {
      "cell_type": "markdown",
      "metadata": {
        "id": "vqBtCsPAt_Xj"
      },
      "source": [
        "## 3.5 Construcción de los modelos\n",
        "Las siguientes celdas implementan las funciones para la construcción de los modelos. Primero se definen algunas funciones que serán muy útiles, y después se construyen los modelos en sí."
      ]
    },
    {
      "cell_type": "markdown",
      "metadata": {
        "id": "W34tIUbJuSI9"
      },
      "source": [
        "La primera función, toma el historial de un modelo y genera la gráfica de la función de costo para el set de entrenamiento y el de validación."
      ]
    },
    {
      "cell_type": "code",
      "metadata": {
        "id": "nK3TG7qYQUAL"
      },
      "source": [
        "def plot_history_loss(history):\n",
        "    plt.plot(history.history['loss'])\n",
        "    plt.plot(history.history['val_loss'])\n",
        "    plt.title('model loss')\n",
        "    plt.ylabel('loss')\n",
        "    plt.xlabel('epoch')\n",
        "    plt.legend(['train', 'val'], loc='upper right')\n",
        "    plt.show()"
      ],
      "execution_count": null,
      "outputs": []
    },
    {
      "cell_type": "markdown",
      "metadata": {
        "id": "gYEmtOEpuaxO"
      },
      "source": [
        "La segunda función toma un modelo y toma el set de testing. Aquí se generan las predicciones de ese modelo con el set de datos recibido, y posteriormente utilizando dichas predicciones, así como las labels reales, se genera la gráfica de la matriz de confusión para ese modelo."
      ]
    },
    {
      "cell_type": "code",
      "metadata": {
        "id": "5WHWc84OeL0_"
      },
      "source": [
        "def plot_confusion_matrix(model, test_ds):\n",
        "    predictions = np.round(model.predict(test_ds).flatten())    \n",
        "    test_labels = labels[(train_size+val_size):]\n",
        "\n",
        "    cm = confusion_matrix(test_labels, predictions)\n",
        "    df_cm = pd.DataFrame(cm, columns=['No-depresivo', 'Depresivo'], index=['No-depresivo', 'Depresivo'])\n",
        "\n",
        "    sn.set(font_scale=1.5) # for label size\n",
        "    sn.heatmap(df_cm, annot=True, annot_kws={\"size\": 16}, fmt='d') # font size\n",
        "\n",
        "    plt.show()"
      ],
      "execution_count": null,
      "outputs": []
    },
    {
      "cell_type": "markdown",
      "metadata": {
        "id": "ZhrsdoIEu619"
      },
      "source": [
        "La tercera función define la arquitectura del modelo y genera el objeto de Keras listo para compilarse. Aquí hay dos cosas que valen la pena mencionar:\n",
        "- La primera es que se está utilizando la misma arquitectura para los 3 modelos. Lo cual es cierto, pero solo en parte, por un lado, sí se están agregando algunas capas aquí, pero estas son principalemnte para acomodar los inputs y para evitar el overfitting con dropout. Por el otro lado, la capa del transformador, la principal en el modelo, va a ser distinta, que es lo más importante.\n",
        "- El segundo punto es que se está utilizando el API Funcional de Keras. Esto es más una nota personal, dado que nunca se había trabajo con este API, siempre con el secuencial."
      ]
    },
    {
      "cell_type": "code",
      "metadata": {
        "id": "inIjWcNcONBS"
      },
      "source": [
        "def create_model(transformer):\n",
        "    input_ids = tf.keras.layers.Input(shape=(SEQ_LEN,), name='input_ids', dtype='int32')\n",
        "    mask = tf.keras.layers.Input(shape=(SEQ_LEN,), name='attention_mask', dtype='int32')\n",
        "\n",
        "    embeddings = transformer(input_ids, attention_mask=mask)[0]\n",
        "\n",
        "    X = tf.keras.layers.GlobalAveragePooling1D()(embeddings)\n",
        "    X = tf.keras.layers.BatchNormalization()(X)\n",
        "    X = tf.keras.layers.Dense(128, activation='relu')(X)\n",
        "    X = tf.keras.layers.Dropout(0.1)(X)\n",
        "    y = tf.keras.layers.Dense(1, activation='sigmoid', name='outputs')(X)\n",
        "\n",
        "    return tf.keras.Model(inputs=[input_ids, mask], outputs=y)"
      ],
      "execution_count": null,
      "outputs": []
    },
    {
      "cell_type": "markdown",
      "metadata": {
        "id": "QDMC1hCLvvRu"
      },
      "source": [
        "Ya con la función para crear el modelo lista, lo único que resta es definir la función de costo, el optimizador, así como las métricas de evaluación que proporciona Keras."
      ]
    },
    {
      "cell_type": "code",
      "metadata": {
        "id": "u-_I4Fm4Pri7"
      },
      "source": [
        "optimizer = tf.keras.optimizers.Adam(LEARNING_RATE)\n",
        "loss = tf.keras.losses.BinaryCrossentropy(from_logits=True)\n",
        "acc = tf.keras.metrics.BinaryAccuracy('accuracy')\n",
        "precision = tf.keras.metrics.Precision()\n",
        "recall = tf.keras.metrics.Recall()"
      ],
      "execution_count": null,
      "outputs": []
    },
    {
      "cell_type": "markdown",
      "metadata": {
        "id": "ZKXhnlRvwdnH"
      },
      "source": [
        "Finalmente, lo único restante es construir, entrenar y evaluar los modelos específicos. Para esta parte se siguieron los siguientes pasos:\n",
        "1. **Se construye y compila el modelo**. Hay que hacer énfasis que en todos los modelos la capa con índice 2, la correspondiente al transformador, se marcó como **no-entrenable**, de tal forma que se estará usando tal y como se importó de HuggingFace.\n",
        "\n",
        "2. **Se entrena el modelo y se obtiene su historial**. Es importante guardar el historial para poder obtener la gráfica de la función de costo.\n",
        "\n",
        "3. **Se calculan las métricas de evaluación y la gráfica de costo**. Para tener una idea de cómo le fue al modelo.\n",
        "\n",
        "4. **Se calcula la matriz de confusión**. Para ver con exactitud qué es lo que predijo el modelo.\n",
        "\n",
        "5. **Observaciones personales**. Nadamas para notar algunas cosas interesantes que salieron del modelo."
      ]
    },
    {
      "cell_type": "markdown",
      "metadata": {
        "id": "GfHd_C9Gx3J2"
      },
      "source": [
        "## 3.6 BERT\n",
        "Aquí se muestra todo lo relacionado al modelo de BERT"
      ]
    },
    {
      "cell_type": "code",
      "metadata": {
        "colab": {
          "base_uri": "https://localhost:8080/"
        },
        "id": "9ekb3PFaOfpn",
        "outputId": "fa7c8470-054f-4e86-dc20-3783d4f8c634"
      },
      "source": [
        "bert_model = create_model(bert)\n",
        "bert_model.layers[2].trainable = False\n",
        "bert_model.summary()\n",
        "bert_model.compile(optimizer=optimizer, loss=loss, metrics=[acc, precision, recall])"
      ],
      "execution_count": null,
      "outputs": [
        {
          "output_type": "stream",
          "text": [
            "WARNING:tensorflow:The parameters `output_attentions`, `output_hidden_states` and `use_cache` cannot be updated when calling a model.They have to be set to True/False in the config object (i.e.: `config=XConfig.from_pretrained('name', output_attentions=True)`).\n",
            "WARNING:tensorflow:AutoGraph could not transform <bound method Socket.send of <zmq.sugar.socket.Socket object at 0x7f70d9ebde50>> and will run it as-is.\n",
            "Please report this to the TensorFlow team. When filing the bug, set the verbosity to 10 (on Linux, `export AUTOGRAPH_VERBOSITY=10`) and attach the full output.\n",
            "Cause: module, class, method, function, traceback, frame, or code object was expected, got cython_function_or_method\n",
            "To silence this warning, decorate the function with @tf.autograph.experimental.do_not_convert\n",
            "WARNING: AutoGraph could not transform <bound method Socket.send of <zmq.sugar.socket.Socket object at 0x7f70d9ebde50>> and will run it as-is.\n",
            "Please report this to the TensorFlow team. When filing the bug, set the verbosity to 10 (on Linux, `export AUTOGRAPH_VERBOSITY=10`) and attach the full output.\n",
            "Cause: module, class, method, function, traceback, frame, or code object was expected, got cython_function_or_method\n",
            "To silence this warning, decorate the function with @tf.autograph.experimental.do_not_convert\n",
            "WARNING:tensorflow:AutoGraph could not transform <function wrap at 0x7f70f576edd0> and will run it as-is.\n",
            "Cause: while/else statement not yet supported\n",
            "To silence this warning, decorate the function with @tf.autograph.experimental.do_not_convert\n",
            "WARNING: AutoGraph could not transform <function wrap at 0x7f70f576edd0> and will run it as-is.\n",
            "Cause: while/else statement not yet supported\n",
            "To silence this warning, decorate the function with @tf.autograph.experimental.do_not_convertWARNING:tensorflow:The parameter `return_dict` cannot be set in graph mode and will always be set to `True`.\n",
            "\n",
            "WARNING:tensorflow:From /usr/local/lib/python3.7/dist-packages/tensorflow/python/ops/array_ops.py:5049: calling gather (from tensorflow.python.ops.array_ops) with validate_indices is deprecated and will be removed in a future version.\n",
            "Instructions for updating:\n",
            "The `validate_indices` argument has no effect. Indices are always validated on CPU and never validated on GPU.\n",
            "Model: \"model\"\n",
            "__________________________________________________________________________________________________\n",
            "Layer (type)                    Output Shape         Param #     Connected to                     \n",
            "==================================================================================================\n",
            "input_ids (InputLayer)          [(None, 200)]        0                                            \n",
            "__________________________________________________________________________________________________\n",
            "attention_mask (InputLayer)     [(None, 200)]        0                                            \n",
            "__________________________________________________________________________________________________\n",
            "tf_bert_model (TFBertModel)     TFBaseModelOutputWit 108310272   input_ids[0][0]                  \n",
            "                                                                 attention_mask[0][0]             \n",
            "__________________________________________________________________________________________________\n",
            "global_average_pooling1d (Globa (None, 768)          0           tf_bert_model[0][0]              \n",
            "__________________________________________________________________________________________________\n",
            "batch_normalization (BatchNorma (None, 768)          3072        global_average_pooling1d[0][0]   \n",
            "__________________________________________________________________________________________________\n",
            "dense (Dense)                   (None, 128)          98432       batch_normalization[0][0]        \n",
            "__________________________________________________________________________________________________\n",
            "dropout_111 (Dropout)           (None, 128)          0           dense[0][0]                      \n",
            "__________________________________________________________________________________________________\n",
            "outputs (Dense)                 (None, 1)            129         dropout_111[0][0]                \n",
            "==================================================================================================\n",
            "Total params: 108,411,905\n",
            "Trainable params: 100,097\n",
            "Non-trainable params: 108,311,808\n",
            "__________________________________________________________________________________________________\n"
          ],
          "name": "stdout"
        }
      ]
    },
    {
      "cell_type": "code",
      "metadata": {
        "colab": {
          "base_uri": "https://localhost:8080/"
        },
        "id": "6gOijty4P42y",
        "outputId": "0da61113-87cb-4d39-a25f-82cc6ccfe575"
      },
      "source": [
        "history_bert = bert_model.fit(train_ds_bert, validation_data=val_ds_bert, epochs=EPOCHS)"
      ],
      "execution_count": null,
      "outputs": [
        {
          "output_type": "stream",
          "text": [
            "Epoch 1/2\n",
            "WARNING:tensorflow:The parameters `output_attentions`, `output_hidden_states` and `use_cache` cannot be updated when calling a model.They have to be set to True/False in the config object (i.e.: `config=XConfig.from_pretrained('name', output_attentions=True)`).\n",
            "WARNING:tensorflow:The parameter `return_dict` cannot be set in graph mode and will always be set to `True`.\n"
          ],
          "name": "stdout"
        },
        {
          "output_type": "stream",
          "text": [
            "/usr/local/lib/python3.7/dist-packages/tensorflow/python/keras/backend.py:5017: UserWarning: \"`binary_crossentropy` received `from_logits=True`, but the `output` argument was produced by a sigmoid or softmax activation and thus does not represent logits. Was this intended?\"\n",
            "  '\"`binary_crossentropy` received `from_logits=True`, but the `output`'\n"
          ],
          "name": "stderr"
        },
        {
          "output_type": "stream",
          "text": [
            "WARNING:tensorflow:The parameters `output_attentions`, `output_hidden_states` and `use_cache` cannot be updated when calling a model.They have to be set to True/False in the config object (i.e.: `config=XConfig.from_pretrained('name', output_attentions=True)`).\n",
            "WARNING:tensorflow:The parameter `return_dict` cannot be set in graph mode and will always be set to `True`.\n",
            "547/547 [==============================] - ETA: 0s - loss: 0.1192 - accuracy: 0.9601 - precision: 0.9653 - recall: 0.9546WARNING:tensorflow:The parameters `output_attentions`, `output_hidden_states` and `use_cache` cannot be updated when calling a model.They have to be set to True/False in the config object (i.e.: `config=XConfig.from_pretrained('name', output_attentions=True)`).\n",
            "WARNING:tensorflow:The parameter `return_dict` cannot be set in graph mode and will always be set to `True`.\n",
            "547/547 [==============================] - 2137s 4s/step - loss: 0.1192 - accuracy: 0.9601 - precision: 0.9653 - recall: 0.9546 - val_loss: 0.0921 - val_accuracy: 0.9669 - val_precision: 0.9692 - val_recall: 0.9640\n",
            "Epoch 2/2\n",
            "547/547 [==============================] - 2118s 4s/step - loss: 0.0931 - accuracy: 0.9668 - precision: 0.9715 - recall: 0.9620 - val_loss: 0.0853 - val_accuracy: 0.9704 - val_precision: 0.9807 - val_recall: 0.9595\n"
          ],
          "name": "stdout"
        }
      ]
    },
    {
      "cell_type": "code",
      "metadata": {
        "colab": {
          "base_uri": "https://localhost:8080/",
          "height": 420
        },
        "id": "gL48lcd7QPau",
        "outputId": "c443a1d8-88af-4aab-d58f-12c703d23f00"
      },
      "source": [
        "l, a, p, r = bert_model.evaluate(test_ds_bert)\n",
        "\n",
        "print('Test Loss:', l)\n",
        "print('Test Accuracy:', a)\n",
        "print('Test Precision:', p)\n",
        "print('Test Recall:', r)\n",
        "print()\n",
        "plot_history_loss(history_bert)"
      ],
      "execution_count": null,
      "outputs": [
        {
          "output_type": "stream",
          "text": [
            "118/118 [==============================] - 347s 3s/step - loss: 0.0786 - accuracy: 0.9717 - precision: 0.9802 - recall: 0.9633\n",
            "Test Loss: 0.07860369980335236\n",
            "Test Accuracy: 0.9717182517051697\n",
            "Test Precision: 0.9801619648933411\n",
            "Test Recall: 0.9632626175880432\n",
            "\n"
          ],
          "name": "stdout"
        },
        {
          "output_type": "display_data",
          "data": {
            "image/png": "[encoded data removed]",
            "text/plain": [
              "<Figure size 432x288 with 1 Axes>"
            ]
          },
          "metadata": {
            "tags": []
          }
        }
      ]
    },
    {
      "cell_type": "code",
      "metadata": {
        "colab": {
          "base_uri": "https://localhost:8080/",
          "height": 330
        },
        "id": "CvsZKGHRevck",
        "outputId": "0ac71555-9521-40b7-a87f-d1bfd3d670d2"
      },
      "source": [
        "plot_confusion_matrix(bert_model, test_ds_bert)"
      ],
      "execution_count": null,
      "outputs": [
        {
          "output_type": "stream",
          "text": [
            "WARNING:tensorflow:The parameters `output_attentions`, `output_hidden_states` and `use_cache` cannot be updated when calling a model.They have to be set to True/False in the config object (i.e.: `config=XConfig.from_pretrained('name', output_attentions=True)`).\n",
            "WARNING:tensorflow:The parameter `return_dict` cannot be set in graph mode and will always be set to `True`.\n"
          ],
          "name": "stdout"
        },
        {
          "output_type": "display_data",
          "data": {
            "image/png": "[encoded data removed]",
            "text/plain": [
              "<Figure size 432x288 with 2 Axes>"
            ]
          },
          "metadata": {
            "tags": []
          }
        }
      ]
    },
    {
      "cell_type": "markdown",
      "metadata": {
        "id": "vy74pk_3yF46"
      },
      "source": [
        "### Observaciones\n",
        "Algo que se notó de inmediato fue que el modelo desde el principio tuvo muy buenas métricas. El modelo se entrenó por 2 épocas, pero aún así desde el principio del entrenamiento tuvo excelentes resultados. Como se puede ver en sus métricas, las 3 están bastante altas, pero aquí las importantes son precision y recall, que también resultaron muy bien.\n",
        "\n",
        "Es también importante mencionar la matriz de confusión, que como se puede ver está tal y como se esperaría para un modelo con métricas tan altas. Se puede decir que el modelo no necesitó mucho transfer learning para poder sacar buenas predicciones en esta aplicación."
      ]
    },
    {
      "cell_type": "markdown",
      "metadata": {
        "id": "fEdHiCFIyJn2"
      },
      "source": [
        "## 3.7 RoBERTa\n",
        "Aquí se muestra todo lo relacionado al modelo de RoBERTa"
      ]
    },
    {
      "cell_type": "code",
      "metadata": {
        "id": "fYRfRKOQPDrx",
        "colab": {
          "base_uri": "https://localhost:8080/"
        },
        "outputId": "f4cc9fd0-a917-4464-a138-f45873ce353d"
      },
      "source": [
        "roberta_model = create_model(roberta)\n",
        "roberta_model.layers[2].trainable = False\n",
        "roberta_model.summary()\n",
        "roberta_model.compile(optimizer=optimizer, loss=loss, metrics=[acc, precision, recall])"
      ],
      "execution_count": null,
      "outputs": [
        {
          "output_type": "stream",
          "text": [
            "WARNING:tensorflow:The parameters `output_attentions`, `output_hidden_states` and `use_cache` cannot be updated when calling a model.They have to be set to True/False in the config object (i.e.: `config=XConfig.from_pretrained('name', output_attentions=True)`).\n",
            "WARNING:tensorflow:The parameter `return_dict` cannot be set in graph mode and will always be set to `True`.\n",
            "Model: \"model_1\"\n",
            "__________________________________________________________________________________________________\n",
            "Layer (type)                    Output Shape         Param #     Connected to                     \n",
            "==================================================================================================\n",
            "input_ids (InputLayer)          [(None, 200)]        0                                            \n",
            "__________________________________________________________________________________________________\n",
            "attention_mask (InputLayer)     [(None, 200)]        0                                            \n",
            "__________________________________________________________________________________________________\n",
            "tf_roberta_model (TFRobertaMode TFBaseModelOutputWit 124645632   input_ids[0][0]                  \n",
            "                                                                 attention_mask[0][0]             \n",
            "__________________________________________________________________________________________________\n",
            "global_average_pooling1d_1 (Glo (None, 768)          0           tf_roberta_model[0][0]           \n",
            "__________________________________________________________________________________________________\n",
            "batch_normalization_1 (BatchNor (None, 768)          3072        global_average_pooling1d_1[0][0] \n",
            "__________________________________________________________________________________________________\n",
            "dense_1 (Dense)                 (None, 128)          98432       batch_normalization_1[0][0]      \n",
            "__________________________________________________________________________________________________\n",
            "dropout_112 (Dropout)           (None, 128)          0           dense_1[0][0]                    \n",
            "__________________________________________________________________________________________________\n",
            "outputs (Dense)                 (None, 1)            129         dropout_112[0][0]                \n",
            "==================================================================================================\n",
            "Total params: 124,747,265\n",
            "Trainable params: 100,097\n",
            "Non-trainable params: 124,647,168\n",
            "__________________________________________________________________________________________________\n"
          ],
          "name": "stdout"
        }
      ]
    },
    {
      "cell_type": "code",
      "metadata": {
        "id": "hCrshwDcQOla",
        "colab": {
          "base_uri": "https://localhost:8080/"
        },
        "outputId": "b1a7b196-993d-43ee-a050-79632aa4046f"
      },
      "source": [
        "history_roberta = roberta_model.fit(train_ds_roberta, validation_data=val_ds_roberta, epochs=EPOCHS)"
      ],
      "execution_count": null,
      "outputs": [
        {
          "output_type": "stream",
          "text": [
            "Epoch 1/2\n",
            "WARNING:tensorflow:The parameters `output_attentions`, `output_hidden_states` and `use_cache` cannot be updated when calling a model.They have to be set to True/False in the config object (i.e.: `config=XConfig.from_pretrained('name', output_attentions=True)`).\n",
            "WARNING:tensorflow:The parameter `return_dict` cannot be set in graph mode and will always be set to `True`.\n"
          ],
          "name": "stdout"
        },
        {
          "output_type": "stream",
          "text": [
            "/usr/local/lib/python3.7/dist-packages/tensorflow/python/keras/backend.py:5017: UserWarning: \"`binary_crossentropy` received `from_logits=True`, but the `output` argument was produced by a sigmoid or softmax activation and thus does not represent logits. Was this intended?\"\n",
            "  '\"`binary_crossentropy` received `from_logits=True`, but the `output`'\n"
          ],
          "name": "stderr"
        },
        {
          "output_type": "stream",
          "text": [
            "WARNING:tensorflow:The parameters `output_attentions`, `output_hidden_states` and `use_cache` cannot be updated when calling a model.They have to be set to True/False in the config object (i.e.: `config=XConfig.from_pretrained('name', output_attentions=True)`).\n",
            "WARNING:tensorflow:The parameter `return_dict` cannot be set in graph mode and will always be set to `True`.\n",
            "547/547 [==============================] - ETA: 0s - loss: 0.1947 - accuracy: 0.9621 - precision: 0.9675 - recall: 0.9565WARNING:tensorflow:The parameters `output_attentions`, `output_hidden_states` and `use_cache` cannot be updated when calling a model.They have to be set to True/False in the config object (i.e.: `config=XConfig.from_pretrained('name', output_attentions=True)`).\n",
            "WARNING:tensorflow:The parameter `return_dict` cannot be set in graph mode and will always be set to `True`.\n",
            "547/547 [==============================] - 2102s 4s/step - loss: 0.1947 - accuracy: 0.9621 - precision: 0.9675 - recall: 0.9565 - val_loss: 0.0863 - val_accuracy: 0.9709 - val_precision: 0.9712 - val_recall: 0.9702\n",
            "Epoch 2/2\n",
            "547/547 [==============================] - 2108s 4s/step - loss: 0.0871 - accuracy: 0.9698 - precision: 0.9737 - recall: 0.9657 - val_loss: 0.0906 - val_accuracy: 0.9752 - val_precision: 0.9749 - val_recall: 0.9752\n"
          ],
          "name": "stdout"
        }
      ]
    },
    {
      "cell_type": "code",
      "metadata": {
        "id": "FrpsH4uJQOtL",
        "colab": {
          "base_uri": "https://localhost:8080/",
          "height": 420
        },
        "outputId": "2090623c-fb2d-4580-a233-21d95c7fdc0e"
      },
      "source": [
        "l, a, p, r = roberta_model.evaluate(test_ds_roberta)\n",
        "\n",
        "print('Test Loss:', l)\n",
        "print('Test Accuracy:', a)\n",
        "print('Test Precision:', p)\n",
        "print('Test Recall:', r)\n",
        "print()\n",
        "plot_history_loss(history_roberta)"
      ],
      "execution_count": null,
      "outputs": [
        {
          "output_type": "stream",
          "text": [
            "118/118 [==============================] - 344s 3s/step - loss: 0.0774 - accuracy: 0.9748 - precision: 0.9739 - recall: 0.9760\n",
            "Test Loss: 0.07739413529634476\n",
            "Test Accuracy: 0.9747865796089172\n",
            "Test Precision: 0.9739279747009277\n",
            "Test Recall: 0.9759947061538696\n",
            "\n"
          ],
          "name": "stdout"
        },
        {
          "output_type": "display_data",
          "data": {
            "image/png": "[encoded data removed]",
            "text/plain": [
              "<Figure size 432x288 with 1 Axes>"
            ]
          },
          "metadata": {
            "tags": []
          }
        }
      ]
    },
    {
      "cell_type": "code",
      "metadata": {
        "colab": {
          "base_uri": "https://localhost:8080/",
          "height": 330
        },
        "id": "voxK9pqW_r8J",
        "outputId": "7ad0ab5e-fd7e-43c7-e066-2dc7657436dd"
      },
      "source": [
        "plot_confusion_matrix(roberta_model, test_ds_roberta)"
      ],
      "execution_count": null,
      "outputs": [
        {
          "output_type": "stream",
          "text": [
            "WARNING:tensorflow:The parameters `output_attentions`, `output_hidden_states` and `use_cache` cannot be updated when calling a model.They have to be set to True/False in the config object (i.e.: `config=XConfig.from_pretrained('name', output_attentions=True)`).\n",
            "WARNING:tensorflow:The parameter `return_dict` cannot be set in graph mode and will always be set to `True`.\n"
          ],
          "name": "stdout"
        },
        {
          "output_type": "display_data",
          "data": {
            "image/png": "[encoded data removed]",
            "text/plain": [
              "<Figure size 432x288 with 2 Axes>"
            ]
          },
          "metadata": {
            "tags": []
          }
        }
      ]
    },
    {
      "cell_type": "markdown",
      "metadata": {
        "id": "v9MoT1jWyR4v"
      },
      "source": [
        "### Observaciones\n",
        "Definitivamente este modelo también fue una sorpresa el buen rendimiento que tuvo. Como se puede ver en la gráfica de costo, roberta fue el modelo que mantuvo la pérdida menor en el set de validación, con BERT bastante cerca detrás. Con esto en mente no es sorpresa que tanto las métricas como la matriz hayan salido bastante similares a BERT."
      ]
    },
    {
      "cell_type": "markdown",
      "metadata": {
        "id": "KGXCDK3qyVJ9"
      },
      "source": [
        "## 3.8 XLNet\n",
        "Finalmente, se muestra el modelo de XLNet."
      ]
    },
    {
      "cell_type": "code",
      "metadata": {
        "id": "WQaUJUBnPDwz",
        "colab": {
          "base_uri": "https://localhost:8080/"
        },
        "outputId": "80d290cb-8fd2-4190-d62e-2c47cd64b564"
      },
      "source": [
        "xlnet_model = create_model(xlnet)\n",
        "xlnet_model.layers[2].trainable = False\n",
        "xlnet_model.summary()\n",
        "xlnet_model.compile(optimizer=optimizer, loss=loss, metrics=[acc, precision, recall])"
      ],
      "execution_count": null,
      "outputs": [
        {
          "output_type": "stream",
          "text": [
            "WARNING:tensorflow:The parameters `output_attentions`, `output_hidden_states` and `use_cache` cannot be updated when calling a model.They have to be set to True/False in the config object (i.e.: `config=XConfig.from_pretrained('name', output_attentions=True)`).\n",
            "WARNING:tensorflow:The parameter `return_dict` cannot be set in graph mode and will always be set to `True`.\n",
            "Model: \"model_2\"\n",
            "__________________________________________________________________________________________________\n",
            "Layer (type)                    Output Shape         Param #     Connected to                     \n",
            "==================================================================================================\n",
            "input_ids (InputLayer)          [(None, 200)]        0                                            \n",
            "__________________________________________________________________________________________________\n",
            "attention_mask (InputLayer)     [(None, 200)]        0                                            \n",
            "__________________________________________________________________________________________________\n",
            "tfxl_net_model (TFXLNetModel)   TFXLNetModelOutput(l 116718336   input_ids[0][0]                  \n",
            "                                                                 attention_mask[0][0]             \n",
            "__________________________________________________________________________________________________\n",
            "global_average_pooling1d_2 (Glo (None, 768)          0           tfxl_net_model[0][0]             \n",
            "__________________________________________________________________________________________________\n",
            "batch_normalization_2 (BatchNor (None, 768)          3072        global_average_pooling1d_2[0][0] \n",
            "__________________________________________________________________________________________________\n",
            "dense_2 (Dense)                 (None, 128)          98432       batch_normalization_2[0][0]      \n",
            "__________________________________________________________________________________________________\n",
            "dropout_113 (Dropout)           (None, 128)          0           dense_2[0][0]                    \n",
            "__________________________________________________________________________________________________\n",
            "outputs (Dense)                 (None, 1)            129         dropout_113[0][0]                \n",
            "==================================================================================================\n",
            "Total params: 116,819,969\n",
            "Trainable params: 100,097\n",
            "Non-trainable params: 116,719,872\n",
            "__________________________________________________________________________________________________\n"
          ],
          "name": "stdout"
        }
      ]
    },
    {
      "cell_type": "code",
      "metadata": {
        "id": "cVglslRXRapc",
        "colab": {
          "base_uri": "https://localhost:8080/"
        },
        "outputId": "e0005dc4-8a0c-45f7-ffbf-8b4aee3854aa"
      },
      "source": [
        "history_xlnet = xlnet_model.fit(train_ds_xlnet, validation_data=val_ds_xlnet, epochs=EPOCHS)"
      ],
      "execution_count": null,
      "outputs": [
        {
          "output_type": "stream",
          "text": [
            "Epoch 1/2\n",
            "WARNING:tensorflow:The parameters `output_attentions`, `output_hidden_states` and `use_cache` cannot be updated when calling a model.They have to be set to True/False in the config object (i.e.: `config=XConfig.from_pretrained('name', output_attentions=True)`).\n",
            "WARNING:tensorflow:The parameter `return_dict` cannot be set in graph mode and will always be set to `True`.\n"
          ],
          "name": "stdout"
        },
        {
          "output_type": "stream",
          "text": [
            "/usr/local/lib/python3.7/dist-packages/tensorflow/python/keras/backend.py:5017: UserWarning: \"`binary_crossentropy` received `from_logits=True`, but the `output` argument was produced by a sigmoid or softmax activation and thus does not represent logits. Was this intended?\"\n",
            "  '\"`binary_crossentropy` received `from_logits=True`, but the `output`'\n"
          ],
          "name": "stderr"
        },
        {
          "output_type": "stream",
          "text": [
            "WARNING:tensorflow:The parameters `output_attentions`, `output_hidden_states` and `use_cache` cannot be updated when calling a model.They have to be set to True/False in the config object (i.e.: `config=XConfig.from_pretrained('name', output_attentions=True)`).\n",
            "WARNING:tensorflow:The parameter `return_dict` cannot be set in graph mode and will always be set to `True`.\n",
            "547/547 [==============================] - ETA: 0s - loss: 0.2278 - accuracy: 0.9438 - precision: 0.9512 - recall: 0.9357WARNING:tensorflow:The parameters `output_attentions`, `output_hidden_states` and `use_cache` cannot be updated when calling a model.They have to be set to True/False in the config object (i.e.: `config=XConfig.from_pretrained('name', output_attentions=True)`).\n",
            "WARNING:tensorflow:The parameter `return_dict` cannot be set in graph mode and will always be set to `True`.\n",
            "547/547 [==============================] - 3380s 6s/step - loss: 0.2278 - accuracy: 0.9438 - precision: 0.9512 - recall: 0.9357 - val_loss: 0.1675 - val_accuracy: 0.9394 - val_precision: 0.9177 - val_recall: 0.9644\n",
            "Epoch 2/2\n",
            "547/547 [==============================] - 3366s 6s/step - loss: 0.1459 - accuracy: 0.9482 - precision: 0.9659 - recall: 0.9293 - val_loss: 0.1588 - val_accuracy: 0.9436 - val_precision: 0.9253 - val_recall: 0.9644\n"
          ],
          "name": "stdout"
        }
      ]
    },
    {
      "cell_type": "code",
      "metadata": {
        "id": "zrpvTIAuRawu",
        "colab": {
          "base_uri": "https://localhost:8080/",
          "height": 420
        },
        "outputId": "34360084-8017-4ac8-890d-8b8c9c4385a3"
      },
      "source": [
        "l, a, p, r = xlnet_model.evaluate(test_ds_xlnet)\n",
        "\n",
        "print('Test Loss:', l)\n",
        "print('Test Accuracy:', a)\n",
        "print('Test Precision:', p)\n",
        "print('Test Recall:', r)\n",
        "print()\n",
        "plot_history_loss(history_xlnet)"
      ],
      "execution_count": null,
      "outputs": [
        {
          "output_type": "stream",
          "text": [
            "118/118 [==============================] - 546s 5s/step - loss: 0.1594 - accuracy: 0.9408 - precision: 0.9220 - recall: 0.9638\n",
            "Test Loss: 0.15937069058418274\n",
            "Test Accuracy: 0.9407684206962585\n",
            "Test Precision: 0.9219741225242615\n",
            "Test Recall: 0.9637930989265442\n",
            "\n"
          ],
          "name": "stdout"
        },
        {
          "output_type": "display_data",
          "data": {
            "image/png": "[encoded data removed]",
            "text/plain": [
              "<Figure size 432x288 with 1 Axes>"
            ]
          },
          "metadata": {
            "tags": []
          }
        }
      ]
    },
    {
      "cell_type": "code",
      "metadata": {
        "colab": {
          "base_uri": "https://localhost:8080/",
          "height": 330
        },
        "id": "2wUDWsYg_zcb",
        "outputId": "d0407a19-85fc-44c4-e981-59ed03f01bb7"
      },
      "source": [
        "plot_confusion_matrix(xlnet_model, test_ds_xlnet)"
      ],
      "execution_count": null,
      "outputs": [
        {
          "output_type": "stream",
          "text": [
            "WARNING:tensorflow:The parameters `output_attentions`, `output_hidden_states` and `use_cache` cannot be updated when calling a model.They have to be set to True/False in the config object (i.e.: `config=XConfig.from_pretrained('name', output_attentions=True)`).\n",
            "WARNING:tensorflow:The parameter `return_dict` cannot be set in graph mode and will always be set to `True`.\n"
          ],
          "name": "stdout"
        },
        {
          "output_type": "display_data",
          "data": {
            "image/png": "[encoded data removed]",
            "text/plain": [
              "<Figure size 432x288 with 2 Axes>"
            ]
          },
          "metadata": {
            "tags": []
          }
        }
      ]
    },
    {
      "cell_type": "markdown",
      "metadata": {
        "id": "ghq3JMiyyq7m"
      },
      "source": [
        "### Observaciones\n",
        "Se debe admitir que este modelo era para el que se tenían las más altas expectativas, dado que es el modelo más reciente en salir y tomó base en los anteriores en su construcción. No obstante, las métricas obtenidas aquí fueron mucho más bajas de lo que se esperaba. Esto no significa que hayan sido malas, son métricas muy altas, pero comparando con los dos modelos anteriores, este modelo no tuvo un rendimiento extremadamene bueno como los otros.\n",
        "\n",
        "En cuanto a la razón de esto, hay muchos factores que podrian ser la causa. Por ejemplo, quizás el modelo se necesitaba entrenar por más épocas, pero aqui hay una desventaja grande que es que este modelo consumía casi el doble de tiempo por época que los dos anteriores, lo que hizo agregar más épocas más difícil. La segunda razón pudiera ser que este modelo quizás no está construído con algo simple como clasificación en mente, quizás la intención de los autores era que el modelo pudiera resolver problemas mucho más complicados que esto, como Neural Machine Translation o Text Generation. "
      ]
    },
    {
      "cell_type": "markdown",
      "metadata": {
        "id": "ZSvAM00mzI3y"
      },
      "source": [
        "# Conclusiones\n",
        "\n",
        "Este proyecto tenía como objetivo crear un modelo de procesamiento de lenguaje natural capaz de detectar si un texto contiene un tono depresivo o no, es decir, que puede hacer predicciones sobre si la persona que escribió el texto tiene depresión o no. La depresión ha sido un problema recurrente a través de los años, y es uno de los desafíos más grandes en el área de NLP, ddebido a que la mayoría de las veces las señales que da alguien con depresión pueden llegar a ser sumamente sutiles.\n",
        "\n",
        "En cuanto a los resultados obtenidos, se piensa que el dataset que se creó para entrenar los modelos contiene una muy buena variedad de textos, con  ideas y estructuras variadas. Sus principales limitaciones eran que se están haciendo generalizciones grandes, al no estudiar completamente de cerca los textos recolectados. La otra limitación importante es el tamaño del mismo dataset. No obstante, se piensa que para este proyecto en particular fue un costo que se tuvo que pagar para que los modelos fueran un poco más ágiles en su entrenamiento, además de que sí se tenían más textos con los cuales trabajar, sólo sería cuestión de incorporarlos al dataset.\n",
        "\n",
        "Los modelos en sí obtuvieron resultados bastante buenos, por algo son conocidos en la acualidad como el estado-del-arte. La librería que proporciona HuggingFace fue extremadamente útil para incorporar estos modelos de una manera muy, muy sencilla. \n",
        "\n",
        "Finalmente, algunas limitaciones y áreas de oportunidad que tiene este proyecto son:\n",
        "- Los modelos por ahora detectan depresión sobre textos que muy explícitamente tengan palabras relacionadas a la depresión, o bien, que el tono del texto sea muy evidente que es depresivo. Se puede mejorar que los modelos aprendan a marcar como depresivos textos con indicadores más sutiles.\n",
        "\n",
        "- No se están incorporando metadatos de los textos. Como hicieron los autores en el paper original, ellos tomaron ciertas medidas adicionales sobre los mismos textos para ayudarlos a saber cuándo detectar depresión o no. Aún así, se piensa que esto hubiera sido un poco difícil de aplicar en este proyecto, ya que el acercamiento del paper al problema era distinto. Ahí los autores examinaron una serie de textos sobre un mismo usuario, mientras que aquí se analizaron los textos de manera independiente.\n",
        "\n",
        "- Por ahora el transfer learning que se hace a los modelos fue bastante pequeño, debido al poco tiempo de trabajo en el proyecto. Muy fácilmente se pueden entrenar estos modelos con un dataset de textos más completo para que le aprendizaje sea todavía mejor.\n",
        "\n",
        "- Es muy probable que se puedan incorporar otros modelos distintos que sirvan igual o mejor a los que ya se implementaron."
      ]
    },
    {
      "cell_type": "markdown",
      "metadata": {
        "id": "NYEAkakZoSoT"
      },
      "source": [
        "# Referencias consultadas\n",
        "Las principales referencias que se consultaron para este proyecto fueron:\n",
        "- https://www.who.int/es/news-room/fact-sheets/detail/depression\n",
        "- https://www.kaggle.com/nikhileswarkomati/suicide-watch/version/13\n",
        "- https://github.com/microsoft/nlp-recipes\n",
        "- https://www.aclweb.org/anthology/W18-5903.pdf\n",
        "- https://huggingface.co/models\n",
        "- https://towardsdatascience.com/tensorflow-and-transformers-df6fceaf57cc\n",
        "- https://medium.com/dataseries/why-does-xlnet-outperform-bert-da98a8503d5b\n",
        "- https://www.iartificial.net/precision-recall-f1-accuracy-en-clasificacion/\n",
        "- https://ai.facebook.com/blog/roberta-an-optimized-method-for-pretraining-self-supervised-nlp-systems/\n",
        "- https://www.tensorflow.org/tutorials/distribute/save_and_load\n"
      ]
    },
    {
      "cell_type": "code",
      "metadata": {
        "id": "9rtMCNud9ZZ7"
      },
      "source": [
        "# Comando para obtener el archivo de requerimientos\n",
        "# pip freeze > requirements.txt"
      ],
      "execution_count": null,
      "outputs": []
    },
    {
      "cell_type": "code",
      "metadata": {
        "id": "VES-Rjgw8s5T"
      },
      "source": [
        ""
      ],
      "execution_count": null,
      "outputs": []
    },
    {
      "cell_type": "code",
      "metadata": {
        "id": "5vgoquPtR9pP"
      },
      "source": [
        ""
      ],
      "execution_count": null,
      "outputs": []
    }
  ]
}