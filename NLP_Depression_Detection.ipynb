{
  "nbformat": 4,
  "nbformat_minor": 0,
  "metadata": {
    "colab": {
      "name": "NLP Depression Detection.ipynb",
      "provenance": [],
      "collapsed_sections": [],
      "toc_visible": true
    },
    "kernelspec": {
      "display_name": "Python 3",
      "name": "python3"
    },
    "language_info": {
      "name": "python"
    },
    "widgets": {
      "application/vnd.jupyter.widget-state+json": {
        "2e01ceabcffc4cf98aa4fcdcca7a56a3": {
          "model_module": "@jupyter-widgets/controls",
          "model_name": "HBoxModel",
          "state": {
            "_view_name": "HBoxView",
            "_dom_classes": [],
            "_model_name": "HBoxModel",
            "_view_module": "@jupyter-widgets/controls",
            "_model_module_version": "1.5.0",
            "_view_count": null,
            "_view_module_version": "1.5.0",
            "box_style": "",
            "layout": "IPY_MODEL_3479c08c544b44068d12f40a616f54be",
            "_model_module": "@jupyter-widgets/controls",
            "children": [
              "IPY_MODEL_0e7d484f35b64aeab07ab1cb31991134",
              "IPY_MODEL_e247bd26860947c4a72fe1cecbb312f4"
            ]
          }
        },
        "3479c08c544b44068d12f40a616f54be": {
          "model_module": "@jupyter-widgets/base",
          "model_name": "LayoutModel",
          "state": {
            "_view_name": "LayoutView",
            "grid_template_rows": null,
            "right": null,
            "justify_content": null,
            "_view_module": "@jupyter-widgets/base",
            "overflow": null,
            "_model_module_version": "1.2.0",
            "_view_count": null,
            "flex_flow": null,
            "width": null,
            "min_width": null,
            "border": null,
            "align_items": null,
            "bottom": null,
            "_model_module": "@jupyter-widgets/base",
            "top": null,
            "grid_column": null,
            "overflow_y": null,
            "overflow_x": null,
            "grid_auto_flow": null,
            "grid_area": null,
            "grid_template_columns": null,
            "flex": null,
            "_model_name": "LayoutModel",
            "justify_items": null,
            "grid_row": null,
            "max_height": null,
            "align_content": null,
            "visibility": null,
            "align_self": null,
            "height": null,
            "min_height": null,
            "padding": null,
            "grid_auto_rows": null,
            "grid_gap": null,
            "max_width": null,
            "order": null,
            "_view_module_version": "1.2.0",
            "grid_template_areas": null,
            "object_position": null,
            "object_fit": null,
            "grid_auto_columns": null,
            "margin": null,
            "display": null,
            "left": null
          }
        },
        "0e7d484f35b64aeab07ab1cb31991134": {
          "model_module": "@jupyter-widgets/controls",
          "model_name": "FloatProgressModel",
          "state": {
            "_view_name": "ProgressView",
            "style": "IPY_MODEL_19807de5a05945b282cd355076dfb9ee",
            "_dom_classes": [],
            "description": "Downloading: 100%",
            "_model_name": "FloatProgressModel",
            "bar_style": "success",
            "max": 570,
            "_view_module": "@jupyter-widgets/controls",
            "_model_module_version": "1.5.0",
            "value": 570,
            "_view_count": null,
            "_view_module_version": "1.5.0",
            "orientation": "horizontal",
            "min": 0,
            "description_tooltip": null,
            "_model_module": "@jupyter-widgets/controls",
            "layout": "IPY_MODEL_289467be8de240b0826a84027ec3a8d0"
          }
        },
        "e247bd26860947c4a72fe1cecbb312f4": {
          "model_module": "@jupyter-widgets/controls",
          "model_name": "HTMLModel",
          "state": {
            "_view_name": "HTMLView",
            "style": "IPY_MODEL_28129fa10b584ddd9206902c88d8e09b",
            "_dom_classes": [],
            "description": "",
            "_model_name": "HTMLModel",
            "placeholder": "​",
            "_view_module": "@jupyter-widgets/controls",
            "_model_module_version": "1.5.0",
            "value": " 570/570 [00:18&lt;00:00, 31.3B/s]",
            "_view_count": null,
            "_view_module_version": "1.5.0",
            "description_tooltip": null,
            "_model_module": "@jupyter-widgets/controls",
            "layout": "IPY_MODEL_bb769467de594bfd948d3b440962b3a9"
          }
        },
        "19807de5a05945b282cd355076dfb9ee": {
          "model_module": "@jupyter-widgets/controls",
          "model_name": "ProgressStyleModel",
          "state": {
            "_view_name": "StyleView",
            "_model_name": "ProgressStyleModel",
            "description_width": "initial",
            "_view_module": "@jupyter-widgets/base",
            "_model_module_version": "1.5.0",
            "_view_count": null,
            "_view_module_version": "1.2.0",
            "bar_color": null,
            "_model_module": "@jupyter-widgets/controls"
          }
        },
        "289467be8de240b0826a84027ec3a8d0": {
          "model_module": "@jupyter-widgets/base",
          "model_name": "LayoutModel",
          "state": {
            "_view_name": "LayoutView",
            "grid_template_rows": null,
            "right": null,
            "justify_content": null,
            "_view_module": "@jupyter-widgets/base",
            "overflow": null,
            "_model_module_version": "1.2.0",
            "_view_count": null,
            "flex_flow": null,
            "width": null,
            "min_width": null,
            "border": null,
            "align_items": null,
            "bottom": null,
            "_model_module": "@jupyter-widgets/base",
            "top": null,
            "grid_column": null,
            "overflow_y": null,
            "overflow_x": null,
            "grid_auto_flow": null,
            "grid_area": null,
            "grid_template_columns": null,
            "flex": null,
            "_model_name": "LayoutModel",
            "justify_items": null,
            "grid_row": null,
            "max_height": null,
            "align_content": null,
            "visibility": null,
            "align_self": null,
            "height": null,
            "min_height": null,
            "padding": null,
            "grid_auto_rows": null,
            "grid_gap": null,
            "max_width": null,
            "order": null,
            "_view_module_version": "1.2.0",
            "grid_template_areas": null,
            "object_position": null,
            "object_fit": null,
            "grid_auto_columns": null,
            "margin": null,
            "display": null,
            "left": null
          }
        },
        "28129fa10b584ddd9206902c88d8e09b": {
          "model_module": "@jupyter-widgets/controls",
          "model_name": "DescriptionStyleModel",
          "state": {
            "_view_name": "StyleView",
            "_model_name": "DescriptionStyleModel",
            "description_width": "",
            "_view_module": "@jupyter-widgets/base",
            "_model_module_version": "1.5.0",
            "_view_count": null,
            "_view_module_version": "1.2.0",
            "_model_module": "@jupyter-widgets/controls"
          }
        },
        "bb769467de594bfd948d3b440962b3a9": {
          "model_module": "@jupyter-widgets/base",
          "model_name": "LayoutModel",
          "state": {
            "_view_name": "LayoutView",
            "grid_template_rows": null,
            "right": null,
            "justify_content": null,
            "_view_module": "@jupyter-widgets/base",
            "overflow": null,
            "_model_module_version": "1.2.0",
            "_view_count": null,
            "flex_flow": null,
            "width": null,
            "min_width": null,
            "border": null,
            "align_items": null,
            "bottom": null,
            "_model_module": "@jupyter-widgets/base",
            "top": null,
            "grid_column": null,
            "overflow_y": null,
            "overflow_x": null,
            "grid_auto_flow": null,
            "grid_area": null,
            "grid_template_columns": null,
            "flex": null,
            "_model_name": "LayoutModel",
            "justify_items": null,
            "grid_row": null,
            "max_height": null,
            "align_content": null,
            "visibility": null,
            "align_self": null,
            "height": null,
            "min_height": null,
            "padding": null,
            "grid_auto_rows": null,
            "grid_gap": null,
            "max_width": null,
            "order": null,
            "_view_module_version": "1.2.0",
            "grid_template_areas": null,
            "object_position": null,
            "object_fit": null,
            "grid_auto_columns": null,
            "margin": null,
            "display": null,
            "left": null
          }
        },
        "a4c0602e7db040f0acebd4fbe4695a7b": {
          "model_module": "@jupyter-widgets/controls",
          "model_name": "HBoxModel",
          "state": {
            "_view_name": "HBoxView",
            "_dom_classes": [],
            "_model_name": "HBoxModel",
            "_view_module": "@jupyter-widgets/controls",
            "_model_module_version": "1.5.0",
            "_view_count": null,
            "_view_module_version": "1.5.0",
            "box_style": "",
            "layout": "IPY_MODEL_b900615d071a4ca1baf01f112c7652ae",
            "_model_module": "@jupyter-widgets/controls",
            "children": [
              "IPY_MODEL_194b2c0b6f954185b921012423c96320",
              "IPY_MODEL_2c989688324041b3865c6769462e9067"
            ]
          }
        },
        "b900615d071a4ca1baf01f112c7652ae": {
          "model_module": "@jupyter-widgets/base",
          "model_name": "LayoutModel",
          "state": {
            "_view_name": "LayoutView",
            "grid_template_rows": null,
            "right": null,
            "justify_content": null,
            "_view_module": "@jupyter-widgets/base",
            "overflow": null,
            "_model_module_version": "1.2.0",
            "_view_count": null,
            "flex_flow": null,
            "width": null,
            "min_width": null,
            "border": null,
            "align_items": null,
            "bottom": null,
            "_model_module": "@jupyter-widgets/base",
            "top": null,
            "grid_column": null,
            "overflow_y": null,
            "overflow_x": null,
            "grid_auto_flow": null,
            "grid_area": null,
            "grid_template_columns": null,
            "flex": null,
            "_model_name": "LayoutModel",
            "justify_items": null,
            "grid_row": null,
            "max_height": null,
            "align_content": null,
            "visibility": null,
            "align_self": null,
            "height": null,
            "min_height": null,
            "padding": null,
            "grid_auto_rows": null,
            "grid_gap": null,
            "max_width": null,
            "order": null,
            "_view_module_version": "1.2.0",
            "grid_template_areas": null,
            "object_position": null,
            "object_fit": null,
            "grid_auto_columns": null,
            "margin": null,
            "display": null,
            "left": null
          }
        },
        "194b2c0b6f954185b921012423c96320": {
          "model_module": "@jupyter-widgets/controls",
          "model_name": "FloatProgressModel",
          "state": {
            "_view_name": "ProgressView",
            "style": "IPY_MODEL_68864902d3b94fc2ba1f7bf5b7a1cdbf",
            "_dom_classes": [],
            "description": "Downloading: 100%",
            "_model_name": "FloatProgressModel",
            "bar_style": "success",
            "max": 526681800,
            "_view_module": "@jupyter-widgets/controls",
            "_model_module_version": "1.5.0",
            "value": 526681800,
            "_view_count": null,
            "_view_module_version": "1.5.0",
            "orientation": "horizontal",
            "min": 0,
            "description_tooltip": null,
            "_model_module": "@jupyter-widgets/controls",
            "layout": "IPY_MODEL_18e6d55b567c47b69136a830c64b59ce"
          }
        },
        "2c989688324041b3865c6769462e9067": {
          "model_module": "@jupyter-widgets/controls",
          "model_name": "HTMLModel",
          "state": {
            "_view_name": "HTMLView",
            "style": "IPY_MODEL_cddd7fe2e90a4819a6f29fb2c716e11e",
            "_dom_classes": [],
            "description": "",
            "_model_name": "HTMLModel",
            "placeholder": "​",
            "_view_module": "@jupyter-widgets/controls",
            "_model_module_version": "1.5.0",
            "value": " 527M/527M [00:17&lt;00:00, 29.8MB/s]",
            "_view_count": null,
            "_view_module_version": "1.5.0",
            "description_tooltip": null,
            "_model_module": "@jupyter-widgets/controls",
            "layout": "IPY_MODEL_8b3a7017cb5e47aa96ceedf98d670e2e"
          }
        },
        "68864902d3b94fc2ba1f7bf5b7a1cdbf": {
          "model_module": "@jupyter-widgets/controls",
          "model_name": "ProgressStyleModel",
          "state": {
            "_view_name": "StyleView",
            "_model_name": "ProgressStyleModel",
            "description_width": "initial",
            "_view_module": "@jupyter-widgets/base",
            "_model_module_version": "1.5.0",
            "_view_count": null,
            "_view_module_version": "1.2.0",
            "bar_color": null,
            "_model_module": "@jupyter-widgets/controls"
          }
        },
        "18e6d55b567c47b69136a830c64b59ce": {
          "model_module": "@jupyter-widgets/base",
          "model_name": "LayoutModel",
          "state": {
            "_view_name": "LayoutView",
            "grid_template_rows": null,
            "right": null,
            "justify_content": null,
            "_view_module": "@jupyter-widgets/base",
            "overflow": null,
            "_model_module_version": "1.2.0",
            "_view_count": null,
            "flex_flow": null,
            "width": null,
            "min_width": null,
            "border": null,
            "align_items": null,
            "bottom": null,
            "_model_module": "@jupyter-widgets/base",
            "top": null,
            "grid_column": null,
            "overflow_y": null,
            "overflow_x": null,
            "grid_auto_flow": null,
            "grid_area": null,
            "grid_template_columns": null,
            "flex": null,
            "_model_name": "LayoutModel",
            "justify_items": null,
            "grid_row": null,
            "max_height": null,
            "align_content": null,
            "visibility": null,
            "align_self": null,
            "height": null,
            "min_height": null,
            "padding": null,
            "grid_auto_rows": null,
            "grid_gap": null,
            "max_width": null,
            "order": null,
            "_view_module_version": "1.2.0",
            "grid_template_areas": null,
            "object_position": null,
            "object_fit": null,
            "grid_auto_columns": null,
            "margin": null,
            "display": null,
            "left": null
          }
        },
        "cddd7fe2e90a4819a6f29fb2c716e11e": {
          "model_module": "@jupyter-widgets/controls",
          "model_name": "DescriptionStyleModel",
          "state": {
            "_view_name": "StyleView",
            "_model_name": "DescriptionStyleModel",
            "description_width": "",
            "_view_module": "@jupyter-widgets/base",
            "_model_module_version": "1.5.0",
            "_view_count": null,
            "_view_module_version": "1.2.0",
            "_model_module": "@jupyter-widgets/controls"
          }
        },
        "8b3a7017cb5e47aa96ceedf98d670e2e": {
          "model_module": "@jupyter-widgets/base",
          "model_name": "LayoutModel",
          "state": {
            "_view_name": "LayoutView",
            "grid_template_rows": null,
            "right": null,
            "justify_content": null,
            "_view_module": "@jupyter-widgets/base",
            "overflow": null,
            "_model_module_version": "1.2.0",
            "_view_count": null,
            "flex_flow": null,
            "width": null,
            "min_width": null,
            "border": null,
            "align_items": null,
            "bottom": null,
            "_model_module": "@jupyter-widgets/base",
            "top": null,
            "grid_column": null,
            "overflow_y": null,
            "overflow_x": null,
            "grid_auto_flow": null,
            "grid_area": null,
            "grid_template_columns": null,
            "flex": null,
            "_model_name": "LayoutModel",
            "justify_items": null,
            "grid_row": null,
            "max_height": null,
            "align_content": null,
            "visibility": null,
            "align_self": null,
            "height": null,
            "min_height": null,
            "padding": null,
            "grid_auto_rows": null,
            "grid_gap": null,
            "max_width": null,
            "order": null,
            "_view_module_version": "1.2.0",
            "grid_template_areas": null,
            "object_position": null,
            "object_fit": null,
            "grid_auto_columns": null,
            "margin": null,
            "display": null,
            "left": null
          }
        },
        "79644942fc96477796c47eeae7f82d5b": {
          "model_module": "@jupyter-widgets/controls",
          "model_name": "HBoxModel",
          "state": {
            "_view_name": "HBoxView",
            "_dom_classes": [],
            "_model_name": "HBoxModel",
            "_view_module": "@jupyter-widgets/controls",
            "_model_module_version": "1.5.0",
            "_view_count": null,
            "_view_module_version": "1.5.0",
            "box_style": "",
            "layout": "IPY_MODEL_ac9df435da8e40a5850e895768ed3bf8",
            "_model_module": "@jupyter-widgets/controls",
            "children": [
              "IPY_MODEL_71ea5d50217147c4bd9c532099aac11c",
              "IPY_MODEL_2ae5c6c5de3a4fdeb6cca91d862286f2"
            ]
          }
        },
        "ac9df435da8e40a5850e895768ed3bf8": {
          "model_module": "@jupyter-widgets/base",
          "model_name": "LayoutModel",
          "state": {
            "_view_name": "LayoutView",
            "grid_template_rows": null,
            "right": null,
            "justify_content": null,
            "_view_module": "@jupyter-widgets/base",
            "overflow": null,
            "_model_module_version": "1.2.0",
            "_view_count": null,
            "flex_flow": null,
            "width": null,
            "min_width": null,
            "border": null,
            "align_items": null,
            "bottom": null,
            "_model_module": "@jupyter-widgets/base",
            "top": null,
            "grid_column": null,
            "overflow_y": null,
            "overflow_x": null,
            "grid_auto_flow": null,
            "grid_area": null,
            "grid_template_columns": null,
            "flex": null,
            "_model_name": "LayoutModel",
            "justify_items": null,
            "grid_row": null,
            "max_height": null,
            "align_content": null,
            "visibility": null,
            "align_self": null,
            "height": null,
            "min_height": null,
            "padding": null,
            "grid_auto_rows": null,
            "grid_gap": null,
            "max_width": null,
            "order": null,
            "_view_module_version": "1.2.0",
            "grid_template_areas": null,
            "object_position": null,
            "object_fit": null,
            "grid_auto_columns": null,
            "margin": null,
            "display": null,
            "left": null
          }
        },
        "71ea5d50217147c4bd9c532099aac11c": {
          "model_module": "@jupyter-widgets/controls",
          "model_name": "FloatProgressModel",
          "state": {
            "_view_name": "ProgressView",
            "style": "IPY_MODEL_d8fa10d8378e4261ae84d855ac860d39",
            "_dom_classes": [],
            "description": "Downloading: 100%",
            "_model_name": "FloatProgressModel",
            "bar_style": "success",
            "max": 213450,
            "_view_module": "@jupyter-widgets/controls",
            "_model_module_version": "1.5.0",
            "value": 213450,
            "_view_count": null,
            "_view_module_version": "1.5.0",
            "orientation": "horizontal",
            "min": 0,
            "description_tooltip": null,
            "_model_module": "@jupyter-widgets/controls",
            "layout": "IPY_MODEL_c82046e300c849fc907040c15185293a"
          }
        },
        "2ae5c6c5de3a4fdeb6cca91d862286f2": {
          "model_module": "@jupyter-widgets/controls",
          "model_name": "HTMLModel",
          "state": {
            "_view_name": "HTMLView",
            "style": "IPY_MODEL_6ef304b4a2384b37883099003215a75b",
            "_dom_classes": [],
            "description": "",
            "_model_name": "HTMLModel",
            "placeholder": "​",
            "_view_module": "@jupyter-widgets/controls",
            "_model_module_version": "1.5.0",
            "value": " 213k/213k [49:29&lt;00:00, 71.9B/s]",
            "_view_count": null,
            "_view_module_version": "1.5.0",
            "description_tooltip": null,
            "_model_module": "@jupyter-widgets/controls",
            "layout": "IPY_MODEL_6e5807d7087340b6819ad5dfabcdd430"
          }
        },
        "d8fa10d8378e4261ae84d855ac860d39": {
          "model_module": "@jupyter-widgets/controls",
          "model_name": "ProgressStyleModel",
          "state": {
            "_view_name": "StyleView",
            "_model_name": "ProgressStyleModel",
            "description_width": "initial",
            "_view_module": "@jupyter-widgets/base",
            "_model_module_version": "1.5.0",
            "_view_count": null,
            "_view_module_version": "1.2.0",
            "bar_color": null,
            "_model_module": "@jupyter-widgets/controls"
          }
        },
        "c82046e300c849fc907040c15185293a": {
          "model_module": "@jupyter-widgets/base",
          "model_name": "LayoutModel",
          "state": {
            "_view_name": "LayoutView",
            "grid_template_rows": null,
            "right": null,
            "justify_content": null,
            "_view_module": "@jupyter-widgets/base",
            "overflow": null,
            "_model_module_version": "1.2.0",
            "_view_count": null,
            "flex_flow": null,
            "width": null,
            "min_width": null,
            "border": null,
            "align_items": null,
            "bottom": null,
            "_model_module": "@jupyter-widgets/base",
            "top": null,
            "grid_column": null,
            "overflow_y": null,
            "overflow_x": null,
            "grid_auto_flow": null,
            "grid_area": null,
            "grid_template_columns": null,
            "flex": null,
            "_model_name": "LayoutModel",
            "justify_items": null,
            "grid_row": null,
            "max_height": null,
            "align_content": null,
            "visibility": null,
            "align_self": null,
            "height": null,
            "min_height": null,
            "padding": null,
            "grid_auto_rows": null,
            "grid_gap": null,
            "max_width": null,
            "order": null,
            "_view_module_version": "1.2.0",
            "grid_template_areas": null,
            "object_position": null,
            "object_fit": null,
            "grid_auto_columns": null,
            "margin": null,
            "display": null,
            "left": null
          }
        },
        "6ef304b4a2384b37883099003215a75b": {
          "model_module": "@jupyter-widgets/controls",
          "model_name": "DescriptionStyleModel",
          "state": {
            "_view_name": "StyleView",
            "_model_name": "DescriptionStyleModel",
            "description_width": "",
            "_view_module": "@jupyter-widgets/base",
            "_model_module_version": "1.5.0",
            "_view_count": null,
            "_view_module_version": "1.2.0",
            "_model_module": "@jupyter-widgets/controls"
          }
        },
        "6e5807d7087340b6819ad5dfabcdd430": {
          "model_module": "@jupyter-widgets/base",
          "model_name": "LayoutModel",
          "state": {
            "_view_name": "LayoutView",
            "grid_template_rows": null,
            "right": null,
            "justify_content": null,
            "_view_module": "@jupyter-widgets/base",
            "overflow": null,
            "_model_module_version": "1.2.0",
            "_view_count": null,
            "flex_flow": null,
            "width": null,
            "min_width": null,
            "border": null,
            "align_items": null,
            "bottom": null,
            "_model_module": "@jupyter-widgets/base",
            "top": null,
            "grid_column": null,
            "overflow_y": null,
            "overflow_x": null,
            "grid_auto_flow": null,
            "grid_area": null,
            "grid_template_columns": null,
            "flex": null,
            "_model_name": "LayoutModel",
            "justify_items": null,
            "grid_row": null,
            "max_height": null,
            "align_content": null,
            "visibility": null,
            "align_self": null,
            "height": null,
            "min_height": null,
            "padding": null,
            "grid_auto_rows": null,
            "grid_gap": null,
            "max_width": null,
            "order": null,
            "_view_module_version": "1.2.0",
            "grid_template_areas": null,
            "object_position": null,
            "object_fit": null,
            "grid_auto_columns": null,
            "margin": null,
            "display": null,
            "left": null
          }
        },
        "28f2fceeaf204f229c01e0d79a0e5e65": {
          "model_module": "@jupyter-widgets/controls",
          "model_name": "HBoxModel",
          "state": {
            "_view_name": "HBoxView",
            "_dom_classes": [],
            "_model_name": "HBoxModel",
            "_view_module": "@jupyter-widgets/controls",
            "_model_module_version": "1.5.0",
            "_view_count": null,
            "_view_module_version": "1.5.0",
            "box_style": "",
            "layout": "IPY_MODEL_47f0d433877d48e78b9d0582bdb829b2",
            "_model_module": "@jupyter-widgets/controls",
            "children": [
              "IPY_MODEL_4c1efdf0ed4548d1bb0c9a23d95950d5",
              "IPY_MODEL_9037fb2e7b0d46c998e9f1a8c998b060"
            ]
          }
        },
        "47f0d433877d48e78b9d0582bdb829b2": {
          "model_module": "@jupyter-widgets/base",
          "model_name": "LayoutModel",
          "state": {
            "_view_name": "LayoutView",
            "grid_template_rows": null,
            "right": null,
            "justify_content": null,
            "_view_module": "@jupyter-widgets/base",
            "overflow": null,
            "_model_module_version": "1.2.0",
            "_view_count": null,
            "flex_flow": null,
            "width": null,
            "min_width": null,
            "border": null,
            "align_items": null,
            "bottom": null,
            "_model_module": "@jupyter-widgets/base",
            "top": null,
            "grid_column": null,
            "overflow_y": null,
            "overflow_x": null,
            "grid_auto_flow": null,
            "grid_area": null,
            "grid_template_columns": null,
            "flex": null,
            "_model_name": "LayoutModel",
            "justify_items": null,
            "grid_row": null,
            "max_height": null,
            "align_content": null,
            "visibility": null,
            "align_self": null,
            "height": null,
            "min_height": null,
            "padding": null,
            "grid_auto_rows": null,
            "grid_gap": null,
            "max_width": null,
            "order": null,
            "_view_module_version": "1.2.0",
            "grid_template_areas": null,
            "object_position": null,
            "object_fit": null,
            "grid_auto_columns": null,
            "margin": null,
            "display": null,
            "left": null
          }
        },
        "4c1efdf0ed4548d1bb0c9a23d95950d5": {
          "model_module": "@jupyter-widgets/controls",
          "model_name": "FloatProgressModel",
          "state": {
            "_view_name": "ProgressView",
            "style": "IPY_MODEL_1f2bd873362740dcb2680fc43c4be626",
            "_dom_classes": [],
            "description": "Downloading: 100%",
            "_model_name": "FloatProgressModel",
            "bar_style": "success",
            "max": 435797,
            "_view_module": "@jupyter-widgets/controls",
            "_model_module_version": "1.5.0",
            "value": 435797,
            "_view_count": null,
            "_view_module_version": "1.5.0",
            "orientation": "horizontal",
            "min": 0,
            "description_tooltip": null,
            "_model_module": "@jupyter-widgets/controls",
            "layout": "IPY_MODEL_aa2be99ce3924ee2a12c5fc3e6e17f0f"
          }
        },
        "9037fb2e7b0d46c998e9f1a8c998b060": {
          "model_module": "@jupyter-widgets/controls",
          "model_name": "HTMLModel",
          "state": {
            "_view_name": "HTMLView",
            "style": "IPY_MODEL_c25e2a3d3e304c66a8df7234f01e6437",
            "_dom_classes": [],
            "description": "",
            "_model_name": "HTMLModel",
            "placeholder": "​",
            "_view_module": "@jupyter-widgets/controls",
            "_model_module_version": "1.5.0",
            "value": " 436k/436k [00:01&lt;00:00, 415kB/s]",
            "_view_count": null,
            "_view_module_version": "1.5.0",
            "description_tooltip": null,
            "_model_module": "@jupyter-widgets/controls",
            "layout": "IPY_MODEL_840cdccdfc2b46359fa8fd98f5b4619d"
          }
        },
        "1f2bd873362740dcb2680fc43c4be626": {
          "model_module": "@jupyter-widgets/controls",
          "model_name": "ProgressStyleModel",
          "state": {
            "_view_name": "StyleView",
            "_model_name": "ProgressStyleModel",
            "description_width": "initial",
            "_view_module": "@jupyter-widgets/base",
            "_model_module_version": "1.5.0",
            "_view_count": null,
            "_view_module_version": "1.2.0",
            "bar_color": null,
            "_model_module": "@jupyter-widgets/controls"
          }
        },
        "aa2be99ce3924ee2a12c5fc3e6e17f0f": {
          "model_module": "@jupyter-widgets/base",
          "model_name": "LayoutModel",
          "state": {
            "_view_name": "LayoutView",
            "grid_template_rows": null,
            "right": null,
            "justify_content": null,
            "_view_module": "@jupyter-widgets/base",
            "overflow": null,
            "_model_module_version": "1.2.0",
            "_view_count": null,
            "flex_flow": null,
            "width": null,
            "min_width": null,
            "border": null,
            "align_items": null,
            "bottom": null,
            "_model_module": "@jupyter-widgets/base",
            "top": null,
            "grid_column": null,
            "overflow_y": null,
            "overflow_x": null,
            "grid_auto_flow": null,
            "grid_area": null,
            "grid_template_columns": null,
            "flex": null,
            "_model_name": "LayoutModel",
            "justify_items": null,
            "grid_row": null,
            "max_height": null,
            "align_content": null,
            "visibility": null,
            "align_self": null,
            "height": null,
            "min_height": null,
            "padding": null,
            "grid_auto_rows": null,
            "grid_gap": null,
            "max_width": null,
            "order": null,
            "_view_module_version": "1.2.0",
            "grid_template_areas": null,
            "object_position": null,
            "object_fit": null,
            "grid_auto_columns": null,
            "margin": null,
            "display": null,
            "left": null
          }
        },
        "c25e2a3d3e304c66a8df7234f01e6437": {
          "model_module": "@jupyter-widgets/controls",
          "model_name": "DescriptionStyleModel",
          "state": {
            "_view_name": "StyleView",
            "_model_name": "DescriptionStyleModel",
            "description_width": "",
            "_view_module": "@jupyter-widgets/base",
            "_model_module_version": "1.5.0",
            "_view_count": null,
            "_view_module_version": "1.2.0",
            "_model_module": "@jupyter-widgets/controls"
          }
        },
        "840cdccdfc2b46359fa8fd98f5b4619d": {
          "model_module": "@jupyter-widgets/base",
          "model_name": "LayoutModel",
          "state": {
            "_view_name": "LayoutView",
            "grid_template_rows": null,
            "right": null,
            "justify_content": null,
            "_view_module": "@jupyter-widgets/base",
            "overflow": null,
            "_model_module_version": "1.2.0",
            "_view_count": null,
            "flex_flow": null,
            "width": null,
            "min_width": null,
            "border": null,
            "align_items": null,
            "bottom": null,
            "_model_module": "@jupyter-widgets/base",
            "top": null,
            "grid_column": null,
            "overflow_y": null,
            "overflow_x": null,
            "grid_auto_flow": null,
            "grid_area": null,
            "grid_template_columns": null,
            "flex": null,
            "_model_name": "LayoutModel",
            "justify_items": null,
            "grid_row": null,
            "max_height": null,
            "align_content": null,
            "visibility": null,
            "align_self": null,
            "height": null,
            "min_height": null,
            "padding": null,
            "grid_auto_rows": null,
            "grid_gap": null,
            "max_width": null,
            "order": null,
            "_view_module_version": "1.2.0",
            "grid_template_areas": null,
            "object_position": null,
            "object_fit": null,
            "grid_auto_columns": null,
            "margin": null,
            "display": null,
            "left": null
          }
        },
        "62b4f5265774476eb4808cf6678f3264": {
          "model_module": "@jupyter-widgets/controls",
          "model_name": "HBoxModel",
          "state": {
            "_view_name": "HBoxView",
            "_dom_classes": [],
            "_model_name": "HBoxModel",
            "_view_module": "@jupyter-widgets/controls",
            "_model_module_version": "1.5.0",
            "_view_count": null,
            "_view_module_version": "1.5.0",
            "box_style": "",
            "layout": "IPY_MODEL_1816818472b34d1d9bb0ff4677fd43fa",
            "_model_module": "@jupyter-widgets/controls",
            "children": [
              "IPY_MODEL_0d8045f17bb14ec994d3dd0ec6a6e496",
              "IPY_MODEL_9e74bebb24c04d7593b41f274ce63aab"
            ]
          }
        },
        "1816818472b34d1d9bb0ff4677fd43fa": {
          "model_module": "@jupyter-widgets/base",
          "model_name": "LayoutModel",
          "state": {
            "_view_name": "LayoutView",
            "grid_template_rows": null,
            "right": null,
            "justify_content": null,
            "_view_module": "@jupyter-widgets/base",
            "overflow": null,
            "_model_module_version": "1.2.0",
            "_view_count": null,
            "flex_flow": null,
            "width": null,
            "min_width": null,
            "border": null,
            "align_items": null,
            "bottom": null,
            "_model_module": "@jupyter-widgets/base",
            "top": null,
            "grid_column": null,
            "overflow_y": null,
            "overflow_x": null,
            "grid_auto_flow": null,
            "grid_area": null,
            "grid_template_columns": null,
            "flex": null,
            "_model_name": "LayoutModel",
            "justify_items": null,
            "grid_row": null,
            "max_height": null,
            "align_content": null,
            "visibility": null,
            "align_self": null,
            "height": null,
            "min_height": null,
            "padding": null,
            "grid_auto_rows": null,
            "grid_gap": null,
            "max_width": null,
            "order": null,
            "_view_module_version": "1.2.0",
            "grid_template_areas": null,
            "object_position": null,
            "object_fit": null,
            "grid_auto_columns": null,
            "margin": null,
            "display": null,
            "left": null
          }
        },
        "0d8045f17bb14ec994d3dd0ec6a6e496": {
          "model_module": "@jupyter-widgets/controls",
          "model_name": "FloatProgressModel",
          "state": {
            "_view_name": "ProgressView",
            "style": "IPY_MODEL_c4b117c307cc4c87ae99bc90a093f437",
            "_dom_classes": [],
            "description": "Downloading: 100%",
            "_model_name": "FloatProgressModel",
            "bar_style": "success",
            "max": 29,
            "_view_module": "@jupyter-widgets/controls",
            "_model_module_version": "1.5.0",
            "value": 29,
            "_view_count": null,
            "_view_module_version": "1.5.0",
            "orientation": "horizontal",
            "min": 0,
            "description_tooltip": null,
            "_model_module": "@jupyter-widgets/controls",
            "layout": "IPY_MODEL_5bd44588d45446f8bc13eda1965243b8"
          }
        },
        "9e74bebb24c04d7593b41f274ce63aab": {
          "model_module": "@jupyter-widgets/controls",
          "model_name": "HTMLModel",
          "state": {
            "_view_name": "HTMLView",
            "style": "IPY_MODEL_98a2afd29e17451499bd1f7620ad1886",
            "_dom_classes": [],
            "description": "",
            "_model_name": "HTMLModel",
            "placeholder": "​",
            "_view_module": "@jupyter-widgets/controls",
            "_model_module_version": "1.5.0",
            "value": " 29.0/29.0 [00:00&lt;00:00, 76.3B/s]",
            "_view_count": null,
            "_view_module_version": "1.5.0",
            "description_tooltip": null,
            "_model_module": "@jupyter-widgets/controls",
            "layout": "IPY_MODEL_24e7508f9d8a4abb831671723d2cd805"
          }
        },
        "c4b117c307cc4c87ae99bc90a093f437": {
          "model_module": "@jupyter-widgets/controls",
          "model_name": "ProgressStyleModel",
          "state": {
            "_view_name": "StyleView",
            "_model_name": "ProgressStyleModel",
            "description_width": "initial",
            "_view_module": "@jupyter-widgets/base",
            "_model_module_version": "1.5.0",
            "_view_count": null,
            "_view_module_version": "1.2.0",
            "bar_color": null,
            "_model_module": "@jupyter-widgets/controls"
          }
        },
        "5bd44588d45446f8bc13eda1965243b8": {
          "model_module": "@jupyter-widgets/base",
          "model_name": "LayoutModel",
          "state": {
            "_view_name": "LayoutView",
            "grid_template_rows": null,
            "right": null,
            "justify_content": null,
            "_view_module": "@jupyter-widgets/base",
            "overflow": null,
            "_model_module_version": "1.2.0",
            "_view_count": null,
            "flex_flow": null,
            "width": null,
            "min_width": null,
            "border": null,
            "align_items": null,
            "bottom": null,
            "_model_module": "@jupyter-widgets/base",
            "top": null,
            "grid_column": null,
            "overflow_y": null,
            "overflow_x": null,
            "grid_auto_flow": null,
            "grid_area": null,
            "grid_template_columns": null,
            "flex": null,
            "_model_name": "LayoutModel",
            "justify_items": null,
            "grid_row": null,
            "max_height": null,
            "align_content": null,
            "visibility": null,
            "align_self": null,
            "height": null,
            "min_height": null,
            "padding": null,
            "grid_auto_rows": null,
            "grid_gap": null,
            "max_width": null,
            "order": null,
            "_view_module_version": "1.2.0",
            "grid_template_areas": null,
            "object_position": null,
            "object_fit": null,
            "grid_auto_columns": null,
            "margin": null,
            "display": null,
            "left": null
          }
        },
        "98a2afd29e17451499bd1f7620ad1886": {
          "model_module": "@jupyter-widgets/controls",
          "model_name": "DescriptionStyleModel",
          "state": {
            "_view_name": "StyleView",
            "_model_name": "DescriptionStyleModel",
            "description_width": "",
            "_view_module": "@jupyter-widgets/base",
            "_model_module_version": "1.5.0",
            "_view_count": null,
            "_view_module_version": "1.2.0",
            "_model_module": "@jupyter-widgets/controls"
          }
        },
        "24e7508f9d8a4abb831671723d2cd805": {
          "model_module": "@jupyter-widgets/base",
          "model_name": "LayoutModel",
          "state": {
            "_view_name": "LayoutView",
            "grid_template_rows": null,
            "right": null,
            "justify_content": null,
            "_view_module": "@jupyter-widgets/base",
            "overflow": null,
            "_model_module_version": "1.2.0",
            "_view_count": null,
            "flex_flow": null,
            "width": null,
            "min_width": null,
            "border": null,
            "align_items": null,
            "bottom": null,
            "_model_module": "@jupyter-widgets/base",
            "top": null,
            "grid_column": null,
            "overflow_y": null,
            "overflow_x": null,
            "grid_auto_flow": null,
            "grid_area": null,
            "grid_template_columns": null,
            "flex": null,
            "_model_name": "LayoutModel",
            "justify_items": null,
            "grid_row": null,
            "max_height": null,
            "align_content": null,
            "visibility": null,
            "align_self": null,
            "height": null,
            "min_height": null,
            "padding": null,
            "grid_auto_rows": null,
            "grid_gap": null,
            "max_width": null,
            "order": null,
            "_view_module_version": "1.2.0",
            "grid_template_areas": null,
            "object_position": null,
            "object_fit": null,
            "grid_auto_columns": null,
            "margin": null,
            "display": null,
            "left": null
          }
        },
        "357520c568674cb789a9a46f65254d4c": {
          "model_module": "@jupyter-widgets/controls",
          "model_name": "HBoxModel",
          "state": {
            "_view_name": "HBoxView",
            "_dom_classes": [],
            "_model_name": "HBoxModel",
            "_view_module": "@jupyter-widgets/controls",
            "_model_module_version": "1.5.0",
            "_view_count": null,
            "_view_module_version": "1.5.0",
            "box_style": "",
            "layout": "IPY_MODEL_22195e573fb54b179577312f4a866e79",
            "_model_module": "@jupyter-widgets/controls",
            "children": [
              "IPY_MODEL_5f34c1639f21412cae07e6702878d2d6",
              "IPY_MODEL_b279461a376145b282ac4ce05ff5123c"
            ]
          }
        },
        "22195e573fb54b179577312f4a866e79": {
          "model_module": "@jupyter-widgets/base",
          "model_name": "LayoutModel",
          "state": {
            "_view_name": "LayoutView",
            "grid_template_rows": null,
            "right": null,
            "justify_content": null,
            "_view_module": "@jupyter-widgets/base",
            "overflow": null,
            "_model_module_version": "1.2.0",
            "_view_count": null,
            "flex_flow": null,
            "width": null,
            "min_width": null,
            "border": null,
            "align_items": null,
            "bottom": null,
            "_model_module": "@jupyter-widgets/base",
            "top": null,
            "grid_column": null,
            "overflow_y": null,
            "overflow_x": null,
            "grid_auto_flow": null,
            "grid_area": null,
            "grid_template_columns": null,
            "flex": null,
            "_model_name": "LayoutModel",
            "justify_items": null,
            "grid_row": null,
            "max_height": null,
            "align_content": null,
            "visibility": null,
            "align_self": null,
            "height": null,
            "min_height": null,
            "padding": null,
            "grid_auto_rows": null,
            "grid_gap": null,
            "max_width": null,
            "order": null,
            "_view_module_version": "1.2.0",
            "grid_template_areas": null,
            "object_position": null,
            "object_fit": null,
            "grid_auto_columns": null,
            "margin": null,
            "display": null,
            "left": null
          }
        },
        "5f34c1639f21412cae07e6702878d2d6": {
          "model_module": "@jupyter-widgets/controls",
          "model_name": "FloatProgressModel",
          "state": {
            "_view_name": "ProgressView",
            "style": "IPY_MODEL_ccfbd8a703db41a6961fa83746cb279f",
            "_dom_classes": [],
            "description": "Downloading: 100%",
            "_model_name": "FloatProgressModel",
            "bar_style": "success",
            "max": 481,
            "_view_module": "@jupyter-widgets/controls",
            "_model_module_version": "1.5.0",
            "value": 481,
            "_view_count": null,
            "_view_module_version": "1.5.0",
            "orientation": "horizontal",
            "min": 0,
            "description_tooltip": null,
            "_model_module": "@jupyter-widgets/controls",
            "layout": "IPY_MODEL_34c7c8afa4f84e938860e2d3b2855b54"
          }
        },
        "b279461a376145b282ac4ce05ff5123c": {
          "model_module": "@jupyter-widgets/controls",
          "model_name": "HTMLModel",
          "state": {
            "_view_name": "HTMLView",
            "style": "IPY_MODEL_a404fb4b09014e1484a81ebe05e1f5a8",
            "_dom_classes": [],
            "description": "",
            "_model_name": "HTMLModel",
            "placeholder": "​",
            "_view_module": "@jupyter-widgets/controls",
            "_model_module_version": "1.5.0",
            "value": " 481/481 [00:21&lt;00:00, 22.4B/s]",
            "_view_count": null,
            "_view_module_version": "1.5.0",
            "description_tooltip": null,
            "_model_module": "@jupyter-widgets/controls",
            "layout": "IPY_MODEL_87b48ba9af9f4a02b1fd66795e48bcdf"
          }
        },
        "ccfbd8a703db41a6961fa83746cb279f": {
          "model_module": "@jupyter-widgets/controls",
          "model_name": "ProgressStyleModel",
          "state": {
            "_view_name": "StyleView",
            "_model_name": "ProgressStyleModel",
            "description_width": "initial",
            "_view_module": "@jupyter-widgets/base",
            "_model_module_version": "1.5.0",
            "_view_count": null,
            "_view_module_version": "1.2.0",
            "bar_color": null,
            "_model_module": "@jupyter-widgets/controls"
          }
        },
        "34c7c8afa4f84e938860e2d3b2855b54": {
          "model_module": "@jupyter-widgets/base",
          "model_name": "LayoutModel",
          "state": {
            "_view_name": "LayoutView",
            "grid_template_rows": null,
            "right": null,
            "justify_content": null,
            "_view_module": "@jupyter-widgets/base",
            "overflow": null,
            "_model_module_version": "1.2.0",
            "_view_count": null,
            "flex_flow": null,
            "width": null,
            "min_width": null,
            "border": null,
            "align_items": null,
            "bottom": null,
            "_model_module": "@jupyter-widgets/base",
            "top": null,
            "grid_column": null,
            "overflow_y": null,
            "overflow_x": null,
            "grid_auto_flow": null,
            "grid_area": null,
            "grid_template_columns": null,
            "flex": null,
            "_model_name": "LayoutModel",
            "justify_items": null,
            "grid_row": null,
            "max_height": null,
            "align_content": null,
            "visibility": null,
            "align_self": null,
            "height": null,
            "min_height": null,
            "padding": null,
            "grid_auto_rows": null,
            "grid_gap": null,
            "max_width": null,
            "order": null,
            "_view_module_version": "1.2.0",
            "grid_template_areas": null,
            "object_position": null,
            "object_fit": null,
            "grid_auto_columns": null,
            "margin": null,
            "display": null,
            "left": null
          }
        },
        "a404fb4b09014e1484a81ebe05e1f5a8": {
          "model_module": "@jupyter-widgets/controls",
          "model_name": "DescriptionStyleModel",
          "state": {
            "_view_name": "StyleView",
            "_model_name": "DescriptionStyleModel",
            "description_width": "",
            "_view_module": "@jupyter-widgets/base",
            "_model_module_version": "1.5.0",
            "_view_count": null,
            "_view_module_version": "1.2.0",
            "_model_module": "@jupyter-widgets/controls"
          }
        },
        "87b48ba9af9f4a02b1fd66795e48bcdf": {
          "model_module": "@jupyter-widgets/base",
          "model_name": "LayoutModel",
          "state": {
            "_view_name": "LayoutView",
            "grid_template_rows": null,
            "right": null,
            "justify_content": null,
            "_view_module": "@jupyter-widgets/base",
            "overflow": null,
            "_model_module_version": "1.2.0",
            "_view_count": null,
            "flex_flow": null,
            "width": null,
            "min_width": null,
            "border": null,
            "align_items": null,
            "bottom": null,
            "_model_module": "@jupyter-widgets/base",
            "top": null,
            "grid_column": null,
            "overflow_y": null,
            "overflow_x": null,
            "grid_auto_flow": null,
            "grid_area": null,
            "grid_template_columns": null,
            "flex": null,
            "_model_name": "LayoutModel",
            "justify_items": null,
            "grid_row": null,
            "max_height": null,
            "align_content": null,
            "visibility": null,
            "align_self": null,
            "height": null,
            "min_height": null,
            "padding": null,
            "grid_auto_rows": null,
            "grid_gap": null,
            "max_width": null,
            "order": null,
            "_view_module_version": "1.2.0",
            "grid_template_areas": null,
            "object_position": null,
            "object_fit": null,
            "grid_auto_columns": null,
            "margin": null,
            "display": null,
            "left": null
          }
        },
        "d47b868973654e32802481287fbf4c46": {
          "model_module": "@jupyter-widgets/controls",
          "model_name": "HBoxModel",
          "state": {
            "_view_name": "HBoxView",
            "_dom_classes": [],
            "_model_name": "HBoxModel",
            "_view_module": "@jupyter-widgets/controls",
            "_model_module_version": "1.5.0",
            "_view_count": null,
            "_view_module_version": "1.5.0",
            "box_style": "",
            "layout": "IPY_MODEL_e8002ba35e0646e4bc6a7c49bae12e37",
            "_model_module": "@jupyter-widgets/controls",
            "children": [
              "IPY_MODEL_b10217e321994418a0a2f392f61347d2",
              "IPY_MODEL_5a4f4e9c2efc4cd987f5209cfa8c137e"
            ]
          }
        },
        "e8002ba35e0646e4bc6a7c49bae12e37": {
          "model_module": "@jupyter-widgets/base",
          "model_name": "LayoutModel",
          "state": {
            "_view_name": "LayoutView",
            "grid_template_rows": null,
            "right": null,
            "justify_content": null,
            "_view_module": "@jupyter-widgets/base",
            "overflow": null,
            "_model_module_version": "1.2.0",
            "_view_count": null,
            "flex_flow": null,
            "width": null,
            "min_width": null,
            "border": null,
            "align_items": null,
            "bottom": null,
            "_model_module": "@jupyter-widgets/base",
            "top": null,
            "grid_column": null,
            "overflow_y": null,
            "overflow_x": null,
            "grid_auto_flow": null,
            "grid_area": null,
            "grid_template_columns": null,
            "flex": null,
            "_model_name": "LayoutModel",
            "justify_items": null,
            "grid_row": null,
            "max_height": null,
            "align_content": null,
            "visibility": null,
            "align_self": null,
            "height": null,
            "min_height": null,
            "padding": null,
            "grid_auto_rows": null,
            "grid_gap": null,
            "max_width": null,
            "order": null,
            "_view_module_version": "1.2.0",
            "grid_template_areas": null,
            "object_position": null,
            "object_fit": null,
            "grid_auto_columns": null,
            "margin": null,
            "display": null,
            "left": null
          }
        },
        "b10217e321994418a0a2f392f61347d2": {
          "model_module": "@jupyter-widgets/controls",
          "model_name": "FloatProgressModel",
          "state": {
            "_view_name": "ProgressView",
            "style": "IPY_MODEL_d9773159516448018f84ca090427637e",
            "_dom_classes": [],
            "description": "Downloading: 100%",
            "_model_name": "FloatProgressModel",
            "bar_style": "success",
            "max": 657434796,
            "_view_module": "@jupyter-widgets/controls",
            "_model_module_version": "1.5.0",
            "value": 657434796,
            "_view_count": null,
            "_view_module_version": "1.5.0",
            "orientation": "horizontal",
            "min": 0,
            "description_tooltip": null,
            "_model_module": "@jupyter-widgets/controls",
            "layout": "IPY_MODEL_bfee1c09b7ea49e787867ed24837d4f8"
          }
        },
        "5a4f4e9c2efc4cd987f5209cfa8c137e": {
          "model_module": "@jupyter-widgets/controls",
          "model_name": "HTMLModel",
          "state": {
            "_view_name": "HTMLView",
            "style": "IPY_MODEL_939ef8a2710e4e958ce0ebadaac49af9",
            "_dom_classes": [],
            "description": "",
            "_model_name": "HTMLModel",
            "placeholder": "​",
            "_view_module": "@jupyter-widgets/controls",
            "_model_module_version": "1.5.0",
            "value": " 657M/657M [00:20&lt;00:00, 31.5MB/s]",
            "_view_count": null,
            "_view_module_version": "1.5.0",
            "description_tooltip": null,
            "_model_module": "@jupyter-widgets/controls",
            "layout": "IPY_MODEL_ab413c5a1fed4762bf3d609c508a262b"
          }
        },
        "d9773159516448018f84ca090427637e": {
          "model_module": "@jupyter-widgets/controls",
          "model_name": "ProgressStyleModel",
          "state": {
            "_view_name": "StyleView",
            "_model_name": "ProgressStyleModel",
            "description_width": "initial",
            "_view_module": "@jupyter-widgets/base",
            "_model_module_version": "1.5.0",
            "_view_count": null,
            "_view_module_version": "1.2.0",
            "bar_color": null,
            "_model_module": "@jupyter-widgets/controls"
          }
        },
        "bfee1c09b7ea49e787867ed24837d4f8": {
          "model_module": "@jupyter-widgets/base",
          "model_name": "LayoutModel",
          "state": {
            "_view_name": "LayoutView",
            "grid_template_rows": null,
            "right": null,
            "justify_content": null,
            "_view_module": "@jupyter-widgets/base",
            "overflow": null,
            "_model_module_version": "1.2.0",
            "_view_count": null,
            "flex_flow": null,
            "width": null,
            "min_width": null,
            "border": null,
            "align_items": null,
            "bottom": null,
            "_model_module": "@jupyter-widgets/base",
            "top": null,
            "grid_column": null,
            "overflow_y": null,
            "overflow_x": null,
            "grid_auto_flow": null,
            "grid_area": null,
            "grid_template_columns": null,
            "flex": null,
            "_model_name": "LayoutModel",
            "justify_items": null,
            "grid_row": null,
            "max_height": null,
            "align_content": null,
            "visibility": null,
            "align_self": null,
            "height": null,
            "min_height": null,
            "padding": null,
            "grid_auto_rows": null,
            "grid_gap": null,
            "max_width": null,
            "order": null,
            "_view_module_version": "1.2.0",
            "grid_template_areas": null,
            "object_position": null,
            "object_fit": null,
            "grid_auto_columns": null,
            "margin": null,
            "display": null,
            "left": null
          }
        },
        "939ef8a2710e4e958ce0ebadaac49af9": {
          "model_module": "@jupyter-widgets/controls",
          "model_name": "DescriptionStyleModel",
          "state": {
            "_view_name": "StyleView",
            "_model_name": "DescriptionStyleModel",
            "description_width": "",
            "_view_module": "@jupyter-widgets/base",
            "_model_module_version": "1.5.0",
            "_view_count": null,
            "_view_module_version": "1.2.0",
            "_model_module": "@jupyter-widgets/controls"
          }
        },
        "ab413c5a1fed4762bf3d609c508a262b": {
          "model_module": "@jupyter-widgets/base",
          "model_name": "LayoutModel",
          "state": {
            "_view_name": "LayoutView",
            "grid_template_rows": null,
            "right": null,
            "justify_content": null,
            "_view_module": "@jupyter-widgets/base",
            "overflow": null,
            "_model_module_version": "1.2.0",
            "_view_count": null,
            "flex_flow": null,
            "width": null,
            "min_width": null,
            "border": null,
            "align_items": null,
            "bottom": null,
            "_model_module": "@jupyter-widgets/base",
            "top": null,
            "grid_column": null,
            "overflow_y": null,
            "overflow_x": null,
            "grid_auto_flow": null,
            "grid_area": null,
            "grid_template_columns": null,
            "flex": null,
            "_model_name": "LayoutModel",
            "justify_items": null,
            "grid_row": null,
            "max_height": null,
            "align_content": null,
            "visibility": null,
            "align_self": null,
            "height": null,
            "min_height": null,
            "padding": null,
            "grid_auto_rows": null,
            "grid_gap": null,
            "max_width": null,
            "order": null,
            "_view_module_version": "1.2.0",
            "grid_template_areas": null,
            "object_position": null,
            "object_fit": null,
            "grid_auto_columns": null,
            "margin": null,
            "display": null,
            "left": null
          }
        },
        "fa0c1077249e47d597ef29d7ffd426ae": {
          "model_module": "@jupyter-widgets/controls",
          "model_name": "HBoxModel",
          "state": {
            "_view_name": "HBoxView",
            "_dom_classes": [],
            "_model_name": "HBoxModel",
            "_view_module": "@jupyter-widgets/controls",
            "_model_module_version": "1.5.0",
            "_view_count": null,
            "_view_module_version": "1.5.0",
            "box_style": "",
            "layout": "IPY_MODEL_bc3e4a01d40946e19a8041dc51ac8dda",
            "_model_module": "@jupyter-widgets/controls",
            "children": [
              "IPY_MODEL_9967cadf1b1240bf9276e6c12721a889",
              "IPY_MODEL_d9c319dd0a7b4ab3955c694865c3dbe9"
            ]
          }
        },
        "bc3e4a01d40946e19a8041dc51ac8dda": {
          "model_module": "@jupyter-widgets/base",
          "model_name": "LayoutModel",
          "state": {
            "_view_name": "LayoutView",
            "grid_template_rows": null,
            "right": null,
            "justify_content": null,
            "_view_module": "@jupyter-widgets/base",
            "overflow": null,
            "_model_module_version": "1.2.0",
            "_view_count": null,
            "flex_flow": null,
            "width": null,
            "min_width": null,
            "border": null,
            "align_items": null,
            "bottom": null,
            "_model_module": "@jupyter-widgets/base",
            "top": null,
            "grid_column": null,
            "overflow_y": null,
            "overflow_x": null,
            "grid_auto_flow": null,
            "grid_area": null,
            "grid_template_columns": null,
            "flex": null,
            "_model_name": "LayoutModel",
            "justify_items": null,
            "grid_row": null,
            "max_height": null,
            "align_content": null,
            "visibility": null,
            "align_self": null,
            "height": null,
            "min_height": null,
            "padding": null,
            "grid_auto_rows": null,
            "grid_gap": null,
            "max_width": null,
            "order": null,
            "_view_module_version": "1.2.0",
            "grid_template_areas": null,
            "object_position": null,
            "object_fit": null,
            "grid_auto_columns": null,
            "margin": null,
            "display": null,
            "left": null
          }
        },
        "9967cadf1b1240bf9276e6c12721a889": {
          "model_module": "@jupyter-widgets/controls",
          "model_name": "FloatProgressModel",
          "state": {
            "_view_name": "ProgressView",
            "style": "IPY_MODEL_17dc8395e3e84b739faa080b2dad69e8",
            "_dom_classes": [],
            "description": "Downloading: 100%",
            "_model_name": "FloatProgressModel",
            "bar_style": "success",
            "max": 898823,
            "_view_module": "@jupyter-widgets/controls",
            "_model_module_version": "1.5.0",
            "value": 898823,
            "_view_count": null,
            "_view_module_version": "1.5.0",
            "orientation": "horizontal",
            "min": 0,
            "description_tooltip": null,
            "_model_module": "@jupyter-widgets/controls",
            "layout": "IPY_MODEL_757775e672c14b69a91011c923fa254a"
          }
        },
        "d9c319dd0a7b4ab3955c694865c3dbe9": {
          "model_module": "@jupyter-widgets/controls",
          "model_name": "HTMLModel",
          "state": {
            "_view_name": "HTMLView",
            "style": "IPY_MODEL_e6009facc4d54d81917e14f837eff2cd",
            "_dom_classes": [],
            "description": "",
            "_model_name": "HTMLModel",
            "placeholder": "​",
            "_view_module": "@jupyter-widgets/controls",
            "_model_module_version": "1.5.0",
            "value": " 899k/899k [00:00&lt;00:00, 2.15MB/s]",
            "_view_count": null,
            "_view_module_version": "1.5.0",
            "description_tooltip": null,
            "_model_module": "@jupyter-widgets/controls",
            "layout": "IPY_MODEL_b8101c5ecf2f4af69f24a4a5ea6a9268"
          }
        },
        "17dc8395e3e84b739faa080b2dad69e8": {
          "model_module": "@jupyter-widgets/controls",
          "model_name": "ProgressStyleModel",
          "state": {
            "_view_name": "StyleView",
            "_model_name": "ProgressStyleModel",
            "description_width": "initial",
            "_view_module": "@jupyter-widgets/base",
            "_model_module_version": "1.5.0",
            "_view_count": null,
            "_view_module_version": "1.2.0",
            "bar_color": null,
            "_model_module": "@jupyter-widgets/controls"
          }
        },
        "757775e672c14b69a91011c923fa254a": {
          "model_module": "@jupyter-widgets/base",
          "model_name": "LayoutModel",
          "state": {
            "_view_name": "LayoutView",
            "grid_template_rows": null,
            "right": null,
            "justify_content": null,
            "_view_module": "@jupyter-widgets/base",
            "overflow": null,
            "_model_module_version": "1.2.0",
            "_view_count": null,
            "flex_flow": null,
            "width": null,
            "min_width": null,
            "border": null,
            "align_items": null,
            "bottom": null,
            "_model_module": "@jupyter-widgets/base",
            "top": null,
            "grid_column": null,
            "overflow_y": null,
            "overflow_x": null,
            "grid_auto_flow": null,
            "grid_area": null,
            "grid_template_columns": null,
            "flex": null,
            "_model_name": "LayoutModel",
            "justify_items": null,
            "grid_row": null,
            "max_height": null,
            "align_content": null,
            "visibility": null,
            "align_self": null,
            "height": null,
            "min_height": null,
            "padding": null,
            "grid_auto_rows": null,
            "grid_gap": null,
            "max_width": null,
            "order": null,
            "_view_module_version": "1.2.0",
            "grid_template_areas": null,
            "object_position": null,
            "object_fit": null,
            "grid_auto_columns": null,
            "margin": null,
            "display": null,
            "left": null
          }
        },
        "e6009facc4d54d81917e14f837eff2cd": {
          "model_module": "@jupyter-widgets/controls",
          "model_name": "DescriptionStyleModel",
          "state": {
            "_view_name": "StyleView",
            "_model_name": "DescriptionStyleModel",
            "description_width": "",
            "_view_module": "@jupyter-widgets/base",
            "_model_module_version": "1.5.0",
            "_view_count": null,
            "_view_module_version": "1.2.0",
            "_model_module": "@jupyter-widgets/controls"
          }
        },
        "b8101c5ecf2f4af69f24a4a5ea6a9268": {
          "model_module": "@jupyter-widgets/base",
          "model_name": "LayoutModel",
          "state": {
            "_view_name": "LayoutView",
            "grid_template_rows": null,
            "right": null,
            "justify_content": null,
            "_view_module": "@jupyter-widgets/base",
            "overflow": null,
            "_model_module_version": "1.2.0",
            "_view_count": null,
            "flex_flow": null,
            "width": null,
            "min_width": null,
            "border": null,
            "align_items": null,
            "bottom": null,
            "_model_module": "@jupyter-widgets/base",
            "top": null,
            "grid_column": null,
            "overflow_y": null,
            "overflow_x": null,
            "grid_auto_flow": null,
            "grid_area": null,
            "grid_template_columns": null,
            "flex": null,
            "_model_name": "LayoutModel",
            "justify_items": null,
            "grid_row": null,
            "max_height": null,
            "align_content": null,
            "visibility": null,
            "align_self": null,
            "height": null,
            "min_height": null,
            "padding": null,
            "grid_auto_rows": null,
            "grid_gap": null,
            "max_width": null,
            "order": null,
            "_view_module_version": "1.2.0",
            "grid_template_areas": null,
            "object_position": null,
            "object_fit": null,
            "grid_auto_columns": null,
            "margin": null,
            "display": null,
            "left": null
          }
        },
        "c9d18fe865a84ecab72186e8cb638dd6": {
          "model_module": "@jupyter-widgets/controls",
          "model_name": "HBoxModel",
          "state": {
            "_view_name": "HBoxView",
            "_dom_classes": [],
            "_model_name": "HBoxModel",
            "_view_module": "@jupyter-widgets/controls",
            "_model_module_version": "1.5.0",
            "_view_count": null,
            "_view_module_version": "1.5.0",
            "box_style": "",
            "layout": "IPY_MODEL_42f7c3baf5ef4b26a073d25ac46732e4",
            "_model_module": "@jupyter-widgets/controls",
            "children": [
              "IPY_MODEL_410426cd814e42b29c13af47bf73bece",
              "IPY_MODEL_47e70adf447f48c1b5938b74ffba85e3"
            ]
          }
        },
        "42f7c3baf5ef4b26a073d25ac46732e4": {
          "model_module": "@jupyter-widgets/base",
          "model_name": "LayoutModel",
          "state": {
            "_view_name": "LayoutView",
            "grid_template_rows": null,
            "right": null,
            "justify_content": null,
            "_view_module": "@jupyter-widgets/base",
            "overflow": null,
            "_model_module_version": "1.2.0",
            "_view_count": null,
            "flex_flow": null,
            "width": null,
            "min_width": null,
            "border": null,
            "align_items": null,
            "bottom": null,
            "_model_module": "@jupyter-widgets/base",
            "top": null,
            "grid_column": null,
            "overflow_y": null,
            "overflow_x": null,
            "grid_auto_flow": null,
            "grid_area": null,
            "grid_template_columns": null,
            "flex": null,
            "_model_name": "LayoutModel",
            "justify_items": null,
            "grid_row": null,
            "max_height": null,
            "align_content": null,
            "visibility": null,
            "align_self": null,
            "height": null,
            "min_height": null,
            "padding": null,
            "grid_auto_rows": null,
            "grid_gap": null,
            "max_width": null,
            "order": null,
            "_view_module_version": "1.2.0",
            "grid_template_areas": null,
            "object_position": null,
            "object_fit": null,
            "grid_auto_columns": null,
            "margin": null,
            "display": null,
            "left": null
          }
        },
        "410426cd814e42b29c13af47bf73bece": {
          "model_module": "@jupyter-widgets/controls",
          "model_name": "FloatProgressModel",
          "state": {
            "_view_name": "ProgressView",
            "style": "IPY_MODEL_ea124c45220e457a862f043bfab92b82",
            "_dom_classes": [],
            "description": "Downloading: 100%",
            "_model_name": "FloatProgressModel",
            "bar_style": "success",
            "max": 456318,
            "_view_module": "@jupyter-widgets/controls",
            "_model_module_version": "1.5.0",
            "value": 456318,
            "_view_count": null,
            "_view_module_version": "1.5.0",
            "orientation": "horizontal",
            "min": 0,
            "description_tooltip": null,
            "_model_module": "@jupyter-widgets/controls",
            "layout": "IPY_MODEL_056da847a5af4e6cae3ded4dcbc6403b"
          }
        },
        "47e70adf447f48c1b5938b74ffba85e3": {
          "model_module": "@jupyter-widgets/controls",
          "model_name": "HTMLModel",
          "state": {
            "_view_name": "HTMLView",
            "style": "IPY_MODEL_cd69a6201b9444309320b6460b5663eb",
            "_dom_classes": [],
            "description": "",
            "_model_name": "HTMLModel",
            "placeholder": "​",
            "_view_module": "@jupyter-widgets/controls",
            "_model_module_version": "1.5.0",
            "value": " 456k/456k [00:20&lt;00:00, 22.1kB/s]",
            "_view_count": null,
            "_view_module_version": "1.5.0",
            "description_tooltip": null,
            "_model_module": "@jupyter-widgets/controls",
            "layout": "IPY_MODEL_7ef66f50d2be41a085d81254f3b9cabc"
          }
        },
        "ea124c45220e457a862f043bfab92b82": {
          "model_module": "@jupyter-widgets/controls",
          "model_name": "ProgressStyleModel",
          "state": {
            "_view_name": "StyleView",
            "_model_name": "ProgressStyleModel",
            "description_width": "initial",
            "_view_module": "@jupyter-widgets/base",
            "_model_module_version": "1.5.0",
            "_view_count": null,
            "_view_module_version": "1.2.0",
            "bar_color": null,
            "_model_module": "@jupyter-widgets/controls"
          }
        },
        "056da847a5af4e6cae3ded4dcbc6403b": {
          "model_module": "@jupyter-widgets/base",
          "model_name": "LayoutModel",
          "state": {
            "_view_name": "LayoutView",
            "grid_template_rows": null,
            "right": null,
            "justify_content": null,
            "_view_module": "@jupyter-widgets/base",
            "overflow": null,
            "_model_module_version": "1.2.0",
            "_view_count": null,
            "flex_flow": null,
            "width": null,
            "min_width": null,
            "border": null,
            "align_items": null,
            "bottom": null,
            "_model_module": "@jupyter-widgets/base",
            "top": null,
            "grid_column": null,
            "overflow_y": null,
            "overflow_x": null,
            "grid_auto_flow": null,
            "grid_area": null,
            "grid_template_columns": null,
            "flex": null,
            "_model_name": "LayoutModel",
            "justify_items": null,
            "grid_row": null,
            "max_height": null,
            "align_content": null,
            "visibility": null,
            "align_self": null,
            "height": null,
            "min_height": null,
            "padding": null,
            "grid_auto_rows": null,
            "grid_gap": null,
            "max_width": null,
            "order": null,
            "_view_module_version": "1.2.0",
            "grid_template_areas": null,
            "object_position": null,
            "object_fit": null,
            "grid_auto_columns": null,
            "margin": null,
            "display": null,
            "left": null
          }
        },
        "cd69a6201b9444309320b6460b5663eb": {
          "model_module": "@jupyter-widgets/controls",
          "model_name": "DescriptionStyleModel",
          "state": {
            "_view_name": "StyleView",
            "_model_name": "DescriptionStyleModel",
            "description_width": "",
            "_view_module": "@jupyter-widgets/base",
            "_model_module_version": "1.5.0",
            "_view_count": null,
            "_view_module_version": "1.2.0",
            "_model_module": "@jupyter-widgets/controls"
          }
        },
        "7ef66f50d2be41a085d81254f3b9cabc": {
          "model_module": "@jupyter-widgets/base",
          "model_name": "LayoutModel",
          "state": {
            "_view_name": "LayoutView",
            "grid_template_rows": null,
            "right": null,
            "justify_content": null,
            "_view_module": "@jupyter-widgets/base",
            "overflow": null,
            "_model_module_version": "1.2.0",
            "_view_count": null,
            "flex_flow": null,
            "width": null,
            "min_width": null,
            "border": null,
            "align_items": null,
            "bottom": null,
            "_model_module": "@jupyter-widgets/base",
            "top": null,
            "grid_column": null,
            "overflow_y": null,
            "overflow_x": null,
            "grid_auto_flow": null,
            "grid_area": null,
            "grid_template_columns": null,
            "flex": null,
            "_model_name": "LayoutModel",
            "justify_items": null,
            "grid_row": null,
            "max_height": null,
            "align_content": null,
            "visibility": null,
            "align_self": null,
            "height": null,
            "min_height": null,
            "padding": null,
            "grid_auto_rows": null,
            "grid_gap": null,
            "max_width": null,
            "order": null,
            "_view_module_version": "1.2.0",
            "grid_template_areas": null,
            "object_position": null,
            "object_fit": null,
            "grid_auto_columns": null,
            "margin": null,
            "display": null,
            "left": null
          }
        },
        "8c3fa6afaf7d43b882f27fa1468acfd5": {
          "model_module": "@jupyter-widgets/controls",
          "model_name": "HBoxModel",
          "state": {
            "_view_name": "HBoxView",
            "_dom_classes": [],
            "_model_name": "HBoxModel",
            "_view_module": "@jupyter-widgets/controls",
            "_model_module_version": "1.5.0",
            "_view_count": null,
            "_view_module_version": "1.5.0",
            "box_style": "",
            "layout": "IPY_MODEL_caad3ae3dcc54b368229f5b11c3ec4f2",
            "_model_module": "@jupyter-widgets/controls",
            "children": [
              "IPY_MODEL_f793dcd592a2408e875c19b900c794af",
              "IPY_MODEL_fbcdacb4a2394a3f92cc51afa71d6412"
            ]
          }
        },
        "caad3ae3dcc54b368229f5b11c3ec4f2": {
          "model_module": "@jupyter-widgets/base",
          "model_name": "LayoutModel",
          "state": {
            "_view_name": "LayoutView",
            "grid_template_rows": null,
            "right": null,
            "justify_content": null,
            "_view_module": "@jupyter-widgets/base",
            "overflow": null,
            "_model_module_version": "1.2.0",
            "_view_count": null,
            "flex_flow": null,
            "width": null,
            "min_width": null,
            "border": null,
            "align_items": null,
            "bottom": null,
            "_model_module": "@jupyter-widgets/base",
            "top": null,
            "grid_column": null,
            "overflow_y": null,
            "overflow_x": null,
            "grid_auto_flow": null,
            "grid_area": null,
            "grid_template_columns": null,
            "flex": null,
            "_model_name": "LayoutModel",
            "justify_items": null,
            "grid_row": null,
            "max_height": null,
            "align_content": null,
            "visibility": null,
            "align_self": null,
            "height": null,
            "min_height": null,
            "padding": null,
            "grid_auto_rows": null,
            "grid_gap": null,
            "max_width": null,
            "order": null,
            "_view_module_version": "1.2.0",
            "grid_template_areas": null,
            "object_position": null,
            "object_fit": null,
            "grid_auto_columns": null,
            "margin": null,
            "display": null,
            "left": null
          }
        },
        "f793dcd592a2408e875c19b900c794af": {
          "model_module": "@jupyter-widgets/controls",
          "model_name": "FloatProgressModel",
          "state": {
            "_view_name": "ProgressView",
            "style": "IPY_MODEL_4ab776bd165c47b497ac52bac68e3380",
            "_dom_classes": [],
            "description": "Downloading: 100%",
            "_model_name": "FloatProgressModel",
            "bar_style": "success",
            "max": 1355863,
            "_view_module": "@jupyter-widgets/controls",
            "_model_module_version": "1.5.0",
            "value": 1355863,
            "_view_count": null,
            "_view_module_version": "1.5.0",
            "orientation": "horizontal",
            "min": 0,
            "description_tooltip": null,
            "_model_module": "@jupyter-widgets/controls",
            "layout": "IPY_MODEL_638dd8ffff464829a27305674d3316c0"
          }
        },
        "fbcdacb4a2394a3f92cc51afa71d6412": {
          "model_module": "@jupyter-widgets/controls",
          "model_name": "HTMLModel",
          "state": {
            "_view_name": "HTMLView",
            "style": "IPY_MODEL_30c588198b64410aa4299040503b8df4",
            "_dom_classes": [],
            "description": "",
            "_model_name": "HTMLModel",
            "placeholder": "​",
            "_view_module": "@jupyter-widgets/controls",
            "_model_module_version": "1.5.0",
            "value": " 1.36M/1.36M [00:01&lt;00:00, 1.13MB/s]",
            "_view_count": null,
            "_view_module_version": "1.5.0",
            "description_tooltip": null,
            "_model_module": "@jupyter-widgets/controls",
            "layout": "IPY_MODEL_929287155db64b26ada7e5d5edf7d603"
          }
        },
        "4ab776bd165c47b497ac52bac68e3380": {
          "model_module": "@jupyter-widgets/controls",
          "model_name": "ProgressStyleModel",
          "state": {
            "_view_name": "StyleView",
            "_model_name": "ProgressStyleModel",
            "description_width": "initial",
            "_view_module": "@jupyter-widgets/base",
            "_model_module_version": "1.5.0",
            "_view_count": null,
            "_view_module_version": "1.2.0",
            "bar_color": null,
            "_model_module": "@jupyter-widgets/controls"
          }
        },
        "638dd8ffff464829a27305674d3316c0": {
          "model_module": "@jupyter-widgets/base",
          "model_name": "LayoutModel",
          "state": {
            "_view_name": "LayoutView",
            "grid_template_rows": null,
            "right": null,
            "justify_content": null,
            "_view_module": "@jupyter-widgets/base",
            "overflow": null,
            "_model_module_version": "1.2.0",
            "_view_count": null,
            "flex_flow": null,
            "width": null,
            "min_width": null,
            "border": null,
            "align_items": null,
            "bottom": null,
            "_model_module": "@jupyter-widgets/base",
            "top": null,
            "grid_column": null,
            "overflow_y": null,
            "overflow_x": null,
            "grid_auto_flow": null,
            "grid_area": null,
            "grid_template_columns": null,
            "flex": null,
            "_model_name": "LayoutModel",
            "justify_items": null,
            "grid_row": null,
            "max_height": null,
            "align_content": null,
            "visibility": null,
            "align_self": null,
            "height": null,
            "min_height": null,
            "padding": null,
            "grid_auto_rows": null,
            "grid_gap": null,
            "max_width": null,
            "order": null,
            "_view_module_version": "1.2.0",
            "grid_template_areas": null,
            "object_position": null,
            "object_fit": null,
            "grid_auto_columns": null,
            "margin": null,
            "display": null,
            "left": null
          }
        },
        "30c588198b64410aa4299040503b8df4": {
          "model_module": "@jupyter-widgets/controls",
          "model_name": "DescriptionStyleModel",
          "state": {
            "_view_name": "StyleView",
            "_model_name": "DescriptionStyleModel",
            "description_width": "",
            "_view_module": "@jupyter-widgets/base",
            "_model_module_version": "1.5.0",
            "_view_count": null,
            "_view_module_version": "1.2.0",
            "_model_module": "@jupyter-widgets/controls"
          }
        },
        "929287155db64b26ada7e5d5edf7d603": {
          "model_module": "@jupyter-widgets/base",
          "model_name": "LayoutModel",
          "state": {
            "_view_name": "LayoutView",
            "grid_template_rows": null,
            "right": null,
            "justify_content": null,
            "_view_module": "@jupyter-widgets/base",
            "overflow": null,
            "_model_module_version": "1.2.0",
            "_view_count": null,
            "flex_flow": null,
            "width": null,
            "min_width": null,
            "border": null,
            "align_items": null,
            "bottom": null,
            "_model_module": "@jupyter-widgets/base",
            "top": null,
            "grid_column": null,
            "overflow_y": null,
            "overflow_x": null,
            "grid_auto_flow": null,
            "grid_area": null,
            "grid_template_columns": null,
            "flex": null,
            "_model_name": "LayoutModel",
            "justify_items": null,
            "grid_row": null,
            "max_height": null,
            "align_content": null,
            "visibility": null,
            "align_self": null,
            "height": null,
            "min_height": null,
            "padding": null,
            "grid_auto_rows": null,
            "grid_gap": null,
            "max_width": null,
            "order": null,
            "_view_module_version": "1.2.0",
            "grid_template_areas": null,
            "object_position": null,
            "object_fit": null,
            "grid_auto_columns": null,
            "margin": null,
            "display": null,
            "left": null
          }
        },
        "23d8cfbab5444c0792d5fd514a58ba9c": {
          "model_module": "@jupyter-widgets/controls",
          "model_name": "HBoxModel",
          "state": {
            "_view_name": "HBoxView",
            "_dom_classes": [],
            "_model_name": "HBoxModel",
            "_view_module": "@jupyter-widgets/controls",
            "_model_module_version": "1.5.0",
            "_view_count": null,
            "_view_module_version": "1.5.0",
            "box_style": "",
            "layout": "IPY_MODEL_51d3251064b9496d9424f6beebca9270",
            "_model_module": "@jupyter-widgets/controls",
            "children": [
              "IPY_MODEL_d714f3b05d2c40b0a9580afa498a52e8",
              "IPY_MODEL_4fc8a2974d2a492eba6bb1beb86f93ed"
            ]
          }
        },
        "51d3251064b9496d9424f6beebca9270": {
          "model_module": "@jupyter-widgets/base",
          "model_name": "LayoutModel",
          "state": {
            "_view_name": "LayoutView",
            "grid_template_rows": null,
            "right": null,
            "justify_content": null,
            "_view_module": "@jupyter-widgets/base",
            "overflow": null,
            "_model_module_version": "1.2.0",
            "_view_count": null,
            "flex_flow": null,
            "width": null,
            "min_width": null,
            "border": null,
            "align_items": null,
            "bottom": null,
            "_model_module": "@jupyter-widgets/base",
            "top": null,
            "grid_column": null,
            "overflow_y": null,
            "overflow_x": null,
            "grid_auto_flow": null,
            "grid_area": null,
            "grid_template_columns": null,
            "flex": null,
            "_model_name": "LayoutModel",
            "justify_items": null,
            "grid_row": null,
            "max_height": null,
            "align_content": null,
            "visibility": null,
            "align_self": null,
            "height": null,
            "min_height": null,
            "padding": null,
            "grid_auto_rows": null,
            "grid_gap": null,
            "max_width": null,
            "order": null,
            "_view_module_version": "1.2.0",
            "grid_template_areas": null,
            "object_position": null,
            "object_fit": null,
            "grid_auto_columns": null,
            "margin": null,
            "display": null,
            "left": null
          }
        },
        "d714f3b05d2c40b0a9580afa498a52e8": {
          "model_module": "@jupyter-widgets/controls",
          "model_name": "FloatProgressModel",
          "state": {
            "_view_name": "ProgressView",
            "style": "IPY_MODEL_63787e3099cc48ebb4f96d8acfdc6552",
            "_dom_classes": [],
            "description": "Downloading: 100%",
            "_model_name": "FloatProgressModel",
            "bar_style": "success",
            "max": 760,
            "_view_module": "@jupyter-widgets/controls",
            "_model_module_version": "1.5.0",
            "value": 760,
            "_view_count": null,
            "_view_module_version": "1.5.0",
            "orientation": "horizontal",
            "min": 0,
            "description_tooltip": null,
            "_model_module": "@jupyter-widgets/controls",
            "layout": "IPY_MODEL_0cd2c9019180485fa3d12ec251805e64"
          }
        },
        "4fc8a2974d2a492eba6bb1beb86f93ed": {
          "model_module": "@jupyter-widgets/controls",
          "model_name": "HTMLModel",
          "state": {
            "_view_name": "HTMLView",
            "style": "IPY_MODEL_cee5426ae778418f8be4d802e223bb9e",
            "_dom_classes": [],
            "description": "",
            "_model_name": "HTMLModel",
            "placeholder": "​",
            "_view_module": "@jupyter-widgets/controls",
            "_model_module_version": "1.5.0",
            "value": " 760/760 [00:00&lt;00:00, 2.26kB/s]",
            "_view_count": null,
            "_view_module_version": "1.5.0",
            "description_tooltip": null,
            "_model_module": "@jupyter-widgets/controls",
            "layout": "IPY_MODEL_176ea3fcb4364aa89164a6915241b9cc"
          }
        },
        "63787e3099cc48ebb4f96d8acfdc6552": {
          "model_module": "@jupyter-widgets/controls",
          "model_name": "ProgressStyleModel",
          "state": {
            "_view_name": "StyleView",
            "_model_name": "ProgressStyleModel",
            "description_width": "initial",
            "_view_module": "@jupyter-widgets/base",
            "_model_module_version": "1.5.0",
            "_view_count": null,
            "_view_module_version": "1.2.0",
            "bar_color": null,
            "_model_module": "@jupyter-widgets/controls"
          }
        },
        "0cd2c9019180485fa3d12ec251805e64": {
          "model_module": "@jupyter-widgets/base",
          "model_name": "LayoutModel",
          "state": {
            "_view_name": "LayoutView",
            "grid_template_rows": null,
            "right": null,
            "justify_content": null,
            "_view_module": "@jupyter-widgets/base",
            "overflow": null,
            "_model_module_version": "1.2.0",
            "_view_count": null,
            "flex_flow": null,
            "width": null,
            "min_width": null,
            "border": null,
            "align_items": null,
            "bottom": null,
            "_model_module": "@jupyter-widgets/base",
            "top": null,
            "grid_column": null,
            "overflow_y": null,
            "overflow_x": null,
            "grid_auto_flow": null,
            "grid_area": null,
            "grid_template_columns": null,
            "flex": null,
            "_model_name": "LayoutModel",
            "justify_items": null,
            "grid_row": null,
            "max_height": null,
            "align_content": null,
            "visibility": null,
            "align_self": null,
            "height": null,
            "min_height": null,
            "padding": null,
            "grid_auto_rows": null,
            "grid_gap": null,
            "max_width": null,
            "order": null,
            "_view_module_version": "1.2.0",
            "grid_template_areas": null,
            "object_position": null,
            "object_fit": null,
            "grid_auto_columns": null,
            "margin": null,
            "display": null,
            "left": null
          }
        },
        "cee5426ae778418f8be4d802e223bb9e": {
          "model_module": "@jupyter-widgets/controls",
          "model_name": "DescriptionStyleModel",
          "state": {
            "_view_name": "StyleView",
            "_model_name": "DescriptionStyleModel",
            "description_width": "",
            "_view_module": "@jupyter-widgets/base",
            "_model_module_version": "1.5.0",
            "_view_count": null,
            "_view_module_version": "1.2.0",
            "_model_module": "@jupyter-widgets/controls"
          }
        },
        "176ea3fcb4364aa89164a6915241b9cc": {
          "model_module": "@jupyter-widgets/base",
          "model_name": "LayoutModel",
          "state": {
            "_view_name": "LayoutView",
            "grid_template_rows": null,
            "right": null,
            "justify_content": null,
            "_view_module": "@jupyter-widgets/base",
            "overflow": null,
            "_model_module_version": "1.2.0",
            "_view_count": null,
            "flex_flow": null,
            "width": null,
            "min_width": null,
            "border": null,
            "align_items": null,
            "bottom": null,
            "_model_module": "@jupyter-widgets/base",
            "top": null,
            "grid_column": null,
            "overflow_y": null,
            "overflow_x": null,
            "grid_auto_flow": null,
            "grid_area": null,
            "grid_template_columns": null,
            "flex": null,
            "_model_name": "LayoutModel",
            "justify_items": null,
            "grid_row": null,
            "max_height": null,
            "align_content": null,
            "visibility": null,
            "align_self": null,
            "height": null,
            "min_height": null,
            "padding": null,
            "grid_auto_rows": null,
            "grid_gap": null,
            "max_width": null,
            "order": null,
            "_view_module_version": "1.2.0",
            "grid_template_areas": null,
            "object_position": null,
            "object_fit": null,
            "grid_auto_columns": null,
            "margin": null,
            "display": null,
            "left": null
          }
        },
        "602510983fe341718e6dc108fa363c21": {
          "model_module": "@jupyter-widgets/controls",
          "model_name": "HBoxModel",
          "state": {
            "_view_name": "HBoxView",
            "_dom_classes": [],
            "_model_name": "HBoxModel",
            "_view_module": "@jupyter-widgets/controls",
            "_model_module_version": "1.5.0",
            "_view_count": null,
            "_view_module_version": "1.5.0",
            "box_style": "",
            "layout": "IPY_MODEL_6fd3f804d25d4358ab29ab59c1bc96fe",
            "_model_module": "@jupyter-widgets/controls",
            "children": [
              "IPY_MODEL_737a079530324827abe17822fb184e03",
              "IPY_MODEL_a842840cac31446cae2a5b3e9391dc1d"
            ]
          }
        },
        "6fd3f804d25d4358ab29ab59c1bc96fe": {
          "model_module": "@jupyter-widgets/base",
          "model_name": "LayoutModel",
          "state": {
            "_view_name": "LayoutView",
            "grid_template_rows": null,
            "right": null,
            "justify_content": null,
            "_view_module": "@jupyter-widgets/base",
            "overflow": null,
            "_model_module_version": "1.2.0",
            "_view_count": null,
            "flex_flow": null,
            "width": null,
            "min_width": null,
            "border": null,
            "align_items": null,
            "bottom": null,
            "_model_module": "@jupyter-widgets/base",
            "top": null,
            "grid_column": null,
            "overflow_y": null,
            "overflow_x": null,
            "grid_auto_flow": null,
            "grid_area": null,
            "grid_template_columns": null,
            "flex": null,
            "_model_name": "LayoutModel",
            "justify_items": null,
            "grid_row": null,
            "max_height": null,
            "align_content": null,
            "visibility": null,
            "align_self": null,
            "height": null,
            "min_height": null,
            "padding": null,
            "grid_auto_rows": null,
            "grid_gap": null,
            "max_width": null,
            "order": null,
            "_view_module_version": "1.2.0",
            "grid_template_areas": null,
            "object_position": null,
            "object_fit": null,
            "grid_auto_columns": null,
            "margin": null,
            "display": null,
            "left": null
          }
        },
        "737a079530324827abe17822fb184e03": {
          "model_module": "@jupyter-widgets/controls",
          "model_name": "FloatProgressModel",
          "state": {
            "_view_name": "ProgressView",
            "style": "IPY_MODEL_c22cdc303b4e4fe09d9f9551f595a872",
            "_dom_classes": [],
            "description": "Downloading: 100%",
            "_model_name": "FloatProgressModel",
            "bar_style": "success",
            "max": 565485600,
            "_view_module": "@jupyter-widgets/controls",
            "_model_module_version": "1.5.0",
            "value": 565485600,
            "_view_count": null,
            "_view_module_version": "1.5.0",
            "orientation": "horizontal",
            "min": 0,
            "description_tooltip": null,
            "_model_module": "@jupyter-widgets/controls",
            "layout": "IPY_MODEL_c7da2c0acb5b4fb9abfbfe9107aa8f5f"
          }
        },
        "a842840cac31446cae2a5b3e9391dc1d": {
          "model_module": "@jupyter-widgets/controls",
          "model_name": "HTMLModel",
          "state": {
            "_view_name": "HTMLView",
            "style": "IPY_MODEL_2d7c22771a51477ebf33325b84c265b5",
            "_dom_classes": [],
            "description": "",
            "_model_name": "HTMLModel",
            "placeholder": "​",
            "_view_module": "@jupyter-widgets/controls",
            "_model_module_version": "1.5.0",
            "value": " 565M/565M [00:18&lt;00:00, 30.0MB/s]",
            "_view_count": null,
            "_view_module_version": "1.5.0",
            "description_tooltip": null,
            "_model_module": "@jupyter-widgets/controls",
            "layout": "IPY_MODEL_5f6bc924db89439da9946c61a3ac0e0c"
          }
        },
        "c22cdc303b4e4fe09d9f9551f595a872": {
          "model_module": "@jupyter-widgets/controls",
          "model_name": "ProgressStyleModel",
          "state": {
            "_view_name": "StyleView",
            "_model_name": "ProgressStyleModel",
            "description_width": "initial",
            "_view_module": "@jupyter-widgets/base",
            "_model_module_version": "1.5.0",
            "_view_count": null,
            "_view_module_version": "1.2.0",
            "bar_color": null,
            "_model_module": "@jupyter-widgets/controls"
          }
        },
        "c7da2c0acb5b4fb9abfbfe9107aa8f5f": {
          "model_module": "@jupyter-widgets/base",
          "model_name": "LayoutModel",
          "state": {
            "_view_name": "LayoutView",
            "grid_template_rows": null,
            "right": null,
            "justify_content": null,
            "_view_module": "@jupyter-widgets/base",
            "overflow": null,
            "_model_module_version": "1.2.0",
            "_view_count": null,
            "flex_flow": null,
            "width": null,
            "min_width": null,
            "border": null,
            "align_items": null,
            "bottom": null,
            "_model_module": "@jupyter-widgets/base",
            "top": null,
            "grid_column": null,
            "overflow_y": null,
            "overflow_x": null,
            "grid_auto_flow": null,
            "grid_area": null,
            "grid_template_columns": null,
            "flex": null,
            "_model_name": "LayoutModel",
            "justify_items": null,
            "grid_row": null,
            "max_height": null,
            "align_content": null,
            "visibility": null,
            "align_self": null,
            "height": null,
            "min_height": null,
            "padding": null,
            "grid_auto_rows": null,
            "grid_gap": null,
            "max_width": null,
            "order": null,
            "_view_module_version": "1.2.0",
            "grid_template_areas": null,
            "object_position": null,
            "object_fit": null,
            "grid_auto_columns": null,
            "margin": null,
            "display": null,
            "left": null
          }
        },
        "2d7c22771a51477ebf33325b84c265b5": {
          "model_module": "@jupyter-widgets/controls",
          "model_name": "DescriptionStyleModel",
          "state": {
            "_view_name": "StyleView",
            "_model_name": "DescriptionStyleModel",
            "description_width": "",
            "_view_module": "@jupyter-widgets/base",
            "_model_module_version": "1.5.0",
            "_view_count": null,
            "_view_module_version": "1.2.0",
            "_model_module": "@jupyter-widgets/controls"
          }
        },
        "5f6bc924db89439da9946c61a3ac0e0c": {
          "model_module": "@jupyter-widgets/base",
          "model_name": "LayoutModel",
          "state": {
            "_view_name": "LayoutView",
            "grid_template_rows": null,
            "right": null,
            "justify_content": null,
            "_view_module": "@jupyter-widgets/base",
            "overflow": null,
            "_model_module_version": "1.2.0",
            "_view_count": null,
            "flex_flow": null,
            "width": null,
            "min_width": null,
            "border": null,
            "align_items": null,
            "bottom": null,
            "_model_module": "@jupyter-widgets/base",
            "top": null,
            "grid_column": null,
            "overflow_y": null,
            "overflow_x": null,
            "grid_auto_flow": null,
            "grid_area": null,
            "grid_template_columns": null,
            "flex": null,
            "_model_name": "LayoutModel",
            "justify_items": null,
            "grid_row": null,
            "max_height": null,
            "align_content": null,
            "visibility": null,
            "align_self": null,
            "height": null,
            "min_height": null,
            "padding": null,
            "grid_auto_rows": null,
            "grid_gap": null,
            "max_width": null,
            "order": null,
            "_view_module_version": "1.2.0",
            "grid_template_areas": null,
            "object_position": null,
            "object_fit": null,
            "grid_auto_columns": null,
            "margin": null,
            "display": null,
            "left": null
          }
        },
        "1266e02424994d45be76326b60029c7d": {
          "model_module": "@jupyter-widgets/controls",
          "model_name": "HBoxModel",
          "state": {
            "_view_name": "HBoxView",
            "_dom_classes": [],
            "_model_name": "HBoxModel",
            "_view_module": "@jupyter-widgets/controls",
            "_model_module_version": "1.5.0",
            "_view_count": null,
            "_view_module_version": "1.5.0",
            "box_style": "",
            "layout": "IPY_MODEL_a501809d935242a3b8d43adf2a7d80b4",
            "_model_module": "@jupyter-widgets/controls",
            "children": [
              "IPY_MODEL_a79bb827e91747f5a5b153e379375002",
              "IPY_MODEL_bfc02ed5775b4b6b8afc5f1f25ae8f47"
            ]
          }
        },
        "a501809d935242a3b8d43adf2a7d80b4": {
          "model_module": "@jupyter-widgets/base",
          "model_name": "LayoutModel",
          "state": {
            "_view_name": "LayoutView",
            "grid_template_rows": null,
            "right": null,
            "justify_content": null,
            "_view_module": "@jupyter-widgets/base",
            "overflow": null,
            "_model_module_version": "1.2.0",
            "_view_count": null,
            "flex_flow": null,
            "width": null,
            "min_width": null,
            "border": null,
            "align_items": null,
            "bottom": null,
            "_model_module": "@jupyter-widgets/base",
            "top": null,
            "grid_column": null,
            "overflow_y": null,
            "overflow_x": null,
            "grid_auto_flow": null,
            "grid_area": null,
            "grid_template_columns": null,
            "flex": null,
            "_model_name": "LayoutModel",
            "justify_items": null,
            "grid_row": null,
            "max_height": null,
            "align_content": null,
            "visibility": null,
            "align_self": null,
            "height": null,
            "min_height": null,
            "padding": null,
            "grid_auto_rows": null,
            "grid_gap": null,
            "max_width": null,
            "order": null,
            "_view_module_version": "1.2.0",
            "grid_template_areas": null,
            "object_position": null,
            "object_fit": null,
            "grid_auto_columns": null,
            "margin": null,
            "display": null,
            "left": null
          }
        },
        "a79bb827e91747f5a5b153e379375002": {
          "model_module": "@jupyter-widgets/controls",
          "model_name": "FloatProgressModel",
          "state": {
            "_view_name": "ProgressView",
            "style": "IPY_MODEL_79cc1a3cbd0a49968118f24a2f4cb444",
            "_dom_classes": [],
            "description": "Downloading: 100%",
            "_model_name": "FloatProgressModel",
            "bar_style": "success",
            "max": 798011,
            "_view_module": "@jupyter-widgets/controls",
            "_model_module_version": "1.5.0",
            "value": 798011,
            "_view_count": null,
            "_view_module_version": "1.5.0",
            "orientation": "horizontal",
            "min": 0,
            "description_tooltip": null,
            "_model_module": "@jupyter-widgets/controls",
            "layout": "IPY_MODEL_39b392af85744a0f81f78e4bedf8be15"
          }
        },
        "bfc02ed5775b4b6b8afc5f1f25ae8f47": {
          "model_module": "@jupyter-widgets/controls",
          "model_name": "HTMLModel",
          "state": {
            "_view_name": "HTMLView",
            "style": "IPY_MODEL_dbf49106c72b4d9abcb551795e972b71",
            "_dom_classes": [],
            "description": "",
            "_model_name": "HTMLModel",
            "placeholder": "​",
            "_view_module": "@jupyter-widgets/controls",
            "_model_module_version": "1.5.0",
            "value": " 798k/798k [00:00&lt;00:00, 1.84MB/s]",
            "_view_count": null,
            "_view_module_version": "1.5.0",
            "description_tooltip": null,
            "_model_module": "@jupyter-widgets/controls",
            "layout": "IPY_MODEL_6fbbdbf62e94475998b0c8b2c02ce9ef"
          }
        },
        "79cc1a3cbd0a49968118f24a2f4cb444": {
          "model_module": "@jupyter-widgets/controls",
          "model_name": "ProgressStyleModel",
          "state": {
            "_view_name": "StyleView",
            "_model_name": "ProgressStyleModel",
            "description_width": "initial",
            "_view_module": "@jupyter-widgets/base",
            "_model_module_version": "1.5.0",
            "_view_count": null,
            "_view_module_version": "1.2.0",
            "bar_color": null,
            "_model_module": "@jupyter-widgets/controls"
          }
        },
        "39b392af85744a0f81f78e4bedf8be15": {
          "model_module": "@jupyter-widgets/base",
          "model_name": "LayoutModel",
          "state": {
            "_view_name": "LayoutView",
            "grid_template_rows": null,
            "right": null,
            "justify_content": null,
            "_view_module": "@jupyter-widgets/base",
            "overflow": null,
            "_model_module_version": "1.2.0",
            "_view_count": null,
            "flex_flow": null,
            "width": null,
            "min_width": null,
            "border": null,
            "align_items": null,
            "bottom": null,
            "_model_module": "@jupyter-widgets/base",
            "top": null,
            "grid_column": null,
            "overflow_y": null,
            "overflow_x": null,
            "grid_auto_flow": null,
            "grid_area": null,
            "grid_template_columns": null,
            "flex": null,
            "_model_name": "LayoutModel",
            "justify_items": null,
            "grid_row": null,
            "max_height": null,
            "align_content": null,
            "visibility": null,
            "align_self": null,
            "height": null,
            "min_height": null,
            "padding": null,
            "grid_auto_rows": null,
            "grid_gap": null,
            "max_width": null,
            "order": null,
            "_view_module_version": "1.2.0",
            "grid_template_areas": null,
            "object_position": null,
            "object_fit": null,
            "grid_auto_columns": null,
            "margin": null,
            "display": null,
            "left": null
          }
        },
        "dbf49106c72b4d9abcb551795e972b71": {
          "model_module": "@jupyter-widgets/controls",
          "model_name": "DescriptionStyleModel",
          "state": {
            "_view_name": "StyleView",
            "_model_name": "DescriptionStyleModel",
            "description_width": "",
            "_view_module": "@jupyter-widgets/base",
            "_model_module_version": "1.5.0",
            "_view_count": null,
            "_view_module_version": "1.2.0",
            "_model_module": "@jupyter-widgets/controls"
          }
        },
        "6fbbdbf62e94475998b0c8b2c02ce9ef": {
          "model_module": "@jupyter-widgets/base",
          "model_name": "LayoutModel",
          "state": {
            "_view_name": "LayoutView",
            "grid_template_rows": null,
            "right": null,
            "justify_content": null,
            "_view_module": "@jupyter-widgets/base",
            "overflow": null,
            "_model_module_version": "1.2.0",
            "_view_count": null,
            "flex_flow": null,
            "width": null,
            "min_width": null,
            "border": null,
            "align_items": null,
            "bottom": null,
            "_model_module": "@jupyter-widgets/base",
            "top": null,
            "grid_column": null,
            "overflow_y": null,
            "overflow_x": null,
            "grid_auto_flow": null,
            "grid_area": null,
            "grid_template_columns": null,
            "flex": null,
            "_model_name": "LayoutModel",
            "justify_items": null,
            "grid_row": null,
            "max_height": null,
            "align_content": null,
            "visibility": null,
            "align_self": null,
            "height": null,
            "min_height": null,
            "padding": null,
            "grid_auto_rows": null,
            "grid_gap": null,
            "max_width": null,
            "order": null,
            "_view_module_version": "1.2.0",
            "grid_template_areas": null,
            "object_position": null,
            "object_fit": null,
            "grid_auto_columns": null,
            "margin": null,
            "display": null,
            "left": null
          }
        },
        "08dc1339af94483881bcfb1b465cdcd9": {
          "model_module": "@jupyter-widgets/controls",
          "model_name": "HBoxModel",
          "state": {
            "_view_name": "HBoxView",
            "_dom_classes": [],
            "_model_name": "HBoxModel",
            "_view_module": "@jupyter-widgets/controls",
            "_model_module_version": "1.5.0",
            "_view_count": null,
            "_view_module_version": "1.5.0",
            "box_style": "",
            "layout": "IPY_MODEL_32e3d5f9a20e4fbe93be589595f7fc46",
            "_model_module": "@jupyter-widgets/controls",
            "children": [
              "IPY_MODEL_1acbbbf73edd4e0d92b7a3720b652bef",
              "IPY_MODEL_64876dd0b3214691ad854ce41ffafb90"
            ]
          }
        },
        "32e3d5f9a20e4fbe93be589595f7fc46": {
          "model_module": "@jupyter-widgets/base",
          "model_name": "LayoutModel",
          "state": {
            "_view_name": "LayoutView",
            "grid_template_rows": null,
            "right": null,
            "justify_content": null,
            "_view_module": "@jupyter-widgets/base",
            "overflow": null,
            "_model_module_version": "1.2.0",
            "_view_count": null,
            "flex_flow": null,
            "width": null,
            "min_width": null,
            "border": null,
            "align_items": null,
            "bottom": null,
            "_model_module": "@jupyter-widgets/base",
            "top": null,
            "grid_column": null,
            "overflow_y": null,
            "overflow_x": null,
            "grid_auto_flow": null,
            "grid_area": null,
            "grid_template_columns": null,
            "flex": null,
            "_model_name": "LayoutModel",
            "justify_items": null,
            "grid_row": null,
            "max_height": null,
            "align_content": null,
            "visibility": null,
            "align_self": null,
            "height": null,
            "min_height": null,
            "padding": null,
            "grid_auto_rows": null,
            "grid_gap": null,
            "max_width": null,
            "order": null,
            "_view_module_version": "1.2.0",
            "grid_template_areas": null,
            "object_position": null,
            "object_fit": null,
            "grid_auto_columns": null,
            "margin": null,
            "display": null,
            "left": null
          }
        },
        "1acbbbf73edd4e0d92b7a3720b652bef": {
          "model_module": "@jupyter-widgets/controls",
          "model_name": "FloatProgressModel",
          "state": {
            "_view_name": "ProgressView",
            "style": "IPY_MODEL_f80e854aac3240fd8f435ce25cda2268",
            "_dom_classes": [],
            "description": "Downloading: 100%",
            "_model_name": "FloatProgressModel",
            "bar_style": "success",
            "max": 1382015,
            "_view_module": "@jupyter-widgets/controls",
            "_model_module_version": "1.5.0",
            "value": 1382015,
            "_view_count": null,
            "_view_module_version": "1.5.0",
            "orientation": "horizontal",
            "min": 0,
            "description_tooltip": null,
            "_model_module": "@jupyter-widgets/controls",
            "layout": "IPY_MODEL_637dba8b9660485a9f918d3df20c3e0c"
          }
        },
        "64876dd0b3214691ad854ce41ffafb90": {
          "model_module": "@jupyter-widgets/controls",
          "model_name": "HTMLModel",
          "state": {
            "_view_name": "HTMLView",
            "style": "IPY_MODEL_0a03bf158d794f3aaaf6ddb372d70068",
            "_dom_classes": [],
            "description": "",
            "_model_name": "HTMLModel",
            "placeholder": "​",
            "_view_module": "@jupyter-widgets/controls",
            "_model_module_version": "1.5.0",
            "value": " 1.38M/1.38M [03:19&lt;00:00, 6.94kB/s]",
            "_view_count": null,
            "_view_module_version": "1.5.0",
            "description_tooltip": null,
            "_model_module": "@jupyter-widgets/controls",
            "layout": "IPY_MODEL_61c407aba4ee4e898a45cb414d4ccc25"
          }
        },
        "f80e854aac3240fd8f435ce25cda2268": {
          "model_module": "@jupyter-widgets/controls",
          "model_name": "ProgressStyleModel",
          "state": {
            "_view_name": "StyleView",
            "_model_name": "ProgressStyleModel",
            "description_width": "initial",
            "_view_module": "@jupyter-widgets/base",
            "_model_module_version": "1.5.0",
            "_view_count": null,
            "_view_module_version": "1.2.0",
            "bar_color": null,
            "_model_module": "@jupyter-widgets/controls"
          }
        },
        "637dba8b9660485a9f918d3df20c3e0c": {
          "model_module": "@jupyter-widgets/base",
          "model_name": "LayoutModel",
          "state": {
            "_view_name": "LayoutView",
            "grid_template_rows": null,
            "right": null,
            "justify_content": null,
            "_view_module": "@jupyter-widgets/base",
            "overflow": null,
            "_model_module_version": "1.2.0",
            "_view_count": null,
            "flex_flow": null,
            "width": null,
            "min_width": null,
            "border": null,
            "align_items": null,
            "bottom": null,
            "_model_module": "@jupyter-widgets/base",
            "top": null,
            "grid_column": null,
            "overflow_y": null,
            "overflow_x": null,
            "grid_auto_flow": null,
            "grid_area": null,
            "grid_template_columns": null,
            "flex": null,
            "_model_name": "LayoutModel",
            "justify_items": null,
            "grid_row": null,
            "max_height": null,
            "align_content": null,
            "visibility": null,
            "align_self": null,
            "height": null,
            "min_height": null,
            "padding": null,
            "grid_auto_rows": null,
            "grid_gap": null,
            "max_width": null,
            "order": null,
            "_view_module_version": "1.2.0",
            "grid_template_areas": null,
            "object_position": null,
            "object_fit": null,
            "grid_auto_columns": null,
            "margin": null,
            "display": null,
            "left": null
          }
        },
        "0a03bf158d794f3aaaf6ddb372d70068": {
          "model_module": "@jupyter-widgets/controls",
          "model_name": "DescriptionStyleModel",
          "state": {
            "_view_name": "StyleView",
            "_model_name": "DescriptionStyleModel",
            "description_width": "",
            "_view_module": "@jupyter-widgets/base",
            "_model_module_version": "1.5.0",
            "_view_count": null,
            "_view_module_version": "1.2.0",
            "_model_module": "@jupyter-widgets/controls"
          }
        },
        "61c407aba4ee4e898a45cb414d4ccc25": {
          "model_module": "@jupyter-widgets/base",
          "model_name": "LayoutModel",
          "state": {
            "_view_name": "LayoutView",
            "grid_template_rows": null,
            "right": null,
            "justify_content": null,
            "_view_module": "@jupyter-widgets/base",
            "overflow": null,
            "_model_module_version": "1.2.0",
            "_view_count": null,
            "flex_flow": null,
            "width": null,
            "min_width": null,
            "border": null,
            "align_items": null,
            "bottom": null,
            "_model_module": "@jupyter-widgets/base",
            "top": null,
            "grid_column": null,
            "overflow_y": null,
            "overflow_x": null,
            "grid_auto_flow": null,
            "grid_area": null,
            "grid_template_columns": null,
            "flex": null,
            "_model_name": "LayoutModel",
            "justify_items": null,
            "grid_row": null,
            "max_height": null,
            "align_content": null,
            "visibility": null,
            "align_self": null,
            "height": null,
            "min_height": null,
            "padding": null,
            "grid_auto_rows": null,
            "grid_gap": null,
            "max_width": null,
            "order": null,
            "_view_module_version": "1.2.0",
            "grid_template_areas": null,
            "object_position": null,
            "object_fit": null,
            "grid_auto_columns": null,
            "margin": null,
            "display": null,
            "left": null
          }
        }
      }
    },
    "accelerator": "GPU"
  },
  "cells": [
    {
      "cell_type": "markdown",
      "metadata": {
        "id": "aFHHrJ9UIMfP"
      },
      "source": [
        "# Proyecto Final: Modelo para la Detección de Depresión\n",
        "### Héctor Gibrán González Leal\n",
        "### A01282778\n"
      ]
    },
    {
      "cell_type": "markdown",
      "metadata": {
        "id": "CzTb5_G4IdyF"
      },
      "source": [
        "La depresión es un trastorno mental, afectando a alrededor de 300 millones de personas. Es un problema extremadamente serio, que puede incluso llevar a una persona al suicidio (WHO, 2020). A lo largo de los años, muchas áreas de la ciencia han estudiado a la depresión para entender de mejor manera sus síntomas, comportamientos provocados y curas. Una de estas es la Inteligencia Artificial, donde la subárea de Procesamiento de Lenguaje Natural (NLP) busca desarrollar modelos que puedan detectar patrones de depresión en textos y audios. \n",
        "\n",
        "Este notebook contiene la implementación de un modelo de procesamiento de lenguaje natural para la detección de depresión en base a texto. Como se verá más adelante, se aplicó transfer-learning a 3 modelos distintos que incorporan transformadores para hacer la detección. Cabe mencionar que este trabajo fue inspirado por el siguiente paper: https://arxiv.org/abs/1804.07000.\n",
        "\n",
        "<hr>\n",
        "\n",
        "## Nota importante\n",
        "Para que el Notebook pueda trabajar con los archivos que se suben a Colab, como los CSVs que se proporcionan, estos deben estar en el **directorio raíz**. En el repositorio de Github se encuentran dentro de un folder por organización, pero aquí se deben manejar en el directorio raíz, fuera de cualquier folder.\n",
        "\n",
        "<hr>"
      ]
    },
    {
      "cell_type": "markdown",
      "metadata": {
        "id": "hA4cF5YAJPBn"
      },
      "source": [
        "Antes que nada, se instalan los módulos necesarios para poder correr el programa."
      ]
    },
    {
      "cell_type": "code",
      "metadata": {
        "colab": {
          "base_uri": "https://localhost:8080/"
        },
        "id": "i4w1gTB9aGDh",
        "outputId": "c20f7ba7-2441-45f6-e136-41b60e73d890"
      },
      "source": [
        "pip install -r requirements.txt"
      ],
      "execution_count": null,
      "outputs": [
        {
          "output_type": "stream",
          "text": [
            "Requirement already satisfied: absl-py==0.12.0 in /usr/local/lib/python3.7/dist-packages (from -r requirements.txt (line 1)) (0.12.0)\n",
            "Requirement already satisfied: alabaster==0.7.12 in /usr/local/lib/python3.7/dist-packages (from -r requirements.txt (line 2)) (0.7.12)\n",
            "Requirement already satisfied: albumentations==0.1.12 in /usr/local/lib/python3.7/dist-packages (from -r requirements.txt (line 3)) (0.1.12)\n",
            "Requirement already satisfied: altair==4.1.0 in /usr/local/lib/python3.7/dist-packages (from -r requirements.txt (line 4)) (4.1.0)\n",
            "Requirement already satisfied: appdirs==1.4.4 in /usr/local/lib/python3.7/dist-packages (from -r requirements.txt (line 5)) (1.4.4)\n",
            "Requirement already satisfied: argon2-cffi==20.1.0 in /usr/local/lib/python3.7/dist-packages (from -r requirements.txt (line 6)) (20.1.0)\n",
            "Requirement already satisfied: arviz==0.11.2 in /usr/local/lib/python3.7/dist-packages (from -r requirements.txt (line 7)) (0.11.2)\n",
            "Requirement already satisfied: astor==0.8.1 in /usr/local/lib/python3.7/dist-packages (from -r requirements.txt (line 8)) (0.8.1)\n",
            "Requirement already satisfied: astropy==4.2.1 in /usr/local/lib/python3.7/dist-packages (from -r requirements.txt (line 9)) (4.2.1)\n",
            "Requirement already satisfied: astunparse==1.6.3 in /usr/local/lib/python3.7/dist-packages (from -r requirements.txt (line 10)) (1.6.3)\n",
            "Requirement already satisfied: async-generator==1.10 in /usr/local/lib/python3.7/dist-packages (from -r requirements.txt (line 11)) (1.10)\n",
            "Requirement already satisfied: atari-py==0.2.9 in /usr/local/lib/python3.7/dist-packages (from -r requirements.txt (line 12)) (0.2.9)\n",
            "Requirement already satisfied: atomicwrites==1.4.0 in /usr/local/lib/python3.7/dist-packages (from -r requirements.txt (line 13)) (1.4.0)\n",
            "Requirement already satisfied: attrs==21.2.0 in /usr/local/lib/python3.7/dist-packages (from -r requirements.txt (line 14)) (21.2.0)\n",
            "Requirement already satisfied: audioread==2.1.9 in /usr/local/lib/python3.7/dist-packages (from -r requirements.txt (line 15)) (2.1.9)\n",
            "Requirement already satisfied: autograd==1.3 in /usr/local/lib/python3.7/dist-packages (from -r requirements.txt (line 16)) (1.3)\n",
            "Requirement already satisfied: Babel==2.9.1 in /usr/local/lib/python3.7/dist-packages (from -r requirements.txt (line 17)) (2.9.1)\n",
            "Requirement already satisfied: backcall==0.2.0 in /usr/local/lib/python3.7/dist-packages (from -r requirements.txt (line 18)) (0.2.0)\n",
            "Requirement already satisfied: beautifulsoup4==4.6.3 in /usr/local/lib/python3.7/dist-packages (from -r requirements.txt (line 19)) (4.6.3)\n",
            "Requirement already satisfied: bleach==3.3.0 in /usr/local/lib/python3.7/dist-packages (from -r requirements.txt (line 20)) (3.3.0)\n",
            "Requirement already satisfied: blis==0.4.1 in /usr/local/lib/python3.7/dist-packages (from -r requirements.txt (line 21)) (0.4.1)\n",
            "Requirement already satisfied: bokeh==2.3.2 in /usr/local/lib/python3.7/dist-packages (from -r requirements.txt (line 22)) (2.3.2)\n",
            "Requirement already satisfied: Bottleneck==1.3.2 in /usr/local/lib/python3.7/dist-packages (from -r requirements.txt (line 23)) (1.3.2)\n",
            "Requirement already satisfied: branca==0.4.2 in /usr/local/lib/python3.7/dist-packages (from -r requirements.txt (line 24)) (0.4.2)\n",
            "Requirement already satisfied: bs4==0.0.1 in /usr/local/lib/python3.7/dist-packages (from -r requirements.txt (line 25)) (0.0.1)\n",
            "Requirement already satisfied: CacheControl==0.12.6 in /usr/local/lib/python3.7/dist-packages (from -r requirements.txt (line 26)) (0.12.6)\n",
            "Requirement already satisfied: cached-property==1.5.2 in /usr/local/lib/python3.7/dist-packages (from -r requirements.txt (line 27)) (1.5.2)\n",
            "Requirement already satisfied: cachetools==4.2.2 in /usr/local/lib/python3.7/dist-packages (from -r requirements.txt (line 28)) (4.2.2)\n",
            "Requirement already satisfied: catalogue==1.0.0 in /usr/local/lib/python3.7/dist-packages (from -r requirements.txt (line 29)) (1.0.0)\n",
            "Requirement already satisfied: certifi==2020.12.5 in /usr/local/lib/python3.7/dist-packages (from -r requirements.txt (line 30)) (2020.12.5)\n",
            "Requirement already satisfied: cffi==1.14.5 in /usr/local/lib/python3.7/dist-packages (from -r requirements.txt (line 31)) (1.14.5)\n",
            "Requirement already satisfied: cftime==1.5.0 in /usr/local/lib/python3.7/dist-packages (from -r requirements.txt (line 32)) (1.5.0)\n",
            "Requirement already satisfied: chainer==7.4.0 in /usr/local/lib/python3.7/dist-packages (from -r requirements.txt (line 33)) (7.4.0)\n",
            "Requirement already satisfied: chardet==3.0.4 in /usr/local/lib/python3.7/dist-packages (from -r requirements.txt (line 34)) (3.0.4)\n",
            "Requirement already satisfied: click==7.1.2 in /usr/local/lib/python3.7/dist-packages (from -r requirements.txt (line 35)) (7.1.2)\n",
            "Requirement already satisfied: cloudpickle==1.3.0 in /usr/local/lib/python3.7/dist-packages (from -r requirements.txt (line 36)) (1.3.0)\n",
            "Requirement already satisfied: cmake==3.12.0 in /usr/local/lib/python3.7/dist-packages (from -r requirements.txt (line 37)) (3.12.0)\n",
            "Requirement already satisfied: cmdstanpy==0.9.5 in /usr/local/lib/python3.7/dist-packages (from -r requirements.txt (line 38)) (0.9.5)\n",
            "Requirement already satisfied: colorcet==2.0.6 in /usr/local/lib/python3.7/dist-packages (from -r requirements.txt (line 39)) (2.0.6)\n",
            "Requirement already satisfied: colorlover==0.3.0 in /usr/local/lib/python3.7/dist-packages (from -r requirements.txt (line 40)) (0.3.0)\n",
            "Requirement already satisfied: community==1.0.0b1 in /usr/local/lib/python3.7/dist-packages (from -r requirements.txt (line 41)) (1.0.0b1)\n",
            "Requirement already satisfied: contextlib2==0.5.5 in /usr/local/lib/python3.7/dist-packages (from -r requirements.txt (line 42)) (0.5.5)\n",
            "Requirement already satisfied: convertdate==2.3.2 in /usr/local/lib/python3.7/dist-packages (from -r requirements.txt (line 43)) (2.3.2)\n",
            "Requirement already satisfied: coverage==3.7.1 in /usr/local/lib/python3.7/dist-packages (from -r requirements.txt (line 44)) (3.7.1)\n",
            "Requirement already satisfied: coveralls==0.5 in /usr/local/lib/python3.7/dist-packages (from -r requirements.txt (line 45)) (0.5)\n",
            "Requirement already satisfied: crcmod==1.7 in /usr/local/lib/python3.7/dist-packages (from -r requirements.txt (line 46)) (1.7)\n",
            "Requirement already satisfied: cufflinks==0.17.3 in /usr/local/lib/python3.7/dist-packages (from -r requirements.txt (line 47)) (0.17.3)\n",
            "Requirement already satisfied: cvxopt==1.2.6 in /usr/local/lib/python3.7/dist-packages (from -r requirements.txt (line 48)) (1.2.6)\n",
            "Requirement already satisfied: cvxpy==1.0.31 in /usr/local/lib/python3.7/dist-packages (from -r requirements.txt (line 49)) (1.0.31)\n",
            "Requirement already satisfied: cycler==0.10.0 in /usr/local/lib/python3.7/dist-packages (from -r requirements.txt (line 50)) (0.10.0)\n",
            "Requirement already satisfied: cymem==2.0.5 in /usr/local/lib/python3.7/dist-packages (from -r requirements.txt (line 51)) (2.0.5)\n",
            "Requirement already satisfied: Cython==0.29.23 in /usr/local/lib/python3.7/dist-packages (from -r requirements.txt (line 52)) (0.29.23)\n",
            "Requirement already satisfied: daft==0.0.4 in /usr/local/lib/python3.7/dist-packages (from -r requirements.txt (line 53)) (0.0.4)\n",
            "Requirement already satisfied: dask==2.12.0 in /usr/local/lib/python3.7/dist-packages (from -r requirements.txt (line 54)) (2.12.0)\n",
            "Requirement already satisfied: datascience==0.10.6 in /usr/local/lib/python3.7/dist-packages (from -r requirements.txt (line 55)) (0.10.6)\n",
            "Requirement already satisfied: debugpy==1.0.0 in /usr/local/lib/python3.7/dist-packages (from -r requirements.txt (line 56)) (1.0.0)\n",
            "Requirement already satisfied: decorator==4.4.2 in /usr/local/lib/python3.7/dist-packages (from -r requirements.txt (line 57)) (4.4.2)\n",
            "Requirement already satisfied: defusedxml==0.7.1 in /usr/local/lib/python3.7/dist-packages (from -r requirements.txt (line 58)) (0.7.1)\n",
            "Requirement already satisfied: descartes==1.1.0 in /usr/local/lib/python3.7/dist-packages (from -r requirements.txt (line 59)) (1.1.0)\n",
            "Requirement already satisfied: dill==0.3.3 in /usr/local/lib/python3.7/dist-packages (from -r requirements.txt (line 60)) (0.3.3)\n",
            "Requirement already satisfied: distributed==1.25.3 in /usr/local/lib/python3.7/dist-packages (from -r requirements.txt (line 61)) (1.25.3)\n",
            "Requirement already satisfied: dlib==19.18.0 in /usr/local/lib/python3.7/dist-packages (from -r requirements.txt (line 62)) (19.18.0)\n",
            "Requirement already satisfied: dm-tree==0.1.6 in /usr/local/lib/python3.7/dist-packages (from -r requirements.txt (line 63)) (0.1.6)\n",
            "Requirement already satisfied: docopt==0.6.2 in /usr/local/lib/python3.7/dist-packages (from -r requirements.txt (line 64)) (0.6.2)\n",
            "Requirement already satisfied: docutils==0.17.1 in /usr/local/lib/python3.7/dist-packages (from -r requirements.txt (line 65)) (0.17.1)\n",
            "Requirement already satisfied: dopamine-rl==1.0.5 in /usr/local/lib/python3.7/dist-packages (from -r requirements.txt (line 66)) (1.0.5)\n",
            "Requirement already satisfied: earthengine-api==0.1.266 in /usr/local/lib/python3.7/dist-packages (from -r requirements.txt (line 67)) (0.1.266)\n",
            "Requirement already satisfied: easydict==1.9 in /usr/local/lib/python3.7/dist-packages (from -r requirements.txt (line 68)) (1.9)\n",
            "Requirement already satisfied: ecos==2.0.7.post1 in /usr/local/lib/python3.7/dist-packages (from -r requirements.txt (line 69)) (2.0.7.post1)\n",
            "Requirement already satisfied: editdistance==0.5.3 in /usr/local/lib/python3.7/dist-packages (from -r requirements.txt (line 70)) (0.5.3)\n",
            "Requirement already satisfied: en-core-web-sm==2.2.5 in /usr/local/lib/python3.7/dist-packages (from -r requirements.txt (line 71)) (2.2.5)\n",
            "Requirement already satisfied: entrypoints==0.3 in /usr/local/lib/python3.7/dist-packages (from -r requirements.txt (line 72)) (0.3)\n",
            "Requirement already satisfied: ephem==3.7.7.1 in /usr/local/lib/python3.7/dist-packages (from -r requirements.txt (line 73)) (3.7.7.1)\n",
            "Requirement already satisfied: et-xmlfile==1.1.0 in /usr/local/lib/python3.7/dist-packages (from -r requirements.txt (line 74)) (1.1.0)\n",
            "Requirement already satisfied: fa2==0.3.5 in /usr/local/lib/python3.7/dist-packages (from -r requirements.txt (line 75)) (0.3.5)\n",
            "Requirement already satisfied: fastai==1.0.61 in /usr/local/lib/python3.7/dist-packages (from -r requirements.txt (line 76)) (1.0.61)\n",
            "Requirement already satisfied: fastdtw==0.3.4 in /usr/local/lib/python3.7/dist-packages (from -r requirements.txt (line 77)) (0.3.4)\n",
            "Requirement already satisfied: fastprogress==1.0.0 in /usr/local/lib/python3.7/dist-packages (from -r requirements.txt (line 78)) (1.0.0)\n",
            "Requirement already satisfied: fastrlock==0.6 in /usr/local/lib/python3.7/dist-packages (from -r requirements.txt (line 79)) (0.6)\n",
            "Requirement already satisfied: fbprophet==0.7.1 in /usr/local/lib/python3.7/dist-packages (from -r requirements.txt (line 80)) (0.7.1)\n",
            "Requirement already satisfied: feather-format==0.4.1 in /usr/local/lib/python3.7/dist-packages (from -r requirements.txt (line 81)) (0.4.1)\n",
            "Requirement already satisfied: filelock==3.0.12 in /usr/local/lib/python3.7/dist-packages (from -r requirements.txt (line 82)) (3.0.12)\n",
            "Requirement already satisfied: firebase-admin==4.4.0 in /usr/local/lib/python3.7/dist-packages (from -r requirements.txt (line 83)) (4.4.0)\n",
            "Requirement already satisfied: fix-yahoo-finance==0.0.22 in /usr/local/lib/python3.7/dist-packages (from -r requirements.txt (line 84)) (0.0.22)\n",
            "Requirement already satisfied: Flask==1.1.4 in /usr/local/lib/python3.7/dist-packages (from -r requirements.txt (line 85)) (1.1.4)\n",
            "Requirement already satisfied: flatbuffers==1.12 in /usr/local/lib/python3.7/dist-packages (from -r requirements.txt (line 86)) (1.12)\n",
            "Requirement already satisfied: folium==0.8.3 in /usr/local/lib/python3.7/dist-packages (from -r requirements.txt (line 87)) (0.8.3)\n",
            "Requirement already satisfied: future==0.16.0 in /usr/local/lib/python3.7/dist-packages (from -r requirements.txt (line 88)) (0.16.0)\n",
            "Requirement already satisfied: gast==0.4.0 in /usr/local/lib/python3.7/dist-packages (from -r requirements.txt (line 89)) (0.4.0)\n",
            "Requirement already satisfied: GDAL==2.2.2 in /usr/local/lib/python3.7/dist-packages (from -r requirements.txt (line 90)) (2.2.2)\n",
            "Requirement already satisfied: gdown==3.6.4 in /usr/local/lib/python3.7/dist-packages (from -r requirements.txt (line 91)) (3.6.4)\n",
            "Requirement already satisfied: gensim==3.6.0 in /usr/local/lib/python3.7/dist-packages (from -r requirements.txt (line 92)) (3.6.0)\n",
            "Requirement already satisfied: geographiclib==1.50 in /usr/local/lib/python3.7/dist-packages (from -r requirements.txt (line 93)) (1.50)\n",
            "Requirement already satisfied: geopy==1.17.0 in /usr/local/lib/python3.7/dist-packages (from -r requirements.txt (line 94)) (1.17.0)\n",
            "Requirement already satisfied: gin-config==0.4.0 in /usr/local/lib/python3.7/dist-packages (from -r requirements.txt (line 95)) (0.4.0)\n",
            "Requirement already satisfied: glob2==0.7 in /usr/local/lib/python3.7/dist-packages (from -r requirements.txt (line 96)) (0.7)\n",
            "Requirement already satisfied: google==2.0.3 in /usr/local/lib/python3.7/dist-packages (from -r requirements.txt (line 97)) (2.0.3)\n",
            "Requirement already satisfied: google-api-core==1.26.3 in /usr/local/lib/python3.7/dist-packages (from -r requirements.txt (line 98)) (1.26.3)\n",
            "Requirement already satisfied: google-api-python-client==1.12.8 in /usr/local/lib/python3.7/dist-packages (from -r requirements.txt (line 99)) (1.12.8)\n",
            "Requirement already satisfied: google-auth==1.30.0 in /usr/local/lib/python3.7/dist-packages (from -r requirements.txt (line 100)) (1.30.0)\n",
            "Requirement already satisfied: google-auth-httplib2==0.0.4 in /usr/local/lib/python3.7/dist-packages (from -r requirements.txt (line 101)) (0.0.4)\n",
            "Requirement already satisfied: google-auth-oauthlib==0.4.4 in /usr/local/lib/python3.7/dist-packages (from -r requirements.txt (line 102)) (0.4.4)\n",
            "Requirement already satisfied: google-cloud-bigquery==1.21.0 in /usr/local/lib/python3.7/dist-packages (from -r requirements.txt (line 103)) (1.21.0)\n",
            "Requirement already satisfied: google-cloud-bigquery-storage==1.1.0 in /usr/local/lib/python3.7/dist-packages (from -r requirements.txt (line 104)) (1.1.0)\n",
            "Requirement already satisfied: google-cloud-core==1.0.3 in /usr/local/lib/python3.7/dist-packages (from -r requirements.txt (line 105)) (1.0.3)\n",
            "Requirement already satisfied: google-cloud-datastore==1.8.0 in /usr/local/lib/python3.7/dist-packages (from -r requirements.txt (line 106)) (1.8.0)\n",
            "Requirement already satisfied: google-cloud-firestore==1.7.0 in /usr/local/lib/python3.7/dist-packages (from -r requirements.txt (line 107)) (1.7.0)\n",
            "Requirement already satisfied: google-cloud-language==1.2.0 in /usr/local/lib/python3.7/dist-packages (from -r requirements.txt (line 108)) (1.2.0)\n",
            "Requirement already satisfied: google-cloud-storage==1.18.1 in /usr/local/lib/python3.7/dist-packages (from -r requirements.txt (line 109)) (1.18.1)\n",
            "Requirement already satisfied: google-cloud-translate==1.5.0 in /usr/local/lib/python3.7/dist-packages (from -r requirements.txt (line 110)) (1.5.0)\n",
            "Requirement already satisfied: google-colab==1.0.0 in /usr/local/lib/python3.7/dist-packages (from -r requirements.txt (line 111)) (1.0.0)\n",
            "Requirement already satisfied: google-pasta==0.2.0 in /usr/local/lib/python3.7/dist-packages (from -r requirements.txt (line 112)) (0.2.0)\n",
            "Requirement already satisfied: google-resumable-media==0.4.1 in /usr/local/lib/python3.7/dist-packages (from -r requirements.txt (line 113)) (0.4.1)\n",
            "Requirement already satisfied: googleapis-common-protos==1.53.0 in /usr/local/lib/python3.7/dist-packages (from -r requirements.txt (line 114)) (1.53.0)\n",
            "Requirement already satisfied: googledrivedownloader==0.4 in /usr/local/lib/python3.7/dist-packages (from -r requirements.txt (line 115)) (0.4)\n",
            "Requirement already satisfied: graphviz==0.10.1 in /usr/local/lib/python3.7/dist-packages (from -r requirements.txt (line 116)) (0.10.1)\n",
            "Requirement already satisfied: greenlet==1.1.0 in /usr/local/lib/python3.7/dist-packages (from -r requirements.txt (line 117)) (1.1.0)\n",
            "Requirement already satisfied: grpcio==1.34.1 in /usr/local/lib/python3.7/dist-packages (from -r requirements.txt (line 118)) (1.34.1)\n",
            "Requirement already satisfied: gspread==3.0.1 in /usr/local/lib/python3.7/dist-packages (from -r requirements.txt (line 119)) (3.0.1)\n",
            "Requirement already satisfied: gspread-dataframe==3.0.8 in /usr/local/lib/python3.7/dist-packages (from -r requirements.txt (line 120)) (3.0.8)\n",
            "Requirement already satisfied: gym==0.17.3 in /usr/local/lib/python3.7/dist-packages (from -r requirements.txt (line 121)) (0.17.3)\n",
            "Requirement already satisfied: h5py==3.1.0 in /usr/local/lib/python3.7/dist-packages (from -r requirements.txt (line 122)) (3.1.0)\n",
            "Requirement already satisfied: HeapDict==1.0.1 in /usr/local/lib/python3.7/dist-packages (from -r requirements.txt (line 123)) (1.0.1)\n",
            "Requirement already satisfied: hijri-converter==2.1.1 in /usr/local/lib/python3.7/dist-packages (from -r requirements.txt (line 124)) (2.1.1)\n",
            "Requirement already satisfied: holidays==0.10.5.2 in /usr/local/lib/python3.7/dist-packages (from -r requirements.txt (line 125)) (0.10.5.2)\n",
            "Requirement already satisfied: holoviews==1.14.3 in /usr/local/lib/python3.7/dist-packages (from -r requirements.txt (line 126)) (1.14.3)\n",
            "Requirement already satisfied: html5lib==1.0.1 in /usr/local/lib/python3.7/dist-packages (from -r requirements.txt (line 127)) (1.0.1)\n",
            "Requirement already satisfied: httpimport==0.5.18 in /usr/local/lib/python3.7/dist-packages (from -r requirements.txt (line 128)) (0.5.18)\n",
            "Requirement already satisfied: httplib2==0.17.4 in /usr/local/lib/python3.7/dist-packages (from -r requirements.txt (line 129)) (0.17.4)\n",
            "Requirement already satisfied: httplib2shim==0.0.3 in /usr/local/lib/python3.7/dist-packages (from -r requirements.txt (line 130)) (0.0.3)\n",
            "Collecting huggingface-hub==0.0.8\n",
            "  Downloading https://files.pythonhosted.org/packages/a1/88/7b1e45720ecf59c6c6737ff332f41c955963090a18e72acbcbeac6b25e86/huggingface_hub-0.0.8-py3-none-any.whl\n",
            "Requirement already satisfied: humanize==0.5.1 in /usr/local/lib/python3.7/dist-packages (from -r requirements.txt (line 132)) (0.5.1)\n",
            "Requirement already satisfied: hyperopt==0.1.2 in /usr/local/lib/python3.7/dist-packages (from -r requirements.txt (line 133)) (0.1.2)\n",
            "Requirement already satisfied: ideep4py==2.0.0.post3 in /usr/local/lib/python3.7/dist-packages (from -r requirements.txt (line 134)) (2.0.0.post3)\n",
            "Requirement already satisfied: idna==2.10 in /usr/local/lib/python3.7/dist-packages (from -r requirements.txt (line 135)) (2.10)\n",
            "Requirement already satisfied: imageio==2.4.1 in /usr/local/lib/python3.7/dist-packages (from -r requirements.txt (line 136)) (2.4.1)\n",
            "Requirement already satisfied: imagesize==1.2.0 in /usr/local/lib/python3.7/dist-packages (from -r requirements.txt (line 137)) (1.2.0)\n",
            "Requirement already satisfied: imbalanced-learn==0.4.3 in /usr/local/lib/python3.7/dist-packages (from -r requirements.txt (line 138)) (0.4.3)\n",
            "Requirement already satisfied: imblearn==0.0 in /usr/local/lib/python3.7/dist-packages (from -r requirements.txt (line 139)) (0.0)\n",
            "Requirement already satisfied: imgaug==0.2.9 in /usr/local/lib/python3.7/dist-packages (from -r requirements.txt (line 140)) (0.2.9)\n",
            "Requirement already satisfied: importlib-metadata==4.0.1 in /usr/local/lib/python3.7/dist-packages (from -r requirements.txt (line 141)) (4.0.1)\n",
            "Requirement already satisfied: importlib-resources==5.1.3 in /usr/local/lib/python3.7/dist-packages (from -r requirements.txt (line 142)) (5.1.3)\n",
            "Requirement already satisfied: imutils==0.5.4 in /usr/local/lib/python3.7/dist-packages (from -r requirements.txt (line 143)) (0.5.4)\n",
            "Requirement already satisfied: inflect==2.1.0 in /usr/local/lib/python3.7/dist-packages (from -r requirements.txt (line 144)) (2.1.0)\n",
            "Requirement already satisfied: iniconfig==1.1.1 in /usr/local/lib/python3.7/dist-packages (from -r requirements.txt (line 145)) (1.1.1)\n",
            "Requirement already satisfied: install==1.3.4 in /usr/local/lib/python3.7/dist-packages (from -r requirements.txt (line 146)) (1.3.4)\n",
            "Requirement already satisfied: intel-openmp==2021.2.0 in /usr/local/lib/python3.7/dist-packages (from -r requirements.txt (line 147)) (2021.2.0)\n",
            "Requirement already satisfied: intervaltree==2.1.0 in /usr/local/lib/python3.7/dist-packages (from -r requirements.txt (line 148)) (2.1.0)\n",
            "Requirement already satisfied: ipykernel==4.10.1 in /usr/local/lib/python3.7/dist-packages (from -r requirements.txt (line 149)) (4.10.1)\n",
            "Requirement already satisfied: ipython==5.5.0 in /usr/local/lib/python3.7/dist-packages (from -r requirements.txt (line 150)) (5.5.0)\n",
            "Requirement already satisfied: ipython-genutils==0.2.0 in /usr/local/lib/python3.7/dist-packages (from -r requirements.txt (line 151)) (0.2.0)\n",
            "Requirement already satisfied: ipython-sql==0.3.9 in /usr/local/lib/python3.7/dist-packages (from -r requirements.txt (line 152)) (0.3.9)\n",
            "Requirement already satisfied: ipywidgets==7.6.3 in /usr/local/lib/python3.7/dist-packages (from -r requirements.txt (line 153)) (7.6.3)\n",
            "Requirement already satisfied: itsdangerous==1.1.0 in /usr/local/lib/python3.7/dist-packages (from -r requirements.txt (line 154)) (1.1.0)\n",
            "Requirement already satisfied: jax==0.2.13 in /usr/local/lib/python3.7/dist-packages (from -r requirements.txt (line 155)) (0.2.13)\n",
            "Requirement already satisfied: jaxlib==0.1.66+cuda110 in /usr/local/lib/python3.7/dist-packages (from -r requirements.txt (line 156)) (0.1.66+cuda110)\n",
            "Requirement already satisfied: jdcal==1.4.1 in /usr/local/lib/python3.7/dist-packages (from -r requirements.txt (line 157)) (1.4.1)\n",
            "Requirement already satisfied: jedi==0.18.0 in /usr/local/lib/python3.7/dist-packages (from -r requirements.txt (line 158)) (0.18.0)\n",
            "Requirement already satisfied: jieba==0.42.1 in /usr/local/lib/python3.7/dist-packages (from -r requirements.txt (line 159)) (0.42.1)\n",
            "Requirement already satisfied: Jinja2==2.11.3 in /usr/local/lib/python3.7/dist-packages (from -r requirements.txt (line 160)) (2.11.3)\n",
            "Requirement already satisfied: joblib==1.0.1 in /usr/local/lib/python3.7/dist-packages (from -r requirements.txt (line 161)) (1.0.1)\n",
            "Requirement already satisfied: jpeg4py==0.1.4 in /usr/local/lib/python3.7/dist-packages (from -r requirements.txt (line 162)) (0.1.4)\n",
            "Requirement already satisfied: jsonschema==2.6.0 in /usr/local/lib/python3.7/dist-packages (from -r requirements.txt (line 163)) (2.6.0)\n",
            "Requirement already satisfied: jupyter==1.0.0 in /usr/local/lib/python3.7/dist-packages (from -r requirements.txt (line 164)) (1.0.0)\n",
            "Requirement already satisfied: jupyter-client==5.3.5 in /usr/local/lib/python3.7/dist-packages (from -r requirements.txt (line 165)) (5.3.5)\n",
            "Requirement already satisfied: jupyter-console==5.2.0 in /usr/local/lib/python3.7/dist-packages (from -r requirements.txt (line 166)) (5.2.0)\n",
            "Requirement already satisfied: jupyter-core==4.7.1 in /usr/local/lib/python3.7/dist-packages (from -r requirements.txt (line 167)) (4.7.1)\n",
            "Requirement already satisfied: jupyterlab-pygments==0.1.2 in /usr/local/lib/python3.7/dist-packages (from -r requirements.txt (line 168)) (0.1.2)\n",
            "Requirement already satisfied: jupyterlab-widgets==1.0.0 in /usr/local/lib/python3.7/dist-packages (from -r requirements.txt (line 169)) (1.0.0)\n",
            "Requirement already satisfied: kaggle==1.5.12 in /usr/local/lib/python3.7/dist-packages (from -r requirements.txt (line 170)) (1.5.12)\n",
            "Requirement already satisfied: kapre==0.3.5 in /usr/local/lib/python3.7/dist-packages (from -r requirements.txt (line 171)) (0.3.5)\n",
            "Requirement already satisfied: Keras==2.4.3 in /usr/local/lib/python3.7/dist-packages (from -r requirements.txt (line 172)) (2.4.3)\n",
            "Requirement already satisfied: keras-nightly==2.5.0.dev2021032900 in /usr/local/lib/python3.7/dist-packages (from -r requirements.txt (line 173)) (2.5.0.dev2021032900)\n",
            "Requirement already satisfied: Keras-Preprocessing==1.1.2 in /usr/local/lib/python3.7/dist-packages (from -r requirements.txt (line 174)) (1.1.2)\n",
            "Requirement already satisfied: keras-vis==0.4.1 in /usr/local/lib/python3.7/dist-packages (from -r requirements.txt (line 175)) (0.4.1)\n",
            "Requirement already satisfied: kiwisolver==1.3.1 in /usr/local/lib/python3.7/dist-packages (from -r requirements.txt (line 176)) (1.3.1)\n",
            "Requirement already satisfied: korean-lunar-calendar==0.2.1 in /usr/local/lib/python3.7/dist-packages (from -r requirements.txt (line 177)) (0.2.1)\n",
            "Requirement already satisfied: librosa==0.8.0 in /usr/local/lib/python3.7/dist-packages (from -r requirements.txt (line 178)) (0.8.0)\n",
            "Requirement already satisfied: lightgbm==2.2.3 in /usr/local/lib/python3.7/dist-packages (from -r requirements.txt (line 179)) (2.2.3)\n",
            "Requirement already satisfied: llvmlite==0.34.0 in /usr/local/lib/python3.7/dist-packages (from -r requirements.txt (line 180)) (0.34.0)\n",
            "Requirement already satisfied: lmdb==0.99 in /usr/local/lib/python3.7/dist-packages (from -r requirements.txt (line 181)) (0.99)\n",
            "Requirement already satisfied: LunarCalendar==0.0.9 in /usr/local/lib/python3.7/dist-packages (from -r requirements.txt (line 182)) (0.0.9)\n",
            "Requirement already satisfied: lxml==4.2.6 in /usr/local/lib/python3.7/dist-packages (from -r requirements.txt (line 183)) (4.2.6)\n",
            "Requirement already satisfied: Markdown==3.3.4 in /usr/local/lib/python3.7/dist-packages (from -r requirements.txt (line 184)) (3.3.4)\n",
            "Requirement already satisfied: MarkupSafe==2.0.1 in /usr/local/lib/python3.7/dist-packages (from -r requirements.txt (line 185)) (2.0.1)\n",
            "Requirement already satisfied: matplotlib==3.2.2 in /usr/local/lib/python3.7/dist-packages (from -r requirements.txt (line 186)) (3.2.2)\n",
            "Requirement already satisfied: matplotlib-inline==0.1.2 in /usr/local/lib/python3.7/dist-packages (from -r requirements.txt (line 187)) (0.1.2)\n",
            "Requirement already satisfied: matplotlib-venn==0.11.6 in /usr/local/lib/python3.7/dist-packages (from -r requirements.txt (line 188)) (0.11.6)\n",
            "Requirement already satisfied: missingno==0.4.2 in /usr/local/lib/python3.7/dist-packages (from -r requirements.txt (line 189)) (0.4.2)\n",
            "Requirement already satisfied: mistune==0.8.4 in /usr/local/lib/python3.7/dist-packages (from -r requirements.txt (line 190)) (0.8.4)\n",
            "Requirement already satisfied: mizani==0.6.0 in /usr/local/lib/python3.7/dist-packages (from -r requirements.txt (line 191)) (0.6.0)\n",
            "Requirement already satisfied: mkl==2019.0 in /usr/local/lib/python3.7/dist-packages (from -r requirements.txt (line 192)) (2019.0)\n",
            "Requirement already satisfied: mlxtend==0.14.0 in /usr/local/lib/python3.7/dist-packages (from -r requirements.txt (line 193)) (0.14.0)\n",
            "Requirement already satisfied: more-itertools==8.7.0 in /usr/local/lib/python3.7/dist-packages (from -r requirements.txt (line 194)) (8.7.0)\n",
            "Requirement already satisfied: moviepy==0.2.3.5 in /usr/local/lib/python3.7/dist-packages (from -r requirements.txt (line 195)) (0.2.3.5)\n",
            "Requirement already satisfied: mpmath==1.2.1 in /usr/local/lib/python3.7/dist-packages (from -r requirements.txt (line 196)) (1.2.1)\n",
            "Requirement already satisfied: msgpack==1.0.2 in /usr/local/lib/python3.7/dist-packages (from -r requirements.txt (line 197)) (1.0.2)\n",
            "Requirement already satisfied: multiprocess==0.70.11.1 in /usr/local/lib/python3.7/dist-packages (from -r requirements.txt (line 198)) (0.70.11.1)\n",
            "Requirement already satisfied: multitasking==0.0.9 in /usr/local/lib/python3.7/dist-packages (from -r requirements.txt (line 199)) (0.0.9)\n",
            "Requirement already satisfied: murmurhash==1.0.5 in /usr/local/lib/python3.7/dist-packages (from -r requirements.txt (line 200)) (1.0.5)\n",
            "Requirement already satisfied: music21==5.5.0 in /usr/local/lib/python3.7/dist-packages (from -r requirements.txt (line 201)) (5.5.0)\n",
            "Requirement already satisfied: natsort==5.5.0 in /usr/local/lib/python3.7/dist-packages (from -r requirements.txt (line 202)) (5.5.0)\n",
            "Requirement already satisfied: nbclient==0.5.3 in /usr/local/lib/python3.7/dist-packages (from -r requirements.txt (line 203)) (0.5.3)\n",
            "Requirement already satisfied: nbconvert==5.6.1 in /usr/local/lib/python3.7/dist-packages (from -r requirements.txt (line 204)) (5.6.1)\n",
            "Requirement already satisfied: nbformat==5.1.3 in /usr/local/lib/python3.7/dist-packages (from -r requirements.txt (line 205)) (5.1.3)\n",
            "Requirement already satisfied: nest-asyncio==1.5.1 in /usr/local/lib/python3.7/dist-packages (from -r requirements.txt (line 206)) (1.5.1)\n",
            "Requirement already satisfied: netCDF4==1.5.6 in /usr/local/lib/python3.7/dist-packages (from -r requirements.txt (line 207)) (1.5.6)\n",
            "Requirement already satisfied: networkx==2.5.1 in /usr/local/lib/python3.7/dist-packages (from -r requirements.txt (line 208)) (2.5.1)\n",
            "Requirement already satisfied: nibabel==3.0.2 in /usr/local/lib/python3.7/dist-packages (from -r requirements.txt (line 209)) (3.0.2)\n",
            "Requirement already satisfied: nltk==3.2.5 in /usr/local/lib/python3.7/dist-packages (from -r requirements.txt (line 210)) (3.2.5)\n",
            "Requirement already satisfied: notebook==5.3.1 in /usr/local/lib/python3.7/dist-packages (from -r requirements.txt (line 211)) (5.3.1)\n",
            "Requirement already satisfied: numba==0.51.2 in /usr/local/lib/python3.7/dist-packages (from -r requirements.txt (line 212)) (0.51.2)\n",
            "Requirement already satisfied: numexpr==2.7.3 in /usr/local/lib/python3.7/dist-packages (from -r requirements.txt (line 213)) (2.7.3)\n",
            "Requirement already satisfied: numpy==1.19.5 in /usr/local/lib/python3.7/dist-packages (from -r requirements.txt (line 214)) (1.19.5)\n",
            "Requirement already satisfied: nvidia-ml-py3==7.352.0 in /usr/local/lib/python3.7/dist-packages (from -r requirements.txt (line 215)) (7.352.0)\n",
            "Requirement already satisfied: oauth2client==4.1.3 in /usr/local/lib/python3.7/dist-packages (from -r requirements.txt (line 216)) (4.1.3)\n",
            "Requirement already satisfied: oauthlib==3.1.0 in /usr/local/lib/python3.7/dist-packages (from -r requirements.txt (line 217)) (3.1.0)\n",
            "Requirement already satisfied: okgrade==0.4.3 in /usr/local/lib/python3.7/dist-packages (from -r requirements.txt (line 218)) (0.4.3)\n",
            "Requirement already satisfied: opencv-contrib-python==4.1.2.30 in /usr/local/lib/python3.7/dist-packages (from -r requirements.txt (line 219)) (4.1.2.30)\n",
            "Requirement already satisfied: opencv-python==4.1.2.30 in /usr/local/lib/python3.7/dist-packages (from -r requirements.txt (line 220)) (4.1.2.30)\n",
            "Requirement already satisfied: openpyxl==2.5.9 in /usr/local/lib/python3.7/dist-packages (from -r requirements.txt (line 221)) (2.5.9)\n",
            "Requirement already satisfied: opt-einsum==3.3.0 in /usr/local/lib/python3.7/dist-packages (from -r requirements.txt (line 222)) (3.3.0)\n",
            "Requirement already satisfied: osqp==0.6.2.post0 in /usr/local/lib/python3.7/dist-packages (from -r requirements.txt (line 223)) (0.6.2.post0)\n",
            "Requirement already satisfied: packaging==20.9 in /usr/local/lib/python3.7/dist-packages (from -r requirements.txt (line 224)) (20.9)\n",
            "Requirement already satisfied: palettable==3.3.0 in /usr/local/lib/python3.7/dist-packages (from -r requirements.txt (line 225)) (3.3.0)\n",
            "Requirement already satisfied: pandas==1.1.5 in /usr/local/lib/python3.7/dist-packages (from -r requirements.txt (line 226)) (1.1.5)\n",
            "Requirement already satisfied: pandas-datareader==0.9.0 in /usr/local/lib/python3.7/dist-packages (from -r requirements.txt (line 227)) (0.9.0)\n",
            "Requirement already satisfied: pandas-gbq==0.13.3 in /usr/local/lib/python3.7/dist-packages (from -r requirements.txt (line 228)) (0.13.3)\n",
            "Requirement already satisfied: pandas-profiling==1.4.1 in /usr/local/lib/python3.7/dist-packages (from -r requirements.txt (line 229)) (1.4.1)\n",
            "Requirement already satisfied: pandocfilters==1.4.3 in /usr/local/lib/python3.7/dist-packages (from -r requirements.txt (line 230)) (1.4.3)\n",
            "Requirement already satisfied: panel==0.11.3 in /usr/local/lib/python3.7/dist-packages (from -r requirements.txt (line 231)) (0.11.3)\n",
            "Requirement already satisfied: param==1.10.1 in /usr/local/lib/python3.7/dist-packages (from -r requirements.txt (line 232)) (1.10.1)\n",
            "Requirement already satisfied: parso==0.8.2 in /usr/local/lib/python3.7/dist-packages (from -r requirements.txt (line 233)) (0.8.2)\n",
            "Requirement already satisfied: pathlib==1.0.1 in /usr/local/lib/python3.7/dist-packages (from -r requirements.txt (line 234)) (1.0.1)\n",
            "Requirement already satisfied: patsy==0.5.1 in /usr/local/lib/python3.7/dist-packages (from -r requirements.txt (line 235)) (0.5.1)\n",
            "Requirement already satisfied: pexpect==4.8.0 in /usr/local/lib/python3.7/dist-packages (from -r requirements.txt (line 236)) (4.8.0)\n",
            "Requirement already satisfied: pickleshare==0.7.5 in /usr/local/lib/python3.7/dist-packages (from -r requirements.txt (line 237)) (0.7.5)\n",
            "Requirement already satisfied: Pillow==7.1.2 in /usr/local/lib/python3.7/dist-packages (from -r requirements.txt (line 238)) (7.1.2)\n",
            "Requirement already satisfied: pip-tools==4.5.1 in /usr/local/lib/python3.7/dist-packages (from -r requirements.txt (line 239)) (4.5.1)\n",
            "Requirement already satisfied: plac==1.1.3 in /usr/local/lib/python3.7/dist-packages (from -r requirements.txt (line 240)) (1.1.3)\n",
            "Requirement already satisfied: plotly==4.4.1 in /usr/local/lib/python3.7/dist-packages (from -r requirements.txt (line 241)) (4.4.1)\n",
            "Requirement already satisfied: plotnine==0.6.0 in /usr/local/lib/python3.7/dist-packages (from -r requirements.txt (line 242)) (0.6.0)\n",
            "Requirement already satisfied: pluggy==0.7.1 in /usr/local/lib/python3.7/dist-packages (from -r requirements.txt (line 243)) (0.7.1)\n",
            "Requirement already satisfied: pooch==1.3.0 in /usr/local/lib/python3.7/dist-packages (from -r requirements.txt (line 244)) (1.3.0)\n",
            "Requirement already satisfied: portpicker==1.3.9 in /usr/local/lib/python3.7/dist-packages (from -r requirements.txt (line 245)) (1.3.9)\n",
            "Collecting praw==7.2.0\n",
            "\u001b[?25l  Downloading https://files.pythonhosted.org/packages/48/a8/a2e2d0750ee17c7e3d81e4695a0338ad0b3f231853b8c3fa339ff2d25c7c/praw-7.2.0-py3-none-any.whl (159kB)\n",
            "\u001b[K     |████████████████████████████████| 163kB 13.8MB/s \n",
            "\u001b[?25hCollecting prawcore==2.0.0\n",
            "  Downloading https://files.pythonhosted.org/packages/7d/df/4a9106bea0d26689c4b309da20c926a01440ddaf60c09a5ae22684ebd35f/prawcore-2.0.0-py3-none-any.whl\n",
            "Requirement already satisfied: prefetch-generator==1.0.1 in /usr/local/lib/python3.7/dist-packages (from -r requirements.txt (line 248)) (1.0.1)\n",
            "Requirement already satisfied: preshed==3.0.5 in /usr/local/lib/python3.7/dist-packages (from -r requirements.txt (line 249)) (3.0.5)\n",
            "Requirement already satisfied: prettytable==2.1.0 in /usr/local/lib/python3.7/dist-packages (from -r requirements.txt (line 250)) (2.1.0)\n",
            "Requirement already satisfied: progressbar2==3.38.0 in /usr/local/lib/python3.7/dist-packages (from -r requirements.txt (line 251)) (3.38.0)\n",
            "Requirement already satisfied: prometheus-client==0.10.1 in /usr/local/lib/python3.7/dist-packages (from -r requirements.txt (line 252)) (0.10.1)\n",
            "Requirement already satisfied: promise==2.3 in /usr/local/lib/python3.7/dist-packages (from -r requirements.txt (line 253)) (2.3)\n",
            "Requirement already satisfied: prompt-toolkit==1.0.18 in /usr/local/lib/python3.7/dist-packages (from -r requirements.txt (line 254)) (1.0.18)\n",
            "Requirement already satisfied: protobuf==3.12.4 in /usr/local/lib/python3.7/dist-packages (from -r requirements.txt (line 255)) (3.12.4)\n",
            "Requirement already satisfied: psutil==5.4.8 in /usr/local/lib/python3.7/dist-packages (from -r requirements.txt (line 256)) (5.4.8)\n",
            "Requirement already satisfied: psycopg2==2.7.6.1 in /usr/local/lib/python3.7/dist-packages (from -r requirements.txt (line 257)) (2.7.6.1)\n",
            "Requirement already satisfied: ptyprocess==0.7.0 in /usr/local/lib/python3.7/dist-packages (from -r requirements.txt (line 258)) (0.7.0)\n",
            "Requirement already satisfied: py==1.10.0 in /usr/local/lib/python3.7/dist-packages (from -r requirements.txt (line 259)) (1.10.0)\n",
            "Requirement already satisfied: pyarrow==3.0.0 in /usr/local/lib/python3.7/dist-packages (from -r requirements.txt (line 260)) (3.0.0)\n",
            "Requirement already satisfied: pyasn1==0.4.8 in /usr/local/lib/python3.7/dist-packages (from -r requirements.txt (line 261)) (0.4.8)\n",
            "Requirement already satisfied: pyasn1-modules==0.2.8 in /usr/local/lib/python3.7/dist-packages (from -r requirements.txt (line 262)) (0.2.8)\n",
            "Requirement already satisfied: pycocotools==2.0.2 in /usr/local/lib/python3.7/dist-packages (from -r requirements.txt (line 263)) (2.0.2)\n",
            "Requirement already satisfied: pycparser==2.20 in /usr/local/lib/python3.7/dist-packages (from -r requirements.txt (line 264)) (2.20)\n",
            "Requirement already satisfied: pyct==0.4.8 in /usr/local/lib/python3.7/dist-packages (from -r requirements.txt (line 265)) (0.4.8)\n",
            "Requirement already satisfied: pydata-google-auth==1.2.0 in /usr/local/lib/python3.7/dist-packages (from -r requirements.txt (line 266)) (1.2.0)\n",
            "Requirement already satisfied: pydot==1.3.0 in /usr/local/lib/python3.7/dist-packages (from -r requirements.txt (line 267)) (1.3.0)\n",
            "Requirement already satisfied: pydot-ng==2.0.0 in /usr/local/lib/python3.7/dist-packages (from -r requirements.txt (line 268)) (2.0.0)\n",
            "Requirement already satisfied: pydotplus==2.0.2 in /usr/local/lib/python3.7/dist-packages (from -r requirements.txt (line 269)) (2.0.2)\n",
            "Requirement already satisfied: PyDrive==1.3.1 in /usr/local/lib/python3.7/dist-packages (from -r requirements.txt (line 270)) (1.3.1)\n",
            "Requirement already satisfied: pyemd==0.5.1 in /usr/local/lib/python3.7/dist-packages (from -r requirements.txt (line 271)) (0.5.1)\n",
            "Requirement already satisfied: pyerfa==2.0.0 in /usr/local/lib/python3.7/dist-packages (from -r requirements.txt (line 272)) (2.0.0)\n",
            "Requirement already satisfied: pyglet==1.5.0 in /usr/local/lib/python3.7/dist-packages (from -r requirements.txt (line 273)) (1.5.0)\n",
            "Requirement already satisfied: Pygments==2.6.1 in /usr/local/lib/python3.7/dist-packages (from -r requirements.txt (line 274)) (2.6.1)\n",
            "Requirement already satisfied: pygobject==3.26.1 in /usr/lib/python3/dist-packages (from -r requirements.txt (line 275)) (3.26.1)\n",
            "Requirement already satisfied: pymc3==3.11.2 in /usr/local/lib/python3.7/dist-packages (from -r requirements.txt (line 276)) (3.11.2)\n",
            "Requirement already satisfied: PyMeeus==0.5.11 in /usr/local/lib/python3.7/dist-packages (from -r requirements.txt (line 277)) (0.5.11)\n",
            "Requirement already satisfied: pymongo==3.11.4 in /usr/local/lib/python3.7/dist-packages (from -r requirements.txt (line 278)) (3.11.4)\n",
            "Requirement already satisfied: pymystem3==0.2.0 in /usr/local/lib/python3.7/dist-packages (from -r requirements.txt (line 279)) (0.2.0)\n",
            "Requirement already satisfied: PyOpenGL==3.1.5 in /usr/local/lib/python3.7/dist-packages (from -r requirements.txt (line 280)) (3.1.5)\n",
            "Requirement already satisfied: pyparsing==2.4.7 in /usr/local/lib/python3.7/dist-packages (from -r requirements.txt (line 281)) (2.4.7)\n",
            "Requirement already satisfied: pyrsistent==0.17.3 in /usr/local/lib/python3.7/dist-packages (from -r requirements.txt (line 282)) (0.17.3)\n",
            "Requirement already satisfied: pysndfile==1.3.8 in /usr/local/lib/python3.7/dist-packages (from -r requirements.txt (line 283)) (1.3.8)\n",
            "Requirement already satisfied: PySocks==1.7.1 in /usr/local/lib/python3.7/dist-packages (from -r requirements.txt (line 284)) (1.7.1)\n",
            "Requirement already satisfied: pystan==2.19.1.1 in /usr/local/lib/python3.7/dist-packages (from -r requirements.txt (line 285)) (2.19.1.1)\n",
            "Requirement already satisfied: pytest==3.6.4 in /usr/local/lib/python3.7/dist-packages (from -r requirements.txt (line 286)) (3.6.4)\n",
            "Requirement already satisfied: python-apt==0.0.0 in /usr/local/lib/python3.7/dist-packages (from -r requirements.txt (line 287)) (0.0.0)\n",
            "Requirement already satisfied: python-chess==0.23.11 in /usr/local/lib/python3.7/dist-packages (from -r requirements.txt (line 288)) (0.23.11)\n",
            "Requirement already satisfied: python-dateutil==2.8.1 in /usr/local/lib/python3.7/dist-packages (from -r requirements.txt (line 289)) (2.8.1)\n",
            "Requirement already satisfied: python-louvain==0.15 in /usr/local/lib/python3.7/dist-packages (from -r requirements.txt (line 290)) (0.15)\n",
            "Requirement already satisfied: python-slugify==5.0.2 in /usr/local/lib/python3.7/dist-packages (from -r requirements.txt (line 291)) (5.0.2)\n",
            "Requirement already satisfied: python-utils==2.5.6 in /usr/local/lib/python3.7/dist-packages (from -r requirements.txt (line 292)) (2.5.6)\n",
            "Requirement already satisfied: pytz==2018.9 in /usr/local/lib/python3.7/dist-packages (from -r requirements.txt (line 293)) (2018.9)\n",
            "Requirement already satisfied: pyviz-comms==2.0.1 in /usr/local/lib/python3.7/dist-packages (from -r requirements.txt (line 294)) (2.0.1)\n",
            "Requirement already satisfied: PyWavelets==1.1.1 in /usr/local/lib/python3.7/dist-packages (from -r requirements.txt (line 295)) (1.1.1)\n",
            "Requirement already satisfied: PyYAML==3.13 in /usr/local/lib/python3.7/dist-packages (from -r requirements.txt (line 296)) (3.13)\n",
            "Requirement already satisfied: pyzmq==22.0.3 in /usr/local/lib/python3.7/dist-packages (from -r requirements.txt (line 297)) (22.0.3)\n",
            "Requirement already satisfied: qdldl==0.1.5.post0 in /usr/local/lib/python3.7/dist-packages (from -r requirements.txt (line 298)) (0.1.5.post0)\n",
            "Requirement already satisfied: qtconsole==5.1.0 in /usr/local/lib/python3.7/dist-packages (from -r requirements.txt (line 299)) (5.1.0)\n",
            "Requirement already satisfied: QtPy==1.9.0 in /usr/local/lib/python3.7/dist-packages (from -r requirements.txt (line 300)) (1.9.0)\n",
            "Requirement already satisfied: regex==2019.12.20 in /usr/local/lib/python3.7/dist-packages (from -r requirements.txt (line 301)) (2019.12.20)\n",
            "Requirement already satisfied: requests==2.23.0 in /usr/local/lib/python3.7/dist-packages (from -r requirements.txt (line 302)) (2.23.0)\n",
            "Requirement already satisfied: requests-oauthlib==1.3.0 in /usr/local/lib/python3.7/dist-packages (from -r requirements.txt (line 303)) (1.3.0)\n",
            "Requirement already satisfied: resampy==0.2.2 in /usr/local/lib/python3.7/dist-packages (from -r requirements.txt (line 304)) (0.2.2)\n",
            "Requirement already satisfied: retrying==1.3.3 in /usr/local/lib/python3.7/dist-packages (from -r requirements.txt (line 305)) (1.3.3)\n",
            "Requirement already satisfied: rpy2==3.4.4 in /usr/local/lib/python3.7/dist-packages (from -r requirements.txt (line 306)) (3.4.4)\n",
            "Requirement already satisfied: rsa==4.7.2 in /usr/local/lib/python3.7/dist-packages (from -r requirements.txt (line 307)) (4.7.2)\n",
            "Collecting sacremoses==0.0.45\n",
            "\u001b[?25l  Downloading https://files.pythonhosted.org/packages/75/ee/67241dc87f266093c533a2d4d3d69438e57d7a90abb216fa076e7d475d4a/sacremoses-0.0.45-py3-none-any.whl (895kB)\n",
            "\u001b[K     |████████████████████████████████| 901kB 48.1MB/s \n",
            "\u001b[?25hRequirement already satisfied: scikit-image==0.16.2 in /usr/local/lib/python3.7/dist-packages (from -r requirements.txt (line 309)) (0.16.2)\n",
            "Requirement already satisfied: scikit-learn==0.22.2.post1 in /usr/local/lib/python3.7/dist-packages (from -r requirements.txt (line 310)) (0.22.2.post1)\n",
            "Requirement already satisfied: scipy==1.4.1 in /usr/local/lib/python3.7/dist-packages (from -r requirements.txt (line 311)) (1.4.1)\n",
            "Requirement already satisfied: screen-resolution-extra==0.0.0 in /usr/lib/python3/dist-packages (from -r requirements.txt (line 312)) (0.0.0)\n",
            "Requirement already satisfied: scs==2.1.3 in /usr/local/lib/python3.7/dist-packages (from -r requirements.txt (line 313)) (2.1.3)\n",
            "Requirement already satisfied: seaborn==0.11.1 in /usr/local/lib/python3.7/dist-packages (from -r requirements.txt (line 314)) (0.11.1)\n",
            "Requirement already satisfied: semver==2.13.0 in /usr/local/lib/python3.7/dist-packages (from -r requirements.txt (line 315)) (2.13.0)\n",
            "Requirement already satisfied: Send2Trash==1.5.0 in /usr/local/lib/python3.7/dist-packages (from -r requirements.txt (line 316)) (1.5.0)\n",
            "Requirement already satisfied: setuptools-git==1.2 in /usr/local/lib/python3.7/dist-packages (from -r requirements.txt (line 317)) (1.2)\n",
            "Requirement already satisfied: Shapely==1.7.1 in /usr/local/lib/python3.7/dist-packages (from -r requirements.txt (line 318)) (1.7.1)\n",
            "Requirement already satisfied: simplegeneric==0.8.1 in /usr/local/lib/python3.7/dist-packages (from -r requirements.txt (line 319)) (0.8.1)\n",
            "Requirement already satisfied: six==1.15.0 in /usr/local/lib/python3.7/dist-packages (from -r requirements.txt (line 320)) (1.15.0)\n",
            "Requirement already satisfied: sklearn==0.0 in /usr/local/lib/python3.7/dist-packages (from -r requirements.txt (line 321)) (0.0)\n",
            "Requirement already satisfied: sklearn-pandas==1.8.0 in /usr/local/lib/python3.7/dist-packages (from -r requirements.txt (line 322)) (1.8.0)\n",
            "Requirement already satisfied: smart-open==5.0.0 in /usr/local/lib/python3.7/dist-packages (from -r requirements.txt (line 323)) (5.0.0)\n",
            "Requirement already satisfied: snowballstemmer==2.1.0 in /usr/local/lib/python3.7/dist-packages (from -r requirements.txt (line 324)) (2.1.0)\n",
            "Requirement already satisfied: sortedcontainers==2.4.0 in /usr/local/lib/python3.7/dist-packages (from -r requirements.txt (line 325)) (2.4.0)\n",
            "Requirement already satisfied: SoundFile==0.10.3.post1 in /usr/local/lib/python3.7/dist-packages (from -r requirements.txt (line 326)) (0.10.3.post1)\n",
            "Requirement already satisfied: spacy==2.2.4 in /usr/local/lib/python3.7/dist-packages (from -r requirements.txt (line 327)) (2.2.4)\n",
            "Requirement already satisfied: Sphinx==1.8.5 in /usr/local/lib/python3.7/dist-packages (from -r requirements.txt (line 328)) (1.8.5)\n",
            "Requirement already satisfied: sphinxcontrib-serializinghtml==1.1.4 in /usr/local/lib/python3.7/dist-packages (from -r requirements.txt (line 329)) (1.1.4)\n",
            "Requirement already satisfied: sphinxcontrib-websupport==1.2.4 in /usr/local/lib/python3.7/dist-packages (from -r requirements.txt (line 330)) (1.2.4)\n",
            "Requirement already satisfied: SQLAlchemy==1.4.15 in /usr/local/lib/python3.7/dist-packages (from -r requirements.txt (line 331)) (1.4.15)\n",
            "Requirement already satisfied: sqlparse==0.4.1 in /usr/local/lib/python3.7/dist-packages (from -r requirements.txt (line 332)) (0.4.1)\n",
            "Requirement already satisfied: srsly==1.0.5 in /usr/local/lib/python3.7/dist-packages (from -r requirements.txt (line 333)) (1.0.5)\n",
            "Requirement already satisfied: statsmodels==0.10.2 in /usr/local/lib/python3.7/dist-packages (from -r requirements.txt (line 334)) (0.10.2)\n",
            "Requirement already satisfied: sympy==1.7.1 in /usr/local/lib/python3.7/dist-packages (from -r requirements.txt (line 335)) (1.7.1)\n",
            "Requirement already satisfied: tables==3.4.4 in /usr/local/lib/python3.7/dist-packages (from -r requirements.txt (line 336)) (3.4.4)\n",
            "Requirement already satisfied: tabulate==0.8.9 in /usr/local/lib/python3.7/dist-packages (from -r requirements.txt (line 337)) (0.8.9)\n",
            "Requirement already satisfied: tblib==1.7.0 in /usr/local/lib/python3.7/dist-packages (from -r requirements.txt (line 338)) (1.7.0)\n",
            "Requirement already satisfied: tensorboard==2.5.0 in /usr/local/lib/python3.7/dist-packages (from -r requirements.txt (line 339)) (2.5.0)\n",
            "Requirement already satisfied: tensorboard-data-server==0.6.1 in /usr/local/lib/python3.7/dist-packages (from -r requirements.txt (line 340)) (0.6.1)\n",
            "Requirement already satisfied: tensorboard-plugin-wit==1.8.0 in /usr/local/lib/python3.7/dist-packages (from -r requirements.txt (line 341)) (1.8.0)\n",
            "Requirement already satisfied: tensorflow==2.5.0 in /usr/local/lib/python3.7/dist-packages (from -r requirements.txt (line 342)) (2.5.0)\n",
            "Requirement already satisfied: tensorflow-datasets==4.0.1 in /usr/local/lib/python3.7/dist-packages (from -r requirements.txt (line 343)) (4.0.1)\n",
            "Requirement already satisfied: tensorflow-estimator==2.5.0 in /usr/local/lib/python3.7/dist-packages (from -r requirements.txt (line 344)) (2.5.0)\n",
            "Requirement already satisfied: tensorflow-gcs-config==2.5.0 in /usr/local/lib/python3.7/dist-packages (from -r requirements.txt (line 345)) (2.5.0)\n",
            "Requirement already satisfied: tensorflow-hub==0.12.0 in /usr/local/lib/python3.7/dist-packages (from -r requirements.txt (line 346)) (0.12.0)\n",
            "Requirement already satisfied: tensorflow-metadata==1.0.0 in /usr/local/lib/python3.7/dist-packages (from -r requirements.txt (line 347)) (1.0.0)\n",
            "Requirement already satisfied: tensorflow-probability==0.12.1 in /usr/local/lib/python3.7/dist-packages (from -r requirements.txt (line 348)) (0.12.1)\n",
            "Requirement already satisfied: termcolor==1.1.0 in /usr/local/lib/python3.7/dist-packages (from -r requirements.txt (line 349)) (1.1.0)\n",
            "Requirement already satisfied: terminado==0.10.0 in /usr/local/lib/python3.7/dist-packages (from -r requirements.txt (line 350)) (0.10.0)\n",
            "Requirement already satisfied: testpath==0.5.0 in /usr/local/lib/python3.7/dist-packages (from -r requirements.txt (line 351)) (0.5.0)\n",
            "Requirement already satisfied: text-unidecode==1.3 in /usr/local/lib/python3.7/dist-packages (from -r requirements.txt (line 352)) (1.3)\n",
            "Requirement already satisfied: textblob==0.15.3 in /usr/local/lib/python3.7/dist-packages (from -r requirements.txt (line 353)) (0.15.3)\n",
            "Requirement already satisfied: Theano-PyMC==1.1.2 in /usr/local/lib/python3.7/dist-packages (from -r requirements.txt (line 354)) (1.1.2)\n",
            "Requirement already satisfied: thinc==7.4.0 in /usr/local/lib/python3.7/dist-packages (from -r requirements.txt (line 355)) (7.4.0)\n",
            "Requirement already satisfied: tifffile==2021.4.8 in /usr/local/lib/python3.7/dist-packages (from -r requirements.txt (line 356)) (2021.4.8)\n",
            "Collecting tokenizers==0.10.3\n",
            "\u001b[?25l  Downloading https://files.pythonhosted.org/packages/d4/e2/df3543e8ffdab68f5acc73f613de9c2b155ac47f162e725dcac87c521c11/tokenizers-0.10.3-cp37-cp37m-manylinux_2_5_x86_64.manylinux1_x86_64.manylinux_2_12_x86_64.manylinux2010_x86_64.whl (3.3MB)\n",
            "\u001b[K     |████████████████████████████████| 3.3MB 40.1MB/s \n",
            "\u001b[?25hRequirement already satisfied: toml==0.10.2 in /usr/local/lib/python3.7/dist-packages (from -r requirements.txt (line 358)) (0.10.2)\n",
            "Requirement already satisfied: toolz==0.11.1 in /usr/local/lib/python3.7/dist-packages (from -r requirements.txt (line 359)) (0.11.1)\n",
            "Requirement already satisfied: torch==1.8.1+cu101 in /usr/local/lib/python3.7/dist-packages (from -r requirements.txt (line 360)) (1.8.1+cu101)\n",
            "Requirement already satisfied: torchsummary==1.5.1 in /usr/local/lib/python3.7/dist-packages (from -r requirements.txt (line 361)) (1.5.1)\n",
            "Requirement already satisfied: torchtext==0.9.1 in /usr/local/lib/python3.7/dist-packages (from -r requirements.txt (line 362)) (0.9.1)\n",
            "Requirement already satisfied: torchvision==0.9.1+cu101 in /usr/local/lib/python3.7/dist-packages (from -r requirements.txt (line 363)) (0.9.1+cu101)\n",
            "Requirement already satisfied: tornado==5.1.1 in /usr/local/lib/python3.7/dist-packages (from -r requirements.txt (line 364)) (5.1.1)\n",
            "Requirement already satisfied: tqdm==4.41.1 in /usr/local/lib/python3.7/dist-packages (from -r requirements.txt (line 365)) (4.41.1)\n",
            "Requirement already satisfied: traitlets==5.0.5 in /usr/local/lib/python3.7/dist-packages (from -r requirements.txt (line 366)) (5.0.5)\n",
            "Collecting transformers==4.6.1\n",
            "\u001b[?25l  Downloading https://files.pythonhosted.org/packages/d5/43/cfe4ee779bbd6a678ac6a97c5a5cdeb03c35f9eaebbb9720b036680f9a2d/transformers-4.6.1-py3-none-any.whl (2.2MB)\n",
            "\u001b[K     |████████████████████████████████| 2.3MB 27.5MB/s \n",
            "\u001b[?25hRequirement already satisfied: tweepy==3.10.0 in /usr/local/lib/python3.7/dist-packages (from -r requirements.txt (line 368)) (3.10.0)\n",
            "Requirement already satisfied: typeguard==2.7.1 in /usr/local/lib/python3.7/dist-packages (from -r requirements.txt (line 369)) (2.7.1)\n",
            "Requirement already satisfied: typing-extensions==3.7.4.3 in /usr/local/lib/python3.7/dist-packages (from -r requirements.txt (line 370)) (3.7.4.3)\n",
            "Requirement already satisfied: tzlocal==1.5.1 in /usr/local/lib/python3.7/dist-packages (from -r requirements.txt (line 371)) (1.5.1)\n",
            "Collecting update-checker==0.18.0\n",
            "  Downloading https://files.pythonhosted.org/packages/0c/ba/8dd7fa5f0b1c6a8ac62f8f57f7e794160c1f86f31c6d0fb00f582372a3e4/update_checker-0.18.0-py3-none-any.whl\n",
            "Requirement already satisfied: uritemplate==3.0.1 in /usr/local/lib/python3.7/dist-packages (from -r requirements.txt (line 373)) (3.0.1)\n",
            "Requirement already satisfied: urllib3==1.24.3 in /usr/local/lib/python3.7/dist-packages (from -r requirements.txt (line 374)) (1.24.3)\n",
            "Requirement already satisfied: vega-datasets==0.9.0 in /usr/local/lib/python3.7/dist-packages (from -r requirements.txt (line 375)) (0.9.0)\n",
            "Requirement already satisfied: wasabi==0.8.2 in /usr/local/lib/python3.7/dist-packages (from -r requirements.txt (line 376)) (0.8.2)\n",
            "Requirement already satisfied: wcwidth==0.2.5 in /usr/local/lib/python3.7/dist-packages (from -r requirements.txt (line 377)) (0.2.5)\n",
            "Requirement already satisfied: webencodings==0.5.1 in /usr/local/lib/python3.7/dist-packages (from -r requirements.txt (line 378)) (0.5.1)\n",
            "Collecting websocket-client==1.0.1\n",
            "\u001b[?25l  Downloading https://files.pythonhosted.org/packages/85/ee/7aa724dc2dbed9b028f463eada5482770c13b7381a0c79457d12b3b62de2/websocket_client-1.0.1-py2.py3-none-any.whl (68kB)\n",
            "\u001b[K     |████████████████████████████████| 71kB 10.7MB/s \n",
            "\u001b[?25hRequirement already satisfied: Werkzeug==1.0.1 in /usr/local/lib/python3.7/dist-packages (from -r requirements.txt (line 380)) (1.0.1)\n",
            "Requirement already satisfied: widgetsnbextension==3.5.1 in /usr/local/lib/python3.7/dist-packages (from -r requirements.txt (line 381)) (3.5.1)\n",
            "Requirement already satisfied: wordcloud==1.5.0 in /usr/local/lib/python3.7/dist-packages (from -r requirements.txt (line 382)) (1.5.0)\n",
            "Requirement already satisfied: wrapt==1.12.1 in /usr/local/lib/python3.7/dist-packages (from -r requirements.txt (line 383)) (1.12.1)\n",
            "Requirement already satisfied: xarray==0.18.2 in /usr/local/lib/python3.7/dist-packages (from -r requirements.txt (line 384)) (0.18.2)\n",
            "Requirement already satisfied: xgboost==0.90 in /usr/local/lib/python3.7/dist-packages (from -r requirements.txt (line 385)) (0.90)\n",
            "Requirement already satisfied: xkit==0.0.0 in /usr/lib/python3/dist-packages (from -r requirements.txt (line 386)) (0.0.0)\n",
            "Requirement already satisfied: xlrd==1.1.0 in /usr/local/lib/python3.7/dist-packages (from -r requirements.txt (line 387)) (1.1.0)\n",
            "Requirement already satisfied: xlwt==1.3.0 in /usr/local/lib/python3.7/dist-packages (from -r requirements.txt (line 388)) (1.3.0)\n",
            "Requirement already satisfied: yellowbrick==0.9.1 in /usr/local/lib/python3.7/dist-packages (from -r requirements.txt (line 389)) (0.9.1)\n",
            "Requirement already satisfied: zict==2.0.0 in /usr/local/lib/python3.7/dist-packages (from -r requirements.txt (line 390)) (2.0.0)\n",
            "Requirement already satisfied: zipp==3.4.1 in /usr/local/lib/python3.7/dist-packages (from -r requirements.txt (line 391)) (3.4.1)\n",
            "Requirement already satisfied: setuptools>=38.4 in /usr/local/lib/python3.7/dist-packages (from arviz==0.11.2->-r requirements.txt (line 7)) (56.1.0)\n",
            "Requirement already satisfied: wheel<1.0,>=0.23.0 in /usr/local/lib/python3.7/dist-packages (from astunparse==1.6.3->-r requirements.txt (line 10)) (0.36.2)\n",
            "Installing collected packages: huggingface-hub, prawcore, update-checker, websocket-client, praw, sacremoses, tokenizers, transformers\n",
            "Successfully installed huggingface-hub-0.0.8 praw-7.2.0 prawcore-2.0.0 sacremoses-0.0.45 tokenizers-0.10.3 transformers-4.6.1 update-checker-0.18.0 websocket-client-1.0.1\n"
          ],
          "name": "stdout"
        }
      ]
    },
    {
      "cell_type": "markdown",
      "metadata": {
        "id": "SpnHgutIJZTU"
      },
      "source": [
        "Se importan los módulos que se estarán usando:"
      ]
    },
    {
      "cell_type": "code",
      "metadata": {
        "colab": {
          "base_uri": "https://localhost:8080/"
        },
        "id": "9_Bkf3bUVMlr",
        "outputId": "43f2de33-67d4-409b-877d-b618718e397c"
      },
      "source": [
        "import pandas as pd\n",
        "import numpy as np\n",
        "import random\n",
        "import chardet\n",
        "import re\n",
        "%matplotlib inline\n",
        "import matplotlib.pyplot as plt\n",
        "import seaborn as sn\n",
        "\n",
        "# Modulo de SkLearn para hacer shuffling\n",
        "from sklearn.utils import shuffle\n",
        "from sklearn.metrics import confusion_matrix\n",
        "\n",
        "# Módulo para API de Reddit\n",
        "import praw\n",
        "from praw.models import MoreComments\n",
        "\n",
        "# Módulos de Tensorflow\n",
        "import tensorflow as tf\n",
        "import tensorflow_hub as hub\n",
        "\n",
        "# Módulos de HuggingFace Transformers\n",
        "from transformers import TFAutoModel, AutoTokenizer\n",
        "\n",
        "# Módulos de NLTK\n",
        "import nltk\n",
        "from nltk.corpus import words, stopwords\n",
        "from nltk.tokenize import word_tokenize\n",
        "from nltk.stem import WordNetLemmatizer\n",
        "\n",
        "# Descargar paquetes necesarios por si acaso\n",
        "nltk.download('words')\n",
        "nltk.download('stopwords')\n",
        "nltk.download('punkt')\n",
        "nltk.download('wordnet')\n",
        "nltk.download('averaged_perceptron_tagger')"
      ],
      "execution_count": null,
      "outputs": [
        {
          "output_type": "stream",
          "text": [
            "[nltk_data] Downloading package words to /root/nltk_data...\n",
            "[nltk_data]   Unzipping corpora/words.zip.\n",
            "[nltk_data] Downloading package stopwords to /root/nltk_data...\n",
            "[nltk_data]   Unzipping corpora/stopwords.zip.\n",
            "[nltk_data] Downloading package punkt to /root/nltk_data...\n",
            "[nltk_data]   Unzipping tokenizers/punkt.zip.\n",
            "[nltk_data] Downloading package wordnet to /root/nltk_data...\n",
            "[nltk_data]   Unzipping corpora/wordnet.zip.\n",
            "[nltk_data] Downloading package averaged_perceptron_tagger to\n",
            "[nltk_data]     /root/nltk_data...\n",
            "[nltk_data]   Unzipping taggers/averaged_perceptron_tagger.zip.\n"
          ],
          "name": "stdout"
        },
        {
          "output_type": "execute_result",
          "data": {
            "text/plain": [
              "True"
            ]
          },
          "metadata": {
            "tags": []
          },
          "execution_count": 2
        }
      ]
    },
    {
      "cell_type": "markdown",
      "metadata": {
        "id": "k9fDeinEF7fu"
      },
      "source": [
        "# 1. Creacion del Dataset\n",
        "Algo a lo que se le dio mucha importancia a lo largo de este proyecto fue el set de datos que se estaría alimentando a los modelos, incluso se piensa que un modelo es tan bueno como el set de datos con el que se entrena y evalúa.\n",
        "\n",
        "Para este proyecto, el set de datos se contruyó a partir de dos pasos: primero tomar datos a partir de una base de datos ya establecida; segundo, complementar esa base de datos con textos recolectados de manera propia. A continuación se explica con mayor detalle lo que se hizo en cada uno de estos pasos. Posteriormente, se explicarán algunas limitaciones y áreas de oportunidad que se encontraron en el set de entrenamiento."
      ]
    },
    {
      "cell_type": "markdown",
      "metadata": {
        "id": "2-DHeBOULWKm"
      },
      "source": [
        "## 1.1 Textos de una base de datos\n",
        "La base de datos que se utilizó se encuentra en: https://www.kaggle.com/nikhileswarkomati/suicide-watch. Consiste de textos provenientes de Reddit, particularmente de 3 subreddits en específico: r/depression, r/SuicideWatch y r/Teenagers.\n",
        "\n",
        "El autor de la base de datos aclara que los textos que recolectó van desde alrededor de enero 2009 (muy cerca de la fecha de creación de estos subreddits) hasta enero 2021. Se piensa que el rango de fechas es bastante amplio, por lo que una ventaja que tiene esta base de datos es que contiene textos y opiniones de usuarios provenientes de años relativamente diferentes, por lo que permite dar una perspectiva muy grande de los posts que hacían los usuarios a través de muchos años diferentes. Esa fue la principal razón por la que se escogió incorporar esta base de datos en el proyecto.\n",
        "\n",
        "<hr>\n",
        "\n",
        "## Nota importante\n",
        "El CSV de esta base de datos no se incluye en el repositorio de este proyecto, debido a que ya está disponible para su descarga directa en la liga que se proporciona.\n",
        "\n",
        "<hr>\n"
      ]
    },
    {
      "cell_type": "markdown",
      "metadata": {
        "id": "aDAUsqEjNW7P"
      },
      "source": [
        "Para traer los textos, primero se leen del CSV que proporciona el autor de la base de datos."
      ]
    },
    {
      "cell_type": "code",
      "metadata": {
        "id": "x6fRGpcfNb1v"
      },
      "source": [
        "pd.options.display.max_colwidth = 250"
      ],
      "execution_count": null,
      "outputs": []
    },
    {
      "cell_type": "code",
      "metadata": {
        "id": "KnqLX1DnaAiu"
      },
      "source": [
        "data = pd.read_csv('Suicide_Detection.csv', encoding='ISO-8859-1')"
      ],
      "execution_count": null,
      "outputs": []
    },
    {
      "cell_type": "markdown",
      "metadata": {
        "id": "V-AxUTAWNpet"
      },
      "source": [
        "Como se mencionó antes, los textos provienen de 3 subreddits distintos, sin embargo, aquí se enfocó en textos de dos lugares en particular: **depression** y **SuicideWatch**. La razón por la que no se incluyeron los textos de Teenagers es que son textos mucho más volátiles en cuanto a su tono e intención. Así como puede haber publicaciones de usuarios con depresión, puede haber muchas otras publicaciones donde el usuario quiera expresar algo más."
      ]
    },
    {
      "cell_type": "markdown",
      "metadata": {
        "id": "Ng4wbCWjPNjf"
      },
      "source": [
        "Como se puede ver en la siguiente celda, se tomaron 30,000 textos de r/depression y 20,000 textos de r/SuicideWatch. A todos estos textos se les está asignando una label de **1**, es decir, que todos estos textos se están catalogando como que provienen de usuarios con depresión. La razón principal de esto es que se estuvieron monitoreando publicaciones en estos dos subreddits y se llegó a la conclusión de que **la mayoría de estos textos sí corresponden a un tono depresivo**, que al final del día es lo que se necesita que el modelo pueda detectar. Estos 50,000 textos corresponden a la parte catalogada como **depresiva** del set de datos."
      ]
    },
    {
      "cell_type": "code",
      "metadata": {
        "colab": {
          "base_uri": "https://localhost:8080/"
        },
        "id": "jD1gVwi3c206",
        "outputId": "a09ff5e4-ef02-4257-e3bc-73043de51ef1"
      },
      "source": [
        "d = data[data[\"class\"] == \"depression\"][\"text\"].sample(30000)\n",
        "s = data[data[\"class\"] == \"SuicideWatch\"][\"text\"].sample(20000)\n",
        "\n",
        "labels_d = [1 for x in range(len(d))]\n",
        "labels_s = [1 for x in range(len(s))]\n",
        "\n",
        "depr = pd.DataFrame(zip(d, labels_d), columns=[\"Text\", \"Label\"])\n",
        "suic = pd.DataFrame(zip(s, labels_s), columns=[\"Text\", \"Label\"])\n",
        "\n",
        "depression = pd.concat([depr, suic], ignore_index=True)\n",
        "\n",
        "print(depression.shape)"
      ],
      "execution_count": null,
      "outputs": [
        {
          "output_type": "stream",
          "text": [
            "(50000, 2)\n"
          ],
          "name": "stdout"
        }
      ]
    },
    {
      "cell_type": "markdown",
      "metadata": {
        "id": "6sGg-KLmQP5r"
      },
      "source": [
        "A continuación se muestran algunos de los textos seleccionados, donde de hecho se nota que la mayoría de estos sí tienen un tono depresivo."
      ]
    },
    {
      "cell_type": "code",
      "metadata": {
        "colab": {
          "base_uri": "https://localhost:8080/",
          "height": 891
        },
        "id": "irT0zuHVdLqM",
        "outputId": "168d7843-a627-4ecb-94f7-9fe89e39e785"
      },
      "source": [
        "random.seed(12345)\n",
        "indexes = np.random.randint(1, len(depression), 20).tolist()\n",
        "depression.iloc[indexes]"
      ],
      "execution_count": null,
      "outputs": [
        {
          "output_type": "execute_result",
          "data": {
            "text/html": [
              "<div>\n",
              "<style scoped>\n",
              "    .dataframe tbody tr th:only-of-type {\n",
              "        vertical-align: middle;\n",
              "    }\n",
              "\n",
              "    .dataframe tbody tr th {\n",
              "        vertical-align: top;\n",
              "    }\n",
              "\n",
              "    .dataframe thead th {\n",
              "        text-align: right;\n",
              "    }\n",
              "</style>\n",
              "<table border=\"1\" class=\"dataframe\">\n",
              "  <thead>\n",
              "    <tr style=\"text-align: right;\">\n",
              "      <th></th>\n",
              "      <th>Text</th>\n",
              "      <th>Label</th>\n",
              "    </tr>\n",
              "  </thead>\n",
              "  <tbody>\n",
              "    <tr>\n",
              "      <th>31568</th>\n",
              "      <td>My son's girlfriend committed suicide, and now his no longer himself.A bit about my son- Before he starting dating his now deceased girlfriend, he was extremely depressed. He broke up with his girlfriend who was his best friend before. That absol...</td>\n",
              "      <td>1</td>\n",
              "    </tr>\n",
              "    <tr>\n",
              "      <th>37306</th>\n",
              "      <td>I tried writing a poem...Void\\n\\nI feel emptiness inside me\\n\\nSuffering endlessly\\n\\nSomeone, anyone,\\n\\nCan you save me?\\n\\nWhy am I cast among the filth?\\n\\nThe degenerates, the maggots?\\n\\nI am better than they\\n\\nMade of sterner stuff (or so...</td>\n",
              "      <td>1</td>\n",
              "    </tr>\n",
              "    <tr>\n",
              "      <th>2376</th>\n",
              "      <td>Why is drinking the only thing that helps ?I'm not even 20 and most days wanna get pissed at about midday. What's wrong with me ?</td>\n",
              "      <td>1</td>\n",
              "    </tr>\n",
              "    <tr>\n",
              "      <th>8410</th>\n",
              "      <td>I hate everything about myself.I've been morbidly depressed for about five or six years now, and it seems to get worse with each passing year. When it started out, I'd just feel kinda shitty and I wouldn't talk to my friends that much. Now I've f...</td>\n",
              "      <td>1</td>\n",
              "    </tr>\n",
              "    <tr>\n",
              "      <th>40039</th>\n",
              "      <td>Well here it is.As you're reading this I'm most likely dead. Tonight I've decided to end it because I just can't anymore. 15 years of pure torture from day 1. Can't wait to meet the afterlife because it's such a freedom. I hope everyone reading t...</td>\n",
              "      <td>1</td>\n",
              "    </tr>\n",
              "    <tr>\n",
              "      <th>40396</th>\n",
              "      <td>Things donât seem to get betterIdk what my life is gonna be in my future. Things only seem to get worse over time :/ . My problems arenât normal people problems. I just feel alone</td>\n",
              "      <td>1</td>\n",
              "    </tr>\n",
              "    <tr>\n",
              "      <th>25789</th>\n",
              "      <td>I am relapsing. :(I sought help back in June. And I had people talk to me. I met my counselor yesterday and actually she is an \"addictions counselor\" and originally my main counselor suggested her to me so I can stop smoking, \\n\\nI was so happy t...</td>\n",
              "      <td>1</td>\n",
              "    </tr>\n",
              "    <tr>\n",
              "      <th>35908</th>\n",
              "      <td>i have enough hydroxyzine tablets to kill myselfand i am really tired</td>\n",
              "      <td>1</td>\n",
              "    </tr>\n",
              "    <tr>\n",
              "      <th>17525</th>\n",
              "      <td>Images of Killing MyselfSince proabably about junior high (I'm now 21 years old), I've been having random images come into my head of me killing myself. It'll be multiple times per day, if not almost hourly. For a few seconds I just get images of...</td>\n",
              "      <td>1</td>\n",
              "    </tr>\n",
              "    <tr>\n",
              "      <th>28473</th>\n",
              "      <td>AloneI guess now that I have accepted that I'm going to die alone, never feel someone's love, I hope things will get easier</td>\n",
              "      <td>1</td>\n",
              "    </tr>\n",
              "    <tr>\n",
              "      <th>30402</th>\n",
              "      <td>I wish my shitty life ends tonight.I don't want to wake up tomorrow. I am doing something for that now. Wish me luck.</td>\n",
              "      <td>1</td>\n",
              "    </tr>\n",
              "    <tr>\n",
              "      <th>23592</th>\n",
              "      <td>Dad died ðanonymous - You really know what I be feeling I been feeling like this I'm trapped in a 10 foot hole that I can't get out of how many times I try to get out off it's so hard I failed high school twice I have no friends because my soc...</td>\n",
              "      <td>1</td>\n",
              "    </tr>\n",
              "    <tr>\n",
              "      <th>15885</th>\n",
              "      <td>Season 2 of Stranger Things, hitting a little too close to home.Will's POV throughout this season has been playing as a perfect analogy for my depressive state. I suffer with these bouts of \"lowness\" a couple times a month. Today I feel extra ter...</td>\n",
              "      <td>1</td>\n",
              "    </tr>\n",
              "    <tr>\n",
              "      <th>22403</th>\n",
              "      <td>parents dont believe in depressionIm just posting here out of frustration since Im not even sure if this counts or not as narcissism from my parents, but Ive been really depressed and suicidal, and there was ONE adult in my life who kept pleading...</td>\n",
              "      <td>1</td>\n",
              "    </tr>\n",
              "    <tr>\n",
              "      <th>46010</th>\n",
              "      <td>I wish I could tell them everything.I promise, there's nothing you could have done. I'm so sorry for what I'm about to put you through. Even when people say they want me to stay I just can't feel it anymore. No matter how desperately I want to fe...</td>\n",
              "      <td>1</td>\n",
              "    </tr>\n",
              "    <tr>\n",
              "      <th>3585</th>\n",
              "      <td>Please man....Hello,man where to start... Im a 19 year old guy that is about to start his 3rd semester of basics at a community college. Ever since ive beem feeling extremely depressed, anxious, and worthless. You see, college made me realise tha...</td>\n",
              "      <td>1</td>\n",
              "    </tr>\n",
              "    <tr>\n",
              "      <th>7108</th>\n",
              "      <td>I'm so aloneI feel like I'm not even present in the world anymore. Everyone I try to open up to about my depression gets scared of me and stops talking to me. What the hell is wrong with me!? With my anxiety, it takes so much effort just to talk ...</td>\n",
              "      <td>1</td>\n",
              "    </tr>\n",
              "    <tr>\n",
              "      <th>7589</th>\n",
              "      <td>i tried slitting my wrists last nightbut i guess im too much of a fuckup to even do that right cause i could only do my left arm and i coulnt even cut the arteries. i only bled maybe 1 or 2 oz and i just sat around listening to simon and garfunke...</td>\n",
              "      <td>1</td>\n",
              "    </tr>\n",
              "    <tr>\n",
              "      <th>2939</th>\n",
              "      <td>Dying is the only answer.Im tired of fighting.\\n</td>\n",
              "      <td>1</td>\n",
              "    </tr>\n",
              "    <tr>\n",
              "      <th>3131</th>\n",
              "      <td>Suicide or Settle For Less?I want to change the world. I want to leave some sort of positive lasting mark on this planet to at least prove that I was here for a while. However, I am not a skilled person, not intelligent or dedicated enough to mak...</td>\n",
              "      <td>1</td>\n",
              "    </tr>\n",
              "  </tbody>\n",
              "</table>\n",
              "</div>"
            ],
            "text/plain": [
              "                                                                                                                                                                                                                                                            Text  Label\n",
              "31568  My son's girlfriend committed suicide, and now his no longer himself.A bit about my son- Before he starting dating his now deceased girlfriend, he was extremely depressed. He broke up with his girlfriend who was his best friend before. That absol...      1\n",
              "37306  I tried writing a poem...Void\\n\\nI feel emptiness inside me\\n\\nSuffering endlessly\\n\\nSomeone, anyone,\\n\\nCan you save me?\\n\\nWhy am I cast among the filth?\\n\\nThe degenerates, the maggots?\\n\\nI am better than they\\n\\nMade of sterner stuff (or so...      1\n",
              "2376                                                                                                                           Why is drinking the only thing that helps ?I'm not even 20 and most days wanna get pissed at about midday. What's wrong with me ?      1\n",
              "8410   I hate everything about myself.I've been morbidly depressed for about five or six years now, and it seems to get worse with each passing year. When it started out, I'd just feel kinda shitty and I wouldn't talk to my friends that much. Now I've f...      1\n",
              "40039  Well here it is.As you're reading this I'm most likely dead. Tonight I've decided to end it because I just can't anymore. 15 years of pure torture from day 1. Can't wait to meet the afterlife because it's such a freedom. I hope everyone reading t...      1\n",
              "40396                                                                    Things donât seem to get betterIdk what my life is gonna be in my future. Things only seem to get worse over time :/ . My problems arenât normal people problems. I just feel alone      1\n",
              "25789  I am relapsing. :(I sought help back in June. And I had people talk to me. I met my counselor yesterday and actually she is an \"addictions counselor\" and originally my main counselor suggested her to me so I can stop smoking, \\n\\nI was so happy t...      1\n",
              "35908                                                                                                                                                                                     i have enough hydroxyzine tablets to kill myselfand i am really tired       1\n",
              "17525  Images of Killing MyselfSince proabably about junior high (I'm now 21 years old), I've been having random images come into my head of me killing myself. It'll be multiple times per day, if not almost hourly. For a few seconds I just get images of...      1\n",
              "28473                                                                                                                               AloneI guess now that I have accepted that I'm going to die alone, never feel someone's love, I hope things will get easier       1\n",
              "30402                                                                                                                                      I wish my shitty life ends tonight.I don't want to wake up tomorrow. I am doing something for that now. Wish me luck.      1\n",
              "23592  Dad died ðanonymous - You really know what I be feeling I been feeling like this I'm trapped in a 10 foot hole that I can't get out of how many times I try to get out off it's so hard I failed high school twice I have no friends because my soc...      1\n",
              "15885  Season 2 of Stranger Things, hitting a little too close to home.Will's POV throughout this season has been playing as a perfect analogy for my depressive state. I suffer with these bouts of \"lowness\" a couple times a month. Today I feel extra ter...      1\n",
              "22403  parents dont believe in depressionIm just posting here out of frustration since Im not even sure if this counts or not as narcissism from my parents, but Ive been really depressed and suicidal, and there was ONE adult in my life who kept pleading...      1\n",
              "46010  I wish I could tell them everything.I promise, there's nothing you could have done. I'm so sorry for what I'm about to put you through. Even when people say they want me to stay I just can't feel it anymore. No matter how desperately I want to fe...      1\n",
              "3585   Please man....Hello,man where to start... Im a 19 year old guy that is about to start his 3rd semester of basics at a community college. Ever since ive beem feeling extremely depressed, anxious, and worthless. You see, college made me realise tha...      1\n",
              "7108   I'm so aloneI feel like I'm not even present in the world anymore. Everyone I try to open up to about my depression gets scared of me and stops talking to me. What the hell is wrong with me!? With my anxiety, it takes so much effort just to talk ...      1\n",
              "7589   i tried slitting my wrists last nightbut i guess im too much of a fuckup to even do that right cause i could only do my left arm and i coulnt even cut the arteries. i only bled maybe 1 or 2 oz and i just sat around listening to simon and garfunke...      1\n",
              "2939                                                                                                                                                                                                            Dying is the only answer.Im tired of fighting.\\n      1\n",
              "3131   Suicide or Settle For Less?I want to change the world. I want to leave some sort of positive lasting mark on this planet to at least prove that I was here for a while. However, I am not a skilled person, not intelligent or dedicated enough to mak...      1"
            ]
          },
          "metadata": {
            "tags": []
          },
          "execution_count": 100
        }
      ]
    },
    {
      "cell_type": "markdown",
      "metadata": {
        "id": "3XMEljHPQ2wo"
      },
      "source": [
        "## 1.2 Recolección propia de textos\n",
        "Dado que ya se tiene la parte de depresión del set de datos, lo siguiente es crear la parte no-depresiva de este, pues el modelo necesita saber diferenciar entre textos de ambas clases. Dado que la base de datos que se usó extrajo sus datos de Reddit, se decidió hacer lo mismo para los textos con tonos no-depresivos.\n",
        "\n",
        "Como se mencionaba, se utilizó el módulo de PRAW con la API de Reddit para hacer la recolección propia de datos. Es importante mencionar que la finalidad de esta recolección es extraer textos de Reddit que no tengan un tono depresivo. Reddit es una red social muy grande, y afortunadamente tiene espacios para todo tipo de discusiones y todo tipo de personas, por lo que se piensa que es un buen lugar para extraer los textos que se necesitan. Al mismo tiempo, se quería también que los textos fueran variados, que no todos tuvieran el mismo tono (aunque no sea depresivo) dado que tener más variedad en el rango de textos que se incluyen será mejor para el modelo, ya que estará expuesto a textos con diferentes ideas y estructuras."
      ]
    },
    {
      "cell_type": "markdown",
      "metadata": {
        "id": "Se0XyT64RYfR"
      },
      "source": [
        "<hr>\n",
        "\n",
        "## Nota importante\n",
        "Para replicar los resultados que se muestran en las secciones posteriores, se debe continuar en la **sección 2.3**, donde ya se incorpora el set de datos finalizado que se guardó. Las siguientes celdas crean streams de datos de Reddit, por lo que si se usan para crear nuevos sets de datos es posible que los resultados no sean similares.\n",
        "\n",
        "Adicionalmente, se necesita proveer el **client_id** y el **client_secret** de una App del API de Reddit para poder hacer la recolección de datos.\n",
        "\n",
        "\n",
        "<hr>"
      ]
    },
    {
      "cell_type": "markdown",
      "metadata": {
        "id": "nG3bs8y-Tkq2"
      },
      "source": [
        "Antes que nada, se define el objeto de PRAW con las credenciales de Reddit, para poder traer los textos."
      ]
    },
    {
      "cell_type": "code",
      "metadata": {
        "id": "YmAPCPkOj_j0"
      },
      "source": [
        "reddit = praw.Reddit(client_id = '',\n",
        "                     client_secret = '',\n",
        "                     user_agent='praw tutorialv1')"
      ],
      "execution_count": null,
      "outputs": []
    },
    {
      "cell_type": "markdown",
      "metadata": {
        "id": "kj7sXZH_UVx7"
      },
      "source": [
        "Después se define la siguiente función, que recibe como parámetro el nombre de un subreddit, así como un límite. Lo que se hace es que se prende un stream de datos obtenidos del subreddit proporcionado, y cuando llegue al límite se corta el stream. Finalmente se regresan los textos que se guardaron. \n",
        "\n",
        "Cabe mencionar que para cada publicación que se recibe del API, se guarda su título y se guardan sus primeros 500 comentarios de primer nivel. Si se tienen menos comentarios se corta antes y se pasa a la siguiente publicación."
      ]
    },
    {
      "cell_type": "code",
      "metadata": {
        "id": "E1bd4mTmj_rr"
      },
      "source": [
        "def get_reddit_texts(subreddit, limitPubs, limitTexts, limitComms):\n",
        "    top_posts = reddit.subreddit(subreddit).top('year', limit=limitPubs)\n",
        "    texts = []\n",
        "\n",
        "    for submission in top_posts:\n",
        "        texts.append(submission.title)\n",
        "        submission_comm = reddit.submission(id=submission.id)\n",
        "\n",
        "        for count, top_level_comment in enumerate(submission_comm.comments):\n",
        "                count_comm = 0\n",
        "                try :\n",
        "                    texts.append(top_level_comment.body)\n",
        "\n",
        "                    if len(texts) >= limitTexts or count_comm >= limitComms:\n",
        "                        break\n",
        "                except:\n",
        "                    continue\n",
        "        \n",
        "        print(len(texts))\n",
        "\n",
        "        if len(texts) >= limitTexts:\n",
        "            break\n",
        "\n",
        "    return texts"
      ],
      "execution_count": null,
      "outputs": []
    },
    {
      "cell_type": "markdown",
      "metadata": {
        "id": "KvpgWP5PVJn_"
      },
      "source": [
        "La siguiente función llama a la anterior para obtener los textos, después, dado que estos textos son **no-depresivos**, se les asigna una label de **0**. Posteriormente ambas cosas se guardan en un CSV para poder utilizarlas después."
      ]
    },
    {
      "cell_type": "code",
      "metadata": {
        "id": "69GypRJXj_yv"
      },
      "source": [
        "def create_csv(subreddit, filename, limitPubs, limitTexts, limitComms):\n",
        "    texts = get_reddit_texts(subreddit, limitPubs, limitTexts, limitComms)\n",
        "    labels = [0 for x in range(len(texts))]\n",
        "    df = pd.DataFrame(zip(texts, labels), columns=[\"Text\", \"Label\"])\n",
        "    df.to_csv(filename, index=False)\n",
        "    df.head()"
      ],
      "execution_count": null,
      "outputs": []
    },
    {
      "cell_type": "markdown",
      "metadata": {
        "id": "KhuytMqvV4Va"
      },
      "source": [
        "Las siguientes celdas obtienen los textos y guardan los CSVs de diferentes subreddits. Se consideraron los siguientes 5 subreddits para sacar datos:\n",
        "- **ShowerThoughts**\n",
        "- **MadeMeSmile**\n",
        "- **Wholesome**\n",
        "- **HumansBeingBros**\n",
        "- **UpliftingNews**\n",
        "\n",
        "Como se puede notar, los 5 subreddits son considerados relativamente felices o agradables, por lo que se cree que forman un buen contraste a las publicaciones que se hacen en Depression y SuicideWatch. También, es importante mencionar que de cada subreddit se quisieron juntar 50,000 datos, aunque en para uno que otro subreddit se juntaron menos (en especial para **r/wholesome**. La idea de esto era complementar los 200 mil datos que contiene la base de datos de Kaggle. No obstante, estos se tuvieron que recortar más adelante para disminuir el tamaño del dataset completo, como se verá más adelante."
      ]
    },
    {
      "cell_type": "code",
      "metadata": {
        "id": "DzJPkN1arTrm"
      },
      "source": [
        "create_csv('showerthoughts', 'ShowerThoughts.csv', limitPubs = 10000, limitTexts = 50000, limitComms = 500)"
      ],
      "execution_count": null,
      "outputs": []
    },
    {
      "cell_type": "code",
      "metadata": {
        "id": "SA1bx1HV8Bcy"
      },
      "source": [
        "create_csv('MadeMeSmile', 'MadeMeSmile.csv', limitPubs = 10000, limitTexts = 50000, limitComms = 500)"
      ],
      "execution_count": null,
      "outputs": []
    },
    {
      "cell_type": "code",
      "metadata": {
        "id": "VXWQKP2m8Bil"
      },
      "source": [
        "create_csv('wholesome', 'Wholesome.csv', limitPubs = 10000, limitTexts = 50000, limitComms = 500)"
      ],
      "execution_count": null,
      "outputs": []
    },
    {
      "cell_type": "code",
      "metadata": {
        "id": "JsEiyrzP_a_i"
      },
      "source": [
        "create_csv('HumansBeingBros', 'HumansBeingBros.csv', limitPubs = 10000, limitTexts = 50000, limitComms = 500)"
      ],
      "execution_count": null,
      "outputs": []
    },
    {
      "cell_type": "code",
      "metadata": {
        "id": "H8QwtS_D_5dK"
      },
      "source": [
        "create_csv('UpliftingNews', 'UpliftingNews.csv', limitPubs = 10000, limitTexts = 50000, limitComms = 500)"
      ],
      "execution_count": null,
      "outputs": []
    },
    {
      "cell_type": "markdown",
      "metadata": {
        "id": "5Lwja9sMW87L"
      },
      "source": [
        "La siguiente celda es para poder utilizar los CSVs que se guardaron, con el objetivo de que los textos sean consistentes y no se construyan nuevos sets de datos cada que se abre el proyecto."
      ]
    },
    {
      "cell_type": "code",
      "metadata": {
        "id": "55z9LNHZJr58"
      },
      "source": [
        "shower_thoughts = pd.read_csv('ShowerThoughts.csv', encoding='ISO-8859-1')\n",
        "made_me_smile = pd.read_csv('MadeMeSmile.csv', encoding='ISO-8859-1')\n",
        "uplifting_news = pd.read_csv('UpliftingNews.csv', encoding='ISO-8859-1')\n",
        "wholesome = pd.read_csv('Wholesome.csv', encoding='ISO-8859-1')\n",
        "humansBeingBros = pd.read_csv('HumansBeingBros.csv', encoding='ISO-8859-1')"
      ],
      "execution_count": null,
      "outputs": []
    },
    {
      "cell_type": "markdown",
      "metadata": {
        "id": "-EiaCWh7LRKB"
      },
      "source": [
        "Finalmente, el conjunto de datos de los 5 subreddits distintos se combina en un solo DataFrame para crear uno solo que contenga todos los textos catalogados como no-depresivos. Las siguientes dos celdas guardan un CSV con el nuevo DataFrame creado y también leen el archivo del CSV, tal y como se hizo anteriormente."
      ]
    },
    {
      "cell_type": "code",
      "metadata": {
        "id": "IHXq8xYFJr9J"
      },
      "source": [
        "non_depression = pd.concat([shower_thoughts, made_me_smile, uplifting_news, wholesome, humansBeingBros], ignore_index=True)"
      ],
      "execution_count": null,
      "outputs": []
    },
    {
      "cell_type": "code",
      "metadata": {
        "id": "0RSmrv66JsAi"
      },
      "source": [
        "non_depression.to_csv(\"NonDepression.csv\", index=False)"
      ],
      "execution_count": null,
      "outputs": []
    },
    {
      "cell_type": "code",
      "metadata": {
        "id": "AZwhsxaHOfU4"
      },
      "source": [
        "non_depression = pd.read_csv('NonDepression.csv', encoding='ISO-8859-1')"
      ],
      "execution_count": null,
      "outputs": []
    },
    {
      "cell_type": "markdown",
      "metadata": {
        "id": "5i6FrHE5MMKS"
      },
      "source": [
        "## 1.3 Limitaciones del set de datos\n",
        "Ahora ya se tienen las dos partes principales del set de datos, a partir del cual se obendrán los sets de entrenamiento, validación y testing. Sin embargo, es importante mencionar que este set de datos no es perfecto, presenta unas limitaciones y sesgos bastante claros y que naturalmente afectan el rendimiento de los modelos, pero más importante que eso afectan la interpretación que se necesita hacer de los resultados, dado que lo que sale no necesariamente refleja la completa realidad.\n",
        "\n",
        "A continuación se explican las principales limitaciones y sesgos que se encontraron:\n",
        "\n",
        "\n",
        "1. **Catalogar todos los textos de un subreddit de la misma forma**. Se cree que esta es la más grande limitación que presenta el set de datos. Como se mencionó antes, Reddit es un lugar sumamente grande donde gente de todas partes comparte sus ideas y se presentan discusiones sobre las mismas. Y aunque estas ideas sí se dividen por tema con los diferentes subreddits, dentro de un mismo subreddit sigue habiendo una variedad impresionante de publicaciones. Debido a esto, decir que todos los textos dentro de r/depression son depresivos, puede que sea una generalización muy grande. No obstante, sí se estudiaron algunos textos que se reclectaron, y la gran mayoría sí tenían tono depresivo, en el caso de r/depression, por lo que esta decisión se tolerará para el proyecto.\n",
        "\n",
        "\n",
        "2. **La cantidad de los datos que se terminó usando**. Sí se mira en detalle la base de datos de Kaggle que se trajo para el proyecto, se puede ver que esta contiene poco más de 200 mil textos, alrededor de 140 mil contando solo los de depression y SuicideWatch, pero para el set de datos final se terminaron tomando solamente 50 mil de estos. Igulamente para los que se recolectaron, se terminaron juntando 10 mil de cada subreddit para completar los 100 mil. Esto claramente es poco considerando la cantidad de datos que se pudo haber usado, sin embargo, esto se dejó así por dos razones: primero por el tiempo que le tomaría a los modelos procesar tantos textos; segundo, como se verá más adelante se usaron modelos ya pre-entrenados, por lo que 100 mil textos se consideró suficiente para hacer el transfer learning.\n",
        "\n",
        "\n",
        "3. **La calidad general de los textos**. Esta limitación es algo que está completamente fuera de control, pero aún así vale la pena mencionarla. Cualquier persona puede escribir una publicación o comentario en Reddit, por lo que muchas veces la calidad de los textos no es la deseada, hay errores de ortografía, puede haber palabras ofensivas, entre muchas otras cosas. Sin embargo, el otro lado de la moneda es que estos textos de verdad reflejan lo que las personas están pensando, aunque su uso del lenguaje no sea siempre el más adecuado, por lo que termina quedando muy bien para un modelo como este, que quiere detectar un sentimiento específico en las personas.\n",
        "\n",
        "\n",
        "4. **Varianza en la longitud de los textos**. Esta es quizás la limitación menos importante, debido a que los modelos están preparados para manejar textos de diferentes longitudes. El problema es que, dentro del dataset es muy posible que haya una varianza muy grande en las longitudes. Por ejemplo, puede que haya comentarios como 'Well done!', con sólo dos palabras; y por el otro lado, puede que haya textos de 200 o 300 palabras argumentando su punto de vista en una discusión. Nuevamente, esto no es un problema grande, pero sí es uno que se identificó y por eso se incluye aquí.\n",
        "\n",
        "En general, aún con estas limitaciones se está contento con el set de datos que se pudo construir, y se piensa que a partir de él se pueden obtener resultados muy buenos. A continuación, se explican los pasos de preprocesamiento que se hicieron sobre los textos antes de alimentarlos a los modelos. También, se mostrarán algunas visualizaciones de los datos para más claridad.\n",
        "\n"
      ]
    },
    {
      "cell_type": "markdown",
      "metadata": {
        "id": "0zW1K1T2F_vw"
      },
      "source": [
        "# 2. Preprocesamiento\n",
        "Tras estudiar algunos de los textos que vienen en el dataset, es claro que se necesita realizar un preprocesamiento de la información, con el objetivo de minimizar el ruido de los datos y los errores presentes, así como preparar los textos para que los modelos los puedan consumir de mejor forma. Este fue el proceso que se siguió para llevar a cabo este preprocesamiento:\n",
        "\n",
        "1. **Eliminar los valores nulos/inservibles:** al modelo no se pueden alimentar valores nulos, por lo que hay que quitarlos del dataset. Pero además de eso, hay algunas entradas que sólo contienen la palabra \"[deleted]\" o \"[removed]\", que significa que la publicación o comentario fue eliminado en Reddit, pero el API aún así la trajo. Estas hay que eliminarlas también, pues no sirven.\n",
        "\n",
        "2. **Juntar la parte de depresión con la de no-depresión y hacer shuffle:** hasta ahora se habían mantenido separadas las dos partes del set de datos, por lo que se necesitan juntar en un solo dataset. Dado que se van a juntar una tras la otra, se necesita hacer un shuffle posteriormente para que el training, validation, y testing set reciban textos de ambas categorías.\n",
        "\n",
        "3. **Correr los datos por una función de preprocesamiento:** ya que se tenga un solo dataset con toda la informacion, todos los textos se van a pasar por una función que se diseñó para procesarlos. Más adelante se explica en profundo detalle en qué consiste esta función.\n",
        "\n",
        "4. **Eliminar los valores que hayan resultado nulos o vacíos tras procesarlos:** Tras hacer algunas pruebas, se notó que algunos textos resultan nulos tras el procesamiento, por lo que se volverá a revisar y a eliminar aquellos que hayan quedado como nulos o vaciós."
      ]
    },
    {
      "cell_type": "markdown",
      "metadata": {
        "id": "TlUDNg63bQZl"
      },
      "source": [
        "## 2.1 Eliminar los valores nulos/inservibles\n",
        "Primero se muestran algunos ejemplos donde los textos aparecen como \"[deleted]\" o \"[removed]\""
      ]
    },
    {
      "cell_type": "code",
      "metadata": {
        "colab": {
          "base_uri": "https://localhost:8080/",
          "height": 402
        },
        "id": "0E32OtNXPkyi",
        "outputId": "3d3b0023-d571-4885-9ece-12de43f2460e"
      },
      "source": [
        "non_depression[non_depression[\"Text\"] == \"[deleted]\"]\n",
        "non_depression[non_depression[\"Text\"] == \"[removed]\"]"
      ],
      "execution_count": null,
      "outputs": [
        {
          "output_type": "execute_result",
          "data": {
            "text/html": [
              "<div>\n",
              "<style scoped>\n",
              "    .dataframe tbody tr th:only-of-type {\n",
              "        vertical-align: middle;\n",
              "    }\n",
              "\n",
              "    .dataframe tbody tr th {\n",
              "        vertical-align: top;\n",
              "    }\n",
              "\n",
              "    .dataframe thead th {\n",
              "        text-align: right;\n",
              "    }\n",
              "</style>\n",
              "<table border=\"1\" class=\"dataframe\">\n",
              "  <thead>\n",
              "    <tr style=\"text-align: right;\">\n",
              "      <th></th>\n",
              "      <th>Text</th>\n",
              "      <th>Label</th>\n",
              "    </tr>\n",
              "  </thead>\n",
              "  <tbody>\n",
              "    <tr>\n",
              "      <th>406</th>\n",
              "      <td>[removed]</td>\n",
              "      <td>0</td>\n",
              "    </tr>\n",
              "    <tr>\n",
              "      <th>646</th>\n",
              "      <td>[removed]</td>\n",
              "      <td>0</td>\n",
              "    </tr>\n",
              "    <tr>\n",
              "      <th>805</th>\n",
              "      <td>[removed]</td>\n",
              "      <td>0</td>\n",
              "    </tr>\n",
              "    <tr>\n",
              "      <th>2520</th>\n",
              "      <td>[removed]</td>\n",
              "      <td>0</td>\n",
              "    </tr>\n",
              "    <tr>\n",
              "      <th>2893</th>\n",
              "      <td>[removed]</td>\n",
              "      <td>0</td>\n",
              "    </tr>\n",
              "    <tr>\n",
              "      <th>...</th>\n",
              "      <td>...</td>\n",
              "      <td>...</td>\n",
              "    </tr>\n",
              "    <tr>\n",
              "      <th>209687</th>\n",
              "      <td>[removed]</td>\n",
              "      <td>0</td>\n",
              "    </tr>\n",
              "    <tr>\n",
              "      <th>209693</th>\n",
              "      <td>[removed]</td>\n",
              "      <td>0</td>\n",
              "    </tr>\n",
              "    <tr>\n",
              "      <th>209703</th>\n",
              "      <td>[removed]</td>\n",
              "      <td>0</td>\n",
              "    </tr>\n",
              "    <tr>\n",
              "      <th>209829</th>\n",
              "      <td>[removed]</td>\n",
              "      <td>0</td>\n",
              "    </tr>\n",
              "    <tr>\n",
              "      <th>209950</th>\n",
              "      <td>[removed]</td>\n",
              "      <td>0</td>\n",
              "    </tr>\n",
              "  </tbody>\n",
              "</table>\n",
              "<p>1378 rows × 2 columns</p>\n",
              "</div>"
            ],
            "text/plain": [
              "             Text  Label\n",
              "406     [removed]      0\n",
              "646     [removed]      0\n",
              "805     [removed]      0\n",
              "2520    [removed]      0\n",
              "2893    [removed]      0\n",
              "...           ...    ...\n",
              "209687  [removed]      0\n",
              "209693  [removed]      0\n",
              "209703  [removed]      0\n",
              "209829  [removed]      0\n",
              "209950  [removed]      0\n",
              "\n",
              "[1378 rows x 2 columns]"
            ]
          },
          "metadata": {
            "tags": []
          },
          "execution_count": 103
        }
      ]
    },
    {
      "cell_type": "markdown",
      "metadata": {
        "id": "dNfYoYxmbcdh"
      },
      "source": [
        "Utilizando numpy, se obtienen los índices donde se presentan estas dos palabras, y se borran del DataFrame con *drop*. "
      ]
    },
    {
      "cell_type": "code",
      "metadata": {
        "id": "vXDG9UHEPk1S"
      },
      "source": [
        "removed_rows = np.where(non_depression[\"Text\"] == \"[removed]\")[0]\n",
        "non_depression.drop(removed_rows, axis=0, inplace=True)\n",
        "non_depression.reset_index(drop=True, inplace=True)"
      ],
      "execution_count": null,
      "outputs": []
    },
    {
      "cell_type": "code",
      "metadata": {
        "id": "saPW1YjtTpcd"
      },
      "source": [
        "deleted_rows = np.where(non_depression[\"Text\"] == \"[deleted]\")[0]\n",
        "non_depression.drop(deleted_rows, axis=0, inplace=True)\n",
        "non_depression.reset_index(drop=True, inplace=True)"
      ],
      "execution_count": null,
      "outputs": []
    },
    {
      "cell_type": "markdown",
      "metadata": {
        "id": "7A6uq8f7b0nF"
      },
      "source": [
        "Del resultado se toma un sample aleatorio de 50 mil textos. Como se mencionó antes, este CSV contenía alrededor de 200 mil textos. Sin embargo, aquí se recorta a 50 mil para complementar la parte de los textos depresivos y que el dataset resultante tenga 100 mil textos."
      ]
    },
    {
      "cell_type": "code",
      "metadata": {
        "colab": {
          "base_uri": "https://localhost:8080/"
        },
        "id": "0wyc6Yg-Pk7J",
        "outputId": "b08fbc23-8020-443a-9aeb-b74005b7b37e"
      },
      "source": [
        "non_depression = non_depression.sample(50000)\n",
        "non_depression.shape"
      ],
      "execution_count": null,
      "outputs": [
        {
          "output_type": "execute_result",
          "data": {
            "text/plain": [
              "(50000, 2)"
            ]
          },
          "metadata": {
            "tags": []
          },
          "execution_count": 107
        }
      ]
    },
    {
      "cell_type": "markdown",
      "metadata": {
        "id": "W0Hszr5lcWqE"
      },
      "source": [
        "## 2.2 Juntar la parte de depresión con la de no-depresión y hacer shuffle\n",
        "Ahora sí, se construye el dataset completo concatenando la parte de depresión con la parte de no-depresión."
      ]
    },
    {
      "cell_type": "code",
      "metadata": {
        "id": "sze6klFAPk-m"
      },
      "source": [
        "dataset = pd.concat([depression, non_depression], ignore_index=True)"
      ],
      "execution_count": null,
      "outputs": []
    },
    {
      "cell_type": "markdown",
      "metadata": {
        "id": "IOdu4ZFLcp3j"
      },
      "source": [
        "Por si acaso, se vuelve a revisar que no haya nulos en el dataset ya completo."
      ]
    },
    {
      "cell_type": "code",
      "metadata": {
        "colab": {
          "base_uri": "https://localhost:8080/"
        },
        "id": "qI9u5YjxkeK6",
        "outputId": "f814023c-6851-44a4-8880-9d8424f4763c"
      },
      "source": [
        "np.where(pd.isnull(dataset))[0]"
      ],
      "execution_count": null,
      "outputs": [
        {
          "output_type": "execute_result",
          "data": {
            "text/plain": [
              "array([70245])"
            ]
          },
          "metadata": {
            "tags": []
          },
          "execution_count": 122
        }
      ]
    },
    {
      "cell_type": "markdown",
      "metadata": {
        "id": "Dbx6UHg5cwVp"
      },
      "source": [
        "Como resultó que sí hubo un valor nulo, se obtiene su índice y se droppea del DataFrame. Posteriormente se muestra la información del DataFrame resultante."
      ]
    },
    {
      "cell_type": "code",
      "metadata": {
        "id": "9A1yFL-SVZaj",
        "colab": {
          "base_uri": "https://localhost:8080/"
        },
        "outputId": "0a25839f-279f-41bf-e0cb-e5d0b9acf17b"
      },
      "source": [
        "null_rows = np.where(pd.isnull(dataset))[0]\n",
        "dataset.drop(null_rows, axis=0, inplace=True)\n",
        "dataset.reset_index(drop=True, inplace=True)\n",
        "dataset.info()"
      ],
      "execution_count": null,
      "outputs": [
        {
          "output_type": "stream",
          "text": [
            "<class 'pandas.core.frame.DataFrame'>\n",
            "RangeIndex: 99999 entries, 0 to 99998\n",
            "Data columns (total 2 columns):\n",
            " #   Column  Non-Null Count  Dtype \n",
            "---  ------  --------------  ----- \n",
            " 0   Text    99999 non-null  object\n",
            " 1   Label   99999 non-null  int64 \n",
            "dtypes: int64(1), object(1)\n",
            "memory usage: 1.5+ MB\n"
          ],
          "name": "stdout"
        }
      ]
    },
    {
      "cell_type": "markdown",
      "metadata": {
        "id": "LLv2wiQ3c_Lt"
      },
      "source": [
        "Ahora sí, ya que se sabe que no hay nulos, se le hace un shuffle al dataset utilizando la función que proporciona SciKitLearn. Posteriormente se muestran algunos textos para tener una visualización de lo que está pasando. "
      ]
    },
    {
      "cell_type": "code",
      "metadata": {
        "colab": {
          "base_uri": "https://localhost:8080/",
          "height": 616
        },
        "id": "fOiLYijJOXLg",
        "outputId": "5ef4ef1a-7f08-4285-ab15-dc4da75e1ba3"
      },
      "source": [
        "dataset = shuffle(dataset)\n",
        "dataset.head(15)"
      ],
      "execution_count": null,
      "outputs": [
        {
          "output_type": "execute_result",
          "data": {
            "text/html": [
              "<div>\n",
              "<style scoped>\n",
              "    .dataframe tbody tr th:only-of-type {\n",
              "        vertical-align: middle;\n",
              "    }\n",
              "\n",
              "    .dataframe tbody tr th {\n",
              "        vertical-align: top;\n",
              "    }\n",
              "\n",
              "    .dataframe thead th {\n",
              "        text-align: right;\n",
              "    }\n",
              "</style>\n",
              "<table border=\"1\" class=\"dataframe\">\n",
              "  <thead>\n",
              "    <tr style=\"text-align: right;\">\n",
              "      <th></th>\n",
              "      <th>Text</th>\n",
              "      <th>Label</th>\n",
              "    </tr>\n",
              "  </thead>\n",
              "  <tbody>\n",
              "    <tr>\n",
              "      <th>22629</th>\n",
              "      <td>Mark Zuckerberg??</td>\n",
              "      <td>0</td>\n",
              "    </tr>\n",
              "    <tr>\n",
              "      <th>81144</th>\n",
              "      <td>Dunno, there's no hiding it.</td>\n",
              "      <td>0</td>\n",
              "    </tr>\n",
              "    <tr>\n",
              "      <th>35881</th>\n",
              "      <td>He looks like a baby Chewbacca, so damn cute Ã¢ÂÂºÃ¯Â¸Â</td>\n",
              "      <td>0</td>\n",
              "    </tr>\n",
              "    <tr>\n",
              "      <th>85709</th>\n",
              "      <td>I wish I never made it this farI honestly which I killed myself by now, I hate life, I hate being alone, I hate everything and person toxic in my life, I hate being around... I was exposed to Covid19 start of Dec and I survived that which I reall...</td>\n",
              "      <td>1</td>\n",
              "    </tr>\n",
              "    <tr>\n",
              "      <th>17929</th>\n",
              "      <td>Some problems can't be talked out of.I reached the end a few years ago. I've been hanging out and waiting for the courage to kill myself but I've never been able to even in the most intense periods of pain. I wish I was stronger. There have been ...</td>\n",
              "      <td>1</td>\n",
              "    </tr>\n",
              "    <tr>\n",
              "      <th>19793</th>\n",
              "      <td>overdosing tonight. sorry guys.i think i might overdose tonight. its fucking hopeless its literally fucking hopeless im a lose cause. my mom is abusive and i was finishign up an art commission downstairs and i asked when my next psychiatrist meet...</td>\n",
              "      <td>1</td>\n",
              "    </tr>\n",
              "    <tr>\n",
              "      <th>78151</th>\n",
              "      <td>I've had depression for over ten years... here's my story. It really does get better!I refuse to post this to a throwaway account, and I'm always encouraging people to share with me and I'd be a complete hypocrite if I wasn't my total honest, tru...</td>\n",
              "      <td>1</td>\n",
              "    </tr>\n",
              "    <tr>\n",
              "      <th>75156</th>\n",
              "      <td>Karma farming</td>\n",
              "      <td>0</td>\n",
              "    </tr>\n",
              "    <tr>\n",
              "      <th>55927</th>\n",
              "      <td>Im about to show how big of a failure I amI have my physics final tomorrow, and i've been trying to study for it. I dont understand half the content i have to study from. I flunked two tests so far, and am borderline failing this class that my pa...</td>\n",
              "      <td>1</td>\n",
              "    </tr>\n",
              "    <tr>\n",
              "      <th>71633</th>\n",
              "      <td>First the Titanfall series and now this?\\n\\nMy favorite game company so far</td>\n",
              "      <td>0</td>\n",
              "    </tr>\n",
              "    <tr>\n",
              "      <th>62442</th>\n",
              "      <td>i loved when people from the other side of the road would come over to give a high five</td>\n",
              "      <td>0</td>\n",
              "    </tr>\n",
              "    <tr>\n",
              "      <th>21485</th>\n",
              "      <td>Heroin addiction is temporary, Wu-tang is forever.</td>\n",
              "      <td>0</td>\n",
              "    </tr>\n",
              "    <tr>\n",
              "      <th>4137</th>\n",
              "      <td>Probably didnÃ¢ÂÂt careÃ¢ÂÂ.</td>\n",
              "      <td>0</td>\n",
              "    </tr>\n",
              "    <tr>\n",
              "      <th>7505</th>\n",
              "      <td>Deepest sympathies, OP. Your son was beautiful and I hope you know that one more stranger on the internet is thinking of him and his mom, today. Peace be with you.</td>\n",
              "      <td>0</td>\n",
              "    </tr>\n",
              "    <tr>\n",
              "      <th>88499</th>\n",
              "      <td>I can't take keep battling these constant suicidal thoughts, at verge of going through with it.From the moment I wake up, I feel anxious, depressed, suicidal and have a horrible feeling that goes through the pit of my stomach. \\n\\nI'm 30 years ol...</td>\n",
              "      <td>1</td>\n",
              "    </tr>\n",
              "  </tbody>\n",
              "</table>\n",
              "</div>"
            ],
            "text/plain": [
              "                                                                                                                                                                                                                                                            Text  Label\n",
              "22629                                                                                                                                                                                                                                          Mark Zuckerberg??      0\n",
              "81144                                                                                                                                                                                                                               Dunno, there's no hiding it.      0\n",
              "35881                                                                                                                                                                                                  He looks like a baby Chewbacca, so damn cute Ã¢ÂÂºÃ¯Â¸Â      0\n",
              "85709  I wish I never made it this farI honestly which I killed myself by now, I hate life, I hate being alone, I hate everything and person toxic in my life, I hate being around... I was exposed to Covid19 start of Dec and I survived that which I reall...      1\n",
              "17929  Some problems can't be talked out of.I reached the end a few years ago. I've been hanging out and waiting for the courage to kill myself but I've never been able to even in the most intense periods of pain. I wish I was stronger. There have been ...      1\n",
              "19793  overdosing tonight. sorry guys.i think i might overdose tonight. its fucking hopeless its literally fucking hopeless im a lose cause. my mom is abusive and i was finishign up an art commission downstairs and i asked when my next psychiatrist meet...      1\n",
              "78151  I've had depression for over ten years... here's my story. It really does get better!I refuse to post this to a throwaway account, and I'm always encouraging people to share with me and I'd be a complete hypocrite if I wasn't my total honest, tru...      1\n",
              "75156                                                                                                                                                                                                                                              Karma farming      0\n",
              "55927  Im about to show how big of a failure I amI have my physics final tomorrow, and i've been trying to study for it. I dont understand half the content i have to study from. I flunked two tests so far, and am borderline failing this class that my pa...      1\n",
              "71633                                                                                                                                                                                First the Titanfall series and now this?\\n\\nMy favorite game company so far      0\n",
              "62442                                                                                                                                                                    i loved when people from the other side of the road would come over to give a high five      0\n",
              "21485                                                                                                                                                                                                         Heroin addiction is temporary, Wu-tang is forever.      0\n",
              "4137                                                                                                                                                                                                                            Probably didnÃ¢ÂÂt careÃ¢ÂÂ.      0\n",
              "7505                                                                                         Deepest sympathies, OP. Your son was beautiful and I hope you know that one more stranger on the internet is thinking of him and his mom, today. Peace be with you.      0\n",
              "88499  I can't take keep battling these constant suicidal thoughts, at verge of going through with it.From the moment I wake up, I feel anxious, depressed, suicidal and have a horrible feeling that goes through the pit of my stomach. \\n\\nI'm 30 years ol...      1"
            ]
          },
          "metadata": {
            "tags": []
          },
          "execution_count": 127
        }
      ]
    },
    {
      "cell_type": "markdown",
      "metadata": {
        "id": "FWaOV9gcdSCF"
      },
      "source": [
        "Como se puede ver, hay algunos caracteres que pareciera que no se procesaron correctamente, quizás hubo algún error con el encoding de los textos. Para tener mejor certeza, se verifica cuál es el encoding de los textos uilizando *chardet*."
      ]
    },
    {
      "cell_type": "code",
      "metadata": {
        "colab": {
          "base_uri": "https://localhost:8080/"
        },
        "id": "sgzM7m8Kdn5-",
        "outputId": "116523e9-a45c-4292-c06b-4d7031346d7f"
      },
      "source": [
        "with open(\"Dataset.csv\", 'rb') as rawdata:\n",
        "    result = chardet.detect(rawdata.read(10000))\n",
        "\n",
        "print(result)"
      ],
      "execution_count": null,
      "outputs": [
        {
          "output_type": "stream",
          "text": [
            "{'encoding': 'utf-8', 'confidence': 0.99, 'language': ''}\n"
          ],
          "name": "stdout"
        }
      ]
    },
    {
      "cell_type": "markdown",
      "metadata": {
        "id": "37RLGd2fdpF5"
      },
      "source": [
        "Dado que el resultado fue utf-8, se piensa que quizás hubo un error con el encoding de los textos de 'no-depression', que como se vio para esos se utilizó 'ISO-8859-1'. Como parece que solamente el caracter del apostrofe resultó con error, se hace el reemplazo manual de los caracteres raros que se muestran por el caracter del apostrofe."
      ]
    },
    {
      "cell_type": "code",
      "metadata": {
        "colab": {
          "base_uri": "https://localhost:8080/"
        },
        "id": "oRNTThc2cV-u",
        "outputId": "91eb8888-f40e-4831-f0b0-25d46f8aab5c"
      },
      "source": [
        "t = dataset.iloc[0][\"Text\"]\n",
        "print(t.replace('â\\x80\\x99', \"'\"))\n",
        "\n",
        "dataset[\"Text\"] = dataset[\"Text\"].apply(lambda x: str(x).replace('â\\x80\\x99', \"'\"))"
      ],
      "execution_count": null,
      "outputs": [
        {
          "output_type": "stream",
          "text": [
            "Mark Zuckerberg??\n"
          ],
          "name": "stdout"
        }
      ]
    },
    {
      "cell_type": "markdown",
      "metadata": {
        "id": "IHlsOPPHeOam"
      },
      "source": [
        "Una vez que se hace la sustitución, el dataset completo se guarda en un CSV para su uso más adelante.\n",
        "\n",
        "**Nota importante**: este dataset es el que se usa para crear los sets de training, validation y testing."
      ]
    },
    {
      "cell_type": "code",
      "metadata": {
        "id": "04TIReOKOXQA"
      },
      "source": [
        "dataset.to_csv(\"Dataset.csv\", index=False)"
      ],
      "execution_count": null,
      "outputs": []
    },
    {
      "cell_type": "markdown",
      "metadata": {
        "id": "_XrpfQ_EetVD"
      },
      "source": [
        "## 2.3 Correr los datos por una función de preprocesamiento\n",
        "Lo primero que se hace es leer el CSV del dataset"
      ]
    },
    {
      "cell_type": "code",
      "metadata": {
        "id": "oAYtgZHYOXTs"
      },
      "source": [
        "dataset = pd.read_csv('Dataset.csv', encoding='utf-8')"
      ],
      "execution_count": null,
      "outputs": []
    },
    {
      "cell_type": "markdown",
      "metadata": {
        "id": "MQT72PWJ-yHX"
      },
      "source": [
        "Ya con el archivo del dataset armado y leído, se puede pasar al procesamiento de los textos en sí. Primero, utilizando NLTK se define un set de **stopwords** que se estarán removiendo de los textos. Nótese que primero se define una lista de palabras con connatación negativa, estas es importante quitarlas del set de stopwords dado que sí pueden alterar el significado o intención del texto, a diferencia de palabras como 'the' que no terminan siendo muy importantes pero sí están muy presentes en los textos."
      ]
    },
    {
      "cell_type": "code",
      "metadata": {
        "id": "NaJOyyMGSQBE"
      },
      "source": [
        "negatives = ['no', 'not', 'none', 'hasn', \"shan't\", 'wouldn', \"won't\", \"weren't\", \"didn't\", 'isn', \"couldn't\", 'weren', \"wouldn't\", \"don't\", \"doesn't\", 'mustn', \"hadn't\", 'needn', \"haven't\", \"aren't\", \"wasn't\", \"isn't\", \"mustn't\", \"ain't\", \"needn't\"]\n",
        "stop_words = set(stopwords.words(\"english\") + [',', '...', '.', '..', \"'\", '’', 'rt', ':']) - set(negatives)"
      ],
      "execution_count": null,
      "outputs": []
    },
    {
      "cell_type": "markdown",
      "metadata": {
        "id": "-bJivRYLkVzy"
      },
      "source": [
        "Se definieron dos funciones para realizar el procesamiento de los textos. A continuación se describe la funcionalidad de cada una.\n",
        "\n",
        "La primera función cumple dos propósitos: **lemmatizar** y **tokenizar** los texto que recibe. Con la primera, se quiere regresar las palabras a su raíz, con el objetivo de que palabras como 'running' y 'ran' se tomen como la misma. Y la segunda, va a dividir el texto del tweet en palabras, y estas se regresarán en una lista. Además de esto, es importante mencionar que sólo se incluyen palabras que **no sean stopwords**, por la razón que estas no terminan aportando al sentimiento del tweet, tal y como se mencionó arriba."
      ]
    },
    {
      "cell_type": "code",
      "metadata": {
        "id": "gYiHta3bSQ0S"
      },
      "source": [
        "def lemmatize_tokenize(text):\n",
        "    lemmatizer = WordNetLemmatizer()\n",
        "    return ' '.join([lemmatizer.lemmatize(token.lower()) for token in word_tokenize(text) if token not in stop_words])"
      ],
      "execution_count": null,
      "outputs": []
    },
    {
      "cell_type": "markdown",
      "metadata": {
        "id": "eQ73FW3OlGgm"
      },
      "source": [
        "La segunda función va a quitar o arreglar ciertas cosas que se notaron en los textos y que se cree que no aportan mucho para determinar su clasificación. Más específicamente, se hace lo siguiente:\n",
        "\n",
        "*   **Remover menciones a otros subreddits**, dado que no se cree que estos afecten el significado del texto.\n",
        "*   **Remover menciones a usuarios de Reddit**, dado que se considera importante que los textos permanezcan lo más anónimo que sea posible, tal como lo hicieron los autores del paper sobre el cuál está basado este proyecto.\n",
        "*   **Sustituir los emojis**, al igual que los hashtags, se piensa que sería mucho más útil agrupar todos los emojis positivos y separarlos de los negativos.\n",
        "*   **Remover los URLs**, en el sentido de que se removerán los caracteres especiales y sólo se dejarán las palabras importantes de este.\n",
        "*   **Remover caracteres repetidos**, para agrupar palabras como 'heelloooo' en una sola\n",
        "*   **Remover caracteres de control de strings**, se notó que muchos de los textos contienen caracteres como '\\n' y '\\t', se decidió quitarlos para que no hagan ruido en los textos.\n",
        "\n",
        "Finalmente, esta función regresa el texto procesado por la función anterior para así guardarlo."
      ]
    },
    {
      "cell_type": "code",
      "metadata": {
        "id": "KNqyZNWedWp-"
      },
      "source": [
        "def process_text(text):\n",
        "    # Remover menciones a subreddits\n",
        "    text = re.sub(r\"\\/r\\/([^\\s/]+)\", r\"\", text) # regex tomada de https://stackoverflow.com/questions/21109968/python-regex-to-match-subreddit-names\n",
        "\n",
        "    # Remover menciones a otros usuarios de Reddit\n",
        "    text = re.sub(r\"\\/u\\/([^\\s/]+)\", r\"\", text) # regex tomada de https://stackoverflow.com/questions/46104630/regex-to-identify-reddit-usernames\n",
        "\n",
        "    # Reemplazar los emojis\n",
        "    HAPPY_EMO = r\"([xX;:]-?[dD\\)]|:-?[\\\\\\)]|[;:][pP])\" # tomada de https://stackoverflow.com/questions/28077049/regex-matching-emoticons\n",
        "    SAD_EMO = SAD_EMO = r\"(:'?[/|\\(])\" # tomada de https://stackoverflow.com/questions/28077049/regex-matching-emoticons\n",
        "\n",
        "    text = re.sub(HAPPY_EMO, \" happyemoticon \", text)\n",
        "    text = re.sub(SAD_EMO, \" sademoticon \", text)\n",
        "\n",
        "    # Remover los URLs\n",
        "    text = re.sub(r\"htpps?://\\S+|www\\.\\S+\", \"\", text)\n",
        "\n",
        "    # Remover caracteres repetidos\n",
        "    text = re.sub(r\"(.)\\1+\", r\"\\1\\1\", text)\n",
        "\n",
        "    # Remover caracteres de control de strings\n",
        "    text = re.sub(r\"[\\n\\r\\t]\", r\" \", text)\n",
        "\n",
        "    return text"
      ],
      "execution_count": null,
      "outputs": []
    },
    {
      "cell_type": "markdown",
      "metadata": {
        "id": "n8X2KLowopIA"
      },
      "source": [
        "Ya con las funciones definidas, se toman los textos del dataset y se pasan por ambas funciones para obtener la lista de los textos procesados. También se arma una lista con las labels del dataset. Ambas cosas se estarán usando para generar los sets de training, validation y testing. "
      ]
    },
    {
      "cell_type": "code",
      "metadata": {
        "id": "7QxI_67dC9qx"
      },
      "source": [
        "processed_ds = dataset.Text.map(lambda text: lemmatize_tokenize(process_text(text)))"
      ],
      "execution_count": null,
      "outputs": []
    },
    {
      "cell_type": "code",
      "metadata": {
        "id": "kpK_P0dtUAoN"
      },
      "source": [
        "labels = dataset.Label"
      ],
      "execution_count": null,
      "outputs": []
    },
    {
      "cell_type": "markdown",
      "metadata": {
        "id": "EOmg50OUpmUG"
      },
      "source": [
        "## 2.4 Eliminar los valores que hayan resultado nulos o vacíos tras procesarlos\n",
        "Como se mencionó, tras hacer algunas pruebas hubo casos en los que salían errores debido a valores vacíos o nulos en la lista de textos ya procesados. Debido a eso, se volvió a buscar los índices donde esto ocurra y se eliminaron de ambas listas, tanto de los textos como de los labels. Es importante remover las mismas entradas de ambas listas, dado que si no se crearía un desfase y los modelos aprenderían sobre los datos erróneos."
      ]
    },
    {
      "cell_type": "code",
      "metadata": {
        "id": "mvBlPwPAmmEV"
      },
      "source": [
        "null_rows = np.where(processed_ds == \"\")[0]"
      ],
      "execution_count": null,
      "outputs": []
    },
    {
      "cell_type": "code",
      "metadata": {
        "id": "46Lyn2v6vayX"
      },
      "source": [
        "processed_ds.drop(null_rows, axis=0, inplace=True)\n",
        "processed_ds.reset_index(drop=True, inplace=True)\n",
        "\n",
        "labels.drop(null_rows, axis=0, inplace=True)\n",
        "labels.reset_index(drop=True, inplace=True)"
      ],
      "execution_count": null,
      "outputs": []
    },
    {
      "cell_type": "markdown",
      "metadata": {
        "id": "sFcPcYWFL5i4"
      },
      "source": [
        "## 2.5 Visualización de los datos"
      ]
    },
    {
      "cell_type": "markdown",
      "metadata": {
        "id": "q8mgf7tk5j2B"
      },
      "source": [
        "Es importante tener una buena visualización de los datos que se van a estar usando con los modelos. En este caso, primero se decidió construir una gráfica que compare la cantidad de textos etiquetados como depresivos con aquellos etiquetados como no-depresivos. \n",
        "\n",
        "La siguiente celda calcula la cantidad de textos con cada una de las etiquetas."
      ]
    },
    {
      "cell_type": "code",
      "metadata": {
        "id": "u-j5TxhV3c0z"
      },
      "source": [
        "zeros_count = len(np.where(labels == 0)[0])\n",
        "ones_count = len(np.where(labels == 1)[0])"
      ],
      "execution_count": null,
      "outputs": []
    },
    {
      "cell_type": "markdown",
      "metadata": {
        "id": "iqcR9LcD56GE"
      },
      "source": [
        "De ahí, se utiliza esta información para construir una gráfica de barras, algo sencilla, pero importante porque nos muestra que la cantidad de textos sí quedó prácticamente balanceada aún después de todo el preprocesamiento y de haber quitado varios reglones que no servían."
      ]
    },
    {
      "cell_type": "code",
      "metadata": {
        "colab": {
          "base_uri": "https://localhost:8080/",
          "height": 336
        },
        "id": "CGhE7QMg4oHK",
        "outputId": "8c303b01-c405-427b-f3af-3bc1a56bff70"
      },
      "source": [
        "fig = plt.figure()\n",
        "ax = fig.add_axes([0,0,1,1])\n",
        "langs = ['Depression', 'Non-depression']\n",
        "students = [zeros_count, ones_count]\n",
        "ax.bar(langs,students)\n",
        "ax.set_ylabel('Examples')\n",
        "plt.show()"
      ],
      "execution_count": null,
      "outputs": [
        {
          "output_type": "display_data",
          "data": {
            "image/png": "[encoded data removed]",
            "text/plain": [
              "<Figure size 432x288 with 1 Axes>"
            ]
          },
          "metadata": {
            "tags": [],
            "needs_background": "light"
          }
        }
      ]
    },
    {
      "cell_type": "markdown",
      "metadata": {
        "id": "0RMDTJ8I6Ixw"
      },
      "source": [
        "Lo segundo que se hizo fue obtener el promedio y la mediana de la logitud de los textos. Esto ayudará más adelante en definir el tamaño de los embeddings que se estarán alimentando a los modelos. La idea con este tamaño es que no sea muy grande, para que no alente mucho a los modelos, pero tampoco puede ser muy chico, si fuera así se terminarían truncando muchos de los textos."
      ]
    },
    {
      "cell_type": "code",
      "metadata": {
        "colab": {
          "base_uri": "https://localhost:8080/"
        },
        "id": "BDFQxu4X47ir",
        "outputId": "a0554dae-23f5-4fcc-e964-aa340c5c7317"
      },
      "source": [
        "text_lengths = [len(text) for text in processed_ds]\n",
        "print(f\"The mean of the text lengths is {np.mean(text_lengths)}\")\n",
        "print(f\"The median of the text lengths is {np.median(text_lengths)}\")"
      ],
      "execution_count": null,
      "outputs": [
        {
          "output_type": "stream",
          "text": [
            "The mean of the text lengths is 436.2258823058527\n",
            "The median of the text lengths is 144.0\n"
          ],
          "name": "stdout"
        }
      ]
    },
    {
      "cell_type": "markdown",
      "metadata": {
        "id": "Iu81rYA06XLc"
      },
      "source": [
        "Como se puede ver, el promedio de longitudes está por encima de 400 palabras. Esto significa que hay textos muy largos, pro encima de 500 palabras, pero también hay muchos muy cortos. Incluso es posible que haya textos extremadamente grandes, 1000+ palabras, que terminan afectando el promedio. Por eso, la longitud de secuencia que se usará será algo más cercano a la mediana, que resultó en 144. Se piensa que **200** es un buen tamaño, ya que, al estar después de la mediana significa que no se estarán truncando muchos de los textos, pero también es importante considerar que 200 no es un tamaño muy grande, por ejemplo si se compara con el máximo tamaño que puede aceptar BERT de 512 palabras."
      ]
    },
    {
      "cell_type": "markdown",
      "metadata": {
        "id": "uYro2Z0KGa_x"
      },
      "source": [
        "# 3. Selección y entrenamiento de modelos\n",
        "Ahora sí, ya que se tiene el dataset construido y comprendido, la siguiente etapa consiste en la construcción, entrenamiento y evaluación de los modelos. Primero se va a explicar la selección de los modelos junto con el razonamiento que se tuvo para cada uno. Después, se va a mostrar el proceso para construir los training, validation y testing sets apropiados para cada modelo. Una vez que se tengan, se procede a definir los hiperparámetros, así como las funciones de costo y optimización que se estarán usando.\n",
        "\n",
        "Finalmente, se mostrará el entrenamiento de los modelos, junto con sus métricas de evaluación resultantes. Cabe mencionar que para cada uno, justo después de su evaluación, se harán observaciones sobre los resultados y se mencionarán algunas limitaciones que tiene el modelo."
      ]
    },
    {
      "cell_type": "markdown",
      "metadata": {
        "id": "a6hV-7wPOJ6J"
      },
      "source": [
        "## 3.1 Modelos Seleccionados\n",
        "A continuación se describen los 3 modelos que se implementaron:\n",
        "\n",
        "### BERT\n",
        "BERT fue introducido en el siguiente paper: https://arxiv.org/pdf/1810.04805.pdf. Las características principales que definen a este modelo es que aplica una técnica bidireccional de entrenamiento al transformador para el modelamiento del lenguaje. Esto lo ayuda a que tenga un mejor sentido del contexto y flujo del texto que está procesando. Los autores hicieron esto usando una técnica que llamarom **Masked Language Modeling (MLM)**, en la cual 15% de las palabras en cada secuencia son reemplazadas por un token [MASK]. Después tratan que el modelo prediga los valores originales, basado en el contexto por las palabras no enmascaradas.\n",
        "\n",
        "La otra técnica de entrenamiento que usaron los autores es llamada **Next Sentence Prediction**, donde el modelo recibe pares de oraciones como entrada y aprende a predecir si la segunda oración es subsecuente a la primera en el documento original. 50% de las entradas sí lo son, mientras que el resto no lo son. \n",
        "\n",
        "Se está entrando en mucho detalle en BERT, debido a que los siguintes modelos tomaron inspiración, sino es que están basados en BERT.\n",
        "\n",
        "Las **limitaciones principales** que tiene BERT son:\n",
        "- Solamente puede manejar secuencias de hasta 512 tokens\n",
        "- Corrompe las entradas al modificarlas para usar los tokens de [MASK]\n",
        "- No toma en cuenta la dependencia entre tokens enmascarados\n",
        "\n",
        "### RoBERTa\n",
        "Fue introducido por Facebook, y la idea era presentar un acercamiento robustamente optimizado a lo que se presentó con BERT. Este es el paper original: https://arxiv.org/abs/1907.11692. Los autores decidieron enfocar este modelo en el objetivo de MLM de BERT, desechando por completo el objetivo de NSP. Esto les permitió modificar hiperparámetros clave de BERT para enfocarse en ese objetivo y alcanzar el estado-del-arte en varias tareas distinas.\n",
        "\n",
        "Las **limitaciones principales** que tiene RoBERTa son:\n",
        "- Se podría decir que este modelo pueda compartir las limitaciones que BERT tiene, dado que, como mencionan los autores del paper, \"BERT no estaba lo suficientemente entrenado, por lo que pusimos unas mejoras para eso.\"\n",
        "\n",
        "### XLNet\n",
        "El tercer y último modelo que se implementó fue llamado XLNet. De igual manera, también toma algunas de sus ideas de BERT, sin embargo, hace un cambio clave al objetivo de entrenamiento. XLNet lo que busca es aprender las distribuciones condicionales para todas las permutaciones de los tokens en una secuencia, llamado **Permutation Language Modeling**. Es un acercamiento diferente pero que también puede capturar el contexto bidireccional utilizando información contextual. El paper original es: https://arxiv.org/abs/1906.08237.\n",
        "\n",
        "**Limitaciones**:\n",
        "\n",
        "Para XLNet no se pudieron encontrar limitaciones específicas, lo cual tiene sentido dado que es de lo más nuevo que ha salido. Sin embargo, es claro que cuando se tenga más tiempo de analizar el modelo se irán mostrando sus desventajas. Personalmente, para este proyecto una limitación fue que XLNet fue el modelo que más tiempo tomó para entrenar, y cmo se verá más adelante, fue el que obtuvo peores resultados, quizás porque no se hizo transfer learning por el tiempo apropiado.\n",
        "\n",
        "\n",
        "\n"
      ]
    },
    {
      "cell_type": "markdown",
      "metadata": {
        "id": "WF2QL6ECWa2a"
      },
      "source": [
        "Estos modelos claramente son el estado-del-arte actual en cuanto a procesamiento de lenguaje natural. Esa es la razón principal por la que se querían incluir en el proyecto, ya que sería una muy buena experiencia de aprendizaje poder trabajar con dichos modelos. En cuanto a la implementación en sí, se está utilizando el módulo de **Transformadores** construido por **HuggingFace** para importar los modelos ya pre-entrenados. Se pueden encontrar en: https://huggingface.co/models. Una vez que se importan, se aplica transfer learning para que los modelos aprendan del dataset que se construyó aquí y puedan sacar resultados específicos para eso."
      ]
    },
    {
      "cell_type": "markdown",
      "metadata": {
        "id": "3AnuQjaaepHR"
      },
      "source": [
        "## 3.2 Plan de entrenamiento\n",
        "### Hiperparámetros\n",
        "Los hiperparámetros se manejaron de dos formas, primero para la construcción de los sets de datos y los embeddings de las entradas; y segundo, para el entrenamiento de los modelos.\n",
        "\n",
        "Para el primer punto se utilizó:\n",
        "- Training set size de 70% de los datos\n",
        "- Validation set size de 15% de los datos\n",
        "- Testing set size de 15% de los datos\n",
        "- Embedding sequence length de 200 tokens máximo, si la secuencia es menor se agrega padding, si es mayor se trunca.\n",
        "\n",
        "Para el segundo punto se utilizó:\n",
        "- Batch size de 128\n",
        "- Learning rate de 0.01\n",
        "- Epochs de 2\n",
        "\n",
        "### Función de costo y optimización\n",
        "- La función de costo usada fue Binary Crossentropy, la función que provee Keras\n",
        "- Para el optimizador se utilizó Adam tradicional, igualmente la función que provee Keras\n",
        "\n",
        "### Técnicas para evitar under- y overfitting\n",
        "- En cuanto a underfitting, dado que los modelos ya están pre-entrenados y sólo se quiere hace transfer learning, se piensa que es muy difícil que el modelo haga underfitting, por lo que no se utilizó una técnica en específico.\n",
        "-En cuanto a overfitting, se introdujo una capa de Dropout a la arquitectura de los modelos, junto con algunas otras capas, como GlobalAveragePooling y Dense, para conformar la aqruitectura completa del modelo.\n",
        "- Se puede decir que inclusive el recorte de datos en el dataset de 400 mil a 100 mil también ayudó a que el modelo no cayera en overfitting.\n",
        "\n"
      ]
    },
    {
      "cell_type": "markdown",
      "metadata": {
        "id": "qHbzq8kYlQ4P"
      },
      "source": [
        "## 3.3. Métricas de desempeño\n",
        "Las métricas de evaluación se utilizaron son:\n",
        "- Binary Accuracy\n",
        "- Precision\n",
        "- Recall\n",
        "- Confusion matrix que provee ScikitLearn\n",
        "\n",
        "Desde que se dedujeron las limitaciones del set de datos, que se trataron en la sección 1.3, se supo que quizás la **accuracy** no sería la métrica de evaluación más apropiada para evaluar los modelos. Aún así se calculó, dado que se piensa que todavía tiene algo de valor. Como se había mencionado antes, se hicieron generalizaciones grandes al hacer el etiquetado, por lo que puede que haya falsos positivos y negativos en el dataset, sobre todo los primeros. Por esta razón, se piensa que **precision** es la métrica más apropiada, ya que al sólo fijarse en los positivos, tanto verdaderos como falsos, da una muy buena idea de la calidad del modelo.\n",
        "\n",
        "**Recall** se piensa que también fue una buena métrica, más que todo porque ayuda a rectificar aún más que los modelos sí tuvieron buenos resultados, complementando la precisión.\n",
        "\n",
        "La parte más importante de la evaluación fue sin duda construir la matriz de confusión, ya que se piensa que aquí es donde mejor se puede visualizar cómo está trabajando el modelo. Inclusive, se implementó una función para saacar una gráfica más visual de la matriz utilizando el módulo de *Seaborn*.\n",
        "\n",
        "En general, se piensa que estas 3 métricas principales se complementan entre las 3 para dar una muy buena evaluación, o tener una perspectiva muy completa de lo que está haciendo el modelo. Más adelante, para cada modelo se muestran sus respectivas métricas junto con su gráfica de la función de costo, así como la gráfica de la matriz de confusión.\n",
        "\n",
        "Habiendo dicho esto, a continuación se explica la implementación específica para los modelos."
      ]
    },
    {
      "cell_type": "markdown",
      "metadata": {
        "id": "19FSzWxa-pVw"
      },
      "source": [
        "La siguiente celda descarga los 3 modelos de HuggingFace, junto con su respectivo tokenizer. Como se puede notar, se guardan los 3 modelos aparte, y lo mismo se hace con sus tokenizers. Los modelos que se están descargando son los que se mencionaron previamente."
      ]
    },
    {
      "cell_type": "code",
      "metadata": {
        "id": "7IzUeOvB7EoC",
        "colab": {
          "base_uri": "https://localhost:8080/",
          "height": 978,
          "referenced_widgets": [
            "2e01ceabcffc4cf98aa4fcdcca7a56a3",
            "3479c08c544b44068d12f40a616f54be",
            "0e7d484f35b64aeab07ab1cb31991134",
            "e247bd26860947c4a72fe1cecbb312f4",
            "19807de5a05945b282cd355076dfb9ee",
            "289467be8de240b0826a84027ec3a8d0",
            "28129fa10b584ddd9206902c88d8e09b",
            "bb769467de594bfd948d3b440962b3a9",
            "a4c0602e7db040f0acebd4fbe4695a7b",
            "b900615d071a4ca1baf01f112c7652ae",
            "194b2c0b6f954185b921012423c96320",
            "2c989688324041b3865c6769462e9067",
            "68864902d3b94fc2ba1f7bf5b7a1cdbf",
            "18e6d55b567c47b69136a830c64b59ce",
            "cddd7fe2e90a4819a6f29fb2c716e11e",
            "8b3a7017cb5e47aa96ceedf98d670e2e",
            "79644942fc96477796c47eeae7f82d5b",
            "ac9df435da8e40a5850e895768ed3bf8",
            "71ea5d50217147c4bd9c532099aac11c",
            "2ae5c6c5de3a4fdeb6cca91d862286f2",
            "d8fa10d8378e4261ae84d855ac860d39",
            "c82046e300c849fc907040c15185293a",
            "6ef304b4a2384b37883099003215a75b",
            "6e5807d7087340b6819ad5dfabcdd430",
            "28f2fceeaf204f229c01e0d79a0e5e65",
            "47f0d433877d48e78b9d0582bdb829b2",
            "4c1efdf0ed4548d1bb0c9a23d95950d5",
            "9037fb2e7b0d46c998e9f1a8c998b060",
            "1f2bd873362740dcb2680fc43c4be626",
            "aa2be99ce3924ee2a12c5fc3e6e17f0f",
            "c25e2a3d3e304c66a8df7234f01e6437",
            "840cdccdfc2b46359fa8fd98f5b4619d",
            "62b4f5265774476eb4808cf6678f3264",
            "1816818472b34d1d9bb0ff4677fd43fa",
            "0d8045f17bb14ec994d3dd0ec6a6e496",
            "9e74bebb24c04d7593b41f274ce63aab",
            "c4b117c307cc4c87ae99bc90a093f437",
            "5bd44588d45446f8bc13eda1965243b8",
            "98a2afd29e17451499bd1f7620ad1886",
            "24e7508f9d8a4abb831671723d2cd805",
            "357520c568674cb789a9a46f65254d4c",
            "22195e573fb54b179577312f4a866e79",
            "5f34c1639f21412cae07e6702878d2d6",
            "b279461a376145b282ac4ce05ff5123c",
            "ccfbd8a703db41a6961fa83746cb279f",
            "34c7c8afa4f84e938860e2d3b2855b54",
            "a404fb4b09014e1484a81ebe05e1f5a8",
            "87b48ba9af9f4a02b1fd66795e48bcdf",
            "d47b868973654e32802481287fbf4c46",
            "e8002ba35e0646e4bc6a7c49bae12e37",
            "b10217e321994418a0a2f392f61347d2",
            "5a4f4e9c2efc4cd987f5209cfa8c137e",
            "d9773159516448018f84ca090427637e",
            "bfee1c09b7ea49e787867ed24837d4f8",
            "939ef8a2710e4e958ce0ebadaac49af9",
            "ab413c5a1fed4762bf3d609c508a262b",
            "fa0c1077249e47d597ef29d7ffd426ae",
            "bc3e4a01d40946e19a8041dc51ac8dda",
            "9967cadf1b1240bf9276e6c12721a889",
            "d9c319dd0a7b4ab3955c694865c3dbe9",
            "17dc8395e3e84b739faa080b2dad69e8",
            "757775e672c14b69a91011c923fa254a",
            "e6009facc4d54d81917e14f837eff2cd",
            "b8101c5ecf2f4af69f24a4a5ea6a9268",
            "c9d18fe865a84ecab72186e8cb638dd6",
            "42f7c3baf5ef4b26a073d25ac46732e4",
            "410426cd814e42b29c13af47bf73bece",
            "47e70adf447f48c1b5938b74ffba85e3",
            "ea124c45220e457a862f043bfab92b82",
            "056da847a5af4e6cae3ded4dcbc6403b",
            "cd69a6201b9444309320b6460b5663eb",
            "7ef66f50d2be41a085d81254f3b9cabc",
            "8c3fa6afaf7d43b882f27fa1468acfd5",
            "caad3ae3dcc54b368229f5b11c3ec4f2",
            "f793dcd592a2408e875c19b900c794af",
            "fbcdacb4a2394a3f92cc51afa71d6412",
            "4ab776bd165c47b497ac52bac68e3380",
            "638dd8ffff464829a27305674d3316c0",
            "30c588198b64410aa4299040503b8df4",
            "929287155db64b26ada7e5d5edf7d603",
            "23d8cfbab5444c0792d5fd514a58ba9c",
            "51d3251064b9496d9424f6beebca9270",
            "d714f3b05d2c40b0a9580afa498a52e8",
            "4fc8a2974d2a492eba6bb1beb86f93ed",
            "63787e3099cc48ebb4f96d8acfdc6552",
            "0cd2c9019180485fa3d12ec251805e64",
            "cee5426ae778418f8be4d802e223bb9e",
            "176ea3fcb4364aa89164a6915241b9cc",
            "602510983fe341718e6dc108fa363c21",
            "6fd3f804d25d4358ab29ab59c1bc96fe",
            "737a079530324827abe17822fb184e03",
            "a842840cac31446cae2a5b3e9391dc1d",
            "c22cdc303b4e4fe09d9f9551f595a872",
            "c7da2c0acb5b4fb9abfbfe9107aa8f5f",
            "2d7c22771a51477ebf33325b84c265b5",
            "5f6bc924db89439da9946c61a3ac0e0c",
            "1266e02424994d45be76326b60029c7d",
            "a501809d935242a3b8d43adf2a7d80b4",
            "a79bb827e91747f5a5b153e379375002",
            "bfc02ed5775b4b6b8afc5f1f25ae8f47",
            "79cc1a3cbd0a49968118f24a2f4cb444",
            "39b392af85744a0f81f78e4bedf8be15",
            "dbf49106c72b4d9abcb551795e972b71",
            "6fbbdbf62e94475998b0c8b2c02ce9ef",
            "08dc1339af94483881bcfb1b465cdcd9",
            "32e3d5f9a20e4fbe93be589595f7fc46",
            "1acbbbf73edd4e0d92b7a3720b652bef",
            "64876dd0b3214691ad854ce41ffafb90",
            "f80e854aac3240fd8f435ce25cda2268",
            "637dba8b9660485a9f918d3df20c3e0c",
            "0a03bf158d794f3aaaf6ddb372d70068",
            "61c407aba4ee4e898a45cb414d4ccc25"
          ]
        },
        "outputId": "b4dc3e60-069a-4ad9-c800-e5a4b1672775"
      },
      "source": [
        "bert = TFAutoModel.from_pretrained('bert-base-cased')\n",
        "tokenizerBert = AutoTokenizer.from_pretrained('bert-base-cased')\n",
        "\n",
        "roberta = TFAutoModel.from_pretrained('roberta-base')\n",
        "tokenizerRoberta = AutoTokenizer.from_pretrained('roberta-base')\n",
        "\n",
        "xlnet = TFAutoModel.from_pretrained('xlnet-base-cased')\n",
        "tokenizerXlnet = AutoTokenizer.from_pretrained('xlnet-base-cased')"
      ],
      "execution_count": null,
      "outputs": [
        {
          "output_type": "display_data",
          "data": {
            "application/vnd.jupyter.widget-view+json": {
              "model_id": "2e01ceabcffc4cf98aa4fcdcca7a56a3",
              "version_minor": 0,
              "version_major": 2
            },
            "text/plain": [
              "HBox(children=(FloatProgress(value=0.0, description='Downloading', max=570.0, style=ProgressStyle(description_…"
            ]
          },
          "metadata": {
            "tags": []
          }
        },
        {
          "output_type": "stream",
          "text": [
            "\n"
          ],
          "name": "stdout"
        },
        {
          "output_type": "display_data",
          "data": {
            "application/vnd.jupyter.widget-view+json": {
              "model_id": "a4c0602e7db040f0acebd4fbe4695a7b",
              "version_minor": 0,
              "version_major": 2
            },
            "text/plain": [
              "HBox(children=(FloatProgress(value=0.0, description='Downloading', max=526681800.0, style=ProgressStyle(descri…"
            ]
          },
          "metadata": {
            "tags": []
          }
        },
        {
          "output_type": "stream",
          "text": [
            "\n"
          ],
          "name": "stdout"
        },
        {
          "output_type": "stream",
          "text": [
            "Some layers from the model checkpoint at bert-base-cased were not used when initializing TFBertModel: ['mlm___cls', 'nsp___cls']\n",
            "- This IS expected if you are initializing TFBertModel from the checkpoint of a model trained on another task or with another architecture (e.g. initializing a BertForSequenceClassification model from a BertForPreTraining model).\n",
            "- This IS NOT expected if you are initializing TFBertModel from the checkpoint of a model that you expect to be exactly identical (initializing a BertForSequenceClassification model from a BertForSequenceClassification model).\n",
            "All the layers of TFBertModel were initialized from the model checkpoint at bert-base-cased.\n",
            "If your task is similar to the task the model of the checkpoint was trained on, you can already use TFBertModel for predictions without further training.\n"
          ],
          "name": "stderr"
        },
        {
          "output_type": "display_data",
          "data": {
            "application/vnd.jupyter.widget-view+json": {
              "model_id": "79644942fc96477796c47eeae7f82d5b",
              "version_minor": 0,
              "version_major": 2
            },
            "text/plain": [
              "HBox(children=(FloatProgress(value=0.0, description='Downloading', max=213450.0, style=ProgressStyle(descripti…"
            ]
          },
          "metadata": {
            "tags": []
          }
        },
        {
          "output_type": "stream",
          "text": [
            "\n"
          ],
          "name": "stdout"
        },
        {
          "output_type": "display_data",
          "data": {
            "application/vnd.jupyter.widget-view+json": {
              "model_id": "28f2fceeaf204f229c01e0d79a0e5e65",
              "version_minor": 0,
              "version_major": 2
            },
            "text/plain": [
              "HBox(children=(FloatProgress(value=0.0, description='Downloading', max=435797.0, style=ProgressStyle(descripti…"
            ]
          },
          "metadata": {
            "tags": []
          }
        },
        {
          "output_type": "stream",
          "text": [
            "\n"
          ],
          "name": "stdout"
        },
        {
          "output_type": "display_data",
          "data": {
            "application/vnd.jupyter.widget-view+json": {
              "model_id": "62b4f5265774476eb4808cf6678f3264",
              "version_minor": 0,
              "version_major": 2
            },
            "text/plain": [
              "HBox(children=(FloatProgress(value=0.0, description='Downloading', max=29.0, style=ProgressStyle(description_w…"
            ]
          },
          "metadata": {
            "tags": []
          }
        },
        {
          "output_type": "stream",
          "text": [
            "\n"
          ],
          "name": "stdout"
        },
        {
          "output_type": "display_data",
          "data": {
            "application/vnd.jupyter.widget-view+json": {
              "model_id": "357520c568674cb789a9a46f65254d4c",
              "version_minor": 0,
              "version_major": 2
            },
            "text/plain": [
              "HBox(children=(FloatProgress(value=0.0, description='Downloading', max=481.0, style=ProgressStyle(description_…"
            ]
          },
          "metadata": {
            "tags": []
          }
        },
        {
          "output_type": "stream",
          "text": [
            "\n"
          ],
          "name": "stdout"
        },
        {
          "output_type": "display_data",
          "data": {
            "application/vnd.jupyter.widget-view+json": {
              "model_id": "d47b868973654e32802481287fbf4c46",
              "version_minor": 0,
              "version_major": 2
            },
            "text/plain": [
              "HBox(children=(FloatProgress(value=0.0, description='Downloading', max=657434796.0, style=ProgressStyle(descri…"
            ]
          },
          "metadata": {
            "tags": []
          }
        },
        {
          "output_type": "stream",
          "text": [
            "\n"
          ],
          "name": "stdout"
        },
        {
          "output_type": "stream",
          "text": [
            "Some layers from the model checkpoint at roberta-base were not used when initializing TFRobertaModel: ['lm_head']\n",
            "- This IS expected if you are initializing TFRobertaModel from the checkpoint of a model trained on another task or with another architecture (e.g. initializing a BertForSequenceClassification model from a BertForPreTraining model).\n",
            "- This IS NOT expected if you are initializing TFRobertaModel from the checkpoint of a model that you expect to be exactly identical (initializing a BertForSequenceClassification model from a BertForSequenceClassification model).\n",
            "All the layers of TFRobertaModel were initialized from the model checkpoint at roberta-base.\n",
            "If your task is similar to the task the model of the checkpoint was trained on, you can already use TFRobertaModel for predictions without further training.\n"
          ],
          "name": "stderr"
        },
        {
          "output_type": "display_data",
          "data": {
            "application/vnd.jupyter.widget-view+json": {
              "model_id": "fa0c1077249e47d597ef29d7ffd426ae",
              "version_minor": 0,
              "version_major": 2
            },
            "text/plain": [
              "HBox(children=(FloatProgress(value=0.0, description='Downloading', max=898823.0, style=ProgressStyle(descripti…"
            ]
          },
          "metadata": {
            "tags": []
          }
        },
        {
          "output_type": "stream",
          "text": [
            "\n"
          ],
          "name": "stdout"
        },
        {
          "output_type": "display_data",
          "data": {
            "application/vnd.jupyter.widget-view+json": {
              "model_id": "c9d18fe865a84ecab72186e8cb638dd6",
              "version_minor": 0,
              "version_major": 2
            },
            "text/plain": [
              "HBox(children=(FloatProgress(value=0.0, description='Downloading', max=456318.0, style=ProgressStyle(descripti…"
            ]
          },
          "metadata": {
            "tags": []
          }
        },
        {
          "output_type": "stream",
          "text": [
            "\n"
          ],
          "name": "stdout"
        },
        {
          "output_type": "display_data",
          "data": {
            "application/vnd.jupyter.widget-view+json": {
              "model_id": "8c3fa6afaf7d43b882f27fa1468acfd5",
              "version_minor": 0,
              "version_major": 2
            },
            "text/plain": [
              "HBox(children=(FloatProgress(value=0.0, description='Downloading', max=1355863.0, style=ProgressStyle(descript…"
            ]
          },
          "metadata": {
            "tags": []
          }
        },
        {
          "output_type": "stream",
          "text": [
            "\n"
          ],
          "name": "stdout"
        },
        {
          "output_type": "display_data",
          "data": {
            "application/vnd.jupyter.widget-view+json": {
              "model_id": "23d8cfbab5444c0792d5fd514a58ba9c",
              "version_minor": 0,
              "version_major": 2
            },
            "text/plain": [
              "HBox(children=(FloatProgress(value=0.0, description='Downloading', max=760.0, style=ProgressStyle(description_…"
            ]
          },
          "metadata": {
            "tags": []
          }
        },
        {
          "output_type": "stream",
          "text": [
            "\n"
          ],
          "name": "stdout"
        },
        {
          "output_type": "display_data",
          "data": {
            "application/vnd.jupyter.widget-view+json": {
              "model_id": "602510983fe341718e6dc108fa363c21",
              "version_minor": 0,
              "version_major": 2
            },
            "text/plain": [
              "HBox(children=(FloatProgress(value=0.0, description='Downloading', max=565485600.0, style=ProgressStyle(descri…"
            ]
          },
          "metadata": {
            "tags": []
          }
        },
        {
          "output_type": "stream",
          "text": [
            "\n"
          ],
          "name": "stdout"
        },
        {
          "output_type": "stream",
          "text": [
            "Some layers from the model checkpoint at xlnet-base-cased were not used when initializing TFXLNetModel: ['lm_loss']\n",
            "- This IS expected if you are initializing TFXLNetModel from the checkpoint of a model trained on another task or with another architecture (e.g. initializing a BertForSequenceClassification model from a BertForPreTraining model).\n",
            "- This IS NOT expected if you are initializing TFXLNetModel from the checkpoint of a model that you expect to be exactly identical (initializing a BertForSequenceClassification model from a BertForSequenceClassification model).\n",
            "All the layers of TFXLNetModel were initialized from the model checkpoint at xlnet-base-cased.\n",
            "If your task is similar to the task the model of the checkpoint was trained on, you can already use TFXLNetModel for predictions without further training.\n"
          ],
          "name": "stderr"
        },
        {
          "output_type": "display_data",
          "data": {
            "application/vnd.jupyter.widget-view+json": {
              "model_id": "1266e02424994d45be76326b60029c7d",
              "version_minor": 0,
              "version_major": 2
            },
            "text/plain": [
              "HBox(children=(FloatProgress(value=0.0, description='Downloading', max=798011.0, style=ProgressStyle(descripti…"
            ]
          },
          "metadata": {
            "tags": []
          }
        },
        {
          "output_type": "stream",
          "text": [
            "\n"
          ],
          "name": "stdout"
        },
        {
          "output_type": "display_data",
          "data": {
            "application/vnd.jupyter.widget-view+json": {
              "model_id": "08dc1339af94483881bcfb1b465cdcd9",
              "version_minor": 0,
              "version_major": 2
            },
            "text/plain": [
              "HBox(children=(FloatProgress(value=0.0, description='Downloading', max=1382015.0, style=ProgressStyle(descript…"
            ]
          },
          "metadata": {
            "tags": []
          }
        },
        {
          "output_type": "stream",
          "text": [
            "\n"
          ],
          "name": "stdout"
        }
      ]
    },
    {
      "cell_type": "markdown",
      "metadata": {
        "id": "BIYmbukzrVOe"
      },
      "source": [
        "Aquí se definen algunos de los hiperparámetros básicos que se mencionaron."
      ]
    },
    {
      "cell_type": "code",
      "metadata": {
        "id": "2OY-DKpBBhQQ"
      },
      "source": [
        "SEQ_LEN = 200\n",
        "BATCH_SIZE = 128\n",
        "LEARNING_RATE = 0.01\n",
        "EPOCHS = 2\n",
        "DS_LEN = len(processed_ds)\n",
        "\n",
        "train_size = int(0.7 * DS_LEN)\n",
        "val_size = int(0.15 * DS_LEN)\n",
        "test_size = int(0.15 * DS_LEN)"
      ],
      "execution_count": null,
      "outputs": []
    },
    {
      "cell_type": "markdown",
      "metadata": {
        "id": "JCM8ehbnrqeA"
      },
      "source": [
        "## 3.4 Creación de training, validation y testing sets\n",
        "A continuación se implementan 3 funciones necesarias para crear los 3 sets de datos necesarios. Cabe mencionar que estos ya no tendrán los textos como tal, sino que contendrán los embeddings generados por el tokenizer de cada modelo.\n",
        "\n",
        "La primera función genera el embedding de un texto. Nótese que recibe el objeto del tokenizer como argumento, debido a que se le estará mandando un tokenizer diferente dependiendo de para cual modelo se estén generando los embeddings. Regresa los inputs IDs, así como la attention mask generada."
      ]
    },
    {
      "cell_type": "code",
      "metadata": {
        "id": "HQ8_eDnBEqup"
      },
      "source": [
        "def tokenize(sentence, tokenizer):\n",
        "    tokens = tokenizer.encode_plus(sentence, max_length=SEQ_LEN,\n",
        "                                   truncation=True, padding='max_length',\n",
        "                                   add_special_tokens=True, return_attention_mask=True,\n",
        "                                   return_token_type_ids=False, return_tensors='tf')\n",
        "    return tokens['input_ids'], tokens['attention_mask']"
      ],
      "execution_count": null,
      "outputs": []
    },
    {
      "cell_type": "markdown",
      "metadata": {
        "id": "s9IsMOyms-xh"
      },
      "source": [
        "La segunda función sirve simplemente para genera un diccionario que contenga los input IDs y la attention mask. Regresa el diccionario generado junto con las labels que recibe."
      ]
    },
    {
      "cell_type": "code",
      "metadata": {
        "id": "al8vh7NMEu6_"
      },
      "source": [
        "def map_func(input_ids, masks, labels):\n",
        "    return {'input_ids': input_ids, 'attention_mask': masks}, labels"
      ],
      "execution_count": null,
      "outputs": []
    },
    {
      "cell_type": "markdown",
      "metadata": {
        "id": "lEXyiiXQtTRq"
      },
      "source": [
        "La terera función es la más importante. Utiliza las dos anteriores para generar el dataset tokenizado. A partir de los input IDs y attention mask de todas las secuencias, crea un Tensorflow Dataset, que será el que se va a estar alimentando a los modelos."
      ]
    },
    {
      "cell_type": "code",
      "metadata": {
        "id": "CQM1pQ7RLR9S"
      },
      "source": [
        "def create_tokenized_ds(ds, labels, tokenizer):\n",
        "    text_ids = np.zeros((len(ds), SEQ_LEN))\n",
        "    text_mask = np.zeros((len(ds), SEQ_LEN))\n",
        "\n",
        "    for i, sentence in enumerate(ds):\n",
        "        text_ids[i, :], text_mask[i, :] = tokenize(sentence, tokenizer)\n",
        "\n",
        "    new_ds = tf.data.Dataset.from_tensor_slices((text_ids, text_mask, labels))\n",
        "    new_ds = new_ds.map(map_func)\n",
        "    new_ds = new_ds.batch(BATCH_SIZE)\n",
        "\n",
        "    return new_ds"
      ],
      "execution_count": null,
      "outputs": []
    },
    {
      "cell_type": "markdown",
      "metadata": {
        "id": "HKSmkFZ4tm9b"
      },
      "source": [
        "Aquí se crean los 3 sets de datos para cada uno de los modelos. A decir verdad, no se probó si el mismo set de datos funcionaría para los 3 modelos, pero se piensa que es mejor sacrificar el espacio extra de tener los 9 sets, debido a que muy probablemente cada tokenizer genera los embeddings optimizados para su propio modelo, y se quiere aprovechar ese punto."
      ]
    },
    {
      "cell_type": "code",
      "metadata": {
        "id": "m4U1yODtMVCA"
      },
      "source": [
        "train_ds_bert = create_tokenized_ds(processed_ds[:train_size], labels[:train_size], tokenizerBert)\n",
        "val_ds_bert = create_tokenized_ds(processed_ds[train_size : (train_size+val_size)], labels[train_size : (train_size+val_size)], tokenizerBert)\n",
        "test_ds_bert = create_tokenized_ds(processed_ds[(train_size+val_size):], labels[(train_size+val_size):], tokenizerBert)\n",
        "\n",
        "train_ds_roberta = create_tokenized_ds(processed_ds[:train_size], labels[:train_size], tokenizerRoberta)\n",
        "val_ds_roberta = create_tokenized_ds(processed_ds[train_size : (train_size+val_size)], labels[train_size : (train_size+val_size)], tokenizerRoberta)\n",
        "test_ds_roberta = create_tokenized_ds(processed_ds[(train_size+val_size):], labels[(train_size+val_size):], tokenizerRoberta)\n",
        "\n",
        "train_ds_xlnet = create_tokenized_ds(processed_ds[:train_size], labels[:train_size], tokenizerXlnet)\n",
        "val_ds_xlnet = create_tokenized_ds(processed_ds[train_size : (train_size+val_size)], labels[train_size : (train_size+val_size)], tokenizerXlnet)\n",
        "test_ds_xlnet = create_tokenized_ds(processed_ds[(train_size+val_size):], labels[(train_size+val_size):], tokenizerXlnet)"
      ],
      "execution_count": null,
      "outputs": []
    },
    {
      "cell_type": "markdown",
      "metadata": {
        "id": "vqBtCsPAt_Xj"
      },
      "source": [
        "## 3.5 Construcción de los modelos\n",
        "Las siguientes celdas implementan las funciones para la construcción de los modelos. Primero se definen algunas funciones que serán muy útiles, y después se construyen los modelos en sí."
      ]
    },
    {
      "cell_type": "markdown",
      "metadata": {
        "id": "W34tIUbJuSI9"
      },
      "source": [
        "La primera función, toma el historial de un modelo y genera la gráfica de la función de costo para el set de entrenamiento y el de validación."
      ]
    },
    {
      "cell_type": "code",
      "metadata": {
        "id": "nK3TG7qYQUAL"
      },
      "source": [
        "def plot_history_loss(history):\n",
        "    plt.plot(history.history['loss'])\n",
        "    plt.plot(history.history['val_loss'])\n",
        "    plt.title('model loss')\n",
        "    plt.ylabel('loss')\n",
        "    plt.xlabel('epoch')\n",
        "    plt.legend(['train', 'val'], loc='upper right')\n",
        "    plt.show()"
      ],
      "execution_count": null,
      "outputs": []
    },
    {
      "cell_type": "markdown",
      "metadata": {
        "id": "gYEmtOEpuaxO"
      },
      "source": [
        "La segunda función toma un modelo y toma el set de testing. Aquí se generan las predicciones de ese modelo con el set de datos recibido, y posteriormente utilizando dichas predicciones, así como las labels reales, se genera la gráfica de la matriz de confusión para ese modelo."
      ]
    },
    {
      "cell_type": "code",
      "metadata": {
        "id": "5WHWc84OeL0_"
      },
      "source": [
        "def plot_confusion_matrix(model, test_ds):\n",
        "    predictions = np.round(model.predict(test_ds).flatten())    \n",
        "    test_labels = labels[(train_size+val_size):]\n",
        "\n",
        "    cm = confusion_matrix(test_labels, predictions)\n",
        "    df_cm = pd.DataFrame(cm, range(2), range(2))\n",
        "\n",
        "    sn.set(font_scale=1.4) # for label size\n",
        "    sn.heatmap(df_cm, annot=True, annot_kws={\"size\": 16}, fmt='d') # font size\n",
        "\n",
        "    plt.show()"
      ],
      "execution_count": null,
      "outputs": []
    },
    {
      "cell_type": "markdown",
      "metadata": {
        "id": "ZhrsdoIEu619"
      },
      "source": [
        "La tercera función define la arquitectura del modelo y genera el objeto de Keras listo para compilarse. Aquí hay dos cosas que valen la pena mencionar:\n",
        "- La primera es que se está utilizando la misma arquitectura para los 3 modelos. Lo cual es cierto, pero solo en parte, por un lado, sí se están agregando algunas capas aquí, pero estas son principalemnte para acomodar los inputs y para evitar el overfitting con dropout. Por el otro lado, la capa del transformador, la principal en el modelo, va a ser distinta, que es lo más importante.\n",
        "- El segundo punto es que se está utilizando el API Funcional de Keras. Esto es más una nota personal, dado que nunca se había trabajo con este API, siempre con el secuencial."
      ]
    },
    {
      "cell_type": "code",
      "metadata": {
        "id": "inIjWcNcONBS"
      },
      "source": [
        "def create_model(transformer):\n",
        "    input_ids = tf.keras.layers.Input(shape=(SEQ_LEN,), name='input_ids', dtype='int32')\n",
        "    mask = tf.keras.layers.Input(shape=(SEQ_LEN,), name='attention_mask', dtype='int32')\n",
        "\n",
        "    embeddings = transformer(input_ids, attention_mask=mask)[0]\n",
        "\n",
        "    X = tf.keras.layers.GlobalAveragePooling1D()(embeddings)\n",
        "    X = tf.keras.layers.BatchNormalization()(X)\n",
        "    X = tf.keras.layers.Dense(128, activation='relu')(X)\n",
        "    X = tf.keras.layers.Dropout(0.1)(X)\n",
        "    y = tf.keras.layers.Dense(1, activation='sigmoid', name='outputs')(X)\n",
        "\n",
        "    return tf.keras.Model(inputs=[input_ids, mask], outputs=y)"
      ],
      "execution_count": null,
      "outputs": []
    },
    {
      "cell_type": "markdown",
      "metadata": {
        "id": "QDMC1hCLvvRu"
      },
      "source": [
        "Ya con la función para crear el modelo lista, lo único que resta es definir la función de costo, el optimizador, así como las métricas de evaluación que proporciona Keras."
      ]
    },
    {
      "cell_type": "code",
      "metadata": {
        "id": "u-_I4Fm4Pri7"
      },
      "source": [
        "optimizer = tf.keras.optimizers.Adam(LEARNING_RATE)\n",
        "loss = tf.keras.losses.BinaryCrossentropy(from_logits=True)\n",
        "acc = tf.keras.metrics.BinaryAccuracy('accuracy')\n",
        "precision = tf.keras.metrics.Precision()\n",
        "recall = tf.keras.metrics.Recall()"
      ],
      "execution_count": null,
      "outputs": []
    },
    {
      "cell_type": "markdown",
      "metadata": {
        "id": "ZKXhnlRvwdnH"
      },
      "source": [
        "Finalmente, lo único restante es construir, entrenar y evaluar los modelos específicos. Para esta parte se siguieron los siguientes pasos:\n",
        "1. **Se construye y compila el modelo**. Hay que hacer énfasis que en todos los modelos la capa con índice 2, la correspondiente al transformador, se marcó como **no-entrenable**, de tal forma que se estará usando tal y como se importó de HuggingFace.\n",
        "\n",
        "2. **Se entrena el modelo y se obtiene su historial**. Es importante guardar el historial para poder obtener la gráfica de la función de costo.\n",
        "\n",
        "3. **Se calculan las métricas de evaluación y la gráfica de costo**. Para tener una idea de cómo le fue al modelo.\n",
        "\n",
        "4. **Se calcula la matriz de confusión**. Para ver con exactitud qué es lo que predijo el modelo.\n",
        "\n",
        "5. **Observaciones personales**. Nadamas para notar algunas cosas interesantes que salieron del modelo."
      ]
    },
    {
      "cell_type": "markdown",
      "metadata": {
        "id": "GfHd_C9Gx3J2"
      },
      "source": [
        "## 3.6 BERT\n",
        "Aquí se muestra todo lo relacionado al modelo de BERT"
      ]
    },
    {
      "cell_type": "code",
      "metadata": {
        "colab": {
          "base_uri": "https://localhost:8080/"
        },
        "id": "9ekb3PFaOfpn",
        "outputId": "c79161da-d6e6-41ff-aef5-aa1feaf45de5"
      },
      "source": [
        "bert_model = create_model(bert)\n",
        "bert_model.layers[2].trainable = False\n",
        "bert_model.summary()\n",
        "bert_model.compile(optimizer=optimizer, loss=loss, metrics=[acc, precision, recall])"
      ],
      "execution_count": null,
      "outputs": [
        {
          "output_type": "stream",
          "text": [
            "WARNING:tensorflow:The parameters `output_attentions`, `output_hidden_states` and `use_cache` cannot be updated when calling a model.They have to be set to True/False in the config object (i.e.: `config=XConfig.from_pretrained('name', output_attentions=True)`).\n",
            "WARNING:tensorflow:AutoGraph could not transform <bound method Socket.send of <zmq.sugar.socket.Socket object at 0x7f79f77aae50>> and will run it as-is.\n",
            "Please report this to the TensorFlow team. When filing the bug, set the verbosity to 10 (on Linux, `export AUTOGRAPH_VERBOSITY=10`) and attach the full output.\n",
            "Cause: module, class, method, function, traceback, frame, or code object was expected, got cython_function_or_method\n",
            "To silence this warning, decorate the function with @tf.autograph.experimental.do_not_convert\n",
            "WARNING: AutoGraph could not transform <bound method Socket.send of <zmq.sugar.socket.Socket object at 0x7f79f77aae50>> and will run it as-is.\n",
            "Please report this to the TensorFlow team. When filing the bug, set the verbosity to 10 (on Linux, `export AUTOGRAPH_VERBOSITY=10`) and attach the full output.\n",
            "Cause: module, class, method, function, traceback, frame, or code object was expected, got cython_function_or_method\n",
            "To silence this warning, decorate the function with @tf.autograph.experimental.do_not_convert\n",
            "WARNING:tensorflow:AutoGraph could not transform <function wrap at 0x7f7a1305bdd0> and will run it as-is.\n",
            "Cause: while/else statement not yet supported\n",
            "To silence this warning, decorate the function with @tf.autograph.experimental.do_not_convert\n",
            "WARNING: AutoGraph could not transform <function wrap at 0x7f7a1305bdd0> and will run it as-is.\n",
            "Cause: while/else statement not yet supported\n",
            "To silence this warning, decorate the function with @tf.autograph.experimental.do_not_convert\n",
            "WARNING:tensorflow:The parameter `return_dict` cannot be set in graph mode and will always be set to `True`.\n",
            "WARNING:tensorflow:From /usr/local/lib/python3.7/dist-packages/tensorflow/python/ops/array_ops.py:5049: calling gather (from tensorflow.python.ops.array_ops) with validate_indices is deprecated and will be removed in a future version.\n",
            "Instructions for updating:\n",
            "The `validate_indices` argument has no effect. Indices are always validated on CPU and never validated on GPU.\n",
            "Model: \"model\"\n",
            "__________________________________________________________________________________________________\n",
            "Layer (type)                    Output Shape         Param #     Connected to                     \n",
            "==================================================================================================\n",
            "input_ids (InputLayer)          [(None, 200)]        0                                            \n",
            "__________________________________________________________________________________________________\n",
            "attention_mask (InputLayer)     [(None, 200)]        0                                            \n",
            "__________________________________________________________________________________________________\n",
            "tf_bert_model (TFBertModel)     TFBaseModelOutputWit 108310272   input_ids[0][0]                  \n",
            "                                                                 attention_mask[0][0]             \n",
            "__________________________________________________________________________________________________\n",
            "global_average_pooling1d (Globa (None, 768)          0           tf_bert_model[0][0]              \n",
            "__________________________________________________________________________________________________\n",
            "batch_normalization (BatchNorma (None, 768)          3072        global_average_pooling1d[0][0]   \n",
            "__________________________________________________________________________________________________\n",
            "dense (Dense)                   (None, 128)          98432       batch_normalization[0][0]        \n",
            "__________________________________________________________________________________________________\n",
            "dropout_111 (Dropout)           (None, 128)          0           dense[0][0]                      \n",
            "__________________________________________________________________________________________________\n",
            "outputs (Dense)                 (None, 1)            129         dropout_111[0][0]                \n",
            "==================================================================================================\n",
            "Total params: 108,411,905\n",
            "Trainable params: 100,097\n",
            "Non-trainable params: 108,311,808\n",
            "__________________________________________________________________________________________________\n"
          ],
          "name": "stdout"
        }
      ]
    },
    {
      "cell_type": "code",
      "metadata": {
        "colab": {
          "base_uri": "https://localhost:8080/"
        },
        "id": "6gOijty4P42y",
        "outputId": "8efabcc7-f730-484a-91e9-25aa74763831"
      },
      "source": [
        "history_bert = bert_model.fit(train_ds_bert, validation_data=val_ds_bert, epochs=EPOCHS)"
      ],
      "execution_count": null,
      "outputs": [
        {
          "output_type": "stream",
          "text": [
            "Epoch 1/2\n",
            "WARNING:tensorflow:The parameters `output_attentions`, `output_hidden_states` and `use_cache` cannot be updated when calling a model.They have to be set to True/False in the config object (i.e.: `config=XConfig.from_pretrained('name', output_attentions=True)`).\n",
            "WARNING:tensorflow:The parameter `return_dict` cannot be set in graph mode and will always be set to `True`.\n"
          ],
          "name": "stdout"
        },
        {
          "output_type": "stream",
          "text": [
            "/usr/local/lib/python3.7/dist-packages/tensorflow/python/keras/backend.py:5017: UserWarning: \"`binary_crossentropy` received `from_logits=True`, but the `output` argument was produced by a sigmoid or softmax activation and thus does not represent logits. Was this intended?\"\n",
            "  '\"`binary_crossentropy` received `from_logits=True`, but the `output`'\n"
          ],
          "name": "stderr"
        },
        {
          "output_type": "stream",
          "text": [
            "WARNING:tensorflow:The parameters `output_attentions`, `output_hidden_states` and `use_cache` cannot be updated when calling a model.They have to be set to True/False in the config object (i.e.: `config=XConfig.from_pretrained('name', output_attentions=True)`).\n",
            "WARNING:tensorflow:The parameter `return_dict` cannot be set in graph mode and will always be set to `True`.\n",
            "547/547 [==============================] - ETA: 0s - loss: 0.1264 - accuracy: 0.9586 - precision: 0.9632 - recall: 0.9537WARNING:tensorflow:The parameters `output_attentions`, `output_hidden_states` and `use_cache` cannot be updated when calling a model.They have to be set to True/False in the config object (i.e.: `config=XConfig.from_pretrained('name', output_attentions=True)`).\n",
            "WARNING:tensorflow:The parameter `return_dict` cannot be set in graph mode and will always be set to `True`.\n",
            "547/547 [==============================] - 2171s 4s/step - loss: 0.1264 - accuracy: 0.9586 - precision: 0.9632 - recall: 0.9537 - val_loss: 0.0924 - val_accuracy: 0.9660 - val_precision: 0.9724 - val_recall: 0.9588\n",
            "Epoch 2/2\n",
            "547/547 [==============================] - 2152s 4s/step - loss: 0.0912 - accuracy: 0.9671 - precision: 0.9713 - recall: 0.9626 - val_loss: 0.0906 - val_accuracy: 0.9688 - val_precision: 0.9777 - val_recall: 0.9591\n"
          ],
          "name": "stdout"
        }
      ]
    },
    {
      "cell_type": "code",
      "metadata": {
        "colab": {
          "base_uri": "https://localhost:8080/",
          "height": 397
        },
        "id": "gL48lcd7QPau",
        "outputId": "826a35c8-f2b5-4a32-ad47-94a9b4b4b2d4"
      },
      "source": [
        "l, a, p, r = bert_model.evaluate(test_ds_bert)\n",
        "\n",
        "print('Test Loss:', l)\n",
        "print('Test Accuracy:', a)\n",
        "print('Test Precision:', p)\n",
        "print('Test Recall:', r)\n",
        "print()\n",
        "plot_history_loss(history_bert)"
      ],
      "execution_count": null,
      "outputs": [
        {
          "output_type": "stream",
          "text": [
            "118/118 [==============================] - 353s 3s/step - loss: 0.0822 - accuracy: 0.9722 - precision: 0.9782 - recall: 0.9662\n",
            "Test Loss: 0.0821969285607338\n",
            "Test Accuracy: 0.9721851944923401\n",
            "Test Precision: 0.97824627161026\n",
            "Test Recall: 0.9661803841590881\n",
            "\n"
          ],
          "name": "stdout"
        },
        {
          "output_type": "display_data",
          "data": {
            "image/png": "[encoded data removed]",
            "text/plain": [
              "<Figure size 432x288 with 1 Axes>"
            ]
          },
          "metadata": {
            "tags": [],
            "needs_background": "light"
          }
        }
      ]
    },
    {
      "cell_type": "code",
      "metadata": {
        "colab": {
          "base_uri": "https://localhost:8080/",
          "height": 327
        },
        "id": "CvsZKGHRevck",
        "outputId": "28ad3f3d-6138-49b7-f6e8-d77881ddbea6"
      },
      "source": [
        "plot_confusion_matrix(bert_model, test_ds_bert)"
      ],
      "execution_count": null,
      "outputs": [
        {
          "output_type": "stream",
          "text": [
            "WARNING:tensorflow:The parameters `output_attentions`, `output_hidden_states` and `use_cache` cannot be updated when calling a model.They have to be set to True/False in the config object (i.e.: `config=XConfig.from_pretrained('name', output_attentions=True)`).\n",
            "WARNING:tensorflow:The parameter `return_dict` cannot be set in graph mode and will always be set to `True`.\n"
          ],
          "name": "stdout"
        },
        {
          "output_type": "display_data",
          "data": {
            "image/png": "[encoded data removed]",
            "text/plain": [
              "<Figure size 432x288 with 2 Axes>"
            ]
          },
          "metadata": {
            "tags": []
          }
        }
      ]
    },
    {
      "cell_type": "markdown",
      "metadata": {
        "id": "vy74pk_3yF46"
      },
      "source": [
        "### Observaciones\n",
        "Algo que se notó de inmediato fue que el modelo desde el principio tuvo muy buenas métricas. El modelo se entrenó por 2 épocas, pero aún así desde el principio del entrenamiento tuvo excelentes resultados. Como se puede ver en sus métricas, las 3 están bastante altas, pero aquí las importantes son precision y recall, que también resultaron muy bien.\n",
        "\n",
        "Es también importante mencionar la matriz de confusión, que como se puede ver está tal y como se esperaría para un modelo con métricas tan altas. Se puede decir que el modelo no necesitó mucho transfer learning para poder sacar buenas predicciones en esta aplicación."
      ]
    },
    {
      "cell_type": "markdown",
      "metadata": {
        "id": "fEdHiCFIyJn2"
      },
      "source": [
        "## 3.7 RoBERTa\n",
        "Aquí se muestra todo lo relacionado al modelo de RoBERTa"
      ]
    },
    {
      "cell_type": "code",
      "metadata": {
        "id": "fYRfRKOQPDrx",
        "colab": {
          "base_uri": "https://localhost:8080/"
        },
        "outputId": "34aedcb0-8447-44f3-d944-446d32b3fd5a"
      },
      "source": [
        "roberta_model = create_model(roberta)\n",
        "roberta_model.layers[2].trainable = False\n",
        "roberta_model.summary()\n",
        "roberta_model.compile(optimizer=optimizer, loss=loss, metrics=[acc, precision, recall])"
      ],
      "execution_count": null,
      "outputs": [
        {
          "output_type": "stream",
          "text": [
            "WARNING:tensorflow:The parameters `output_attentions`, `output_hidden_states` and `use_cache` cannot be updated when calling a model.They have to be set to True/False in the config object (i.e.: `config=XConfig.from_pretrained('name', output_attentions=True)`).\n",
            "WARNING:tensorflow:The parameter `return_dict` cannot be set in graph mode and will always be set to `True`.\n",
            "Model: \"model_1\"\n",
            "__________________________________________________________________________________________________\n",
            "Layer (type)                    Output Shape         Param #     Connected to                     \n",
            "==================================================================================================\n",
            "input_ids (InputLayer)          [(None, 200)]        0                                            \n",
            "__________________________________________________________________________________________________\n",
            "attention_mask (InputLayer)     [(None, 200)]        0                                            \n",
            "__________________________________________________________________________________________________\n",
            "tf_roberta_model (TFRobertaMode TFBaseModelOutputWit 124645632   input_ids[0][0]                  \n",
            "                                                                 attention_mask[0][0]             \n",
            "__________________________________________________________________________________________________\n",
            "global_average_pooling1d_1 (Glo (None, 768)          0           tf_roberta_model[0][0]           \n",
            "__________________________________________________________________________________________________\n",
            "batch_normalization_1 (BatchNor (None, 768)          3072        global_average_pooling1d_1[0][0] \n",
            "__________________________________________________________________________________________________\n",
            "dense_1 (Dense)                 (None, 128)          98432       batch_normalization_1[0][0]      \n",
            "__________________________________________________________________________________________________\n",
            "dropout_112 (Dropout)           (None, 128)          0           dense_1[0][0]                    \n",
            "__________________________________________________________________________________________________\n",
            "outputs (Dense)                 (None, 1)            129         dropout_112[0][0]                \n",
            "==================================================================================================\n",
            "Total params: 124,747,265\n",
            "Trainable params: 100,097\n",
            "Non-trainable params: 124,647,168\n",
            "__________________________________________________________________________________________________\n"
          ],
          "name": "stdout"
        }
      ]
    },
    {
      "cell_type": "code",
      "metadata": {
        "id": "hCrshwDcQOla",
        "colab": {
          "base_uri": "https://localhost:8080/"
        },
        "outputId": "ba10c835-14e6-4d6a-b804-3e98a7391248"
      },
      "source": [
        "history_roberta = roberta_model.fit(train_ds_roberta, validation_data=val_ds_roberta, epochs=EPOCHS)"
      ],
      "execution_count": null,
      "outputs": [
        {
          "output_type": "stream",
          "text": [
            "Epoch 1/2\n",
            "WARNING:tensorflow:The parameters `output_attentions`, `output_hidden_states` and `use_cache` cannot be updated when calling a model.They have to be set to True/False in the config object (i.e.: `config=XConfig.from_pretrained('name', output_attentions=True)`).\n",
            "WARNING:tensorflow:The parameter `return_dict` cannot be set in graph mode and will always be set to `True`.\n"
          ],
          "name": "stdout"
        },
        {
          "output_type": "stream",
          "text": [
            "/usr/local/lib/python3.7/dist-packages/tensorflow/python/keras/backend.py:5017: UserWarning: \"`binary_crossentropy` received `from_logits=True`, but the `output` argument was produced by a sigmoid or softmax activation and thus does not represent logits. Was this intended?\"\n",
            "  '\"`binary_crossentropy` received `from_logits=True`, but the `output`'\n"
          ],
          "name": "stderr"
        },
        {
          "output_type": "stream",
          "text": [
            "WARNING:tensorflow:The parameters `output_attentions`, `output_hidden_states` and `use_cache` cannot be updated when calling a model.They have to be set to True/False in the config object (i.e.: `config=XConfig.from_pretrained('name', output_attentions=True)`).\n",
            "WARNING:tensorflow:The parameter `return_dict` cannot be set in graph mode and will always be set to `True`.\n",
            "547/547 [==============================] - ETA: 0s - loss: 0.1494 - accuracy: 0.9619 - precision: 0.9687 - recall: 0.9548WARNING:tensorflow:The parameters `output_attentions`, `output_hidden_states` and `use_cache` cannot be updated when calling a model.They have to be set to True/False in the config object (i.e.: `config=XConfig.from_pretrained('name', output_attentions=True)`).\n",
            "WARNING:tensorflow:The parameter `return_dict` cannot be set in graph mode and will always be set to `True`.\n",
            "547/547 [==============================] - 2135s 4s/step - loss: 0.1494 - accuracy: 0.9619 - precision: 0.9687 - recall: 0.9548 - val_loss: 0.0888 - val_accuracy: 0.9719 - val_precision: 0.9753 - val_recall: 0.9681\n",
            "Epoch 2/2\n",
            "547/547 [==============================] - 2123s 4s/step - loss: 0.0850 - accuracy: 0.9700 - precision: 0.9777 - recall: 0.9621 - val_loss: 0.0867 - val_accuracy: 0.9739 - val_precision: 0.9807 - val_recall: 0.9666\n"
          ],
          "name": "stdout"
        }
      ]
    },
    {
      "cell_type": "code",
      "metadata": {
        "id": "FrpsH4uJQOtL",
        "colab": {
          "base_uri": "https://localhost:8080/",
          "height": 417
        },
        "outputId": "1117a426-57f5-4f93-ce6f-68f64da547a7"
      },
      "source": [
        "l, a, p, r = roberta_model.evaluate(test_ds_roberta)\n",
        "\n",
        "print('Test Loss:', l)\n",
        "print('Test Accuracy:', a)\n",
        "print('Test Precision:', p)\n",
        "print('Test Recall:', r)\n",
        "print()\n",
        "plot_history_loss(history_roberta)"
      ],
      "execution_count": null,
      "outputs": [
        {
          "output_type": "stream",
          "text": [
            "118/118 [==============================] - 345s 3s/step - loss: 0.0830 - accuracy: 0.9719 - precision: 0.9782 - recall: 0.9656\n",
            "Test Loss: 0.08301176130771637\n",
            "Test Accuracy: 0.9719183444976807\n",
            "Test Precision: 0.978234589099884\n",
            "Test Recall: 0.9656498432159424\n",
            "\n"
          ],
          "name": "stdout"
        },
        {
          "output_type": "display_data",
          "data": {
            "image/png": "[encoded data removed]",
            "text/plain": [
              "<Figure size 432x288 with 1 Axes>"
            ]
          },
          "metadata": {
            "tags": []
          }
        }
      ]
    },
    {
      "cell_type": "code",
      "metadata": {
        "colab": {
          "base_uri": "https://localhost:8080/",
          "height": 327
        },
        "id": "voxK9pqW_r8J",
        "outputId": "15a3a092-f5bd-4b7b-a9e2-146415310f47"
      },
      "source": [
        "plot_confusion_matrix(roberta_model, test_ds_roberta)"
      ],
      "execution_count": null,
      "outputs": [
        {
          "output_type": "stream",
          "text": [
            "WARNING:tensorflow:The parameters `output_attentions`, `output_hidden_states` and `use_cache` cannot be updated when calling a model.They have to be set to True/False in the config object (i.e.: `config=XConfig.from_pretrained('name', output_attentions=True)`).\n",
            "WARNING:tensorflow:The parameter `return_dict` cannot be set in graph mode and will always be set to `True`.\n"
          ],
          "name": "stdout"
        },
        {
          "output_type": "display_data",
          "data": {
            "image/png": "[encoded data removed]",
            "text/plain": [
              "<Figure size 432x288 with 2 Axes>"
            ]
          },
          "metadata": {
            "tags": []
          }
        }
      ]
    },
    {
      "cell_type": "markdown",
      "metadata": {
        "id": "v9MoT1jWyR4v"
      },
      "source": [
        "### Observaciones\n",
        "Definitivamente este modelo también fue una sorpresa el buen rendimiento que tuvo. Como se puede ver en la gráfica de costo, roberta fue el modelo que mantuvo la pérdida menor en el set de validación, con BERT bastante cerca detrás. Con esto en mente no es sorpresa que tanto las métricas como la matriz hayan salido bastante similares a BERT."
      ]
    },
    {
      "cell_type": "markdown",
      "metadata": {
        "id": "KGXCDK3qyVJ9"
      },
      "source": [
        "## 3.8 XLNet\n",
        "Finalmente, se muestra el modelo de XLNet."
      ]
    },
    {
      "cell_type": "code",
      "metadata": {
        "id": "WQaUJUBnPDwz",
        "colab": {
          "base_uri": "https://localhost:8080/"
        },
        "outputId": "8aa7b03f-3cb2-4d6d-9844-0a89b08d01b6"
      },
      "source": [
        "xlnet_model = create_model(xlnet)\n",
        "xlnet_model.layers[2].trainable = False\n",
        "xlnet_model.summary()\n",
        "xlnet_model.compile(optimizer=optimizer, loss=loss, metrics=[acc, precision, recall])"
      ],
      "execution_count": null,
      "outputs": [
        {
          "output_type": "stream",
          "text": [
            "WARNING:tensorflow:The parameters `output_attentions`, `output_hidden_states` and `use_cache` cannot be updated when calling a model.They have to be set to True/False in the config object (i.e.: `config=XConfig.from_pretrained('name', output_attentions=True)`).\n",
            "WARNING:tensorflow:The parameter `return_dict` cannot be set in graph mode and will always be set to `True`.\n",
            "Model: \"model_2\"\n",
            "__________________________________________________________________________________________________\n",
            "Layer (type)                    Output Shape         Param #     Connected to                     \n",
            "==================================================================================================\n",
            "input_ids (InputLayer)          [(None, 200)]        0                                            \n",
            "__________________________________________________________________________________________________\n",
            "attention_mask (InputLayer)     [(None, 200)]        0                                            \n",
            "__________________________________________________________________________________________________\n",
            "tfxl_net_model (TFXLNetModel)   TFXLNetModelOutput(l 116718336   input_ids[0][0]                  \n",
            "                                                                 attention_mask[0][0]             \n",
            "__________________________________________________________________________________________________\n",
            "global_average_pooling1d_2 (Glo (None, 768)          0           tfxl_net_model[0][0]             \n",
            "__________________________________________________________________________________________________\n",
            "batch_normalization_2 (BatchNor (None, 768)          3072        global_average_pooling1d_2[0][0] \n",
            "__________________________________________________________________________________________________\n",
            "dense_2 (Dense)                 (None, 128)          98432       batch_normalization_2[0][0]      \n",
            "__________________________________________________________________________________________________\n",
            "dropout_113 (Dropout)           (None, 128)          0           dense_2[0][0]                    \n",
            "__________________________________________________________________________________________________\n",
            "outputs (Dense)                 (None, 1)            129         dropout_113[0][0]                \n",
            "==================================================================================================\n",
            "Total params: 116,819,969\n",
            "Trainable params: 100,097\n",
            "Non-trainable params: 116,719,872\n",
            "__________________________________________________________________________________________________\n"
          ],
          "name": "stdout"
        }
      ]
    },
    {
      "cell_type": "code",
      "metadata": {
        "id": "cVglslRXRapc",
        "colab": {
          "base_uri": "https://localhost:8080/"
        },
        "outputId": "007fbc51-affe-41f4-ff41-adf21817a3a8"
      },
      "source": [
        "history_xlnet = xlnet_model.fit(train_ds_xlnet, validation_data=val_ds_xlnet, epochs=EPOCHS)"
      ],
      "execution_count": null,
      "outputs": [
        {
          "output_type": "stream",
          "text": [
            "Epoch 1/2\n",
            "WARNING:tensorflow:The parameters `output_attentions`, `output_hidden_states` and `use_cache` cannot be updated when calling a model.They have to be set to True/False in the config object (i.e.: `config=XConfig.from_pretrained('name', output_attentions=True)`).\n",
            "WARNING:tensorflow:The parameter `return_dict` cannot be set in graph mode and will always be set to `True`.\n"
          ],
          "name": "stdout"
        },
        {
          "output_type": "stream",
          "text": [
            "/usr/local/lib/python3.7/dist-packages/tensorflow/python/keras/backend.py:5017: UserWarning: \"`binary_crossentropy` received `from_logits=True`, but the `output` argument was produced by a sigmoid or softmax activation and thus does not represent logits. Was this intended?\"\n",
            "  '\"`binary_crossentropy` received `from_logits=True`, but the `output`'\n"
          ],
          "name": "stderr"
        },
        {
          "output_type": "stream",
          "text": [
            "WARNING:tensorflow:The parameters `output_attentions`, `output_hidden_states` and `use_cache` cannot be updated when calling a model.They have to be set to True/False in the config object (i.e.: `config=XConfig.from_pretrained('name', output_attentions=True)`).\n",
            "WARNING:tensorflow:The parameter `return_dict` cannot be set in graph mode and will always be set to `True`.\n",
            "547/547 [==============================] - ETA: 0s - loss: 0.2587 - accuracy: 0.9392 - precision: 0.9582 - recall: 0.9187WARNING:tensorflow:The parameters `output_attentions`, `output_hidden_states` and `use_cache` cannot be updated when calling a model.They have to be set to True/False in the config object (i.e.: `config=XConfig.from_pretrained('name', output_attentions=True)`).\n",
            "WARNING:tensorflow:The parameter `return_dict` cannot be set in graph mode and will always be set to `True`.\n",
            "547/547 [==============================] - 3391s 6s/step - loss: 0.2587 - accuracy: 0.9392 - precision: 0.9582 - recall: 0.9187 - val_loss: 0.1739 - val_accuracy: 0.9392 - val_precision: 0.9265 - val_recall: 0.9532\n",
            "Epoch 2/2\n",
            "547/547 [==============================] - 3372s 6s/step - loss: 0.1462 - accuracy: 0.9469 - precision: 0.9650 - recall: 0.9275 - val_loss: 0.1701 - val_accuracy: 0.9428 - val_precision: 0.9294 - val_recall: 0.9577\n"
          ],
          "name": "stdout"
        }
      ]
    },
    {
      "cell_type": "code",
      "metadata": {
        "id": "zrpvTIAuRawu",
        "colab": {
          "base_uri": "https://localhost:8080/",
          "height": 417
        },
        "outputId": "4a986770-8b9a-4028-fc4e-4e2abfd80d3b"
      },
      "source": [
        "l, a, p, r = xlnet_model.evaluate(test_ds_xlnet)\n",
        "\n",
        "print('Test Loss:', l)\n",
        "print('Test Accuracy:', a)\n",
        "print('Test Precision:', p)\n",
        "print('Test Recall:', r)\n",
        "print()\n",
        "plot_history_loss(history_xlnet)"
      ],
      "execution_count": null,
      "outputs": [
        {
          "output_type": "stream",
          "text": [
            "118/118 [==============================] - 550s 5s/step - loss: 0.1755 - accuracy: 0.9409 - precision: 0.9271 - recall: 0.9578\n",
            "Test Loss: 0.17546772956848145\n",
            "Test Accuracy: 0.9409018158912659\n",
            "Test Precision: 0.9270859956741333\n",
            "Test Recall: 0.9578249454498291\n",
            "\n"
          ],
          "name": "stdout"
        },
        {
          "output_type": "display_data",
          "data": {
            "image/png": "[encoded data removed]",
            "text/plain": [
              "<Figure size 432x288 with 1 Axes>"
            ]
          },
          "metadata": {
            "tags": []
          }
        }
      ]
    },
    {
      "cell_type": "code",
      "metadata": {
        "colab": {
          "base_uri": "https://localhost:8080/",
          "height": 327
        },
        "id": "2wUDWsYg_zcb",
        "outputId": "17e52f45-89fd-4369-f29b-a2a44d3cf051"
      },
      "source": [
        "plot_confusion_matrix(xlnet_model, test_ds_xlnet)"
      ],
      "execution_count": null,
      "outputs": [
        {
          "output_type": "stream",
          "text": [
            "WARNING:tensorflow:The parameters `output_attentions`, `output_hidden_states` and `use_cache` cannot be updated when calling a model.They have to be set to True/False in the config object (i.e.: `config=XConfig.from_pretrained('name', output_attentions=True)`).\n",
            "WARNING:tensorflow:The parameter `return_dict` cannot be set in graph mode and will always be set to `True`.\n"
          ],
          "name": "stdout"
        },
        {
          "output_type": "display_data",
          "data": {
            "image/png": "[encoded data removed]",
            "text/plain": [
              "<Figure size 432x288 with 2 Axes>"
            ]
          },
          "metadata": {
            "tags": []
          }
        }
      ]
    },
    {
      "cell_type": "markdown",
      "metadata": {
        "id": "ghq3JMiyyq7m"
      },
      "source": [
        "### Observaciones\n",
        "Se debe admitir que este modelo era para el que se tenían las más altas expectativas, dado que es el modelo más reciente en salir y tomó base en los anteriores en su construcción. No obstante, las métricas obtenidas aquí fueron mucho más bajas de lo que se esperaba. Esto no significa que hayan sido malas, son métricas muy altas, pero comparando con los dos modelos anteriores, este modelo no tuvo un rendimiento extremadamene bueno como los otros.\n",
        "\n",
        "En cuanto a la razón de esto, hay muchos factores que podrian ser la causa. Por ejemplo, quizás el modelo se necesitaba entrenar por más épocas, pero aqui hay una desventaja grande que es que este modelo consumía casi el doble de tiempo por época que los dos anteriores, lo que hizo agregar más épocas más difícil. La segunda razón pudiera ser que este modelo quizás no está construído con algo simple como clasificación en mente, quizás la intención de los autores era que el modelo pudiera resolver problemas mucho más complicados que esto, como Neural Machine Translation o Text Generation. "
      ]
    },
    {
      "cell_type": "markdown",
      "metadata": {
        "id": "ZSvAM00mzI3y"
      },
      "source": [
        "# Conclusiones\n",
        "\n",
        "Este proyecto tenía como objetivo crear un modelo de procesamiento de lenguaje natural capaz de detectar si un texto contiene un tono depresivo o no, es decir, que puede hacer predicciones sobre si la persona que escribió el texto tiene depresión o no. La depresión ha sido un problema recurrente a través de los años, y es uno de los desafíos más grandes en el área de NLP, ddebido a que la mayoría de las veces las señales que da alguien con depresión pueden llegar a ser sumamente sutiles.\n",
        "\n",
        "En cuanto a los resultados obtenidos, se piensa que el dataset que se creó para entrenar los modelos contiene una muy buena variedad de textos, con  ideas y estructuras variadas. Sus principales limitaciones eran que se están haciendo generalizciones grandes, al no estudiar completamente de cerca los textos recolectados. La otra limitación importante es el tamaño del mismo dataset. No obstante, se piensa que para este proyecto en particular fue un costo que se tuvo que pagar para que los modelos fueran un poco más ágiles en su entrenamiento, además de que sí se tenían más textos con los cuales trabajar, sólo sería cuestión de incorporarlos al dataset.\n",
        "\n",
        "Los modelos en sí obtuvieron resultados bastante buenos, por algo son conocidos en la acualidad como el estado-del-arte. La librería que proporciona HuggingFace fue extremadamente útil para incorporar estos modelos de una manera muy, muy sencilla. \n",
        "\n",
        "Finalmente, algunas limitaciones y áreas de oportunidad que tiene este proyecto son:\n",
        "- Los modelos por ahora detectan depresión sobre textos que muy explícitamente tengan palabras relacionadas a la depresión, o bien, que el tono del texto sea muy evidente que es depresivo. Se puede mejorar que los modelos aprendan a marcar como depresivos textos con indicadores más sutiles.\n",
        "\n",
        "- No se están incorporando metadatos de los textos. Como hicieron los autores en el paper original, ellos tomaron ciertas medidas adicionales sobre los mismos textos para ayudarlos a saber cuándo detectar depresión o no. Aún así, se piensa que esto hubiera sido un poco difícil de aplicar en este proyecto, ya que el acercamiento del paper al problema era distinto. Ahí los autores examinaron una serie de textos sobre un mismo usuario, mientras que aquí se analizaron los textos de manera independiente.\n",
        "\n",
        "- Por ahora el transfer learning que se hace a los modelos fue bastante pequeño, debido al poco tiempo de trabajo en el proyecto. Muy fácilmente se pueden entrenar estos modelos con un dataset de textos más completo para que le aprendizaje sea todavía mejor.\n",
        "\n",
        "- Es muy probable que se puedan incorporar otros modelos distintos que sirvan igual o mejor a los que ya se implementaron."
      ]
    },
    {
      "cell_type": "markdown",
      "metadata": {
        "id": "NYEAkakZoSoT"
      },
      "source": [
        "# Referencias consultadas\n",
        "Las principales referencias que se consultaron para este proyecto fueron:\n",
        "- https://www.who.int/es/news-room/fact-sheets/detail/depression\n",
        "- https://www.kaggle.com/nikhileswarkomati/suicide-watch\n",
        "- https://github.com/microsoft/nlp-recipes\n",
        "- https://www.aclweb.org/anthology/W18-5903.pdf\n",
        "- https://huggingface.co/models\n",
        "- https://towardsdatascience.com/tensorflow-and-transformers-df6fceaf57cc\n",
        "- https://medium.com/dataseries/why-does-xlnet-outperform-bert-da98a8503d5b\n",
        "- https://www.iartificial.net/precision-recall-f1-accuracy-en-clasificacion/\n",
        "- https://ai.facebook.com/blog/roberta-an-optimized-method-for-pretraining-self-supervised-nlp-systems/\n",
        "- https://www.tensorflow.org/tutorials/distribute/save_and_load\n"
      ]
    },
    {
      "cell_type": "code",
      "metadata": {
        "id": "9rtMCNud9ZZ7"
      },
      "source": [
        "# Comando para obtener el archivo de requerimientos\n",
        "# pip freeze > requirements.txt"
      ],
      "execution_count": null,
      "outputs": []
    },
    {
      "cell_type": "code",
      "metadata": {
        "id": "VES-Rjgw8s5T"
      },
      "source": [
        ""
      ],
      "execution_count": null,
      "outputs": []
    }
  ]
}